{
 "cells": [
  {
   "cell_type": "code",
   "execution_count": null,
   "id": "88ca63d0",
   "metadata": {},
   "outputs": [],
   "source": [
    "l = list(map(int, input().split()))\n",
    "n1 = sorted(l[:2])\n",
    "n2 = sorted(l[2:])\n",
    "\n",
    "maxmax = max([max(n1), max(n2)])\n",
    "minmax = min([max(n1), max(n2)])\n",
    "print(maxmax, minmax)"
   ]
  },
  {
   "cell_type": "code",
   "execution_count": null,
   "id": "d23adc96",
   "metadata": {},
   "outputs": [],
   "source": [
    "# n=list(map(int,input().split()))\n",
    "# a,b,c,d=(n[0]*(n[0]//n[1])+n[1]*(n[1]//n[0]))//((n[0]//n[1])+(n[1]//n[0])),n[0]+n[1]-(n[0]*(n[0]//n[1])+n[1]*(n[1]//n[0]))//((n[0]//n[1])+(n[1]//n[0])),(n[2]*(n[2]//n[3])+n[3]*(n[3]//n[2]))//((n[2]//n[3])+(n[3]//n[2])),n[2]+n[3]-(n[2]*(n[2]//n[3])+n[3]*(n[3]//n[2]))//((n[2]//n[3])+(n[3]//n[2]))\n",
    "# minac=((a*(a//c)+c*(c//a))//((a//c)+(c//a)))\n",
    "# minbd=((b*(b//d)+d*(d//b))//((b//d)+(d//b)))\n",
    "# minad=((a*(a//d)+d*(d//a))//((a//d)+(d//a)))\n",
    "# minbc=((b*(b//c)+c*(c//b))//((b//c)+(c//b)))\n",
    "\n",
    "# if minac*(b+d)<minbd*(a+c) and minac*(b+d)<minad*(b+c) and minac*(b+d)<minbc*(a+d):\n",
    "#     print(minac,b+d)\n",
    "# elif minbd*(a+c)<minad*(b+c) and minbd*(a+c)<minbc*(a+d):\n",
    "#     print(minbd,a+c)\n",
    "# elif minad*(b+c)<minbc*(a+d):\n",
    "#     print(minad,b+c)\n",
    "# else:\n",
    "#     print(minbc,a+d)"
   ]
  },
  {
   "cell_type": "code",
   "execution_count": null,
   "id": "04827732",
   "metadata": {},
   "outputs": [],
   "source": [
    "a, b, c, d = map(int, input().split())\n",
    "l = []\n",
    "l.append(max(a, c) * (b + d))\n",
    "l.append(max(a, d) * (b + c))\n",
    "l.append(max(b, c) * (a + d))\n",
    "l.append(max(b, d) * (a + c))\n",
    "if min(l) == l[0]:\n",
    "    print(max(a, c), b + d)\n",
    "elif min(l) == l[1]:\n",
    "    print(max(a, d), b + c)\n",
    "elif min(l) == l[2]:\n",
    "    print(max(b, c), a + d)\n",
    "else:\n",
    "    print(max(b, d), a + c)"
   ]
  },
  {
   "cell_type": "code",
   "execution_count": null,
   "id": "84cb0360",
   "metadata": {},
   "outputs": [],
   "source": [
    "#просто рассматриваем все накладки их возможно очевидно 4 "
   ]
  },
  {
   "cell_type": "code",
   "execution_count": null,
   "id": "7f830dac",
   "metadata": {},
   "outputs": [],
   "source": []
  }
 ],
 "metadata": {
  "kernelspec": {
   "display_name": "Python 3 (ipykernel)",
   "language": "python",
   "name": "python3"
  },
  "language_info": {
   "codemirror_mode": {
    "name": "ipython",
    "version": 3
   },
   "file_extension": ".py",
   "mimetype": "text/x-python",
   "name": "python",
   "nbconvert_exporter": "python",
   "pygments_lexer": "ipython3",
   "version": "3.10.9"
  }
 },
 "nbformat": 4,
 "nbformat_minor": 5
}
