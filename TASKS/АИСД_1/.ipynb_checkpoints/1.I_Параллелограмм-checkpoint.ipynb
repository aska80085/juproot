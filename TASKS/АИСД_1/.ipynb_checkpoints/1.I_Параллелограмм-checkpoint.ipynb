{
 "cells": [
  {
   "cell_type": "code",
   "execution_count": null,
   "id": "8a2f2f66",
   "metadata": {},
   "outputs": [],
   "source": [
    "def k(x1, y1, x2, y2):\n",
    "    if x2!=x1:\n",
    "        return (y2-y1)/(x2-x1)\n",
    "    else:\n",
    "        return(float('inf'))\n",
    "\n",
    "def l(x1, y1, x2, y2):\n",
    "    return (((abs(x2-x1))**2) + ((abs(y2-y1))**2))**(1/2)\n",
    "\n",
    "def ans(x1, y1, x2, y2, x3, y3, x4, y4):\n",
    "    if k(x1, y1, x2, y2) == k(x3, y3, x4, y4) and l(x1, y1, x2, y2) == l(x3, y3, x4, y4): print(\"YES\")\n",
    "    elif k(x1, y1, x3, y3) == k(x2, y2, x4, y4) and l(x1, y1, x3, y3) == l(x2, y2, x4, y4): print(\"YES\")\n",
    "    elif k(x1, y1, x4, y4) == k(x3, y3, x2, y2) and l(x1, y1, x4, y4) == l(x3, y3, x2, y2): print(\"YES\")\n",
    "    else: print(\"NO\")\n",
    "\n",
    "n = int(input())\n",
    "for i in range(n):\n",
    "    ans(*list(map(int, input().split())))"
   ]
  },
  {
   "cell_type": "code",
   "execution_count": null,
   "id": "5c958682",
   "metadata": {},
   "outputs": [],
   "source": [
    "# n=int(input())\n",
    "# def dlina(x1,y1,x2,y2):\n",
    "#     return (abs(x2-x1)**2 + abs(y2-y1)**2)**(1/2)\n",
    "# def k(x1,y1,x2,y2):\n",
    "#     if x2!=x1:\n",
    "#         return (y2-y1)/(x2-x1)\n",
    "#     else:\n",
    "#         return None\n",
    "# \n",
    "# for i in range(n):\n",
    "#     m=0\n",
    "#     l=list(map(int,input().split()))\n",
    "#     if(dlina(l[0],l[1],l[2],l[3])==dlina(l[4],l[5],l[6],l[7]) and k(l[0],l[1],l[2],l[3])==k(l[4],l[5],l[6],l[7]))or(dlina(l[0],l[1],l[6],l[7])==dlina(l[2],l[3],l[4],l[5]) and k(l[0],l[1],l[6],l[7])==k(l[2],l[3],l[4],l[5]))or(dlina(l[0],l[1],l[4],l[5])==dlina(l[6],l[7],l[2],l[3]) and k(l[0],l[1],l[4],l[5])==k(l[6],l[7],l[2],l[3])):print('YES')\n",
    "#     else:print('NO')\n",
    "\n",
    "\n",
    "\n",
    "\n",
    "\n",
    "\n",
    "# g=list(map(int,input().split()))\n",
    "# f0,f1,f2=g[0],g[0]//g[1],0\n",
    "# while f0>=g[1]:\n",
    "#     f0%=g[1]\n",
    "#     f2+=f1*(g[1]//g[2])\n",
    "#     f0+= f1*(g[1]%g[2])\n",
    "#     f1=f0//g[1]\n",
    "# print(f2)"
   ]
  }
 ],
 "metadata": {
  "kernelspec": {
   "display_name": "Python 3 (ipykernel)",
   "language": "python",
   "name": "python3"
  },
  "language_info": {
   "codemirror_mode": {
    "name": "ipython",
    "version": 3
   },
   "file_extension": ".py",
   "mimetype": "text/x-python",
   "name": "python",
   "nbconvert_exporter": "python",
   "pygments_lexer": "ipython3",
   "version": "3.10.9"
  }
 },
 "nbformat": 4,
 "nbformat_minor": 5
}
