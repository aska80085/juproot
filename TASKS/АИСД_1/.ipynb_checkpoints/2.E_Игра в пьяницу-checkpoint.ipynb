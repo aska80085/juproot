{
 "cells": [
  {
   "cell_type": "markdown",
   "id": "8477c024",
   "metadata": {},
   "source": [
    "Условие:\n",
    "\n",
    "В игре в пьяницу карточная колода раздается поровну двум игрокам. Далее они вскрывают по одной верхней карте, и тот, чья карта старше, забирает себе обе вскрытые карты, которые кладутся под низ его колоды. Тот, кто остается без карт – проигрывает. Для простоты будем считать, что все карты различны по номиналу, а также, что самая младшая карта побеждает самую старшую карту (\"шестерка берет туза\"). Игрок, который забирает себе карты, сначала кладет под низ своей колоды карту первого игрока, затем карту второго игрока (то есть карта второго игрока оказывается внизу колоды). Напишите программу, которая моделирует игру в пьяницу и определяет, кто выигрывает. В игре участвует 10 карт, имеющих значения от 0 до 9, большая карта побеждает меньшую, карта со значением 0 побеждает карту 9.\n",
    "\n",
    "Формат ввода\n",
    "Программа получает на вход две строки: первая строка содержит 5 чисел, разделенных пробелами — номера карт первого игрока, вторая – аналогично 5 карт второго игрока. Карты перечислены сверху вниз, то есть каждая строка начинается с той карты, которая будет открыта первой.\n",
    "\n",
    "Формат вывода\n",
    "Программа должна определить, кто выигрывает при данной раздаче, и вывести слово first или second, после чего вывести количество ходов, сделанных до выигрыша. Если на протяжении 106 ходов игра не заканчивается, программа должна вывести слово botva."
   ]
  },
  {
   "cell_type": "code",
   "execution_count": null,
   "id": "83981cfd",
   "metadata": {},
   "outputs": [],
   "source": [
    "from collections import deque\n",
    "player1 = deque(map(int, input().split()))\n",
    "player2 = deque(map(int, input().split()))\n",
    "k = 0\n",
    "\n",
    "while len(player1) != 0 or len(player2) != 0 or k<=5:\n",
    "    if player1[0] > player2[0] or player1[0] == 0:\n",
    "        player1.append(player1[0])\n",
    "        player1.append(player2[0])\n",
    "        player1.popleft()\n",
    "        player2.popleft()\n",
    "    if player2[0] > player1[0] or player2[0] == 0:\n",
    "        player2.append(player1[0])\n",
    "        player2.append(player2[0])\n",
    "        player2.popleft()\n",
    "        player1.popleft()\n",
    "    k += 1\n",
    "    print(player1, player2, k)\n",
    "\n",
    "if len(player1) == 0:\n",
    "    print(f'second {k}')\n",
    "else:\n",
    "    print(f'first {k}')"
   ]
  },
  {
   "cell_type": "code",
   "execution_count": null,
   "id": "60445af8",
   "metadata": {},
   "outputs": [],
   "source": []
  }
 ],
 "metadata": {
  "kernelspec": {
   "display_name": "Python 3 (ipykernel)",
   "language": "python",
   "name": "python3"
  },
  "language_info": {
   "codemirror_mode": {
    "name": "ipython",
    "version": 3
   },
   "file_extension": ".py",
   "mimetype": "text/x-python",
   "name": "python",
   "nbconvert_exporter": "python",
   "pygments_lexer": "ipython3",
   "version": "3.10.9"
  }
 },
 "nbformat": 4,
 "nbformat_minor": 5
}
