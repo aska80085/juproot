{
 "cells": [
  {
   "cell_type": "code",
   "execution_count": null,
   "id": "09bebad0",
   "metadata": {},
   "outputs": [],
   "source": [
    "a = int(input())\n",
    "b = int(input())\n",
    "n = int(input())\n",
    "m = int(input())\n",
    "range1 = range(n+(n-1)*a, n+(n+1)*a+1)\n",
    "range2 = range(m+(m-1)*b, m+(m+1)*b+1)\n",
    "if range1[0] in range2 and range1[-1] in range2:\n",
    "    print(range1[0], range1[-1])\n",
    "elif range2[0] in range1 and range2[-1] in range1:\n",
    "    print(range2[0], range2[-1])\n",
    "elif range1[0] in range2:\n",
    "    print(range1[0], range2[-1])\n",
    "elif range2[0] in range1:\n",
    "    print(range2[0], range1[-1])\n",
    "else: print(-1)\n",
    "    \n",
    "#короче два рейнджа и каждый дает максимальное и минимальное значение, соответственно их конъюнкция - ответ"
   ]
  }
 ],
 "metadata": {
  "kernelspec": {
   "display_name": "Python 3 (ipykernel)",
   "language": "python",
   "name": "python3"
  },
  "language_info": {
   "codemirror_mode": {
    "name": "ipython",
    "version": 3
   },
   "file_extension": ".py",
   "mimetype": "text/x-python",
   "name": "python",
   "nbconvert_exporter": "python",
   "pygments_lexer": "ipython3",
   "version": "3.10.9"
  }
 },
 "nbformat": 4,
 "nbformat_minor": 5
}
