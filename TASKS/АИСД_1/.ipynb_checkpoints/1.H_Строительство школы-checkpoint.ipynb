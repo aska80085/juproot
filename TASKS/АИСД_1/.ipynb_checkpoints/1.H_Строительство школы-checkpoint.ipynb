{
 "cells": [
  {
   "cell_type": "code",
   "execution_count": null,
   "id": "b8ab4857",
   "metadata": {},
   "outputs": [],
   "source": [
    "#АХАХАХАХАА\n",
    "n = int(input())\n",
    "l = sorted(list(map(int, input().split())))\n",
    "if n%2 == 0:\n",
    "    print(l[n//2]-1)\n",
    "else:\n",
    "    print(l[(n//2)])\n",
    "#изначальное значение наиболее уменьшается к серединному индексу при нечетном n, и к рассстоянию между двумя \n",
    "# серединными индексами при четном n"
   ]
  },
  {
   "cell_type": "code",
   "execution_count": 2,
   "id": "265a24a4",
   "metadata": {},
   "outputs": [],
   "source": [
    "#это второе тут таймлимит\n",
    "\n",
    "# n = int(input())\n",
    "# l = sorted(list(map(int, input().split())))\n",
    "# s = 0\n",
    "# ans = l[0]\n",
    "\n",
    "# for i in range(len(l)):\n",
    "#     s += abs(l[0] - l[i])\n",
    "# m = s\n",
    "# k = 1\n",
    "# n-=1\n",
    "\n",
    "# for i in range(l[0]+1, l[-1]+1):\n",
    "#     s += k\n",
    "#     s -= n\n",
    "#     if i in l:\n",
    "#         k+=1\n",
    "#         n-=1\n",
    "\n",
    "#     if s <= m:\n",
    "#         m = s\n",
    "#         ans = i\n",
    "\n",
    "# print(ans) \n"
   ]
  },
  {
   "cell_type": "code",
   "execution_count": null,
   "id": "69a77fb9",
   "metadata": {},
   "outputs": [],
   "source": [
    "#изначальное решение, тут проходимся только по домам и прибавляем k1 и k2 (n и k в коде снизу) умноженные на \n",
    "# соответственное расстояние между домами, и пройдя через дом меняем кол-во левых и правых соответсвенно, но очевидно\n",
    "# что ответ всегда серединный\n",
    "\n",
    "n=int(input())\n",
    "l=list(map(int,input().split()))\n",
    "mn=123123\n",
    "sm,mn=0,float('inf')\n",
    "k1,k2=1,n-1\n",
    "ans=0\n",
    "\n",
    "for i in range(n):\n",
    "    sm+=abs(l[i]-l[0])\n",
    "\n",
    "for i in range(1,n):\n",
    "    sm-=k2*(abs(l[i-1]-l[i]))\n",
    "    sm+=k1*(abs(l[i-1]-l[i]))\n",
    "    if sm<mn:\n",
    "        mn=sm;ans=l[i]\n",
    "    k1+=1\n",
    "    k2-=1\n",
    "print(ans)"
   ]
  }
 ],
 "metadata": {
  "kernelspec": {
   "display_name": "Python 3 (ipykernel)",
   "language": "python",
   "name": "python3"
  },
  "language_info": {
   "codemirror_mode": {
    "name": "ipython",
    "version": 3
   },
   "file_extension": ".py",
   "mimetype": "text/x-python",
   "name": "python",
   "nbconvert_exporter": "python",
   "pygments_lexer": "ipython3",
   "version": "3.10.9"
  }
 },
 "nbformat": 4,
 "nbformat_minor": 5
}
