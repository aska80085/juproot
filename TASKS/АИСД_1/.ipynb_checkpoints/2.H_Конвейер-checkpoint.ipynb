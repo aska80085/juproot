{
 "cells": [
  {
   "cell_type": "markdown",
   "id": "b9d49409",
   "metadata": {},
   "source": [
    "Для транспортирования материалов из цеха А в цех В используется конвейер. Материалы упаковываются в одинаковые контейнеры и размещаются на ленте один за одним в порядке изготовления в цехе А. Каждый контейнер имеет степень срочности обработки в цехе В. Для упорядочивания контейнеров по степени срочности используют накопитель, который находится в конце конвейера перед входом в цех В. Накопитель работает пошагово, на каждом шаге возможны следующие действия:\n",
    "\n",
    "накопитель перемещает первый контейнер из ленты в цех В;\n",
    "\n",
    "накопитель перемещает первый контейнер из строки в склад (в складе каждый следующий контейнер помещается на предыдущий);\n",
    "\n",
    "накопитель перемещает верхний контейнер из склада в цех В.\n",
    "\n",
    "Напишите программу, которая по последовательности контейнеров определит, можно ли упорядочить их по степени срочности пользуясь описанным накопителем.\n",
    "\n",
    "Формат ввода\n",
    "Входной файл в первой строке содержит количество тестов N. Далее следует N строк, каждый из которых описывает отдельный тест и содержит целое число K (1 ≤ K ≤ 10000) — количество контейнеров в последовательности и K действительных чисел — степеней срочности контейнеров в порядке их поступления из цеха А (меньшим числам соответствует большая степень срочности).\n",
    "\n",
    "Формат вывода\n",
    "Каждая строка выходного файла должна содержать ответ для одного теста. Необходимо вывести 1, если необходимое упорядочивание возможно, или 0 в противном случае."
   ]
  },
  {
   "cell_type": "code",
   "execution_count": null,
   "id": "67d60859",
   "metadata": {},
   "outputs": [],
   "source": [
    "from collections import deque\n",
    "\n",
    "# class Nalopitel():\n",
    "#\n",
    "#     @staticmethod\n",
    "#     def to_sklad_from_a(a, sklad):\n",
    "#         sklad.appendleft(a.popleft())\n",
    "#\n",
    "#     @staticmethod\n",
    "#     def to_b_from_a(a, b):\n",
    "#         b.appendleft(a.popleft())\n",
    "#\n",
    "#     @staticmethod\n",
    "#     def to_b_from_sklad(sklad, b):\n",
    "#         b.appendleft(sklad.popleft())\n",
    "\n",
    "\n",
    "for i in range(int(input())):\n",
    "    a = deque(map(float, input().split()))\n",
    "    n = int(a.popleft())\n",
    "    sklad = deque([])\n",
    "    b = deque([])\n",
    "    while True:\n",
    "        if len(sklad) == 0:\n",
    "            if len(a) != 0:\n",
    "                sklad.appendleft(a.popleft())\n",
    "            else:\n",
    "                break\n",
    "\n",
    "        else:\n",
    "            if len(a) != 0:\n",
    "                if a[0] <= sklad[0]:\n",
    "                    sklad.appendleft(a.popleft())\n",
    "                else:\n",
    "                    if len(b) == 0:\n",
    "                        b.appendleft(sklad.popleft())\n",
    "\n",
    "                    else:\n",
    "                        if b[0] <= sklad[0]:\n",
    "                            b.appendleft(sklad.popleft())\n",
    "\n",
    "                        else:\n",
    "                            break\n",
    "            else:\n",
    "                if len(b) == 0:\n",
    "                    b.appendleft(sklad.popleft())\n",
    "                else:\n",
    "                    if b[0] <= sklad[0]:\n",
    "                        b.appendleft(sklad.popleft())\n",
    "                    else:\n",
    "                        break\n",
    "    if list(b) == sorted(list(b), reverse = True) and len(sklad) == 0:\n",
    "        print(1)\n",
    "    else:\n",
    "        print(0)\n"
   ]
  },
  {
   "cell_type": "code",
   "execution_count": null,
   "id": "a7e7c752",
   "metadata": {},
   "outputs": [],
   "source": []
  }
 ],
 "metadata": {
  "kernelspec": {
   "display_name": "Python 3 (ipykernel)",
   "language": "python",
   "name": "python3"
  },
  "language_info": {
   "codemirror_mode": {
    "name": "ipython",
    "version": 3
   },
   "file_extension": ".py",
   "mimetype": "text/x-python",
   "name": "python",
   "nbconvert_exporter": "python",
   "pygments_lexer": "ipython3",
   "version": "3.10.9"
  }
 },
 "nbformat": 4,
 "nbformat_minor": 5
}
