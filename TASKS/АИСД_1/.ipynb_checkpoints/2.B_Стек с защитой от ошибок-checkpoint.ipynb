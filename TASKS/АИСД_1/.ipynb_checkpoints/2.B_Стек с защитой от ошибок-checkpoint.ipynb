{
 "cells": [
  {
   "cell_type": "markdown",
   "id": "23db6c56",
   "metadata": {},
   "source": [
    "Условие:\n",
    "\n",
    "Научитесь пользоваться стандартной структурой данных stack для целых чисел. Напишите программу, содержащую описание стека и моделирующую работу стека, реализовав все указанные здесь методы. Программа считывает последовательность команд и в зависимости от команды выполняет ту или иную операцию. После выполнения каждой команды программа должна вывести одну строчку. Возможные команды для программы:\n",
    "\n",
    "push n\n",
    "Добавить в стек число n (значение n задается после команды). Программа должна вывести ok.\n",
    "\n",
    "pop\n",
    "Удалить из стека последний элемент. Программа должна вывести его значение.\n",
    "\n",
    "back\n",
    "Программа должна вывести значение последнего элемента, не удаляя его из стека.\n",
    "\n",
    "size\n",
    "Программа должна вывести количество элементов в стеке.\n",
    "\n",
    "clear\n",
    "Программа должна очистить стек и вывести ok.\n",
    "\n",
    "exit\n",
    "Программа должна вывести bye и завершить работу.\n",
    "\n",
    "Перед исполнением операций back и pop программа должна проверять, содержится ли в стеке хотя бы один элемент. Если во входных данных встречается операция back или pop, и при этом стек пуст, то программа должна вместо числового значения вывести строку error.\n",
    "\n",
    "Формат ввода\n",
    "Вводятся команды управления стеком, по одной на строке\n",
    "\n",
    "Формат вывода\n",
    "Программа должна вывести протокол работы стека, по одному сообщению на строке\n",
    "\n"
   ]
  },
  {
   "cell_type": "code",
   "execution_count": null,
   "id": "bbc628c4",
   "metadata": {},
   "outputs": [],
   "source": [
    "stack = []\n",
    "while True:\n",
    "    a = input()\n",
    "    if a[:2] == 'pu':\n",
    "        stack.append(int(a.split()[-1]))\n",
    "        print('ok')\n",
    "\n",
    "    if a == 'pop':\n",
    "        try:\n",
    "            print(stack.pop())\n",
    "        except IndexError:\n",
    "            print('error')\n",
    "\n",
    "    if a == 'back':\n",
    "        try:\n",
    "            print(stack[-1])\n",
    "        except IndexError:\n",
    "            print('error')\n",
    "            \n",
    "    if a == 'size':\n",
    "        print(len(stack))\n",
    "\n",
    "    if a == 'clear':\n",
    "        stack.clear()\n",
    "        print('ok')\n",
    "\n",
    "    if a == 'exit':\n",
    "        print('bye')\n",
    "        break\n"
   ]
  },
  {
   "cell_type": "code",
   "execution_count": null,
   "id": "988d94d2",
   "metadata": {},
   "outputs": [],
   "source": []
  }
 ],
 "metadata": {
  "kernelspec": {
   "display_name": "Python 3 (ipykernel)",
   "language": "python",
   "name": "python3"
  },
  "language_info": {
   "codemirror_mode": {
    "name": "ipython",
    "version": 3
   },
   "file_extension": ".py",
   "mimetype": "text/x-python",
   "name": "python",
   "nbconvert_exporter": "python",
   "pygments_lexer": "ipython3",
   "version": "3.10.9"
  }
 },
 "nbformat": 4,
 "nbformat_minor": 5
}
