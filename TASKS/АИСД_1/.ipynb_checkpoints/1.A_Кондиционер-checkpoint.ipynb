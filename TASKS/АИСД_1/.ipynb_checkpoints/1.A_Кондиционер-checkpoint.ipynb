{
 "cells": [
  {
   "cell_type": "code",
   "execution_count": null,
   "id": "9fed2fb8",
   "metadata": {},
   "outputs": [],
   "source": [
    "troom, tcond = list(map(int, input().split()))\n",
    "mode = input()\n",
    "\n",
    "if mode == 'freeze':\n",
    "    if troom < tcond: print(troom)\n",
    "    else: print(tcond)\n",
    "\n",
    "if mode == 'heat':\n",
    "    if troom > tcond: print(troom)\n",
    "    else: print(tcond)\n",
    "\n",
    "if mode == 'auto':\n",
    "    print(tcond)\n",
    "        \n",
    "if mode == 'fan':\n",
    "    print(troom)"
   ]
  },
  {
   "cell_type": "code",
   "execution_count": null,
   "id": "352f62b2",
   "metadata": {},
   "outputs": [],
   "source": [
    "#n= list(map(int, input().split()))\n",
    "# r = input()\n",
    "# if r == 'freeze' or r == 'auto':\n",
    "#     if n[0]>n[1]:\n",
    "#         n[0] = n[1]\n",
    "# if r == 'heat' or r == 'auto':\n",
    "#     if n[0]<n[1]:\n",
    "#         n[0] = n[1]\n",
    "# print(n[0])"
   ]
  }
 ],
 "metadata": {
  "kernelspec": {
   "display_name": "Python 3 (ipykernel)",
   "language": "python",
   "name": "python3"
  },
  "language_info": {
   "codemirror_mode": {
    "name": "ipython",
    "version": 3
   },
   "file_extension": ".py",
   "mimetype": "text/x-python",
   "name": "python",
   "nbconvert_exporter": "python",
   "pygments_lexer": "ipython3",
   "version": "3.10.9"
  }
 },
 "nbformat": 4,
 "nbformat_minor": 5
}
