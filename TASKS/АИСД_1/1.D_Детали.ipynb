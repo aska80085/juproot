{
 "cells": [
  {
   "cell_type": "code",
   "execution_count": 4,
   "id": "b6cdd585",
   "metadata": {},
   "outputs": [],
   "source": [
    "\n",
    "# g=list(map(int,input().split()))\n",
    "# f0,f1,f2=g[0],g[1],g[2]\n",
    "# ans=0\n",
    "# while f0>=f1 and f1>=f2:\n",
    "#     ans+=(f1//f2)*(f0//f1)\n",
    "#     f0-=(f1//f2)*(f0//f1)*f2\n",
    "# print(ans)\n",
    "\n",
    "#!!!!!НУ ТИПА НЕ ВСЕГДА k>=m ЛОЛ НУ ОК (ЕСЛИ НЕТ ТО БЕСКОНЕЧНЫЙ ЦИКЛ И ТЛ)\n",
    "n, k, m = list(map(int, input().split()))\n",
    "ans = 0\n",
    "\n",
    "while n>=k and k>=m:#\n",
    "    ans += (n//k) * (k//m)\n",
    "    n -=  (n//k) * (k//m) * m\n",
    "\n",
    "print(ans)\n",
    "#(идентичные решения)"
   ]
  },
  {
   "cell_type": "code",
   "execution_count": 5,
   "id": "04f6e68e",
   "metadata": {},
   "outputs": [],
   "source": [
    "#на примерчиках блин и отпимизируем код\n",
    "n, k, m = list(map(int, input().split()))\n",
    "ans = 0\n",
    "\n",
    "while n>=k:\n",
    "    ans += (n//k) * (k//m)\n",
    "    n = (n%k) + ((n//k) * (k%m))\n",
    "\n",
    "print(ans)\n",
    "#!!!!!TL"
   ]
  },
  {
   "cell_type": "code",
   "execution_count": null,
   "id": "4d1e3835",
   "metadata": {},
   "outputs": [],
   "source": [
    "#избавимся от %\n",
    "#!считаем сколько сплава ушло на готовые детали и отнимаем от n, получаем весь лишний сплав \n",
    "\n",
    "n, k, m = list(map(int, input().split()))\n",
    "ans = 0\n",
    "\n",
    "while n>=k:\n",
    "    ans += (n//k) * (k//m)\n",
    "    n -=  (n//k) * (k//m) * m\n",
    "\n",
    "print(ans)\n",
    "\n",
    "#!!!!TL"
   ]
  },
  {
   "cell_type": "code",
   "execution_count": null,
   "id": "688a98db",
   "metadata": {},
   "outputs": [],
   "source": []
  }
 ],
 "metadata": {
  "kernelspec": {
   "display_name": "Python 3 (ipykernel)",
   "language": "python",
   "name": "python3"
  },
  "language_info": {
   "codemirror_mode": {
    "name": "ipython",
    "version": 3
   },
   "file_extension": ".py",
   "mimetype": "text/x-python",
   "name": "python",
   "nbconvert_exporter": "python",
   "pygments_lexer": "ipython3",
   "version": "3.10.9"
  }
 },
 "nbformat": 4,
 "nbformat_minor": 5
}
