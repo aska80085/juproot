{
 "cells": [
  {
   "cell_type": "markdown",
   "id": "78c18ed5",
   "metadata": {},
   "source": [
    "Условие:\n",
    "\n",
    "Рассмотрим последовательность, состоящую из круглых, квадратных и фигурных скобок. Программа дожна определить, является ли данная скобочная последовательность правильной. Пустая последовательность явлется правильной. Если A – правильная, то последовательности (A), [A], {A} – правильные. Если A и B – правильные последовательности, то последовательность AB – правильная.\n",
    "\n",
    "Формат ввода\n",
    "В единственной строке записана скобочная последовательность, содержащая не более 100000 скобок.\n",
    "\n",
    "Формат вывода\n",
    "Если данная последовательность правильная, то программа должна вывести строку yes, иначе строку no."
   ]
  },
  {
   "cell_type": "code",
   "execution_count": null,
   "id": "e491d1c2",
   "metadata": {},
   "outputs": [],
   "source": [
    "stack = []\n",
    "p = input()\n",
    "for i in p:\n",
    "    if i == '(' or i == '[' or i == '{':\n",
    "        stack.append(i)\n",
    "\n",
    "    else:\n",
    "        if len(stack) != 0:\n",
    "            if i == ')':\n",
    "                if stack[-1] == '(':\n",
    "                    stack.pop()\n",
    "                else: \n",
    "                    stack.append(i)\n",
    "                    break\n",
    "\n",
    "            elif i == '}':\n",
    "                if stack[-1] == '{':\n",
    "                    stack.pop()\n",
    "                else: \n",
    "                    stack.append(i)\n",
    "                    break\n",
    "\n",
    "            else:\n",
    "                if stack[-1] == '[':\n",
    "                    stack.pop()\n",
    "                else: \n",
    "                    stack.append(i)\n",
    "                    break\n",
    "        else:\n",
    "            stack.append(i)\n",
    "            break\n",
    "\n",
    "if len(stack) == 0:\n",
    "    print('yes')\n",
    "else:\n",
    "    print('no')"
   ]
  },
  {
   "cell_type": "code",
   "execution_count": null,
   "id": "e981d879",
   "metadata": {},
   "outputs": [],
   "source": []
  }
 ],
 "metadata": {
  "kernelspec": {
   "display_name": "Python 3 (ipykernel)",
   "language": "python",
   "name": "python3"
  },
  "language_info": {
   "codemirror_mode": {
    "name": "ipython",
    "version": 3
   },
   "file_extension": ".py",
   "mimetype": "text/x-python",
   "name": "python",
   "nbconvert_exporter": "python",
   "pygments_lexer": "ipython3",
   "version": "3.10.9"
  }
 },
 "nbformat": 4,
 "nbformat_minor": 5
}
