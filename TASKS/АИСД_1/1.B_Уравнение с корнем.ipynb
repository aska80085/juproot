{
 "cells": [
  {
   "cell_type": "code",
   "execution_count": 11,
   "id": "b6ac5778",
   "metadata": {},
   "outputs": [
    {
     "name": "stdout",
     "output_type": "stream",
     "text": [
      "1\n",
      "2\n",
      "-3\n",
      "NO SOLUTIONS\n"
     ]
    }
   ],
   "source": [
    "a = int(input())\n",
    "b = int(input())\n",
    "c = int(input())\n",
    "\n",
    "if a!=0:\n",
    "    if c>=0: \n",
    "        ans = ((c**2 - b)/a)\n",
    "        \n",
    "        if str(ans)[-2:] == '.0':\n",
    "            print(int(ans))\n",
    "            \n",
    "        else:\n",
    "            print('NO SOLUTION')\n",
    "        \n",
    "    else: \n",
    "        print('NO SOLUTION')\n",
    "        \n",
    "else: \n",
    "    if c>=0:    \n",
    "        if b**(1/2) == c:\n",
    "            print('MANY SOLUTIONS')\n",
    "            \n",
    "        else:\n",
    "            print('NO SOLUTION')\n",
    "            \n",
    "    else:\n",
    "        print('NO SOLUTION')"
   ]
  },
  {
   "cell_type": "code",
   "execution_count": null,
   "id": "9d333f91",
   "metadata": {},
   "outputs": [],
   "source": [
    "# a,b,c=int(input()),int(input()),int(input())\n",
    "# if c<0:\n",
    "#     print('NO SOLUTION')\n",
    "# elif a==0:\n",
    "#     if b==c**2:\n",
    "#         print('MANY SOLUTIONS')\n",
    "#     else:\n",
    "#         print('NO SOLUTION')\n",
    "# else:\n",
    "#     print(((c**2-b)/a == (c**2-b)//a)*str((c**2-b)//a)+(1-((c**2-b)/a == (c**2-b)//a))*'NO SOLUTION')"
   ]
  }
 ],
 "metadata": {
  "kernelspec": {
   "display_name": "Python 3 (ipykernel)",
   "language": "python",
   "name": "python3"
  },
  "language_info": {
   "codemirror_mode": {
    "name": "ipython",
    "version": 3
   },
   "file_extension": ".py",
   "mimetype": "text/x-python",
   "name": "python",
   "nbconvert_exporter": "python",
   "pygments_lexer": "ipython3",
   "version": "3.10.9"
  }
 },
 "nbformat": 4,
 "nbformat_minor": 5
}
