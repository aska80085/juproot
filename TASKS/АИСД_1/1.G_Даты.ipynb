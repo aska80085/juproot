{
 "cells": [
  {
   "cell_type": "code",
   "execution_count": 1,
   "id": "c627939c",
   "metadata": {},
   "outputs": [],
   "source": [
    "# n=list(map(int, input().split()))\n",
    "# if n[0]>12 or n[1]>12: print(1)\n",
    "# elif n[0]==n[1]:print(1)\n",
    "# else:print(0)"
   ]
  },
  {
   "cell_type": "code",
   "execution_count": null,
   "id": "112aa798",
   "metadata": {},
   "outputs": [],
   "source": [
    "#от обратного блин\n",
    "x, y, z = list(map(int, input().split()))\n",
    "if x==y: print(1)\n",
    "elif x in range(1, 13) and y in range(1, 13): print(0)\n",
    "else: print(1)"
   ]
  }
 ],
 "metadata": {
  "kernelspec": {
   "display_name": "Python 3 (ipykernel)",
   "language": "python",
   "name": "python3"
  },
  "language_info": {
   "codemirror_mode": {
    "name": "ipython",
    "version": 3
   },
   "file_extension": ".py",
   "mimetype": "text/x-python",
   "name": "python",
   "nbconvert_exporter": "python",
   "pygments_lexer": "ipython3",
   "version": "3.10.9"
  }
 },
 "nbformat": 4,
 "nbformat_minor": 5
}
