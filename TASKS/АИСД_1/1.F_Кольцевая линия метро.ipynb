{
 "cells": [
  {
   "cell_type": "code",
   "execution_count": null,
   "id": "dff46b3c",
   "metadata": {},
   "outputs": [],
   "source": [
    "n, i, j = list(map(int, input().split()))\n",
    "k1, k2 = abs(i-j), n - abs(i-j)\n",
    "print(int((k1*(k2//k1) + k2*(k1//k2))/((k1//k2) + (k2//k1)))-1)"
   ]
  },
  {
   "cell_type": "code",
   "execution_count": null,
   "id": "fd90ea10",
   "metadata": {},
   "outputs": [],
   "source": []
  }
 ],
 "metadata": {
  "kernelspec": {
   "display_name": "Python 3 (ipykernel)",
   "language": "python",
   "name": "python3"
  },
  "language_info": {
   "codemirror_mode": {
    "name": "ipython",
    "version": 3
   },
   "file_extension": ".py",
   "mimetype": "text/x-python",
   "name": "python",
   "nbconvert_exporter": "python",
   "pygments_lexer": "ipython3",
   "version": "3.10.9"
  }
 },
 "nbformat": 4,
 "nbformat_minor": 5
}
