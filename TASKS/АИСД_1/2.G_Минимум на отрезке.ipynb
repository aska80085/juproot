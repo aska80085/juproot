{
 "cells": [
  {
   "cell_type": "markdown",
   "id": "83cb473a",
   "metadata": {},
   "source": [
    "Рассмотрим последовательность целых чисел длины n. По ней с шагом 1 двигается «окно» длины k, то есть сначала в «окне» видны первые k чисел, на следующем шаге в «окне» уже будут находиться k чисел, начиная со второго, и так далее до конца последовательности. Требуется для каждого положения «окна» определить минимум в нём.\n",
    "\n",
    "Формат ввода\n",
    "В первой строке входных данных содержатся два натуральных числа n и k (n ≤  150000, k ≤ 10000, k ≤  n) – длины последовательности и «окна», соответственно. На следующей строке находятся n чисел – сама последовательность.\n",
    "\n",
    "Формат вывода\n",
    "Выходые данные должны содержать n - k + 1 строк – минимумы для каждого положения «окна»."
   ]
  },
  {
   "cell_type": "code",
   "execution_count": null,
   "id": "0b5a79d2",
   "metadata": {},
   "outputs": [],
   "source": [
    "#!!!в деке неубывающая последовательность а не строго возрастающая(без index1,2)\n",
    "\n",
    "\n",
    "from collections import deque\n",
    "\n",
    "n, k = list(map(int, input().split()))\n",
    "l = list(map(int,input().split()))\n",
    "\n",
    "ans = []\n",
    "d = deque()\n",
    "\n",
    "for i in range(0, n):\n",
    "    try:\n",
    "        while l[i] < d[-1]:\n",
    "            d.pop()\n",
    "        else:\n",
    "            d.append(l[i])\n",
    "    except:\n",
    "        d.append(l[i])\n",
    "\n",
    "    if i >= k-1:\n",
    "        ans.append(d[0])\n",
    "        if l[i-k+1] == d[0]:\n",
    "            d.popleft()\n",
    "\n",
    "for i in ans: print(i)\n",
    "\n"
   ]
  },
  {
   "cell_type": "code",
   "execution_count": null,
   "id": "28a50626",
   "metadata": {},
   "outputs": [],
   "source": []
  }
 ],
 "metadata": {
  "kernelspec": {
   "display_name": "Python 3 (ipykernel)",
   "language": "python",
   "name": "python3"
  },
  "language_info": {
   "codemirror_mode": {
    "name": "ipython",
    "version": 3
   },
   "file_extension": ".py",
   "mimetype": "text/x-python",
   "name": "python",
   "nbconvert_exporter": "python",
   "pygments_lexer": "ipython3",
   "version": "3.10.9"
  }
 },
 "nbformat": 4,
 "nbformat_minor": 5
}
