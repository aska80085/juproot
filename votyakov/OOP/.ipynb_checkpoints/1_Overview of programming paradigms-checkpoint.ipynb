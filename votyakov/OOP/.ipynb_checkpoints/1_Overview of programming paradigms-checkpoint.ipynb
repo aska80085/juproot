{
 "cells": [
  {
   "cell_type": "markdown",
   "id": "f822904e",
   "metadata": {},
   "source": [
    "Парадигма программирования - это совокупность идей и понятий, определяющих стиль написания компьютерных программ. Это способ концептуализации, определяющий организацию вычислений и структурирование работы, выполняемой компьютером. \n",
    "\n",
    "Функциональное программирование\n",
    "Парадигма программирования, в которой процесс вычисления трактуется как вычисление значений функций в математическом понимании последних. \n",
    "\n",
    "Ссылочная прозрачность\n",
    "Ссылочная прозрачность и ссылочная непрозрачность - это свойства частей компьютерных программ. Выражение называется ссылочно прозрачным, если его можно заменить соответствующим значением без изменения поведения программы. В результате вычисления ссылочно прозрачной функции дают одно и то же значение для одних и тех же аргументов. Такие функции называются чистыми функциями. (Функции не должны ничего менять, как если бы мы вместо них писали просто математические выражения)\n",
    "В функциональном программирование не принято использовать циклы"
   ]
  },
  {
   "cell_type": "code",
   "execution_count": 1,
   "id": "f58b9af5",
   "metadata": {},
   "outputs": [
    {
     "name": "stdout",
     "output_type": "stream",
     "text": [
      "6\n"
     ]
    }
   ],
   "source": [
    "#т е в функциональном программировании алгоритм суммирования пишется так: \n",
    "def summa(list): \n",
    "    if len(list) == 0: \n",
    "        return 0 \n",
    "    else: \n",
    "        return list[0] + summa(list[1:])\n",
    "\n",
    "print(summa([1,2,3]))\n",
    "#отдается предпочтение рекурсии "
   ]
  },
  {
   "cell_type": "markdown",
   "id": "fe9bc507",
   "metadata": {},
   "source": [
    "Императивное программирование - это есть привычный на актуальный момент способ программирования.\n",
    "В информатике императивное программирование - это парадигма программирования программного обеспечения, которая использует операторы, изменяющие состояние программы. Во многом так же, как повелительное наклонение в естественных языках выражает команды, императивная программа состоит из команд, которые должен выполнять компьютер. Императивное программирование фокусируется на описании пошаговой работы программы, а не на высокоуровневых описаниях ее ожидаемых результатов."
   ]
  },
  {
   "cell_type": "markdown",
   "id": "40154437",
   "metadata": {},
   "source": [
    "Объектно-ориентированное программирование - методология программирования, основанная на представлении программы в виде совокупности взаимодействующих объектов, каждый из которых является экземпляром определённого класса, а классы образуют иерархию наследования."
   ]
  },
  {
   "cell_type": "code",
   "execution_count": 25,
   "id": "75e58ddd",
   "metadata": {},
   "outputs": [
    {
     "name": "stdout",
     "output_type": "stream",
     "text": [
      "<class '__main__.pps_student'>\n",
      "3\n",
      "4\n"
     ]
    }
   ],
   "source": [
    "#пример простого класса \n",
    "class pps_student: #если мы ничего не пишем в скобках питон наследует класс от глобального класса object \n",
    "    def __init__(self, student_name, student_tariff, student_lessons): #конструктор, аргумент self - обязательный \n",
    "        self.name = student_name \n",
    "        self.tariff = student_tariff\n",
    "        self.__lessons = student_lessons\n",
    "        \n",
    "    def upgrade_tariff(self): \n",
    "        if self.tariff == 'Стандарт': \n",
    "            self.tariff = 'Про'\n",
    "        if self.tariff == 'База': \n",
    "            self.tariff = 'Стандарт'\n",
    "    \n",
    "    def watch_lesson(self): \n",
    "        self.__lessons += 1 #приватный атрибут \n",
    "        \n",
    "    def show_lessons(self): \n",
    "        return self.__lessons\n",
    "\n",
    "S1 = pps_student('Вася', 'Стандарт', 3) #элемент класса \n",
    "print(type(S1)) #собственный тип - pps_student \n",
    "#print(S1.__lessons) #к приватным переменным нету доступа извне \n",
    "print(S1.show_lessons())\n",
    "S1.watch_lesson() #S1.lessons += 1 тоже можно  \n",
    "#print(S1.lessons)\n",
    "print(S1.show_lessons())"
   ]
  },
  {
   "cell_type": "code",
   "execution_count": 26,
   "id": "bcf94a42",
   "metadata": {},
   "outputs": [],
   "source": [
    "#в ООП все логично взаимосвязанные данные и действия с ними объединяются в один класс"
   ]
  },
  {
   "cell_type": "code",
   "execution_count": 45,
   "id": "198e3d93",
   "metadata": {},
   "outputs": [
    {
     "name": "stdout",
     "output_type": "stream",
     "text": [
      "аазазаззаза\n",
      "Петя 3.6\n",
      "Вася 4.699999999999999\n",
      "Коля 4.199999999999999\n"
     ]
    }
   ],
   "source": [
    "#разница ООП и функциональной проги \n",
    "\n",
    "\n",
    "#задача: есть три студента и их оценки \n",
    "# Петя 3.5\n",
    "# Вася 4.6\n",
    "# Коля 4.1\n",
    "\n",
    "# 1) надо вывести студентов и их оценки \n",
    "# 2) Увеличить оценки всех студентов на 0.1 \n",
    "\n",
    "\n",
    "#****ООП\n",
    "class student(): \n",
    "    def __init__(self, name, mark): \n",
    "        self.__name = name \n",
    "        self.mark = mark \n",
    "    \n",
    "    def change_mark(self, k): \n",
    "        self.mark += k\n",
    "        \n",
    "    def print_all(self):  #функции, задействующие self - методы класса \n",
    "        print(f'{self.__name} {self.mark}')\n",
    "    \n",
    "    print('аазазаззаза')\n",
    "    \n",
    "students = [student('Петя', 3.5), \n",
    "           student('Вася', 4.6),\n",
    "           student('Коля', 4.1)]\n",
    "\n",
    "for person in students: \n",
    "    person.change_mark(0.1)\n",
    "    person.print_all() "
   ]
  },
  {
   "cell_type": "code",
   "execution_count": 77,
   "id": "68aed92f",
   "metadata": {},
   "outputs": [
    {
     "name": "stdout",
     "output_type": "stream",
     "text": [
      "Петя 3.5\n",
      "Вася 4.6\n",
      "Коля 4.1\n"
     ]
    }
   ],
   "source": [
    "#*****функц\n",
    "\n",
    "students = [('Петя', 3.5),\n",
    "           ('Вася', 4.6),\n",
    "           ('Коля', 4.1)]\n",
    "\n",
    "# for person in students:\n",
    "#     print(*person)\n",
    "\n",
    "def show_all(students): \n",
    "    for person in students:\n",
    "        print(*person) \n",
    "        \n",
    "show_all(students) \n",
    "\n",
    "#Но данная функция не является ссылочно-прозрачной (в ней нету ретерна t = show_all(students) -- None)\n",
    "\n",
    "#!Функция является ссылочно прозрачной если ее можно заменить на результат ее работы (return'ом) в print() "
   ]
  },
  {
   "cell_type": "code",
   "execution_count": 91,
   "id": "3a222599",
   "metadata": {},
   "outputs": [
    {
     "name": "stdout",
     "output_type": "stream",
     "text": [
      "Петя 3.5\n",
      "Вася 4.6\n",
      "Коля 4.1\n",
      "[('Петя', 3.6), ('Вася', 4.699999999999999), ('Коля', 4.199999999999999)]\n"
     ]
    }
   ],
   "source": [
    "#правильное функц\n",
    "list(map(lambda x: print(*x), students))  #создавая лист мы заставляем мап проитерироваться\n",
    "#не оборачиваем в функцию из-за ссылочной-непрозрачности \n",
    "\n",
    "students = [('Петя', 3.5),\n",
    "           ('Вася', 4.6),\n",
    "           ('Коля', 4.1)]\n",
    "\n",
    "def change_mark(student, k): #student = (name, grade)\n",
    "    return (student[0], student[1] + k) #по факту новый студент \n",
    "\n",
    "#for i in range(len(students)):\n",
    "    #students[i] = change_mark(students[i], 0.1)\n",
    "    \n",
    "#new_students = [] \n",
    "# for elem in students: \n",
    "#     new_students.append(change_mark(elem, 0.1))\n",
    "# print(new_students)\n",
    "\n",
    "def change_all_grades(students, amount): \n",
    "    return list(map(lambda x: change_mark(x, amount), students))\n",
    "\n",
    "new_students = change_all_grades(students, 0.1); print(new_students)\n",
    "#list(map(lambda x: print(*x), change_all_grades(students, 0.1)))\n",
    "                \n",
    "    \n",
    "#!в функце минимальная зависимость от данных."
   ]
  },
  {
   "cell_type": "code",
   "execution_count": 93,
   "id": "02ea7943",
   "metadata": {},
   "outputs": [],
   "source": [
    "#test"
   ]
  },
  {
   "cell_type": "code",
   "execution_count": null,
   "id": "4aad6b19",
   "metadata": {},
   "outputs": [],
   "source": []
  }
 ],
 "metadata": {
  "kernelspec": {
   "display_name": "Python 3 (ipykernel)",
   "language": "python",
   "name": "python3"
  },
  "language_info": {
   "codemirror_mode": {
    "name": "ipython",
    "version": 3
   },
   "file_extension": ".py",
   "mimetype": "text/x-python",
   "name": "python",
   "nbconvert_exporter": "python",
   "pygments_lexer": "ipython3",
   "version": "3.10.9"
  }
 },
 "nbformat": 4,
 "nbformat_minor": 5
}
