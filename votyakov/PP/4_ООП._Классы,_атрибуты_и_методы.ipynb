{
 "cells": [
  {
   "cell_type": "code",
   "execution_count": 1,
   "id": "83826f23",
   "metadata": {},
   "outputs": [
    {
     "name": "stdout",
     "output_type": "stream",
     "text": [
      "square green\n",
      "rectangle\n",
      "{'__module__': '__main__', 'shape': 'rectangle', 'color': 'green', '__dict__': <attribute '__dict__' of 'Dot' objects>, '__weakref__': <attribute '__weakref__' of 'Dot' objects>, '__doc__': None}\n"
     ]
    }
   ],
   "source": [
    "class Dot: \n",
    "    #атрибуты класса\n",
    "    shape = 'square'\n",
    "    color = 'green' \n",
    "print(Dot.shape, Dot.color)\n",
    "\n",
    "Dot.shape = 'rectangle'; print(Dot.shape)\n",
    "\n",
    "print(Dot.__dict__) #словарь всевозможных атрибутов класса "
   ]
  },
  {
   "cell_type": "code",
   "execution_count": 2,
   "id": "c21cafae",
   "metadata": {},
   "outputs": [
    {
     "name": "stdout",
     "output_type": "stream",
     "text": [
      "{} green\n",
      "False\n"
     ]
    }
   ],
   "source": [
    "x = Dot() #(со скобочками) элемент/объект класса Dot\n",
    "print(x.__dict__, end = ' '); print(x.color) #тут атрибут класса, а не объекта \n",
    "\n",
    "y = Dot()\n",
    "print(x is y)"
   ]
  },
  {
   "cell_type": "code",
   "execution_count": 3,
   "id": "0f950441",
   "metadata": {},
   "outputs": [
    {
     "name": "stdout",
     "output_type": "stream",
     "text": [
      "<class '__main__.Dot'>\n",
      "True\n"
     ]
    }
   ],
   "source": [
    "print(type(x)) \n",
    "print(isinstance(x, Dot))"
   ]
  },
  {
   "cell_type": "code",
   "execution_count": 4,
   "id": "1312dc5c",
   "metadata": {},
   "outputs": [
    {
     "name": "stdout",
     "output_type": "stream",
     "text": [
      "circle rectangle\n",
      "square circle square\n",
      "{'shape': 'circle', 'coords': (2.5, 7.3)} {'color': 'black'}\n",
      "{'__module__': '__main__', 'shape': 'square', 'color': 'green', '__dict__': <attribute '__dict__' of 'Dot' objects>, '__weakref__': <attribute '__weakref__' of 'Dot' objects>, '__doc__': None, 'coords': (0, 0)}\n"
     ]
    }
   ],
   "source": [
    "#задаем атрибуты\n",
    "\n",
    "x.shape = 'circle' #создали атрибут у объекта, а не поменяли атрибут в классе \n",
    "print(x.shape, y.shape)\n",
    "\n",
    "Dot.shape = 'square'; print(Dot.shape, x.shape, y.shape) # у х собственный атрибут не зависящий от атрибута класса \n",
    "y.color = 'black' #собственный атрибут объекта y\n",
    "x.coords = (2.5, 7.3) #coords - cобственный атрибут объекта x, его нет у y и Dot \n",
    "#y.coords, Dot.coords - error\n",
    "print(x.__dict__, y.__dict__)\n",
    "\n",
    "setattr(Dot, 'coords', (0,0)) #!setattr тоже задает атрибуты\n",
    "print(Dot.__dict__)"
   ]
  },
  {
   "cell_type": "code",
   "execution_count": 5,
   "id": "c3e7a227",
   "metadata": {},
   "outputs": [
    {
     "name": "stdout",
     "output_type": "stream",
     "text": [
      "square green\n",
      "green\n",
      "такого атрибута нету ошибка\n"
     ]
    }
   ],
   "source": [
    "#вызываем атрибуты \n",
    "\n",
    "print(Dot.shape, Dot.color) \n",
    "\n",
    "print(getattr(Dot, 'color')) #!getattr тоже вызывает атрибуты \n",
    "print(getattr(Dot, 'owner_name', 'такого атрибута нету ошибка')) #3 аргумент - встроенная обработка исключений"
   ]
  },
  {
   "cell_type": "code",
   "execution_count": 6,
   "id": "c8a44ba0",
   "metadata": {},
   "outputs": [
    {
     "name": "stdout",
     "output_type": "stream",
     "text": [
      "False True\n",
      "True {'color': 'black'}\n",
      "False\n"
     ]
    }
   ],
   "source": [
    "#удаляем атрибуты \n",
    "del Dot.color #!del удаляет атрибуты\n",
    "\n",
    "print(hasattr(Dot, 'color'), hasattr(Dot, 'shape')) #!hasattr проверяет наличие атрибутов\n",
    "print(hasattr(y, 'shape'), y.__dict__) #у y нет родного атрибута shape, но он доступен в родительском классе \n",
    "#таким образом hasattr - проверка для избежания исключений \n",
    "\n",
    "delattr(Dot, 'shape') #!delattr тоже удаляет атрибуты \n",
    "print(hasattr(Dot, 'shape'))"
   ]
  },
  {
   "cell_type": "code",
   "execution_count": 7,
   "id": "42853b1a",
   "metadata": {},
   "outputs": [
    {
     "name": "stdout",
     "output_type": "stream",
     "text": [
      "{'__module__': '__main__', '__dict__': <attribute '__dict__' of 'Dot' objects>, '__weakref__': <attribute '__weakref__' of 'Dot' objects>, '__doc__': None, 'coords': (0, 0)} None\n",
      "{'__module__': '__main__', '__doc__': 'Класс для представления точек на координатной плоскости', 'shape': 'square', 'color': 'green', '__dict__': <attribute '__dict__' of 'Dot' objects>, '__weakref__': <attribute '__weakref__' of 'Dot' objects>} Класс для представления точек на координатной плоскости\n"
     ]
    }
   ],
   "source": [
    "#атрибут '__doc__'\n",
    "#документация нужна для описания класса \n",
    "\n",
    "print(Dot.__dict__, Dot.__doc__)\n",
    "class Dot: \n",
    "    'Класс для представления точек на координатной плоскости' #первая строчка после класса записывается в аттрибут doc\n",
    "    shape = 'square'\n",
    "    color = 'green' \n",
    "print(Dot.__dict__, Dot.__doc__)\n"
   ]
  },
  {
   "cell_type": "code",
   "execution_count": 13,
   "id": "88b9f69b",
   "metadata": {},
   "outputs": [
    {
     "name": "stdout",
     "output_type": "stream",
     "text": [
      "<function Dot.new_coords at 0x7fa889bc48b0> Вызвали метод new_coords\n",
      "square\n"
     ]
    }
   ],
   "source": [
    "#методы класса \n",
    "\n",
    "class Dot: \n",
    "    'Класс для представления точек на координатной плоскости'\n",
    "    shape = 'square'\n",
    "    color = 'green' \n",
    "    def new_coords():\n",
    "        #Dot.shape = 'edited' +\n",
    "        #shape = 'edited' -\n",
    "        #(атрибуты класса задаются без привязки к имени класса только на верхнем уровне)\n",
    "        \n",
    "        print('Вызвали метод new_coords')\n",
    "\n",
    "print(Dot.new_coords, end = ' '); Dot.new_coords()\n",
    "\n",
    "x = Dot() \n",
    "\n",
    "#x.new_coords()\n",
    "#^^^ TypeError: Dot.new_coords() takes 0 positional arguments but 1 was given ^^^\n",
    "# сам объект является аргументом, он обрабатывается обычно первым аргументом (self) в методах\n",
    "\n",
    "print(Dot.shape)"
   ]
  },
  {
   "cell_type": "code",
   "execution_count": null,
   "id": "2fac959a",
   "metadata": {},
   "outputs": [],
   "source": []
  }
 ],
 "metadata": {
  "kernelspec": {
   "display_name": "Python 3 (ipykernel)",
   "language": "python",
   "name": "python3"
  },
  "language_info": {
   "codemirror_mode": {
    "name": "ipython",
    "version": 3
   },
   "file_extension": ".py",
   "mimetype": "text/x-python",
   "name": "python",
   "nbconvert_exporter": "python",
   "pygments_lexer": "ipython3",
   "version": "3.10.9"
  }
 },
 "nbformat": 4,
 "nbformat_minor": 5
}
