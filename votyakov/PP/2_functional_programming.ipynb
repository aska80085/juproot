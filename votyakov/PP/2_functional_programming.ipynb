{
 "cells": [
  {
   "cell_type": "code",
   "execution_count": 72,
   "id": "9c3e126a",
   "metadata": {},
   "outputs": [
    {
     "name": "stdout",
     "output_type": "stream",
     "text": [
      "13\n",
      "35\n"
     ]
    }
   ],
   "source": [
    "#higher-order fucntion\n",
    "#функции высшего порядка - (функции, зависящие от функций, или выдающие функции в качестве результата) \n",
    "\n",
    "def f(x):\n",
    "    return x**2\n",
    "\n",
    "def h(x): \n",
    "    return x**3\n",
    "\n",
    "def g(func, x, y): \n",
    "    return func(x) + func(y)\n",
    "\n",
    "print(g(f, 2, 3))\n",
    "print(g(h, 2, 3))"
   ]
  },
  {
   "cell_type": "code",
   "execution_count": 4,
   "id": "1ea16b56",
   "metadata": {},
   "outputs": [
    {
     "name": "stdout",
     "output_type": "stream",
     "text": [
      "25\n",
      "8\n",
      "16\n"
     ]
    }
   ],
   "source": [
    "#функции, возвращающие функции тоже относятся к h-o f\n",
    "\n",
    "def vozvoditel(n):\n",
    "    def f(x):\n",
    "        return x**n\n",
    "    return f \n",
    "\n",
    "kvadrator = vozvoditel(2)\n",
    "print(kvadrator(5))\n",
    "\n",
    "kubator = vozvoditel(3) \n",
    "print(kubator(2))\n",
    "\n",
    "#или с помощью ананомных ф-й\n",
    "\n",
    "def vozvoditel2(n): \n",
    "    return lambda x: x**n \n",
    "\n",
    "kvadrator2 = vozvoditel2(2)\n",
    "print(kvadrator2(4))\n"
   ]
  },
  {
   "cell_type": "code",
   "execution_count": 33,
   "id": "bd9c57b6",
   "metadata": {},
   "outputs": [
    {
     "name": "stdout",
     "output_type": "stream",
     "text": [
      "121\n",
      "144\n",
      "169\n",
      "121\n",
      "144\n",
      "169\n",
      "[121, 144, 169]\n"
     ]
    }
   ],
   "source": [
    "#map; filter\n",
    "\n",
    "l1 = [11, 12, 13]\n",
    "myiter = map(lambda x: x**2, l1)\n",
    "for x in myiter:  \n",
    "    print(x)\n",
    "    \n",
    "#map используется вместо циклов в функциональной проге \n",
    "myiter = list(map(lambda x: print(x**2), l1))\n",
    "#или \n",
    "myiter = list(map(lambda x: x**2, l1)) \n",
    "print(myiter) # прошлись циклом без циклов \n",
    "\n"
   ]
  },
  {
   "cell_type": "code",
   "execution_count": 39,
   "id": "e7b9c948",
   "metadata": {},
   "outputs": [
    {
     "name": "stdout",
     "output_type": "stream",
     "text": [
      "1\n"
     ]
    }
   ],
   "source": [
    "l = map(print, [1,2,3])\n",
    "next(l)"
   ]
  },
  {
   "cell_type": "code",
   "execution_count": 40,
   "id": "9dcaf6fa",
   "metadata": {},
   "outputs": [
    {
     "name": "stdout",
     "output_type": "stream",
     "text": [
      "2\n"
     ]
    }
   ],
   "source": [
    "next(l)"
   ]
  },
  {
   "cell_type": "code",
   "execution_count": 41,
   "id": "c7b9e416",
   "metadata": {},
   "outputs": [
    {
     "name": "stdout",
     "output_type": "stream",
     "text": [
      "3\n"
     ]
    }
   ],
   "source": [
    "next(l)"
   ]
  },
  {
   "cell_type": "code",
   "execution_count": 45,
   "id": "e5de0f50",
   "metadata": {},
   "outputs": [
    {
     "name": "stdout",
     "output_type": "stream",
     "text": [
      "[2, 12]\n"
     ]
    }
   ],
   "source": [
    "l = list(map(lambda x: x[0]*x[1], [[1,2], [3,4]]))\n",
    "print(l)"
   ]
  },
  {
   "cell_type": "code",
   "execution_count": 46,
   "id": "53ca48da",
   "metadata": {},
   "outputs": [
    {
     "name": "stdout",
     "output_type": "stream",
     "text": [
      "[8, 16, 24]\n"
     ]
    }
   ],
   "source": [
    "f = lambda x, y: x*y \n",
    "g = lambda x: f(x, 8) \n",
    "l1 = list(map(g, [1,2,3])) \n",
    "print(l1)"
   ]
  },
  {
   "cell_type": "code",
   "execution_count": 48,
   "id": "8992b6ec",
   "metadata": {},
   "outputs": [
    {
     "name": "stdout",
     "output_type": "stream",
     "text": [
      "[12, 4, 56, 34, 78, 32]\n"
     ]
    }
   ],
   "source": [
    "l1 = [12, 4, 56, 34, 78, 23, 443, 31, 32, 23]\n",
    "l2 = list(filter(lambda x: x%2 == 0, l1)) \n",
    "print(l2)"
   ]
  },
  {
   "cell_type": "code",
   "execution_count": 55,
   "id": "d56de664",
   "metadata": {},
   "outputs": [
    {
     "name": "stdout",
     "output_type": "stream",
     "text": [
      "[(3, 5), (10, 11)]\n"
     ]
    }
   ],
   "source": [
    "# задача: отфильтровать только те координаты (x, y) которые лежат в первой четверти  (x>0, y>0)\n",
    "\n",
    "#f = lambda x, y: x > 0 and y > 0 \n",
    "\n",
    "l1 = [(3, 5), (-4, 11), (-8, -10), (10, 11), (3, -8)]\n",
    "\n",
    "f = lambda k: k[0] > 0 and k[1] > 0 \n",
    "\n",
    "print(list(filter(f, l1)))\n"
   ]
  },
  {
   "cell_type": "code",
   "execution_count": 56,
   "id": "1e7d24f6",
   "metadata": {},
   "outputs": [
    {
     "name": "stdout",
     "output_type": "stream",
     "text": [
      "Стейк успешно съеден\n"
     ]
    }
   ],
   "source": [
    "#рекурсия \n",
    "\n",
    "def eat_steak(steak_size): \n",
    "    if steak_size == 0: \n",
    "        return 'Стейк успешно съеден'\n",
    "    #один кусочек съели, стейк_сайз стал на 1 меньше \n",
    "    return eat_steak(steak_size - 1) \n",
    "\n",
    "print(eat_steak(10))"
   ]
  },
  {
   "cell_type": "code",
   "execution_count": 63,
   "id": "9f6adfc6",
   "metadata": {},
   "outputs": [
    {
     "name": "stdout",
     "output_type": "stream",
     "text": [
      "256\n",
      "1\n"
     ]
    }
   ],
   "source": [
    "# рекурсивное вычисление 2**n без **\n",
    "\n",
    "#с циклами :\n",
    "# n = int(input()) \n",
    "# p = 1 \n",
    "# for i in range(n): \n",
    "#     p *= 2\n",
    "# print(p) \n",
    "\n",
    "#без циклов: !n>=0\n",
    "def f(n): \n",
    "    if n == 0: \n",
    "        return 1 \n",
    "    return 2 * f(n-1)\n",
    "\n",
    "print(f(8))\n",
    "print(f(0))"
   ]
  },
  {
   "cell_type": "code",
   "execution_count": 71,
   "id": "b7c97434",
   "metadata": {},
   "outputs": [
    {
     "name": "stdout",
     "output_type": "stream",
     "text": [
      "175\n",
      "175\n"
     ]
    }
   ],
   "source": [
    "# рекурсивное вычисление суммы эл-тов массива \n",
    "\n",
    "l1 = [10, 20, 30, 100, 15]\n",
    "\n",
    "def summ(l):\n",
    "    if len(l) == 0: \n",
    "        return 0 \n",
    "    return l[0] + summ(l[1:])\n",
    "\n",
    "print(summ(l1))\n",
    "\n",
    "#другой способ \n",
    "\n",
    "def summator(list, current_sum=0, current_index=0): \n",
    "    if current_index >= len(list): \n",
    "        return current_sum \n",
    "    new_sum = current_sum + list[current_index] # правильней не менять переменные, а создавать на их основе новы\n",
    "    return summator(list, new_sum, current_index + 1) \n",
    "    #return summator(list, current_sum + list[current_index], current_index + 1)  или так \n",
    "\n",
    "print(summator(l1))"
   ]
  },
  {
   "cell_type": "markdown",
   "id": "fb2e916d",
   "metadata": {},
   "source": [
    "БАЗОВЫЕ ПРИНЦИПЫ ФУНКЦИОНАЛЬНОГО ПРОГРАММИРОВАНИЯ:   \n",
    "(((предпологается, что любой язык, работающий с функциональным программированием, соответствует следующим концепциям)))  \n",
    "1)ссылочная прозрачность функции - любая функция работает одинаково на одинаковом наборе данных + функция не должна иметь побочных эффектов, то есть не должна ничего менять и выводить в процессе своей работы  \n",
    "2)никаких циклов (рекурсии)   \n",
    "3)функции - такие же объекты, то есть они могут быть присвоены в переменные, переданы внутрь других функций или выводить в качестве результата, то есть они могут быть базовым объектами, или объектами высшего порядка, (функции, зависящие от функций, или выдающие функции в качестве результата)   \n",
    "4)переменные и любые данные неизменяемы (кортежи+ списки-) (!принято использовать неизменяемые типы данных)"
   ]
  },
  {
   "cell_type": "markdown",
   "id": "3e710615",
   "metadata": {},
   "source": [
    "СОВЕТЫ ДЛЯ НАПИСАНИЯ ПРОГРАММ В СТИЛЕ ФУНКЦ ПРОГИ:    \n",
    "1)использовать внутри функции только те аргументы, которые были переданы внутрь функции; и в качестве результата работы выводить все внутрь return'a. То есть чтобы у функции не было никаких других результатов работы кроме тех, что написаны в return'e (!функция не должна иметь никаких побочек), и чтобы у функции не было никаких аргументов кроме написанных в списке ее аргументов (переданных в нее) (!то есть нет аргументов извне)\n",
    "2)не использовать глобальные переменные вообще    \n",
    "3)не следует изменять аргументы, поступившие на вход, если изменять аргументы функция перестает быть ссылочно-прозрачной (изменения потом сложно отследить)   \n",
    "4)чем больше функций, тем лучше (тогда будет легче находить ошибки) \n",
    "5)не использовать обращения к данным из другого файла  "
   ]
  },
  {
   "cell_type": "code",
   "execution_count": null,
   "id": "d03f29c6",
   "metadata": {},
   "outputs": [],
   "source": []
  }
 ],
 "metadata": {
  "kernelspec": {
   "display_name": "Python 3 (ipykernel)",
   "language": "python",
   "name": "python3"
  },
  "language_info": {
   "codemirror_mode": {
    "name": "ipython",
    "version": 3
   },
   "file_extension": ".py",
   "mimetype": "text/x-python",
   "name": "python",
   "nbconvert_exporter": "python",
   "pygments_lexer": "ipython3",
   "version": "3.10.9"
  }
 },
 "nbformat": 4,
 "nbformat_minor": 5
}
