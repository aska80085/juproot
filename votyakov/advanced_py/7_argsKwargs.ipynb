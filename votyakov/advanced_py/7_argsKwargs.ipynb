{
 "cells": [
  {
   "cell_type": "code",
   "execution_count": 1,
   "id": "369603f3",
   "metadata": {},
   "outputs": [
    {
     "name": "stdout",
     "output_type": "stream",
     "text": [
      "x=10\n",
      "y=20\n"
     ]
    }
   ],
   "source": [
    "def f(x, y): \n",
    "    print(f'{x=}')\n",
    "    print(f'{y=}')\n",
    "f(10,20)"
   ]
  },
  {
   "cell_type": "code",
   "execution_count": 5,
   "id": "6a1babf4",
   "metadata": {},
   "outputs": [
    {
     "name": "stdout",
     "output_type": "stream",
     "text": [
      "x=None\n",
      "y=None\n",
      "x=1\n",
      "y=None\n",
      "x=None\n",
      "y=200\n"
     ]
    }
   ],
   "source": [
    "def f(x=None, y=None): \n",
    "    print(f'{x=}')\n",
    "    print(f'{y=}')\n",
    "f()\n",
    "f(1)\n",
    "f(y=200)"
   ]
  },
  {
   "cell_type": "code",
   "execution_count": 6,
   "id": "0def282d",
   "metadata": {},
   "outputs": [
    {
     "name": "stdout",
     "output_type": "stream",
     "text": [
      "239 40 200\n",
      "239.40.200\n"
     ]
    }
   ],
   "source": [
    "L1 = [239, 40, 200]\n",
    "print(*L1)\n",
    "print(*L1, sep = '.')"
   ]
  },
  {
   "cell_type": "code",
   "execution_count": 9,
   "id": "8d6f800f",
   "metadata": {},
   "outputs": [
    {
     "name": "stdout",
     "output_type": "stream",
     "text": [
      "[239, 40, 200, 10, 3000]\n"
     ]
    }
   ],
   "source": [
    "L2 = [*L1, 10, 3000] \n",
    "print(L2)"
   ]
  },
  {
   "cell_type": "code",
   "execution_count": 12,
   "id": "8ebf175d",
   "metadata": {},
   "outputs": [
    {
     "name": "stdout",
     "output_type": "stream",
     "text": [
      "The teachers is  AR\n",
      "Students are:\n",
      "()\n",
      "The teachers is  Capybara\n",
      "Students are:\n",
      "Petya\n",
      "Vasya\n",
      "Anton\n",
      "Andrey\n",
      "('Petya', 'Vasya', 'Anton', 'Andrey')\n"
     ]
    }
   ],
   "source": [
    "def visitors(teacher = 'AR', *students): \n",
    "    print(\"The teachers is \", teacher) \n",
    "    print(\"Students are:\")\n",
    "    for student in students: \n",
    "        print(student) \n",
    "    print(students) #кортежек\n",
    "visitors()\n",
    "visitors('Capybara', 'Petya', 'Vasya', 'Anton', 'Andrey')"
   ]
  },
  {
   "cell_type": "code",
   "execution_count": 13,
   "id": "1007aa6b",
   "metadata": {},
   "outputs": [
    {
     "name": "stdout",
     "output_type": "stream",
     "text": [
      "497\n"
     ]
    }
   ],
   "source": [
    "def summator(*numbers): \n",
    "    s = 0\n",
    "    for x in numbers: \n",
    "        s += x\n",
    "    return s\n",
    "print(summator(12,323,1,23,12,3,123))"
   ]
  },
  {
   "cell_type": "code",
   "execution_count": 14,
   "id": "99376aee",
   "metadata": {},
   "outputs": [],
   "source": [
    "#def (*args1, *args2) - так нельзя "
   ]
  },
  {
   "cell_type": "code",
   "execution_count": 16,
   "id": "81d8c582",
   "metadata": {},
   "outputs": [
    {
     "name": "stdout",
     "output_type": "stream",
     "text": [
      "{'Петя': 'Стандарт', 'Ваня': 'Про', 'Андрей': 'База'}\n",
      "The students and their tariffs are:\n",
      "Student: Петя Tariff: Стандарт\n",
      "Student: Ваня Tariff: Про\n",
      "Student: Андрей Tariff: База\n"
     ]
    }
   ],
   "source": [
    "#**kwargs - key args - ключевые слова\n",
    "\n",
    "def visitors(teacher, **students): \n",
    "    print(students)\n",
    "    print('The students and their tariffs are:')\n",
    "    for st, tar in students.items(): \n",
    "        print(f'Student: {st} Tariff: {tar}')\n",
    "\n",
    "visitors(teacher='AR', Петя = 'Стандарт', Ваня = 'Про', Андрей = 'База')#передаем key=value"
   ]
  },
  {
   "cell_type": "code",
   "execution_count": 22,
   "id": "4ad5333c",
   "metadata": {},
   "outputs": [
    {
     "name": "stdout",
     "output_type": "stream",
     "text": [
      "12 12\n",
      "(1, 1) (2, 2)\n"
     ]
    }
   ],
   "source": [
    "a = [12,12]\n",
    "print(*a)\n",
    "d = {1:1, 2:2}\n",
    "print(*d.items())"
   ]
  },
  {
   "cell_type": "markdown",
   "id": "c559a43d",
   "metadata": {},
   "source": [
    "https://pastebin.com/zucH5Zr0"
   ]
  }
 ],
 "metadata": {
  "kernelspec": {
   "display_name": "Python 3 (ipykernel)",
   "language": "python",
   "name": "python3"
  },
  "language_info": {
   "codemirror_mode": {
    "name": "ipython",
    "version": 3
   },
   "file_extension": ".py",
   "mimetype": "text/x-python",
   "name": "python",
   "nbconvert_exporter": "python",
   "pygments_lexer": "ipython3",
   "version": "3.10.9"
  }
 },
 "nbformat": 4,
 "nbformat_minor": 5
}
