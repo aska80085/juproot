{
 "cells": [
  {
   "cell_type": "code",
   "execution_count": 1,
   "id": "717cee63",
   "metadata": {},
   "outputs": [
    {
     "name": "stdout",
     "output_type": "stream",
     "text": [
      "Вы нашли 100 рублей. Введите, сколько вас человек:5\n",
      "Каждому досталось 20.0 рублей.\n",
      "Вы обращаетесь к некорректному элементу массива.\n"
     ]
    }
   ],
   "source": [
    "x = int(input('Вы нашли 100 рублей. Введите, сколько вас человек:'))\n",
    "try: \n",
    "    print(f'Каждому досталось {100/x} рублей.')\n",
    "    l1 = [10,20,30]\n",
    "    print(l1[x])\n",
    "except ZeroDivisionError: \n",
    "    print(f'Как это вас 0? Не могу разделить 100 на 0.')\n",
    "except IndexError:\n",
    "    print('Вы обращаетесь к некорректному элементу массива.')\n",
    "#except (ZeroDivisionError, IndexError): - так тоже можно\n",
    "else:\n",
    "    print('Все прошло без ошибок.')"
   ]
  },
  {
   "cell_type": "code",
   "execution_count": 2,
   "id": "cad0a55e",
   "metadata": {},
   "outputs": [
    {
     "name": "stdout",
     "output_type": "stream",
     "text": [
      "Вы нашли 100 рублей. Введите, сколько вас человек:1\n",
      "Каждому досталось 100.0 рублей.\n",
      "20\n",
      "Все прошло без ошибок.\n"
     ]
    }
   ],
   "source": [
    "def show_rubles(n):\n",
    "    print(f'Каждому досталось {100/x} рублей.')\n",
    "\n",
    "x = int(input('Вы нашли 100 рублей. Введите, сколько вас человек:'))\n",
    "try: \n",
    "    show_rubles(x)\n",
    "    l1 = [10,20,30]\n",
    "    print(l1[x])\n",
    "except ZeroDivisionError: \n",
    "    print(f'Как это вас 0? Не могу разделить 100 на 0.')\n",
    "except IndexError:\n",
    "    print('Вы обращаетесь к некорректному элементу массива.')\n",
    "#except (ZeroDivisionError, IndexError): - так тоже можно\n",
    "else:\n",
    "    print('Все прошло без ошибок.')  "
   ]
  },
  {
   "cell_type": "code",
   "execution_count": 3,
   "id": "2d196843",
   "metadata": {},
   "outputs": [
    {
     "name": "stdout",
     "output_type": "stream",
     "text": [
      "Вы нашли 100 рублей. Введите, сколько вас человек:2\n",
      "Все прошло без ошибок.\n"
     ]
    }
   ],
   "source": [
    "x = int(input('Вы нашли 100 рублей. Введите, сколько вас человек:'))\n",
    "try: \n",
    "    if x == 128: \n",
    "        raise ZeroDivisionError\n",
    "except ZeroDivisionError: \n",
    "    print(f'Как это вас 0? Не могу разделить 100 на 0.')\n",
    "except IndexError:\n",
    "    print('Вы обращаетесь к некорректному элементу массива.')\n",
    "#except (ZeroDivisionError, IndexError): - так тоже можно\n",
    "else:\n",
    "    print('Все прошло без ошибок.')  "
   ]
  },
  {
   "cell_type": "code",
   "execution_count": 4,
   "id": "058a63d2",
   "metadata": {},
   "outputs": [
    {
     "name": "stdout",
     "output_type": "stream",
     "text": [
      "3\n",
      "Ошибка утверждения\n"
     ]
    },
    {
     "ename": "AssertionError",
     "evalue": "Икс должен быть четным",
     "output_type": "error",
     "traceback": [
      "\u001b[0;31m---------------------------------------------------------------------------\u001b[0m",
      "\u001b[0;31mAssertionError\u001b[0m                            Traceback (most recent call last)",
      "Cell \u001b[0;32mIn[4], line 9\u001b[0m\n\u001b[1;32m      6\u001b[0m     \u001b[38;5;28mprint\u001b[39m(\u001b[38;5;124m'\u001b[39m\u001b[38;5;124mОшибка утверждения\u001b[39m\u001b[38;5;124m'\u001b[39m)\n\u001b[1;32m      8\u001b[0m \u001b[38;5;66;03m#2-ой аргумент ассерт - пояснение ошибки \u001b[39;00m\n\u001b[0;32m----> 9\u001b[0m \u001b[38;5;28;01massert\u001b[39;00m x\u001b[38;5;241m%\u001b[39m\u001b[38;5;241m2\u001b[39m \u001b[38;5;241m==\u001b[39m \u001b[38;5;241m0\u001b[39m, \u001b[38;5;124m'\u001b[39m\u001b[38;5;124mИкс должен быть четным\u001b[39m\u001b[38;5;124m'\u001b[39m\n",
      "\u001b[0;31mAssertionError\u001b[0m: Икс должен быть четным"
     ]
    }
   ],
   "source": [
    "#assert(выражение) генерирует ошибку AssertionError при ложном выражении; assert - утверждать\n",
    "x = int(input()) \n",
    "try: \n",
    "    assert x%2 == 0 \n",
    "except AssertionError: \n",
    "    print('Ошибка утверждения')\n",
    "\n",
    "#2-ой аргумент ассерт - пояснение ошибки \n",
    "assert x%2 == 0, 'Икс должен быть четным'"
   ]
  },
  {
   "cell_type": "code",
   "execution_count": null,
   "id": "74ac3744",
   "metadata": {
    "scrolled": true
   },
   "outputs": [],
   "source": [
    "# #KeybordInterrupt\n",
    "\n",
    "# try: \n",
    "#     while True: \n",
    "#         pass \n",
    "# except KeyboardInterrupt: \n",
    "#     print('Ты хочешь меня остановить? Как бы не так')\n",
    "#     while True: \n",
    "#         pass \n",
    "    "
   ]
  },
  {
   "cell_type": "code",
   "execution_count": 12,
   "id": "cf9f90f0",
   "metadata": {},
   "outputs": [
    {
     "name": "stdout",
     "output_type": "stream",
     "text": [
      "1\n",
      "100.0\n",
      "2\n",
      "50.0\n",
      "3\n",
      "33.333333333333336\n",
      "4\n",
      "25.0\n",
      "0\n",
      "Икс шуд би нот зиро\n",
      "2\n",
      "50.0\n",
      "18896501\n"
     ]
    }
   ],
   "source": [
    "#бесконечная прога \n",
    "\n",
    "class ProgramExit(Exception): #базовый тип Exception в скобках\n",
    "    \"\"\"Raised when a program get in = 18896501\"\"\" \n",
    "    \n",
    "while True: \n",
    "    x = int(input())\n",
    "    try: \n",
    "        if x == 18896501:\n",
    "            raise ProgramExit('выход из проги')\n",
    "        print(100/x) \n",
    "    except ZeroDivisionError: \n",
    "        print('Икс шуд би нот зиро')\n",
    "    except ProgramExit: \n",
    "        break"
   ]
  },
  {
   "cell_type": "code",
   "execution_count": 27,
   "id": "9fe8a925",
   "metadata": {},
   "outputs": [
    {
     "name": "stdout",
     "output_type": "stream",
     "text": [
      "3\n",
      "1\n",
      "2\n",
      "3\n",
      "2.0\n",
      "выход за границы массива\n"
     ]
    }
   ],
   "source": [
    "#найти среднее значение всех эл-тов массива и сумму первых 5 элементов массива \n",
    "# n и n чисел \n",
    "\n",
    "try:\n",
    "    n = int(input())\n",
    "    l1 = [] \n",
    "    [l1.append(int(input())) for i in range(n)]\n",
    "    try:\n",
    "        print(sum(l1)/n)\n",
    "        if n <5: raise IndexError\n",
    "        else: \n",
    "            print(l1[:5])\n",
    "\n",
    "    except ZeroDivisionError: \n",
    "        print('В массиве нет эл-тов, не могу найти среднее значение')\n",
    "    print('hello world')\n",
    "    #print(sum(l1[:5]))\n",
    "except IndexError:\n",
    "    print('выход за границы массива')"
   ]
  },
  {
   "cell_type": "code",
   "execution_count": 29,
   "id": "cec811d3",
   "metadata": {},
   "outputs": [
    {
     "name": "stdout",
     "output_type": "stream",
     "text": [
      "Введите, сколько баллов на ЕГЭ? 123\n",
      "Ты чего? таких баллов не бывает\n"
     ]
    }
   ],
   "source": [
    "class myexeption(Exception): \n",
    "    pass \n",
    "\n",
    "x = int(input('Введите, сколько баллов на ЕГЭ? '))\n",
    "\n",
    "try: \n",
    "    if x < 0 or x > 100: \n",
    "        raise myexeption()\n",
    "    print(f'У вас {x} баллов на ЕГЭ')\n",
    "except myexeption: \n",
    "    print('Ты чего? таких баллов не бывает')"
   ]
  },
  {
   "cell_type": "code",
   "execution_count": 30,
   "id": "0768754f",
   "metadata": {},
   "outputs": [
    {
     "name": "stdout",
     "output_type": "stream",
     "text": [
      "hellllo\n",
      "обработка деления но 0\n",
      "goodbye\n"
     ]
    }
   ],
   "source": [
    "try: \n",
    "    print('hellllo')\n",
    "    print(1/0)\n",
    "except ZeroDivisionError: \n",
    "    print('обработка деления но 0')\n",
    "finally: \n",
    "    print('goodbye')# работает всегда, даже если произошла необработанная ошибка, повлекшая остановку кода"
   ]
  },
  {
   "cell_type": "code",
   "execution_count": 31,
   "id": "a590568e",
   "metadata": {},
   "outputs": [
    {
     "name": "stdout",
     "output_type": "stream",
     "text": [
      "произошла ошибка division by zero\n"
     ]
    }
   ],
   "source": [
    "try :\n",
    "    print(1/0)\n",
    "except ZeroDivisionError as exception_name: \n",
    "    print(f'произошла ошибка {exception_name}')"
   ]
  },
  {
   "cell_type": "code",
   "execution_count": 34,
   "id": "a1f494de",
   "metadata": {},
   "outputs": [
    {
     "name": "stdout",
     "output_type": "stream",
     "text": [
      "123\n",
      "0.008130081300813009\n",
      "произошло исключение:list index out of range\n"
     ]
    }
   ],
   "source": [
    "l1 = [10, 20, 30]\n",
    "try: \n",
    "    x = int(input())\n",
    "    print(1/x) \n",
    "    print(l1[x])\n",
    "except Exception as name_of_execption: #перехватывает все кроме пользовательских остановок \n",
    "    print(f'произошло исключение:{name_of_execption}')"
   ]
  },
  {
   "cell_type": "code",
   "execution_count": 41,
   "id": "3c7c9537",
   "metadata": {},
   "outputs": [
    {
     "data": {
      "text/plain": [
       "True"
      ]
     },
     "execution_count": 41,
     "metadata": {},
     "output_type": "execute_result"
    }
   ],
   "source": [
    "bool('123')"
   ]
  },
  {
   "cell_type": "code",
   "execution_count": 46,
   "id": "8f1e0580",
   "metadata": {},
   "outputs": [
    {
     "name": "stdout",
     "output_type": "stream",
     "text": [
      "True\n"
     ]
    }
   ],
   "source": [
    "a = 123\n",
    "print(str(a).isdigit())"
   ]
  },
  {
   "cell_type": "code",
   "execution_count": 48,
   "id": "e862c1a1",
   "metadata": {},
   "outputs": [
    {
     "ename": "ValueError",
     "evalue": "invalid literal for int() with base 10: '12s3'",
     "output_type": "error",
     "traceback": [
      "\u001b[0;31m---------------------------------------------------------------------------\u001b[0m",
      "\u001b[0;31mValueError\u001b[0m                                Traceback (most recent call last)",
      "Cell \u001b[0;32mIn[48], line 1\u001b[0m\n\u001b[0;32m----> 1\u001b[0m \u001b[38;5;28;43mint\u001b[39;49m\u001b[43m(\u001b[49m\u001b[38;5;124;43m'\u001b[39;49m\u001b[38;5;124;43m12s3\u001b[39;49m\u001b[38;5;124;43m'\u001b[39;49m\u001b[43m)\u001b[49m\n",
      "\u001b[0;31mValueError\u001b[0m: invalid literal for int() with base 10: '12s3'"
     ]
    }
   ],
   "source": [
    "int('12s3')"
   ]
  },
  {
   "cell_type": "code",
   "execution_count": 49,
   "id": "a709b02d",
   "metadata": {},
   "outputs": [],
   "source": [
    "assert 2%2 == 0"
   ]
  },
  {
   "cell_type": "code",
   "execution_count": 50,
   "id": "1d707974",
   "metadata": {},
   "outputs": [
    {
     "name": "stdout",
     "output_type": "stream",
     "text": [
      "['1']\n"
     ]
    }
   ],
   "source": [
    "print('1'.split())"
   ]
  },
  {
   "cell_type": "markdown",
   "id": "caac87df",
   "metadata": {},
   "source": [
    "https://pastebin.com/k1RajbGY"
   ]
  },
  {
   "cell_type": "code",
   "execution_count": null,
   "id": "1ed86945",
   "metadata": {},
   "outputs": [],
   "source": []
  }
 ],
 "metadata": {
  "kernelspec": {
   "display_name": "Python 3 (ipykernel)",
   "language": "python",
   "name": "python3"
  },
  "language_info": {
   "codemirror_mode": {
    "name": "ipython",
    "version": 3
   },
   "file_extension": ".py",
   "mimetype": "text/x-python",
   "name": "python",
   "nbconvert_exporter": "python",
   "pygments_lexer": "ipython3",
   "version": "3.10.9"
  }
 },
 "nbformat": 4,
 "nbformat_minor": 5
}
