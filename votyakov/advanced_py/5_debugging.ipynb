{
 "cells": [
  {
   "cell_type": "code",
   "execution_count": 1,
   "id": "d1b85a15",
   "metadata": {},
   "outputs": [
    {
     "data": {
      "text/plain": [
       "[1, 2]"
      ]
     },
     "execution_count": 1,
     "metadata": {},
     "output_type": "execute_result"
    }
   ],
   "source": [
    "l = [1,2,3]\n",
    "l[:2]"
   ]
  },
  {
   "cell_type": "code",
   "execution_count": 2,
   "id": "d16413e1",
   "metadata": {},
   "outputs": [
    {
     "data": {
      "text/plain": [
       "1"
      ]
     },
     "execution_count": 2,
     "metadata": {},
     "output_type": "execute_result"
    }
   ],
   "source": [
    "l[-3]"
   ]
  },
  {
   "cell_type": "code",
   "execution_count": 3,
   "id": "e4f4a351",
   "metadata": {},
   "outputs": [
    {
     "name": "stdout",
     "output_type": "stream",
     "text": [
      "4\n",
      "4\n",
      "4\n",
      "4\n",
      "4\n"
     ]
    }
   ],
   "source": [
    "def f(n):\n",
    "    for i in range(a):\n",
    "        print(n**2)\n",
    "a = 5\n",
    "f(2)"
   ]
  },
  {
   "cell_type": "code",
   "execution_count": 4,
   "id": "2f49d1fd",
   "metadata": {},
   "outputs": [],
   "source": [
    "for i in range(0):\n",
    "    print(1)"
   ]
  },
  {
   "cell_type": "code",
   "execution_count": 5,
   "id": "613ff1e2",
   "metadata": {},
   "outputs": [
    {
     "name": "stdout",
     "output_type": "stream",
     "text": [
      "True\n",
      "True\n",
      "True\n",
      "True\n",
      "True\n"
     ]
    }
   ],
   "source": [
    "n = 5\n",
    "l = [1,2,3,4,5]\n",
    "for i in range(n):\n",
    "    print(l[-1-i] == l[n-i-1])"
   ]
  },
  {
   "cell_type": "code",
   "execution_count": 6,
   "id": "0233093a",
   "metadata": {},
   "outputs": [
    {
     "name": "stdout",
     "output_type": "stream",
     "text": [
      "1\n"
     ]
    }
   ],
   "source": [
    "for i in range(1): \n",
    "    print(1)"
   ]
  },
  {
   "cell_type": "code",
   "execution_count": 7,
   "id": "77ddd75a",
   "metadata": {},
   "outputs": [
    {
     "name": "stdout",
     "output_type": "stream",
     "text": [
      "5\n",
      "4\n",
      "3\n",
      "2\n",
      "1\n"
     ]
    }
   ],
   "source": [
    "for i in range(5, 0, -1): \n",
    "    print(i)"
   ]
  },
  {
   "cell_type": "code",
   "execution_count": 8,
   "id": "98df9d61",
   "metadata": {},
   "outputs": [
    {
     "name": "stdout",
     "output_type": "stream",
     "text": [
      "[1, 2, 3, 4, 5]\n"
     ]
    }
   ],
   "source": [
    "l = [1,2]\n",
    "l_ = [3,4,5]\n",
    "\n",
    "l+=l_\n",
    "print(l)"
   ]
  },
  {
   "cell_type": "code",
   "execution_count": 10,
   "id": "ee019f18",
   "metadata": {},
   "outputs": [
    {
     "name": "stdout",
     "output_type": "stream",
     "text": [
      "7\n",
      "[2, 2, 3, 4] 0\n"
     ]
    }
   ],
   "source": [
    "l = [1,2,3] \n",
    "n, k = 5, 0\n",
    "def f(n): \n",
    "    l.append(4) \n",
    "    l[k] = 2\n",
    "    return n+2 \n",
    "print(f(5))\n",
    "print(l, k)"
   ]
  },
  {
   "cell_type": "code",
   "execution_count": 11,
   "id": "42898a53",
   "metadata": {},
   "outputs": [
    {
     "name": "stdout",
     "output_type": "stream",
     "text": [
      "1\n"
     ]
    }
   ],
   "source": [
    "print(1)"
   ]
  },
  {
   "cell_type": "code",
   "execution_count": 12,
   "id": "223ba5a4",
   "metadata": {},
   "outputs": [
    {
     "name": "stdout",
     "output_type": "stream",
     "text": [
      "2\n",
      "1 2\n",
      "2\n",
      "3 4\n",
      "1 2 3 4\n"
     ]
    }
   ],
   "source": [
    "n1 = int(input())\n",
    "l1 = list(map(int, input().split()))\n",
    "\n",
    "n2 = int(input())\n",
    "l2 = list(map(int, input().split()))\n",
    "\n",
    "\n",
    "def msort(l1, l2, n1, n2):\n",
    "    i, j = 0, n1\n",
    "    ans = []\n",
    "\n",
    "    while True:\n",
    "\n",
    "        if l1[i] <= l2[j - n1]:\n",
    "            ans.append(l1[i])\n",
    "            i += 1\n",
    "        else:\n",
    "            ans.append(l2[j - n1])\n",
    "            j += 1\n",
    "\n",
    "        if i == n1:\n",
    "            ans += l2[j - n1:]\n",
    "            break\n",
    "        if j == n1+n2:\n",
    "            ans += l1[i:n1]\n",
    "            break\n",
    "    return ans\n",
    "if n1 != 0 and n2 != 0:\n",
    "    print(*msort(l1, l2, n1, n2))\n",
    "else:\n",
    "    if n1 == 0:\n",
    "        print(*l2)\n",
    "    else:\n",
    "        print(*l1)"
   ]
  },
  {
   "cell_type": "code",
   "execution_count": 17,
   "id": "b6929deb",
   "metadata": {},
   "outputs": [
    {
     "name": "stdout",
     "output_type": "stream",
     "text": [
      "[2, 3]\n"
     ]
    }
   ],
   "source": [
    "l = [1,2,3]\n",
    "print(l[3:] + l[1:]) "
   ]
  },
  {
   "cell_type": "code",
   "execution_count": 26,
   "id": "aadf6898",
   "metadata": {},
   "outputs": [
    {
     "name": "stdout",
     "output_type": "stream",
     "text": [
      "2\n",
      "1 2\n"
     ]
    }
   ],
   "source": [
    "l = [2,1,2]\n",
    "ans = [] \n",
    "for i in l[::-1]: \n",
    "    if i not in ans:\n",
    "        ans.append(i)\n",
    "print(len(set(l)))\n",
    "print(*ans[::-1])"
   ]
  },
  {
   "cell_type": "code",
   "execution_count": 27,
   "id": "7399f8c4",
   "metadata": {},
   "outputs": [
    {
     "ename": "SyntaxError",
     "evalue": "invalid decimal literal (3388093506.py, line 1)",
     "output_type": "error",
     "traceback": [
      "\u001b[0;36m  Cell \u001b[0;32mIn[27], line 1\u001b[0;36m\u001b[0m\n\u001b[0;31m    https://pastebin.com/0fYBhHZW\u001b[0m\n\u001b[0m                         ^\u001b[0m\n\u001b[0;31mSyntaxError\u001b[0m\u001b[0;31m:\u001b[0m invalid decimal literal\n"
     ]
    }
   ],
   "source": [
    "https://pastebin.com/0fYBhHZW"
   ]
  },
  {
   "cell_type": "code",
   "execution_count": 29,
   "id": "632e0587",
   "metadata": {},
   "outputs": [
    {
     "ename": "SyntaxError",
     "evalue": "invalid syntax (1457034431.py, line 1)",
     "output_type": "error",
     "traceback": [
      "\u001b[0;36m  Cell \u001b[0;32mIn[29], line 1\u001b[0;36m\u001b[0m\n\u001b[0;31m    1.isdigit()\u001b[0m\n\u001b[0m      ^\u001b[0m\n\u001b[0;31mSyntaxError\u001b[0m\u001b[0;31m:\u001b[0m invalid syntax\n"
     ]
    }
   ],
   "source": [
    "1.isdigit()"
   ]
  },
  {
   "cell_type": "code",
   "execution_count": null,
   "id": "9ef763a6",
   "metadata": {},
   "outputs": [],
   "source": []
  }
 ],
 "metadata": {
  "kernelspec": {
   "display_name": "Python 3 (ipykernel)",
   "language": "python",
   "name": "python3"
  },
  "language_info": {
   "codemirror_mode": {
    "name": "ipython",
    "version": 3
   },
   "file_extension": ".py",
   "mimetype": "text/x-python",
   "name": "python",
   "nbconvert_exporter": "python",
   "pygments_lexer": "ipython3",
   "version": "3.10.9"
  }
 },
 "nbformat": 4,
 "nbformat_minor": 5
}
