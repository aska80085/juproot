{
 "cells": [
  {
   "cell_type": "code",
   "execution_count": 1,
   "id": "e300702e",
   "metadata": {},
   "outputs": [
    {
     "name": "stdout",
     "output_type": "stream",
     "text": [
      "[1, 4, 9, 16, 25]\n"
     ]
    }
   ],
   "source": [
    "x = [i**2 for i in [1,2,3,4,5]]\n",
    "print(x)\n",
    "\n",
    "#это генератор,\n",
    "# вообще-то list comprehension"
   ]
  },
  {
   "cell_type": "code",
   "execution_count": null,
   "id": "d4b64073",
   "metadata": {},
   "outputs": [],
   "source": []
  }
 ],
 "metadata": {
  "kernelspec": {
   "display_name": "Python 3 (ipykernel)",
   "language": "python",
   "name": "python3"
  },
  "language_info": {
   "codemirror_mode": {
    "name": "ipython",
    "version": 3
   },
   "file_extension": ".py",
   "mimetype": "text/x-python",
   "name": "python",
   "nbconvert_exporter": "python",
   "pygments_lexer": "ipython3",
   "version": "3.10.9"
  }
 },
 "nbformat": 4,
 "nbformat_minor": 5
}
