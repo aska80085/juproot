{
 "cells": [
  {
   "cell_type": "code",
   "execution_count": 1,
   "id": "f9e283e6",
   "metadata": {},
   "outputs": [
    {
     "name": "stdout",
     "output_type": "stream",
     "text": [
      "<list_iterator object at 0x7fdd7c0119c0>\n"
     ]
    }
   ],
   "source": [
    "a = [1, 2, 'cat', 4]\n",
    "\n",
    "b = iter(a)\n",
    "print(b)"
   ]
  },
  {
   "cell_type": "code",
   "execution_count": 2,
   "id": "daf9a483",
   "metadata": {},
   "outputs": [
    {
     "name": "stdout",
     "output_type": "stream",
     "text": [
      "1\n"
     ]
    }
   ],
   "source": [
    "print(next(b))"
   ]
  },
  {
   "cell_type": "code",
   "execution_count": 3,
   "id": "1dda2bd2",
   "metadata": {},
   "outputs": [
    {
     "name": "stdout",
     "output_type": "stream",
     "text": [
      "2\n"
     ]
    }
   ],
   "source": [
    "print(next(b))"
   ]
  },
  {
   "cell_type": "code",
   "execution_count": 4,
   "id": "a12ae4a5",
   "metadata": {},
   "outputs": [
    {
     "name": "stdout",
     "output_type": "stream",
     "text": [
      "cat\n"
     ]
    }
   ],
   "source": [
    "print(next(b))"
   ]
  },
  {
   "cell_type": "code",
   "execution_count": 5,
   "id": "0154bd9c",
   "metadata": {},
   "outputs": [
    {
     "name": "stdout",
     "output_type": "stream",
     "text": [
      "4\n"
     ]
    }
   ],
   "source": [
    "print(next(b))"
   ]
  },
  {
   "cell_type": "code",
   "execution_count": 6,
   "id": "0a44e4b6",
   "metadata": {},
   "outputs": [
    {
     "ename": "StopIteration",
     "evalue": "",
     "output_type": "error",
     "traceback": [
      "\u001b[0;31m---------------------------------------------------------------------------\u001b[0m",
      "\u001b[0;31mStopIteration\u001b[0m                             Traceback (most recent call last)",
      "Cell \u001b[0;32mIn[6], line 1\u001b[0m\n\u001b[0;32m----> 1\u001b[0m \u001b[38;5;28mprint\u001b[39m(\u001b[38;5;28;43mnext\u001b[39;49m\u001b[43m(\u001b[49m\u001b[43mb\u001b[49m\u001b[43m)\u001b[49m)\n",
      "\u001b[0;31mStopIteration\u001b[0m: "
     ]
    }
   ],
   "source": [
    "print(next(b))"
   ]
  },
  {
   "cell_type": "code",
   "execution_count": 32,
   "id": "08bad756",
   "metadata": {},
   "outputs": [
    {
     "name": "stdout",
     "output_type": "stream",
     "text": [
      "1\n",
      "2\n",
      "cat\n",
      "4\n",
      "!!!!!!!!!!!!!!\n",
      "1\n",
      "2\n",
      "cat\n",
      "4\n",
      "1\n"
     ]
    }
   ],
   "source": [
    "a = [1, 2, 'cat', 4]\n",
    "b = iter(a)\n",
    "while True: \n",
    "    try:\n",
    "        print(next(b))\n",
    "    except StopIteration:\n",
    "        break\n",
    "\n",
    "print('!!!!!!!!!!!!!!')       \n",
    "\n",
    "a = [1, 2, 'cat', 4]\n",
    "b = iter(a)\n",
    "for i in b: \n",
    "    print(i)\n",
    "    \n",
    "#!!любой итератор - итерируемый объект, т е у любого итератора есть iter(), который просто возвращает сам себя \n",
    "\n",
    "a = [1, 2, 'cat', 4]\n",
    "print(next(iter(iter(iter(a)))))"
   ]
  },
  {
   "cell_type": "code",
   "execution_count": 20,
   "id": "06909312",
   "metadata": {},
   "outputs": [
    {
     "name": "stdout",
     "output_type": "stream",
     "text": [
      "файл\n",
      "\n",
      "считывается \n",
      "\n",
      "по \n",
      "\n",
      "строчкам \n",
      "\n",
      "лол \n",
      "\n"
     ]
    },
    {
     "data": {
      "text/plain": [
       "'лол \\n'"
      ]
     },
     "execution_count": 20,
     "metadata": {},
     "output_type": "execute_result"
    }
   ],
   "source": [
    "#files are iterable \n",
    "\n",
    "file = open('filik.txt')\n",
    "# b = iter(file) \n",
    "\n",
    "# for x in file: \n",
    "#     print(x)\n",
    "    \n",
    "#мы уже прошлись по файлу, итер = -1 (StopIteration)\n",
    "\n",
    "b = iter(file)\n",
    "while True: \n",
    "    try: \n",
    "        print(next(b))\n",
    "    except:\n",
    "        break\n",
    "x"
   ]
  },
  {
   "cell_type": "code",
   "execution_count": 23,
   "id": "9a0741f7",
   "metadata": {},
   "outputs": [
    {
     "name": "stdout",
     "output_type": "stream",
     "text": [
      "<generator object <genexpr> at 0x7fdd7db0f220>\n",
      "100\n",
      "400\n",
      "900\n"
     ]
    }
   ],
   "source": [
    "#вообще говоря, генераторы оформляются в круглых скобках\n",
    "a = (x**2 for x in [10,20,30])\n",
    "print(a) #(<generator object <genexpr> at 0x7fdd7db0ee30>)\n",
    "\n",
    "#genexpr не отбирает контроль над прогой, а вычисляет элемент только по запросу (меньше потребления памяти)\n",
    "\n",
    "for t in a: \n",
    "    print(t)"
   ]
  },
  {
   "cell_type": "code",
   "execution_count": 27,
   "id": "48078b7b",
   "metadata": {},
   "outputs": [
    {
     "name": "stdout",
     "output_type": "stream",
     "text": [
      "100\n",
      "400\n"
     ]
    }
   ],
   "source": [
    "a = (x**2 for x in [10,20,30])\n",
    "print(next(a))\n",
    "print(next(a))\n",
    "\n",
    "#!т е genexpr - итератор"
   ]
  },
  {
   "cell_type": "code",
   "execution_count": 33,
   "id": "62c8fe3d",
   "metadata": {},
   "outputs": [],
   "source": [
    "#!генераторы могут быть полезны, например, в работе с бесконечными итераторами (списками), ну или просто с объемгыми \n",
    "# ФаЙлАМи"
   ]
  },
  {
   "cell_type": "code",
   "execution_count": null,
   "id": "0ee28126",
   "metadata": {},
   "outputs": [],
   "source": []
  },
  {
   "cell_type": "code",
   "execution_count": 41,
   "id": "8bd59437",
   "metadata": {},
   "outputs": [
    {
     "name": "stdout",
     "output_type": "stream",
     "text": [
      "[1, 2, 3, 4, 5, 6, 7, 8, 9, 10, 11, 12, 13, 14, 15, 16, 17, 18, 19]\n"
     ]
    },
    {
     "ename": "StopIteration",
     "evalue": "",
     "output_type": "error",
     "traceback": [
      "\u001b[0;31m---------------------------------------------------------------------------\u001b[0m",
      "\u001b[0;31mStopIteration\u001b[0m                             Traceback (most recent call last)",
      "Cell \u001b[0;32mIn[41], line 5\u001b[0m\n\u001b[1;32m      3\u001b[0m iterator \u001b[38;5;241m=\u001b[39m \u001b[38;5;28miter\u001b[39m(a)\n\u001b[1;32m      4\u001b[0m \u001b[38;5;28mprint\u001b[39m(\u001b[38;5;28mlist\u001b[39m(iterator))\n\u001b[0;32m----> 5\u001b[0m \u001b[38;5;28mprint\u001b[39m(\u001b[38;5;28;43mnext\u001b[39;49m\u001b[43m(\u001b[49m\u001b[43miterator\u001b[49m\u001b[43m)\u001b[49m)\n",
      "\u001b[0;31mStopIteration\u001b[0m: "
     ]
    }
   ],
   "source": [
    "#дз\n",
    "a = [int(s) for s in range(1, 20)]\n",
    "iterator = iter(a)\n",
    "print(list(iterator))\n",
    "print(next(iterator))"
   ]
  },
  {
   "cell_type": "code",
   "execution_count": 46,
   "id": "3a14ba14",
   "metadata": {},
   "outputs": [
    {
     "name": "stdout",
     "output_type": "stream",
     "text": [
      "1\n",
      "9\n",
      "25\n"
     ]
    }
   ],
   "source": [
    "#6\n",
    "\n",
    "g = (i**2 for i in range(1,6))\n",
    "i = 0\n",
    "\n",
    "for k in g:\n",
    "    if i == 0 or i == 2 or i == 4: \n",
    "        print(k)\n",
    "    i+=1 \n",
    "    "
   ]
  },
  {
   "cell_type": "code",
   "execution_count": 47,
   "id": "c97493f4",
   "metadata": {},
   "outputs": [
    {
     "name": "stdout",
     "output_type": "stream",
     "text": [
      "6 пики\n",
      "7 пики\n",
      "8 пики\n",
      "9 пики\n",
      "J пики\n",
      "Q пики\n",
      "K пики\n",
      "A пики\n",
      "6 трефы\n",
      "7 трефы\n",
      "8 трефы\n",
      "9 трефы\n",
      "J трефы\n",
      "Q трефы\n",
      "K трефы\n",
      "A трефы\n",
      "6 червы\n",
      "7 червы\n",
      "8 червы\n",
      "9 червы\n",
      "J червы\n",
      "Q червы\n",
      "K червы\n",
      "A червы\n",
      "6 бубны\n",
      "7 бубны\n",
      "8 бубны\n",
      "9 бубны\n",
      "J бубны\n",
      "Q бубны\n",
      "K бубны\n",
      "A бубны\n"
     ]
    }
   ],
   "source": [
    "#7\n",
    "\n",
    "suits = ['пики','трефы','червы','бубны']\n",
    "dignities = [6,7,8,9,'J','Q','K','A']\n",
    "cards = (f'{j} {i}' for i in suits for j in dignities)\n",
    "while True:\n",
    "    try:\n",
    "        print(next(cards))\n",
    "    except StopIteration:\n",
    "        break"
   ]
  },
  {
   "cell_type": "markdown",
   "id": "5aaa5bae",
   "metadata": {},
   "source": [
    "паста: https://pastebin.com/L79n5evK"
   ]
  },
  {
   "cell_type": "code",
   "execution_count": null,
   "id": "64ee857b",
   "metadata": {},
   "outputs": [],
   "source": []
  }
 ],
 "metadata": {
  "kernelspec": {
   "display_name": "Python 3 (ipykernel)",
   "language": "python",
   "name": "python3"
  },
  "language_info": {
   "codemirror_mode": {
    "name": "ipython",
    "version": 3
   },
   "file_extension": ".py",
   "mimetype": "text/x-python",
   "name": "python",
   "nbconvert_exporter": "python",
   "pygments_lexer": "ipython3",
   "version": "3.10.9"
  }
 },
 "nbformat": 4,
 "nbformat_minor": 5
}
