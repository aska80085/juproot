{
 "cells": [
  {
   "cell_type": "code",
   "execution_count": 1,
   "id": "d570ed09",
   "metadata": {},
   "outputs": [
    {
     "name": "stdout",
     "output_type": "stream",
     "text": [
      "hello world\n",
      "hello 24 world\n"
     ]
    }
   ],
   "source": [
    "s = 'hello world'\n",
    "print(s) \n",
    "\n",
    "x = 24 \n",
    "h = f'hello {x} world'\n",
    "print(h)"
   ]
  },
  {
   "cell_type": "code",
   "execution_count": 2,
   "id": "cc80e2e7",
   "metadata": {},
   "outputs": [
    {
     "name": "stdout",
     "output_type": "stream",
     "text": [
      "My name is Alexander Votyakov and i'm 29.\n",
      "My name is Vasya Pupkin and i'm 50.\n"
     ]
    }
   ],
   "source": [
    "name = 'Alexander'\n",
    "surname = 'Votyakov'\n",
    "age = 29 \n",
    "\n",
    "for name, surname, age in [('Alexander', 'Votyakov', 29), ('Vasya', 'Pupkin', 50)]:\n",
    "    print(f\"My name is {name} {surname} and i'm {age}.\")\n",
    "    "
   ]
  },
  {
   "cell_type": "code",
   "execution_count": 3,
   "id": "a2f0581d",
   "metadata": {},
   "outputs": [
    {
     "name": "stdout",
     "output_type": "stream",
     "text": [
      "Число на 8 знаков:       23\n",
      "Число на 8 знаков 00000023\n",
      "Число на 8 знаков       23\n",
      "Число на 8 знаков 23      .\n",
      "23       00012.85\n",
      "71       00001456\n",
      "1        23232323232.796\n"
     ]
    }
   ],
   "source": [
    "#formation - форматирование  \n",
    "x = 23 \n",
    "s = f'Число на 8 знаков: {x:8}'\n",
    "print(s)\n",
    "print(f'Число на 8 знаков {x:08}')#ведущие нули \n",
    "print(f'Число на 8 знаков {x:>8}') \n",
    "print(f'Число на 8 знаков {x:<8}.') #смещение вправо - влево\n",
    "\n",
    "for x, y in [(23, 12.85), (71, 1456), (1, 23232323232.796)]: \n",
    "    s = f'{x:<8} {y:08}'\n",
    "    print(s)\n",
    "#выделено по 8 символов на число\n"
   ]
  },
  {
   "cell_type": "code",
   "execution_count": 4,
   "id": "c521c395",
   "metadata": {},
   "outputs": [
    {
     "name": "stdout",
     "output_type": "stream",
     "text": [
      "3.14\n",
      "3.14\n"
     ]
    }
   ],
   "source": [
    "pi_num = 3.1414242343242356462\n",
    "print(f'{pi_num:.2f}') #знаки после запятой в флоат-типе\n",
    "print(f'{pi_num:.3}') #всего знаков"
   ]
  },
  {
   "cell_type": "code",
   "execution_count": 5,
   "id": "3ebd2fa1",
   "metadata": {},
   "outputs": [
    {
     "name": "stdout",
     "output_type": "stream",
     "text": [
      "$986573334.5\n",
      "$986,573,334.5\n"
     ]
    }
   ],
   "source": [
    "summa = 986573334.46 \n",
    "print(f'${summa:.1f}')#(округляется лол)\n",
    "\n",
    "print(f'${summa:,.1f}') #разделить по 3 цифры , (, перед .)\n"
   ]
  },
  {
   "cell_type": "code",
   "execution_count": 6,
   "id": "75dfbec9",
   "metadata": {},
   "outputs": [
    {
     "name": "stdout",
     "output_type": "stream",
     "text": [
      "x=4 y=16\n",
      "x=6 y=36\n",
      "k=2\n",
      "k=2\n"
     ]
    }
   ],
   "source": [
    "k = 0\n",
    "for x in range(10):\n",
    "    y = x**2\n",
    "    if y % 10 == 6: \n",
    "        print(f'{x=} {y=}')\n",
    "        k += 1\n",
    "        \n",
    "print(f'{k=}')\n",
    "print(f'k={k}')"
   ]
  },
  {
   "cell_type": "code",
   "execution_count": 7,
   "id": "4ce8efb9",
   "metadata": {},
   "outputs": [
    {
     "name": "stdout",
     "output_type": "stream",
     "text": [
      "0b1111111\n",
      "01111111\n",
      "1111111\n",
      " 1111111\n",
      "01111111.00000000.00000000.00000001\n"
     ]
    }
   ],
   "source": [
    "#переводим в двоичную\n",
    "ip = [127, 0, 0, 1]\n",
    "x1, x2, x3, x4 = ip \n",
    "print(bin(x1)) #b o x - 2 8 16\n",
    "\n",
    "print(f'{x1:08b}')\n",
    "print(f'{x1:b}')\n",
    "print(f'{x1:8b}') #b - binary\n",
    "\n",
    "print(f'{x1:08b}.{x2:08b}.{x3:08b}.{x4:08b}')"
   ]
  },
  {
   "cell_type": "code",
   "execution_count": 8,
   "id": "9f1330f1",
   "metadata": {},
   "outputs": [
    {
     "name": "stdout",
     "output_type": "stream",
     "text": [
      "weqwe.120.1qwe\n",
      "120 130 cat\n",
      "120 130 cat\n"
     ]
    }
   ],
   "source": [
    "s = 'weqwe.{}.1qwe'.format(120)\n",
    "print(s)\n",
    "s = '{} {} {}'.format(120,130,'cat') #== f'{x} {y} {z}' for x, y, z in [(120, 130, 'cat')]\n",
    "print(s)\n",
    "next((print(f'{x} {y} {z}') for x, y, z in [(120, 130, 'cat')]))"
   ]
  },
  {
   "cell_type": "code",
   "execution_count": 9,
   "id": "cd8fac79",
   "metadata": {},
   "outputs": [
    {
     "name": "stdout",
     "output_type": "stream",
     "text": [
      "{:08b}.{:08b}.{:08b}.{:08b}\n",
      "01111111.00000000.00000000.00000001\n"
     ]
    }
   ],
   "source": [
    "ip = [127, 0, 0, 1]\n",
    "temp = ('{:08b}.'*4)[:-1]\n",
    "print(temp)\n",
    "\n",
    "print(temp.format(x1, x2, x3, x4))"
   ]
  },
  {
   "cell_type": "code",
   "execution_count": 10,
   "id": "8f42345c",
   "metadata": {},
   "outputs": [
    {
     "name": "stdout",
     "output_type": "stream",
     "text": [
      "01111111.00001100.00001011.00100011\n"
     ]
    }
   ],
   "source": [
    "def show_ip(ip):\n",
    "    x1, x2, x3, x4 = ip \n",
    "    return f'{x1:08b}.{x2:08b}.{x3:08b}.{x4:08b}'\n",
    "\n",
    "\n",
    "print(show_ip([127, 12, 11, 35]))"
   ]
  },
  {
   "cell_type": "code",
   "execution_count": 11,
   "id": "86b69079",
   "metadata": {},
   "outputs": [
    {
     "name": "stdout",
     "output_type": "stream",
     "text": [
      "Hello 15129 world\n"
     ]
    }
   ],
   "source": [
    "x = 123\n",
    "s = f'Hello {x**2} world'\n",
    "print(s)"
   ]
  },
  {
   "cell_type": "code",
   "execution_count": 12,
   "id": "9a13d541",
   "metadata": {},
   "outputs": [
    {
     "name": "stdout",
     "output_type": "stream",
     "text": [
      "cat.dog.man\n",
      "cat,dog,man\n"
     ]
    }
   ],
   "source": [
    "#join \n",
    "t = '.'\n",
    "print(t.join(['cat', 'dog', 'man']))\n",
    "print(','.join(['cat', 'dog', 'man']))"
   ]
  },
  {
   "cell_type": "code",
   "execution_count": 13,
   "id": "b05c2f71",
   "metadata": {},
   "outputs": [
    {
     "name": "stdout",
     "output_type": "stream",
     "text": [
      "cat.dog.man\n"
     ]
    }
   ],
   "source": [
    "list = ['cat', 'dog', 'man']\n",
    "print('.'.join(list))"
   ]
  },
  {
   "cell_type": "code",
   "execution_count": 14,
   "id": "ae451239",
   "metadata": {},
   "outputs": [
    {
     "name": "stdout",
     "output_type": "stream",
     "text": [
      "hello 01111111.00000000.00000000.00001100 world\n"
     ]
    }
   ],
   "source": [
    "ip = [127, 0, 0, 12]\n",
    "print(f\"hello {'.'.join([x for x in map(lambda x: f'{x:08b}', ip)])} world\" )\n",
    "#[x for x in map(lambda x: f'{x:08b}', ip)]\n",
    "\n",
    "#метод join работает только со строчками, не с числами "
   ]
  },
  {
   "cell_type": "code",
   "execution_count": 15,
   "id": "de9a4e54",
   "metadata": {},
   "outputs": [],
   "source": [
    "#for x1 in range(256):\n",
    "    #for x2 in range(256):\n",
    "        #for x3 in range(256):\n",
    "            #for x4 in range(256):\n",
    "                #ip = [x1, x2, x3, x4]\n",
    "                #print(f\"{'.'.join([x for x in map(lambda x: f'{x:08b}', ip)])}\")\n",
    "                \n",
    "#выводит всевозможные 8-битные айпишники в формате 01111111.00000000.00000000.00001100"
   ]
  },
  {
   "cell_type": "markdown",
   "id": "0aea29f5",
   "metadata": {},
   "source": [
    "print(f'{255:08b}')"
   ]
  },
  {
   "cell_type": "markdown",
   "id": "2f659ccc",
   "metadata": {},
   "source": [
    "paste: https://pastebin.com/iHqRkhZ4"
   ]
  },
  {
   "cell_type": "code",
   "execution_count": null,
   "id": "6a1511c3",
   "metadata": {},
   "outputs": [],
   "source": []
  }
 ],
 "metadata": {
  "kernelspec": {
   "display_name": "Python 3 (ipykernel)",
   "language": "python",
   "name": "python3"
  },
  "language_info": {
   "codemirror_mode": {
    "name": "ipython",
    "version": 3
   },
   "file_extension": ".py",
   "mimetype": "text/x-python",
   "name": "python",
   "nbconvert_exporter": "python",
   "pygments_lexer": "ipython3",
   "version": "3.10.9"
  }
 },
 "nbformat": 4,
 "nbformat_minor": 5
}
