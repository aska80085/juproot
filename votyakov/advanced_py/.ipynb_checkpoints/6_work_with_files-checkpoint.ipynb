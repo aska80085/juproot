{
 "cells": [
  {
   "cell_type": "code",
   "execution_count": 6,
   "id": "168cb652",
   "metadata": {},
   "outputs": [
    {
     "name": "stdout",
     "output_type": "stream",
     "text": [
      "файл\n",
      "\n",
      "считывается \n",
      "\n",
      "по \n",
      "\n"
     ]
    }
   ],
   "source": [
    "f = open('filik.txt', 'r')\n",
    "print(f.readline())\n",
    "print(f.readline())\n",
    "print(f.readline())\n"
   ]
  },
  {
   "cell_type": "code",
   "execution_count": 9,
   "id": "0d03dec7",
   "metadata": {},
   "outputs": [
    {
     "name": "stdout",
     "output_type": "stream",
     "text": [
      "['файл\\n', 'считывается \\n', 'по \\n', 'строчкам \\n', 'лол \\n']\n"
     ]
    }
   ],
   "source": [
    "f = open('filik.txt', 'r')\n",
    "list_of_strs = f.readlines()\n",
    "print(list_of_strs)"
   ]
  },
  {
   "cell_type": "code",
   "execution_count": 11,
   "id": "69356f28",
   "metadata": {},
   "outputs": [
    {
     "name": "stdout",
     "output_type": "stream",
     "text": [
      "файл\n",
      "считывается \n",
      "по \n",
      "строчкам \n",
      "лол \n",
      "\n"
     ]
    }
   ],
   "source": [
    "f = open('filik.txt', 'r')\n",
    "S1 = f.read()\n",
    "print(S1)"
   ]
  },
  {
   "cell_type": "code",
   "execution_count": 65,
   "id": "735f50d7",
   "metadata": {},
   "outputs": [
    {
     "name": "stdout",
     "output_type": "stream",
     "text": [
      "['Hello world', 'Goodbye! See you soon', '']\n"
     ]
    }
   ],
   "source": [
    "f = open('filik.txt', 'r')\n",
    "list_of_str_without_n = f.read().split('\\n')\n",
    "print(list_of_str_without_n)"
   ]
  },
  {
   "cell_type": "code",
   "execution_count": 15,
   "id": "0c1c1d4a",
   "metadata": {},
   "outputs": [
    {
     "name": "stdout",
     "output_type": "stream",
     "text": [
      "файл.считывается .по .строчкам .лол .\n",
      "файл\n",
      "считывается \n",
      "по \n",
      "строчкам \n",
      "лол \n",
      "\n"
     ]
    }
   ],
   "source": [
    "print('.'.join(list_of_str_without_n))\n",
    "print('\\n'.join(list_of_str_without_n))"
   ]
  },
  {
   "cell_type": "code",
   "execution_count": 36,
   "id": "582ada3c",
   "metadata": {},
   "outputs": [
    {
     "name": "stdout",
     "output_type": "stream",
     "text": [
      "фай\n",
      "считываетс\n",
      "по\n",
      "строчка\n",
      "ло\n"
     ]
    }
   ],
   "source": [
    "#f - итерируемый объект\n",
    "f = open('filik.txt', 'r')\n",
    "for line in f: \n",
    "    print(line.rstrip(' \\nлям')) # rstrip('\\nstr') - '\\nstr' - строка удаляемых символов ИЗ КОНЦА строки, дефолт - \\n\n",
    "    \n",
    "     #!print(line) - сюда зашит end = \\n #### и внутри файла тоже зашит \\n - поэтому будут пустые строчки\n",
    "#между строчками файла"
   ]
  },
  {
   "cell_type": "code",
   "execution_count": 39,
   "id": "97f5090e",
   "metadata": {},
   "outputs": [
    {
     "name": "stdout",
     "output_type": "stream",
     "text": [
      "фай\n",
      "считывается\n",
      "по\n",
      "строчкам\n",
      "лол\n"
     ]
    }
   ],
   "source": [
    "f = open('filik.txt', 'r')\n",
    "for line in f: \n",
    "    print(line[:-1])\n",
    "#здесь все норм потому что в конце текстового файла пробел, без него убирался бы последний символ "
   ]
  },
  {
   "cell_type": "code",
   "execution_count": 46,
   "id": "baf3f39f",
   "metadata": {},
   "outputs": [
    {
     "name": "stdout",
     "output_type": "stream",
     "text": [
      "файл\n",
      "считывается \n",
      "по \n",
      "строчкам \n",
      "лол \n",
      "\n",
      "\n",
      "файл\n",
      "считывается \n",
      "по \n",
      "строчкам \n",
      "лол \n",
      "\n",
      "файл\n",
      "считывается \n",
      "по \n",
      "строчкам \n",
      "лол \n",
      "\n"
     ]
    }
   ],
   "source": [
    "f = open('filik.txt', 'r')\n",
    "print(f.read())\n",
    "print(f.read()) # не считывается \n",
    "f.close() #закрываем \n",
    "f = open('filik.txt', 'r')\n",
    "print(f.read())\n",
    "\n",
    "#передвигаем курсор \n",
    "f.seek(0)\n",
    "print(f.read())\n",
    "\n"
   ]
  },
  {
   "cell_type": "code",
   "execution_count": 47,
   "id": "ca50bc4e",
   "metadata": {},
   "outputs": [],
   "source": [
    "#открываем для записи \n",
    "f = open('out1.txt', 'w') #если такого файла нет, то он создается, а если он есть он !полностью очищается "
   ]
  },
  {
   "cell_type": "code",
   "execution_count": 49,
   "id": "7a9f6af3",
   "metadata": {},
   "outputs": [],
   "source": [
    "#открытие для дополнения \n",
    "f = open('filik.txt', 'a') #a - append\n",
    "\n",
    "f = open('filik.txt', 'r+') #для чтения и для записи \n",
    "f = open('filik.txt', 'w+') #для записи и для чтения \n",
    "f = open('filik.txt', 'a+') #для чтения и для записи в конце (дополнения)\n",
    "\n",
    "f.close()"
   ]
  },
  {
   "cell_type": "code",
   "execution_count": 60,
   "id": "840739e7",
   "metadata": {},
   "outputs": [
    {
     "name": "stdout",
     "output_type": "stream",
     "text": [
      "Hello world\n",
      "Hello world\n",
      "Hello world\n",
      "Goodbye! See you soon\n",
      "\n"
     ]
    }
   ],
   "source": [
    "#методы для записи \n",
    "f = open('filik.txt', 'w')\n",
    "\n",
    "f.write('Hello world\\n')\n",
    "f.write('Hello world')\n",
    "f.close() #в момент закрытия все скидывается в файл \n",
    "\n",
    "#!вместо close() можно использовать flush() чтобы переносить изменения без закрытия \n",
    "\n",
    "print(open('filik.txt').read())\n",
    "\n",
    "#много строчек\n",
    "f = open('filik.txt', 'w')\n",
    "\n",
    "S1 = 'Hello world\\n'\n",
    "S2 = 'Goodbye! '\n",
    "S3 = 'See you soon\\n'\n",
    "\n",
    "f.writelines([S1, S2, S3]) #\n",
    "f.flush() #\n",
    "print(open('filik.txt').read())\n"
   ]
  },
  {
   "cell_type": "code",
   "execution_count": 64,
   "id": "15314ec5",
   "metadata": {},
   "outputs": [
    {
     "name": "stdout",
     "output_type": "stream",
     "text": [
      "Hello world\n",
      "Goodbye! See you soon\n",
      "\n",
      "Hello world\n",
      "Goodbye! See you soon\n"
     ]
    }
   ],
   "source": [
    "#чтобы постоянно не закрывать можно использовать констуркцию with \n",
    "with open('filik.txt', 'r') as f: \n",
    "    print(f.read())\n",
    "    f.seek(0)\n",
    "    for line in f: \n",
    "        print(line.rstrip())"
   ]
  },
  {
   "cell_type": "code",
   "execution_count": 71,
   "id": "ee19b350",
   "metadata": {},
   "outputs": [
    {
     "name": "stdout",
     "output_type": "stream",
     "text": [
      "Hello world\n",
      "Goodbye! See you soon\n"
     ]
    }
   ],
   "source": [
    "with open('filik.txt', 'r') as f: \n",
    "    for line in f: \n",
    "        print(line.rstrip())"
   ]
  },
  {
   "cell_type": "code",
   "execution_count": 79,
   "id": "e47ef7ea",
   "metadata": {},
   "outputs": [],
   "source": [
    "with open('filik.txt', 'r') as f, open('out2.txt', 'w') as g: \n",
    "    for line in f: \n",
    "        g.write(line)"
   ]
  },
  {
   "cell_type": "code",
   "execution_count": 80,
   "id": "f885c654",
   "metadata": {},
   "outputs": [
    {
     "name": "stdout",
     "output_type": "stream",
     "text": [
      "Hello world\n",
      "Goodbye! See you soon\n"
     ]
    }
   ],
   "source": [
    "with open('out2.txt', 'r') as f: \n",
    "    for line in f: \n",
    "        print(line.rstrip())"
   ]
  },
  {
   "cell_type": "code",
   "execution_count": 84,
   "id": "bec9537e",
   "metadata": {},
   "outputs": [
    {
     "name": "stdout",
     "output_type": "stream",
     "text": [
      "Hello world\n",
      "Goodbye! See you soon\n"
     ]
    }
   ],
   "source": [
    "#без write() \n",
    "with open('filik.txt', 'r') as f, open('out2.txt', 'w') as g: \n",
    "    for line in f: \n",
    "        print(line, file=g, end = '') ### \n",
    "with open('out2.txt') as g: \n",
    "    for line in g: s\n",
    "        print(line.rstrip())"
   ]
  },
  {
   "cell_type": "code",
   "execution_count": 91,
   "id": "094625ad",
   "metadata": {},
   "outputs": [
    {
     "name": "stdout",
     "output_type": "stream",
     "text": [
      "1423\n",
      "hello world\n",
      "hello AR\n",
      "adsfsdfasdf\n",
      "hello students \n",
      "1qwe1\n",
      "goodbye hello \n"
     ]
    }
   ],
   "source": [
    "with open('input.txt') as f: \n",
    "    print(f.read())"
   ]
  },
  {
   "cell_type": "code",
   "execution_count": 95,
   "id": "e95ca3f2",
   "metadata": {},
   "outputs": [
    {
     "name": "stdout",
     "output_type": "stream",
     "text": [
      "hello world\n",
      "hello AR\n",
      "hello students \n",
      "\n"
     ]
    }
   ],
   "source": [
    "with open('input.txt', 'r') as f: \n",
    "    with open('out2.txt', 'w+') as g: \n",
    "        for line in f: \n",
    "            if line.startswith('hello'): \n",
    "                g.write(line)\n",
    "with open('out2.txt', 'r') as f: \n",
    "    print(f.read())\n",
    "#отфильтровали по началу 'hello'"
   ]
  },
  {
   "cell_type": "code",
   "execution_count": 100,
   "id": "fdad4961",
   "metadata": {},
   "outputs": [
    {
     "name": "stdout",
     "output_type": "stream",
     "text": [
      "['Имя', 'возраст', 'оценка', 'школа']\n",
      "['Петя', '20', '5', '8']\n",
      "['Антон', '30', '4', '9']\n",
      "['Андрей', '150', '3', '150']\n"
     ]
    }
   ],
   "source": [
    "with open('student_parameters.txt', 'r') as f:  \n",
    "    for line in f:\n",
    "        L1 = line.split()\n",
    "        print(L1)\n",
    "        "
   ]
  },
  {
   "cell_type": "code",
   "execution_count": 102,
   "id": "fb4573fc",
   "metadata": {},
   "outputs": [
    {
     "name": "stdout",
     "output_type": "stream",
     "text": [
      "{'Петя': '5', 'Антон': '4', 'Андрей': '3'}\n"
     ]
    }
   ],
   "source": [
    "marks = {}\n",
    "with open('student_parameters.txt', 'r') as f:  \n",
    "    for line in f:\n",
    "        L1 = line.split()\n",
    "        name, mark = L1[0], L1[2]\n",
    "        if mark[0].isdigit(): ######проверка на цифру \n",
    "            marks[name] = mark \n",
    "print(marks)"
   ]
  },
  {
   "cell_type": "code",
   "execution_count": 104,
   "id": "4977318b",
   "metadata": {},
   "outputs": [
    {
     "name": "stdout",
     "output_type": "stream",
     "text": [
      "{'Петя': {'возраст': '20', 'оценка': '5', 'школа': '8'}, 'Антон': {'возраст': '30', 'оценка': '4', 'школа': '9'}, 'Андрей': {'возраст': '150', 'оценка': '3', 'школа': '150'}}\n"
     ]
    }
   ],
   "source": [
    "#вложенные словари\n",
    "stud_pars = {} \n",
    "with open('student_parameters.txt', 'r') as f:  \n",
    "    for line in f:\n",
    "        L1 = line.split()\n",
    "        name, mark, age, school = L1[0], L1[2], L1[1], L1[3]\n",
    "        if mark[0].isdigit():\n",
    "            stud_pars[name] = {'возраст': age, 'оценка': mark,  'школа': school}#\n",
    "print(stud_pars)"
   ]
  },
  {
   "cell_type": "code",
   "execution_count": 105,
   "id": "ac417473",
   "metadata": {},
   "outputs": [
    {
     "name": "stdout",
     "output_type": "stream",
     "text": [
      "{'Петя': {'возраст': '20', 'оценка': '5', 'школа': '8'}, 'Антон': {'возраст': '30', 'оценка': '4', 'школа': '9'}, 'Андрей': {'возраст': '150', 'оценка': '3', 'школа': '150'}}\n"
     ]
    }
   ],
   "source": [
    "stud_pars = {} \n",
    "with open('student_parameters.txt', 'r') as f:  \n",
    "    for line in f:\n",
    "        L1 = line.split()\n",
    "        name, mark, age, school = L1[0], L1[2], L1[1], L1[3]\n",
    "        if mark[0].isdigit():\n",
    "            stud_pars[name] = {} #\n",
    "            stud_pars[name]['возраст'] = age \n",
    "            stud_pars[name]['оценка'] = mark\n",
    "            stud_pars[name]['школа'] = school\n",
    "print(stud_pars)"
   ]
  },
  {
   "cell_type": "code",
   "execution_count": 113,
   "id": "0440f2eb",
   "metadata": {},
   "outputs": [
    {
     "name": "stdout",
     "output_type": "stream",
     "text": [
      "f f\n",
      "f f   \n",
      " \n",
      " \n",
      "  f f\n"
     ]
    }
   ],
   "source": [
    "print(' \\n  f f   \\n '.strip())\n",
    "print('  \\n f f   \\n '.lstrip())\n",
    "print(' \\n  f f   \\n '.rstrip())"
   ]
  },
  {
   "cell_type": "markdown",
   "id": "9d9906e1",
   "metadata": {},
   "source": [
    "https://pastebin.com/Tuh4sA5Z"
   ]
  },
  {
   "cell_type": "code",
   "execution_count": null,
   "id": "9f480474",
   "metadata": {},
   "outputs": [],
   "source": []
  }
 ],
 "metadata": {
  "kernelspec": {
   "display_name": "Python 3 (ipykernel)",
   "language": "python",
   "name": "python3"
  },
  "language_info": {
   "codemirror_mode": {
    "name": "ipython",
    "version": 3
   },
   "file_extension": ".py",
   "mimetype": "text/x-python",
   "name": "python",
   "nbconvert_exporter": "python",
   "pygments_lexer": "ipython3",
   "version": "3.10.9"
  }
 },
 "nbformat": 4,
 "nbformat_minor": 5
}
