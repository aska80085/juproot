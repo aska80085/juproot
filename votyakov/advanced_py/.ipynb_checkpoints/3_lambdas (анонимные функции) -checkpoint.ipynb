{
 "cells": [
  {
   "cell_type": "code",
   "execution_count": 26,
   "id": "089d3040",
   "metadata": {},
   "outputs": [
    {
     "name": "stdout",
     "output_type": "stream",
     "text": [
      "12\n",
      "121\n"
     ]
    }
   ],
   "source": [
    "def f(x): \n",
    "    return x ** 2\n",
    "\n",
    "def g(func, arg):\n",
    "    if arg % 2 == 0: \n",
    "        return arg \n",
    "    else:\n",
    "        return func(arg)\n",
    "\n",
    "print(g(f, 12))\n",
    "print(g(f, 11))"
   ]
  },
  {
   "cell_type": "code",
   "execution_count": 27,
   "id": "e8510f92",
   "metadata": {},
   "outputs": [
    {
     "name": "stdout",
     "output_type": "stream",
     "text": [
      "50\n",
      "25\n",
      "42\n"
     ]
    }
   ],
   "source": [
    "def f(x):\n",
    "    def g(n, t=x): #x по дефолту\n",
    "        return n*t\n",
    "    return g\n",
    "\n",
    "print(f(10)(5))\n",
    "print(f(10)(5, 5))\n",
    "hello = f(6)\n",
    "print(hello(7))"
   ]
  },
  {
   "cell_type": "code",
   "execution_count": 28,
   "id": "86b30dcd",
   "metadata": {},
   "outputs": [
    {
     "name": "stdout",
     "output_type": "stream",
     "text": [
      "[<function f1 at 0x7fccf1ca40d0>, <function f2 at 0x7fccf1058700>, <function f3 at 0x7fccf1058790>]\n",
      "4\n",
      "3\n",
      "1\n"
     ]
    }
   ],
   "source": [
    "def f1(x):\n",
    "    return x ** 2\n",
    "def f2(x):\n",
    "    return x + 1\n",
    "def f3(x):\n",
    "    return x - 1\n",
    "\n",
    "L1 = [f1,f2,f3]; print(L1)\n",
    "\n",
    "for t in L1: \n",
    "    print(t(2))"
   ]
  },
  {
   "cell_type": "code",
   "execution_count": 29,
   "id": "fce73c4c",
   "metadata": {},
   "outputs": [],
   "source": [
    "####LAMBDAS(АНОНИМНЫЕ фУНКЦИИ)#####"
   ]
  },
  {
   "cell_type": "code",
   "execution_count": 30,
   "id": "fdcf7d4e",
   "metadata": {},
   "outputs": [],
   "source": [
    "#lambda arg1, arg2, arg3: expression_using_args\n",
    "\n",
    "f = lambda x: x**2\n",
    "\n",
    "#аналогично \n",
    "\n",
    "def f(x):\n",
    "    return x**2"
   ]
  },
  {
   "cell_type": "code",
   "execution_count": 31,
   "id": "66ebf275",
   "metadata": {},
   "outputs": [
    {
     "name": "stdout",
     "output_type": "stream",
     "text": [
      "100\n"
     ]
    }
   ],
   "source": [
    "f = lambda x: x**2\n",
    "    \n",
    "print(f(10))"
   ]
  },
  {
   "cell_type": "code",
   "execution_count": 32,
   "id": "189c70d3",
   "metadata": {},
   "outputs": [
    {
     "name": "stdout",
     "output_type": "stream",
     "text": [
      "4\n",
      "8\n",
      "16\n"
     ]
    }
   ],
   "source": [
    "L1 = [lambda x: x**2, lambda x: x**3, lambda x: x**4]\n",
    "for t in L1: \n",
    "    print(t(2))"
   ]
  },
  {
   "cell_type": "code",
   "execution_count": 56,
   "id": "454a6988",
   "metadata": {},
   "outputs": [
    {
     "name": "stdout",
     "output_type": "stream",
     "text": [
      "8\n"
     ]
    }
   ],
   "source": [
    "L2 = [(lambda y:y**i) for i in range(1, 4)] #?????\n",
    "print(L2[0](2))"
   ]
  },
  {
   "cell_type": "code",
   "execution_count": 57,
   "id": "80e36e04",
   "metadata": {},
   "outputs": [
    {
     "name": "stdout",
     "output_type": "stream",
     "text": [
      "4\n",
      "8\n",
      "16\n"
     ]
    }
   ],
   "source": [
    "G1 = (lambda x: x**i for i in [2, 3, 4])\n",
    "for g in G1: \n",
    "    print(g(2))"
   ]
  },
  {
   "cell_type": "code",
   "execution_count": 64,
   "id": "846c3c9b",
   "metadata": {},
   "outputs": [
    {
     "name": "stdout",
     "output_type": "stream",
     "text": [
      "200\n",
      "72\n"
     ]
    }
   ],
   "source": [
    "def ar_func(x): \n",
    "    return lambda arg: arg*x\n",
    "\n",
    "udvoitel = ar_func(2)\n",
    "print(udvoitel(100))\n",
    "\n",
    "print(ar_func(8)(9))"
   ]
  },
  {
   "cell_type": "code",
   "execution_count": 68,
   "id": "9a7eeea3",
   "metadata": {},
   "outputs": [
    {
     "name": "stdout",
     "output_type": "stream",
     "text": [
      "10\n",
      "100\n",
      "1000\n",
      "10000\n",
      "100000\n",
      "1000000\n",
      "10000000\n",
      "100000000\n",
      "1000000000\n"
     ]
    }
   ],
   "source": [
    "def ar_func(x):\n",
    "    return lambda arg: arg**x\n",
    "\n",
    "G1 = (ar_func(x) for x in range(1, 10))\n",
    "\n",
    "for t in G1: \n",
    "    print(t(10))"
   ]
  },
  {
   "cell_type": "code",
   "execution_count": 70,
   "id": "9b3d92fe",
   "metadata": {},
   "outputs": [
    {
     "name": "stdout",
     "output_type": "stream",
     "text": [
      "3.5\n",
      "0\n"
     ]
    }
   ],
   "source": [
    "def f(func1, func2, arg): \n",
    "    if arg % 2 == 0: \n",
    "        return func1(arg)\n",
    "    else:\n",
    "        return func2(arg)\n",
    "    \n",
    "def f1(x): \n",
    "    return 0\n",
    "\n",
    "def f2(x): \n",
    "    return x/2\n",
    "\n",
    "print(f(f1, f2, 7))\n",
    "print(f(f1, f2, 8))"
   ]
  },
  {
   "cell_type": "code",
   "execution_count": 72,
   "id": "aebb5c74",
   "metadata": {},
   "outputs": [
    {
     "name": "stdout",
     "output_type": "stream",
     "text": [
      "3.5\n",
      "0\n"
     ]
    }
   ],
   "source": [
    "#using lambda\n",
    "\n",
    "print(f(lambda x: 0, lambda x: x/2, 7))\n",
    "print(f(lambda x: 0, lambda x: x/2, 8))"
   ]
  },
  {
   "cell_type": "code",
   "execution_count": 74,
   "id": "b7e666ed",
   "metadata": {},
   "outputs": [
    {
     "name": "stdout",
     "output_type": "stream",
     "text": [
      "[100, 400, 900]\n",
      "[100, 400, 900]\n"
     ]
    }
   ],
   "source": [
    "#lambda and map \n",
    "\n",
    "def f(x): \n",
    "    return x**2 \n",
    "\n",
    "print(list(map(f, [10, 20, 30])))\n",
    "\n",
    "#using lambda \n",
    "\n",
    "print(list(map(lambda x: x**2, [10, 20, 30])))"
   ]
  },
  {
   "cell_type": "code",
   "execution_count": 77,
   "id": "7c92884d",
   "metadata": {},
   "outputs": [
    {
     "name": "stdout",
     "output_type": "stream",
     "text": [
      "2\n",
      "4\n",
      "8\n",
      "16\n",
      "32\n",
      "64\n"
     ]
    }
   ],
   "source": [
    "#map-iteration \n",
    "\n",
    "a = map(lambda x: 2**x, [1,2,3,4,5,6])\n",
    "\n",
    "#map - итератор, по нему можно итерировать\n",
    "\n",
    "while True:\n",
    "    try: print(next(a))\n",
    "    except StopIteration: break"
   ]
  },
  {
   "cell_type": "code",
   "execution_count": 80,
   "id": "d7377dcc",
   "metadata": {},
   "outputs": [
    {
     "name": "stdout",
     "output_type": "stream",
     "text": [
      "[10, 200, 500, 10, 200, 500]\n",
      "[20, 400, 1000]\n",
      "[20, 400, 1000]\n"
     ]
    }
   ],
   "source": [
    "L1 = [10, 200, 500]\n",
    "print(L1 * 2)\n",
    "\n",
    "print([x for x in map(lambda y: y*2, L1)])\n",
    "\n",
    "print([x*2 for x in L1])"
   ]
  },
  {
   "cell_type": "code",
   "execution_count": 85,
   "id": "715b3e65",
   "metadata": {},
   "outputs": [
    {
     "name": "stdout",
     "output_type": "stream",
     "text": [
      "['hello', 'world']\n",
      "['hello', 'world']\n"
     ]
    }
   ],
   "source": [
    "#filters \n",
    "def f(s):\n",
    "    if 'l' in s: \n",
    "        return True \n",
    "    else:\n",
    "        return False\n",
    "\n",
    "L1 = ['hello', 'world', 'goodbye', 'see you soon']\n",
    "F1 = filter(f, L1)\n",
    "print([x for x in F1])\n",
    "\n",
    "#using lambda \n",
    "\n",
    "print(list(filter(lambda s: 'l' in s, L1)))\n"
   ]
  },
  {
   "cell_type": "code",
   "execution_count": 90,
   "id": "056ec13b",
   "metadata": {},
   "outputs": [
    {
     "name": "stdout",
     "output_type": "stream",
     "text": [
      "Петя\n",
      "11\n",
      "['Ваня', 'Оля']\n"
     ]
    }
   ],
   "source": [
    "D1 = {'Петя': 10, 'Ваня': 11, 'Оля': 11, 'Даня': 7}\n",
    "\n",
    "myiter = iter(D1)\n",
    "print(next(myiter)) #итерирование по ключам \n",
    "\n",
    "print(D1[next(myiter)])\n",
    "\n",
    "print(list(filter(lambda x: D1[x] == 11, D1)))\n"
   ]
  },
  {
   "cell_type": "code",
   "execution_count": 94,
   "id": "82342709",
   "metadata": {},
   "outputs": [
    {
     "name": "stdout",
     "output_type": "stream",
     "text": [
      "60\n",
      "33\n",
      "51\n"
     ]
    }
   ],
   "source": [
    "#дефолтные значения \n",
    "\n",
    "def f (a=10, b=20, c=30):\n",
    "    return a+b+c\n",
    "print(f())\n",
    "print(f(1,2))\n",
    "\n",
    "#lambda and defolt]]\n",
    "\n",
    "g = lambda a=10, b=20, c=30: a+b+c\n",
    "print(g(1))"
   ]
  },
  {
   "cell_type": "code",
   "execution_count": 98,
   "id": "9d665e22",
   "metadata": {},
   "outputs": [
    {
     "name": "stdout",
     "output_type": "stream",
     "text": [
      "10\n",
      "7\n",
      "11\n"
     ]
    }
   ],
   "source": [
    "#lambda and if-else cycles\n",
    "\n",
    "\n",
    "# if expr1:\n",
    "#     expr2\n",
    "# else:\n",
    "#     expr3\n",
    "    \n",
    "# эквивалентно\n",
    "\n",
    "# expr2 if expr1 else expr3\n",
    "\n",
    "a, b = 2, 10\n",
    "\n",
    "mx = a if a>b else b\n",
    "print(mx)\n",
    "\n",
    "maxim = lambda a, b: a if a>b else b\n",
    "\n",
    "print(maxim(6, 7))\n",
    "print(maxim(10, 11))"
   ]
  },
  {
   "cell_type": "code",
   "execution_count": 105,
   "id": "2547ced2",
   "metadata": {},
   "outputs": [
    {
     "name": "stdout",
     "output_type": "stream",
     "text": [
      "22\n",
      "22\n"
     ]
    }
   ],
   "source": [
    "#концепция отказа от if блин (для отличников)\n",
    "\n",
    "# if expr1:\n",
    "#     expr2\n",
    "# else:\n",
    "#     expr3\n",
    "    \n",
    "# эквивалентно\n",
    "\n",
    "# expr2 if expr1 else expr3\n",
    "\n",
    "# эквивалентно\n",
    "\n",
    "# ((expr1 and expr2) or expr3)\n",
    "\n",
    "a, b = 22, 2\n",
    "\n",
    "maxim = (a>=b)*a + (b>a)*b\n",
    "print(maxim)\n",
    "\n",
    "maxim = lambda a,b : (a>b and a) or b\n",
    "print(maxim(a, b))"
   ]
  },
  {
   "cell_type": "code",
   "execution_count": 119,
   "id": "ac289ee7",
   "metadata": {},
   "outputs": [
    {
     "name": "stdout",
     "output_type": "stream",
     "text": [
      "10\n",
      "10\n",
      "10\n",
      "True\n",
      "True\n",
      "True\n",
      "True\n",
      "True\n",
      "True\n",
      "True\n",
      "True\n",
      "True\n",
      "True\n",
      "******************\n",
      "True\n",
      "True\n",
      "True\n",
      "True\n",
      "True\n",
      "True\n",
      "True\n",
      "True\n",
      "True\n",
      "True\n"
     ]
    }
   ],
   "source": [
    "a, b = 10, 7\n",
    "f1 = lambda x, y: x if x>y else y\n",
    "f2 = lambda x, y: (x>y and x) or y\n",
    "f3 = lambda x, y: (x>y)*x + (x<=y)*y #выражение \n",
    "f4 = lambda x, y: ((x//y)*x + (y//x)*y)//((x//y) + (y//x)) # без >< !только для положительных чисел, т к для \n",
    "# для отрицательных // работает по модулю \n",
    "print(f1(a, b))\n",
    "print(f2(a, b))\n",
    "print(f3(a, b))\n",
    "from random import randint \n",
    "for i in range(10): \n",
    "    a, b = randint(-100, 100), randint(-100, 100) \n",
    "    print(f1(a, b) == f2(a, b) == f3(a, b))\n",
    "print('******************')\n",
    "    \n",
    "from random import randint \n",
    "for i in range(10): \n",
    "    a, b = randint(1, 100), randint(1, 100) \n",
    "    print(f1(a, b) == f2(a, b) == f3(a, b) == f4(a, b))\n",
    "\n",
    "\n"
   ]
  },
  {
   "cell_type": "code",
   "execution_count": 121,
   "id": "b51c3d2e",
   "metadata": {},
   "outputs": [
    {
     "name": "stdout",
     "output_type": "stream",
     "text": [
      "hello\n",
      "world\n",
      "goodbye\n"
     ]
    }
   ],
   "source": [
    "f = lambda lst: map(print, lst) \n",
    "\n",
    "L1 = ['hello', 'world', 'goodbye']\n",
    "\n",
    "my_iter = f(L1) #(<map at 0x7fccf2071660>) итератор \n",
    "\n",
    "next(my_iter)\n",
    "next(my_iter)\n",
    "next(my_iter)"
   ]
  },
  {
   "cell_type": "code",
   "execution_count": 123,
   "id": "ef22960b",
   "metadata": {},
   "outputs": [
    {
     "name": "stdout",
     "output_type": "stream",
     "text": [
      "hello\n",
      "world\n",
      "goodbye\n"
     ]
    },
    {
     "data": {
      "text/plain": [
       "[None, None, None]"
      ]
     },
     "execution_count": 123,
     "metadata": {},
     "output_type": "execute_result"
    }
   ],
   "source": [
    "print_everything = lambda lst: list(map(print, lst))\n",
    "\n",
    "L1 = ['hello', 'world', 'goodbye']\n",
    "\n",
    "print_everything(L1) \n",
    "\n",
    "#print(print_everything(L1)) --> вывод эл-тов; [None, None, None]"
   ]
  },
  {
   "cell_type": "code",
   "execution_count": 128,
   "id": "e0e7373a",
   "metadata": {},
   "outputs": [
    {
     "name": "stdout",
     "output_type": "stream",
     "text": [
      "hello world goodbye hello world goodbye "
     ]
    }
   ],
   "source": [
    "print_str = lambda lst: [print(x, end=' ') for x in lst]\n",
    "\n",
    "L1 = ['hello', 'world', 'goodbye']\n",
    "\n",
    "print_str(L1)\n",
    "\n",
    "#!эквивалентно\n",
    "\n",
    "for i in L1: \n",
    "    print(i, end=' ')"
   ]
  },
  {
   "cell_type": "code",
   "execution_count": 153,
   "id": "75c2935f",
   "metadata": {},
   "outputs": [
    {
     "name": "stdout",
     "output_type": "stream",
     "text": [
      "1631\n",
      "1631\n",
      "10000000000\n",
      "24\n",
      "10000000000\n",
      "24\n"
     ]
    }
   ],
   "source": [
    "#reduce (- (англ) упрощать/убавлять)\n",
    "\n",
    "from functools import reduce \n",
    "\n",
    "L1 = [10, 20, 100, 1000, 500, 1]\n",
    "\n",
    "print(sum(L1))\n",
    "\n",
    "#reduce берет первые 2 эл-та итер объекта и приеняет к ним функцию, затем применяет функцию к результату и третьему \n",
    "# объекту и так далее \n",
    "\n",
    "# reduce(function, iterable)\n",
    "\n",
    "print(reduce(lambda x, y: x+y, L1)) # сумма всех эл-тов массива \n",
    "\n",
    "print(reduce(lambda x, y: x*y, L1)) # перемножение всех эл-тов массива\n",
    "\n",
    "n = 4\n",
    "\n",
    "print(reduce(lambda x, y: x*y, range(1, n+1))) #факториал n (n!)\n",
    "\n",
    "\n",
    "#Реализация reduce \n",
    "\n",
    "def ar_reduce(func, lst): \n",
    "    res = lst[0]\n",
    "    for i in lst[1:]: \n",
    "        res = func(res, i)\n",
    "    return res \n",
    "\n",
    "print(ar_reduce(lambda x, y: x*y, L1))\n",
    "print(ar_reduce(lambda x,y: x*y, range(1, n+1)))\n",
    "\n"
   ]
  },
  {
   "cell_type": "code",
   "execution_count": 159,
   "id": "3e78eefc",
   "metadata": {},
   "outputs": [
    {
     "name": "stdout",
     "output_type": "stream",
     "text": [
      "16 16 16 \n",
      "4 8 16 \n",
      "[<function <listcomp>.<lambda> at 0x7fccf2b4a7a0>, <function <listcomp>.<lambda> at 0x7fccf2b4b640>, <function <listcomp>.<lambda> at 0x7fccf2b4b6d0>]\n",
      "<generator object <genexpr> at 0x7fccf2b2a260>\n",
      "10000\n",
      "10000\n",
      "10000\n"
     ]
    }
   ],
   "source": [
    "#ОПА объяснение цыганских фокусов \n",
    "G1 = [(lambda x: x**i) for i in [2,3,4]]\n",
    "\n",
    "G2 = ((lambda x: x**i) for i in [2,3,4])\n",
    "\n",
    "for f in G1: print(f(2), end = ' ')\n",
    "print('')\n",
    "for f in G2: print(f(2), end = ' ')\n",
    "print('')\n",
    "#ЧЗХЧЗХЧЗХ????\n",
    "\n",
    "print(G1)\n",
    "print(G2)\n",
    "\n",
    "#в lc получаются 3 функции в степени i, но i каждого шага не запоминается, а запоминается только последний i\n",
    "#в G1 в отличие от G2 на кажом шаге не нужно считать выражение с i и соответственно i каждого шага не запоминается \n",
    "\n",
    "i = 6 \n",
    "for f in G1: \n",
    "    print(f(10))\n",
    "    \n",
    "#запоминается именно последний i в конце lc, и применяется ко всем лямбда-функциям, то есть мы имеем лямбда функции \n",
    "# с последним значением i, а не просто с переменной i\n",
    "#ну тут все логично, глобальный i ничего общего с запомненным i в lc не имеет"
   ]
  },
  {
   "cell_type": "markdown",
   "id": "75a2a025",
   "metadata": {},
   "source": [
    "паста: https://pastebin.com/ZmxKbzrX"
   ]
  },
  {
   "cell_type": "code",
   "execution_count": null,
   "id": "67ed72e8",
   "metadata": {},
   "outputs": [],
   "source": []
  }
 ],
 "metadata": {
  "kernelspec": {
   "display_name": "Python 3 (ipykernel)",
   "language": "python",
   "name": "python3"
  },
  "language_info": {
   "codemirror_mode": {
    "name": "ipython",
    "version": 3
   },
   "file_extension": ".py",
   "mimetype": "text/x-python",
   "name": "python",
   "nbconvert_exporter": "python",
   "pygments_lexer": "ipython3",
   "version": "3.10.9"
  }
 },
 "nbformat": 4,
 "nbformat_minor": 5
}
