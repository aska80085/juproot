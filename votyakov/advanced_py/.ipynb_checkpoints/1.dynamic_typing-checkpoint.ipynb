{
 "cells": [
  {
   "cell_type": "code",
   "execution_count": 11,
   "id": "0b6a88e2",
   "metadata": {},
   "outputs": [
    {
     "name": "stdout",
     "output_type": "stream",
     "text": [
      "3\n"
     ]
    }
   ],
   "source": [
    "#смотрим ссылки на объект \n",
    "import sys \n",
    "\n",
    "print(sys.getrefcount('pasdassadasdsadasddasd'))"
   ]
  },
  {
   "cell_type": "code",
   "execution_count": 12,
   "id": "36000cec",
   "metadata": {},
   "outputs": [
    {
     "name": "stdout",
     "output_type": "stream",
     "text": [
      "3\n",
      "3\n",
      "2\n"
     ]
    }
   ],
   "source": [
    "L = [1,2,3]\n",
    "M = L\n",
    "\n",
    "print(sys.getrefcount(L)); print(sys.getrefcount(M))\n",
    "\n",
    "M = 'cat'\n",
    "\n",
    "print(sys.getrefcount(L))"
   ]
  },
  {
   "cell_type": "code",
   "execution_count": 17,
   "id": "eff719f2",
   "metadata": {},
   "outputs": [
    {
     "name": "stdout",
     "output_type": "stream",
     "text": [
      "True True\n",
      "False True\n",
      "True\n"
     ]
    }
   ],
   "source": [
    "L = [1,2,3] \n",
    "M = L\n",
    "print(M is L, M == L)\n",
    "\n",
    "#НО\n",
    "\n",
    "L = [1,2,3]\n",
    "M = [1,2,3]\n",
    "print(M is L, M == L)\n",
    "\n",
    "#НО\n",
    "\n",
    "x = 19\n",
    "y = 19\n",
    "print(x is y)\n",
    "\n",
    "#(в неизменяемом типе новые объекты не создаются если они эквивалентны)"
   ]
  },
  {
   "cell_type": "code",
   "execution_count": 19,
   "id": "aa089679",
   "metadata": {},
   "outputs": [
    {
     "name": "stdout",
     "output_type": "stream",
     "text": [
      "False\n",
      "True\n",
      "[1, 2, [3, 4, 1000]] [1, 2, [3, 4, 1000]]\n"
     ]
    }
   ],
   "source": [
    "#поверхностное копирование \n",
    "\n",
    "#списки - коллекции, хранящие ссылки на объекты \n",
    "import copy \n",
    "L = [1,2,[3,4,5]]\n",
    "M = copy.copy(L)\n",
    "print(M is L)\n",
    "#но\n",
    "print(M[2] is L[2])\n",
    "\n",
    "#таким образом \n",
    "M[2][2] = 1000\n",
    "print(M,L)"
   ]
  },
  {
   "cell_type": "code",
   "execution_count": 20,
   "id": "8469bc49",
   "metadata": {},
   "outputs": [
    {
     "name": "stdout",
     "output_type": "stream",
     "text": [
      "False\n",
      "False\n",
      "[1, 2, [3, 4, 1000]] [1, 2, [3, 4, 5]]\n"
     ]
    }
   ],
   "source": [
    "#глубокое копирование \n",
    "import copy \n",
    "L = [1,2,[3,4,5]]\n",
    "M = copy.deepcopy(L) #\n",
    "print(M is L)\n",
    "#но\n",
    "print(M[2] is L[2])\n",
    "\n",
    "#таким образом \n",
    "M[2][2] = 1000\n",
    "print(M,L)"
   ]
  },
  {
   "cell_type": "code",
   "execution_count": 22,
   "id": "1d9714fa",
   "metadata": {},
   "outputs": [
    {
     "name": "stdout",
     "output_type": "stream",
     "text": [
      "[1, 'cat', [...]]\n",
      "3\n",
      "cat\n",
      "3\n"
     ]
    }
   ],
   "source": [
    "#циклическая ссылки\n",
    "\n",
    "L = [1, 'cat', 2]\n",
    "L[2] = L #(l.append(l))\n",
    "print(L)\n",
    "print(sys.getrefcount(L)) #!питон понимает что ссылка циклична \n",
    "print(L[2][2][2][2][2][2][2][1])"
   ]
  },
  {
   "cell_type": "code",
   "execution_count": 26,
   "id": "2ecebf57",
   "metadata": {},
   "outputs": [
    {
     "name": "stdout",
     "output_type": "stream",
     "text": [
      "Перец\n",
      "['огурцы', 'помидоры', ['Перец', 'помидоры', [...]]]\n",
      "['Перец', 'помидоры', ['Перецц', 'помидоры', [...]]]\n",
      "['Перецц', 'помидоры', [...]]\n"
     ]
    }
   ],
   "source": [
    "recursive_salad = ['огурцы', 'помидоры']\n",
    "recursive_salad.append(recursive_salad)\n",
    "\n",
    "b = copy.copy(recursive_salad)\n",
    "\n",
    "recursive_salad[0] = 'Перец'\n",
    "print(recursive_salad[2][2][2][0])\n",
    "\n",
    "#но\n",
    "\n",
    "print(b) #! в b ссылка 2-го эл-та на rs, соответственно меняется только первый \n",
    "\n",
    "b = copy.copy(recursive_salad)\n",
    "\n",
    "recursive_salad[0] = 'Перецц'\n",
    "\n",
    "print(b)\n",
    "print(recursive_salad)\n"
   ]
  },
  {
   "cell_type": "code",
   "execution_count": 1,
   "id": "a56d8b4c",
   "metadata": {},
   "outputs": [],
   "source": [
    "#циклические ссылки могут создавать проблемы, т к даже при удалении объекта ссылки будут храниться ,нужно спец конструкция "
   ]
  },
  {
   "cell_type": "markdown",
   "id": "57fd8f55",
   "metadata": {},
   "source": [
    "паста (дз) - https://pastebin.com/BFyRLR9S "
   ]
  },
  {
   "cell_type": "code",
   "execution_count": null,
   "id": "4655f202",
   "metadata": {},
   "outputs": [],
   "source": []
  }
 ],
 "metadata": {
  "kernelspec": {
   "display_name": "Python 3 (ipykernel)",
   "language": "python",
   "name": "python3"
  },
  "language_info": {
   "codemirror_mode": {
    "name": "ipython",
    "version": 3
   },
   "file_extension": ".py",
   "mimetype": "text/x-python",
   "name": "python",
   "nbconvert_exporter": "python",
   "pygments_lexer": "ipython3",
   "version": "3.10.9"
  }
 },
 "nbformat": 4,
 "nbformat_minor": 5
}
