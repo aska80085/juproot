{
 "cells": [
  {
   "cell_type": "markdown",
   "id": "3cff5db7",
   "metadata": {},
   "source": [
    "Хранение кучи \n",
    "\n",
    "heap = [a1, a2, ... , an] где для ai, i>1: \n",
    "\n",
    "                     --> (i - 1) // 2 - родитель  \n",
    "            \n",
    "                     --> i*2 + 1 и i*2 + 2 - потомки\n",
    "                                   "
   ]
  },
  {
   "cell_type": "code",
   "execution_count": 1,
   "id": "ef3fd232",
   "metadata": {},
   "outputs": [],
   "source": [
    "heap = [10, 8, 7, 5, 4] #куча максимумов "
   ]
  },
  {
   "cell_type": "code",
   "execution_count": 2,
   "id": "87d1c179",
   "metadata": {},
   "outputs": [],
   "source": [
    "#найти максимум\n",
    "def findmax(heap): \n",
    "    return heap[0]"
   ]
  },
  {
   "cell_type": "code",
   "execution_count": 3,
   "id": "e9714bbf",
   "metadata": {},
   "outputs": [],
   "source": [
    "#удалить максимум\n",
    "def deletemax(heap): \n",
    "    heap[0] = heap.pop() \n",
    "    i = 0\n",
    "    index = None\n",
    "    while True: \n",
    "        try:\n",
    "            if heap[i] < heap[i*2 + 1] or heap[i] < heap[i*2 + 2]: \n",
    "                if heap[i*2 + 1] >= heap[i*2 + 2]: \n",
    "                    index = i*2 + 1\n",
    "                else:\n",
    "                    index = i*2 + 2\n",
    "                heap[i], heap[index] = heap[index], heap[i]\n",
    "                i = index\n",
    "            else:\n",
    "                break\n",
    "\n",
    "        except IndexError:\n",
    "            try: \n",
    "                if heap[i] < heap[i*2 + 1]: \n",
    "                    index = i*2 + 1\n",
    "                    heap[i], heap[index] = heap[index], heap[i]\n",
    "                    break\n",
    "                else: \n",
    "                    break \n",
    "\n",
    "            except IndexError:\n",
    "                break\n",
    "    return heap"
   ]
  },
  {
   "cell_type": "code",
   "execution_count": 4,
   "id": "3dba953d",
   "metadata": {},
   "outputs": [],
   "source": [
    "#добавить элемент\n",
    "def appendheapmax(heap, el): \n",
    "    heap.append(el)\n",
    "    i = len(heap) - 1\n",
    "    while True: \n",
    "        if (i-1) // 2 >= 0: \n",
    "            if heap[i] >= heap[(i-1) // 2]:\n",
    "                heap[i], heap[(i-1) // 2] = heap[(i-1) // 2], heap[i]; i = (i-1) // 2\n",
    "            else:\n",
    "                break\n",
    "        else:\n",
    "            break\n",
    "            \n",
    "    return heap"
   ]
  },
  {
   "cell_type": "code",
   "execution_count": 5,
   "id": "cc73db9b",
   "metadata": {},
   "outputs": [],
   "source": [
    "heap = [2, 10, 5, 11, 15, 100] #куча минимумов"
   ]
  },
  {
   "cell_type": "code",
   "execution_count": 6,
   "id": "f4c5d0b5",
   "metadata": {},
   "outputs": [],
   "source": [
    "#найти минимум\n",
    "def findmin(heap): \n",
    "    return heap[0]"
   ]
  },
  {
   "cell_type": "code",
   "execution_count": 7,
   "id": "23076816",
   "metadata": {},
   "outputs": [
    {
     "name": "stdout",
     "output_type": "stream",
     "text": [
      "[5, 10, 100, 11, 15]\n"
     ]
    }
   ],
   "source": [
    "#удалить минимум\n",
    "def deletemin(heap): \n",
    "    heap[0] = heap.pop() \n",
    "    i = 0\n",
    "    index = None\n",
    "    while True: \n",
    "        try:\n",
    "            if heap[i] >= heap[i*2 + 1] or heap[i] >= heap[i*2 + 2]: \n",
    "                if heap[i*2 + 1] < heap[i*2 + 2]: \n",
    "                    index = i*2 + 1\n",
    "                else:\n",
    "                    index = i*2 + 2\n",
    "                heap[i], heap[index] = heap[index], heap[i]\n",
    "                i = index\n",
    "            else:\n",
    "                break\n",
    "\n",
    "        except IndexError:\n",
    "            try: \n",
    "                if heap[i] >= heap[i*2 + 1]: \n",
    "                    index = i*2 + 1\n",
    "                    heap[i], heap[index] = heap[index], heap[i]\n",
    "                    break\n",
    "                else: \n",
    "                    break\n",
    "\n",
    "            except IndexError:\n",
    "                break\n",
    "    return heap\n",
    "print(deletemin(heap))"
   ]
  },
  {
   "cell_type": "code",
   "execution_count": 8,
   "id": "deacbe96",
   "metadata": {},
   "outputs": [],
   "source": [
    "#добавить элемент\n",
    "def appendheapmin(heap, el): \n",
    "    heap.append(el)\n",
    "    i = len(heap) - 1\n",
    "    while True: \n",
    "        if (i-1) // 2 >= 0: \n",
    "            if heap[i] < heap[(i-1) // 2]:\n",
    "                heap[i], heap[(i-1) // 2] = heap[(i-1) // 2], heap[i]; i = (i-1) // 2\n",
    "            else:\n",
    "                break\n",
    "        else:\n",
    "            break\n",
    "            \n",
    "    return heap"
   ]
  },
  {
   "cell_type": "code",
   "execution_count": 15,
   "id": "8a6b3555",
   "metadata": {},
   "outputs": [
    {
     "name": "stdout",
     "output_type": "stream",
     "text": [
      "2 4 1 82 93 8 93 2 1 2 3\n",
      "[1, 1, 2, 2, 2, 3, 4, 8, 82, 93]\n"
     ]
    }
   ],
   "source": [
    "#сортировка кучей (плохая)\n",
    "#добавляем n элементов в кучу минимумов за O(nlogn) и n раз удаляем минимум и кладем в массив \n",
    "\n",
    "#или добавляем n элементов в кучу максимумов и n раз удаляем максимум и кладем в дек слва \n",
    "\n",
    "#1 4 3 5 6 3 1 2 7 8\n",
    " \n",
    "# l = [int(x) for x in input().split()] \n",
    "# heap = [l[0]] \n",
    "# for i in l[1:]: \n",
    "#     heap = appendheapmin(heap, i)\n",
    "\n",
    "# ans = [] \n",
    "# while len(heap) != 0: \n",
    "#     ans.append(findmin(heap))\n",
    "#     heap = deletemin(heap)\n",
    "#     print(heap)\n",
    "# print(ans)\n",
    "\n",
    "\n",
    "\n",
    "l = [int(x) for x in input().split()]\n",
    "\n",
    "heap = [l[0]]\n",
    "for i in l[1:]:\n",
    "    heap = appendheapmin(heap, i)\n",
    "\n",
    "ans = []\n",
    "while len(heap) != 1:\n",
    "\n",
    "    ans.append(findmin(heap))\n",
    "    heap =  deletemin(heap)\n",
    "    \n",
    "print(ans)"
   ]
  },
  {
   "cell_type": "code",
   "execution_count": 10,
   "id": "faa4b7f4",
   "metadata": {},
   "outputs": [
    {
     "name": "stdout",
     "output_type": "stream",
     "text": [
      "1\n"
     ]
    }
   ],
   "source": [
    "print(1)"
   ]
  },
  {
   "cell_type": "code",
   "execution_count": 17,
   "id": "0c88cf44",
   "metadata": {},
   "outputs": [
    {
     "name": "stdout",
     "output_type": "stream",
     "text": [
      "9 8 7 6 5 4 3\n",
      "3 4 5 6 7 8 9\n"
     ]
    }
   ],
   "source": [
    "#ПРАВИЛЬНЫЙ АЛГОРИТМ СОРТИРОВКИ КУЧЕЙ \n",
    "#принцип построения кучи из произвольного массива описан на лекции (он имеет сложность n)\n",
    "#из кучи максимумов удаленный максимум записываем в конец кучи, а затем работаем с оставшимся массивом\n",
    "\n",
    "#здесь, в отличие от плохого алгоритма, не задействуется дополнительная память (и куча вроде как строится быстрее)\n",
    "\n",
    "\n",
    "def pusher(index1, n): #проталкиватель - проталкивает элемент через дерево, превращая его в кучу\n",
    "    while True:\n",
    "        if index1 * 2 + 1 < n and index1 * 2 + 2 < n:\n",
    "            if l[index1] < l[index1 * 2 + 1] or l[index1] < l[index1 * 2 + 2]:\n",
    "                if l[index1 * 2 + 1] > l[index1 * 2 + 2]:\n",
    "                    index2 = index1 * 2 + 1\n",
    "                else:\n",
    "                    index2 = index1 * 2 + 2\n",
    "                l[index1], l[index2] = l[index2], l[index1]\n",
    "                index1 = index2\n",
    "            else:\n",
    "                break\n",
    "        else:\n",
    "            if index1 * 2 + 1 < n:\n",
    "                if l[index1] < l[index1 * 2 + 1]:\n",
    "                    index2 = index1 * 2 + 1\n",
    "                    l[index1], l[index2] = l[index2], l[index1]\n",
    "                else:\n",
    "                    break\n",
    "            else:\n",
    "                break\n",
    "\n",
    "def heap_creator(l):\n",
    "\n",
    "    i = len(l) - ((len(l) // 2) + (len(l) % 2)) #первый родитель справа налево\n",
    "\n",
    "\n",
    "    while i >= 0:\n",
    "        pusher(i, len(l))\n",
    "        i -= 1\n",
    "\n",
    "def ans(heap, n): #ложим максимум в конец кучи и оставшееся бинарное дерево приводим к виду кучи\n",
    "    heap[0], heap[n] = heap[n], heap[0]\n",
    "\n",
    "    pusher(0, n)\n",
    "\n",
    "\n",
    "l = list(map(int, input().split()))\n",
    "\n",
    "heap_creator(l)\n",
    "for i in range(len(l)):\n",
    "    ans(l, len(l) - 1 - i)\n",
    "print(*l)\n",
    "\n"
   ]
  },
  {
   "cell_type": "code",
   "execution_count": null,
   "id": "e1a33f95",
   "metadata": {},
   "outputs": [],
   "source": []
  }
 ],
 "metadata": {
  "kernelspec": {
   "display_name": "Python 3 (ipykernel)",
   "language": "python",
   "name": "python3"
  },
  "language_info": {
   "codemirror_mode": {
    "name": "ipython",
    "version": 3
   },
   "file_extension": ".py",
   "mimetype": "text/x-python",
   "name": "python",
   "nbconvert_exporter": "python",
   "pygments_lexer": "ipython3",
   "version": "3.10.9"
  }
 },
 "nbformat": 4,
 "nbformat_minor": 5
}
