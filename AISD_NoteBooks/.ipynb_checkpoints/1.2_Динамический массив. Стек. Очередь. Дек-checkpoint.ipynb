{
 "cells": [
  {
   "cell_type": "code",
   "execution_count": 4,
   "id": "7119a32b",
   "metadata": {},
   "outputs": [
    {
     "name": "stdout",
     "output_type": "stream",
     "text": [
      "deque([0, 1, 2, 3, 4])\n"
     ]
    }
   ],
   "source": [
    "#Реализация Deque в collections \n",
    "import collections \n",
    "d = collections.deque([1,2,3])\n",
    "d.appendleft(0); d.appendleft(123123)\n",
    "d.popleft()\n",
    "d.append(4)\n",
    "print(d)"
   ]
  },
  {
   "cell_type": "code",
   "execution_count": 8,
   "id": "5c840ce9",
   "metadata": {},
   "outputs": [
    {
     "name": "stdout",
     "output_type": "stream",
     "text": [
      "key1\n",
      "key2\n"
     ]
    }
   ],
   "source": [
    "#Реализация связного списка ['key1', 'key2'] \n",
    "head = ['key1', [], []]\n",
    "new = ['key2', [], []]\n",
    "\n",
    "head[2] = new \n",
    "new[1] = head\n",
    "\n",
    "#Прохождение по эл-там \n",
    "now = head\n",
    "while now != []:\n",
    "    print(now[0])\n",
    "    now = now[2]"
   ]
  },
  {
   "cell_type": "code",
   "execution_count": null,
   "id": "47745a91",
   "metadata": {},
   "outputs": [],
   "source": []
  }
 ],
 "metadata": {
  "kernelspec": {
   "display_name": "Python 3 (ipykernel)",
   "language": "python",
   "name": "python3"
  },
  "language_info": {
   "codemirror_mode": {
    "name": "ipython",
    "version": 3
   },
   "file_extension": ".py",
   "mimetype": "text/x-python",
   "name": "python",
   "nbconvert_exporter": "python",
   "pygments_lexer": "ipython3",
   "version": "3.10.9"
  }
 },
 "nbformat": 4,
 "nbformat_minor": 5
}
