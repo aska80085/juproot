{
 "cells": [
  {
   "cell_type": "code",
   "execution_count": 20,
   "id": "dab1c60b",
   "metadata": {},
   "outputs": [
    {
     "name": "stdout",
     "output_type": "stream",
     "text": [
      "1 2 30 4 9 39 8 28 1 0 33 2 0\n",
      "[0, 0, 1, 1, 2, 2, 4, 8, 9, 28, 30, 33, 39]\n"
     ]
    }
   ],
   "source": [
    "#сортировка списка инвариантом (до каждого взятого i условие должно выполняться, в данном случае условие возрастания)\n",
    "\n",
    "a = list(map(int, input().split()))\n",
    "k = 1\n",
    "\n",
    "#для первого эл-та очевидно условие выполняется, значит начинаем сортировку со второго\n",
    "for i in range(1, len(a)): \n",
    "    while i > 0 and a[i] < a[i-1]: #меняем знак в зависимости от соритровки по убыванию или возрастанию  \n",
    "        b, c = a[i], a[i-1]\n",
    "        a[i], a[i-1] = c, b\n",
    "        i-=1\n",
    "\n",
    "print(a)\n",
    "\n",
    "# сложность - O(N^(2))\n"
   ]
  },
  {
   "cell_type": "code",
   "execution_count": null,
   "id": "5233060d",
   "metadata": {},
   "outputs": [],
   "source": []
  }
 ],
 "metadata": {
  "kernelspec": {
   "display_name": "Python 3 (ipykernel)",
   "language": "python",
   "name": "python3"
  },
  "language_info": {
   "codemirror_mode": {
    "name": "ipython",
    "version": 3
   },
   "file_extension": ".py",
   "mimetype": "text/x-python",
   "name": "python",
   "nbconvert_exporter": "python",
   "pygments_lexer": "ipython3",
   "version": "3.10.9"
  }
 },
 "nbformat": 4,
 "nbformat_minor": 5
}
