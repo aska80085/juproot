{
 "cells": [
  {
   "cell_type": "code",
   "execution_count": 1,
   "id": "c3685a08",
   "metadata": {},
   "outputs": [
    {
     "name": "stdout",
     "output_type": "stream",
     "text": [
      "[2, 3, 4, 5, 6]\n"
     ]
    }
   ],
   "source": [
    "m = [1,2,3,4,5]\n",
    "new = 6\n",
    "for i in range(len(m)-1):\n",
    "    m[i] = m[i+1]\n",
    "m[-1] = new\n",
    "print(m)"
   ]
  },
  {
   "cell_type": "markdown",
   "id": "729ac31f",
   "metadata": {},
   "source": [
    "Введите \"nbsp\", чтобы добавить один пробел.  \n",
    "Введите \"ensp\", чтобы добавить 2 пробела.  \n",
    "Введите \"emsp\", чтобы добавить 4 пробела.  \n",
    "Используйте неразрывный пробел (nbsp) 4 раза, чтобы вставить табуляцию.  \n",
    "например. &emsp;This is an example."
   ]
  },
  {
   "cell_type": "markdown",
   "id": "06f0fead",
   "metadata": {},
   "source": [
    "hello\\\n",
    "world"
   ]
  },
  {
   "cell_type": "code",
   "execution_count": 1,
   "id": "8ae37035",
   "metadata": {},
   "outputs": [
    {
     "name": "stdout",
     "output_type": "stream",
     "text": [
      "1\n"
     ]
    }
   ],
   "source": [
    "Marker1 = None \n",
    "if not Marker1:\n",
    "    print(1)"
   ]
  },
  {
   "cell_type": "code",
   "execution_count": 9,
   "id": "f323d20c",
   "metadata": {},
   "outputs": [],
   "source": [
    "def сheck(string):\n",
    "    stack = []\n",
    "    a = '' \n",
    "    for i in string:\n",
    "        a += i \n",
    "        if i == '>':\n",
    "            if a[1] != '/':\n",
    "                stack.append(a)\n",
    "            else: \n",
    "                if a[2:] == stack[-1][1:]:\n",
    "                    stack.pop()\n",
    "            a = '' \n",
    "    if len(stack) == 0:\n",
    "        return True\n",
    "    else:\n",
    "        return False"
   ]
  },
  {
   "cell_type": "code",
   "execution_count": 15,
   "id": "00b10ef5",
   "metadata": {},
   "outputs": [
    {
     "name": "stdout",
     "output_type": "stream",
     "text": [
      "False\n"
     ]
    }
   ],
   "source": [
    "s = '<a><b></a></b>'\n",
    "print(сheck(s))"
   ]
  },
  {
   "cell_type": "code",
   "execution_count": 19,
   "id": "748c3c50",
   "metadata": {},
   "outputs": [
    {
     "name": "stdout",
     "output_type": "stream",
     "text": [
      "[0, 2, 3]\n",
      "[1, 2, 3]\n"
     ]
    }
   ],
   "source": [
    "l = [1, 2, 3]\n",
    "l1, l2 = l.copy(), l.copy()\n",
    "l1[0] = 0\n",
    "print(l1)\n",
    "print(l)"
   ]
  },
  {
   "cell_type": "code",
   "execution_count": 20,
   "id": "a4e50aa5",
   "metadata": {},
   "outputs": [
    {
     "name": "stdout",
     "output_type": "stream",
     "text": [
      "0\n"
     ]
    }
   ],
   "source": [
    "print(l1.index(0))"
   ]
  },
  {
   "cell_type": "code",
   "execution_count": 21,
   "id": "2f2b15d5",
   "metadata": {},
   "outputs": [
    {
     "name": "stdout",
     "output_type": "stream",
     "text": [
      "0\n"
     ]
    }
   ],
   "source": [
    "l = '0123'\n",
    "print(l.index('0'))"
   ]
  },
  {
   "cell_type": "code",
   "execution_count": 23,
   "id": "8bfc331e",
   "metadata": {},
   "outputs": [
    {
     "name": "stdout",
     "output_type": "stream",
     "text": [
      "2\n"
     ]
    }
   ],
   "source": [
    "a = '1123'\n",
    "print(a[2:-1])"
   ]
  },
  {
   "cell_type": "code",
   "execution_count": 24,
   "id": "860e9d9f",
   "metadata": {},
   "outputs": [
    {
     "name": "stdout",
     "output_type": "stream",
     "text": [
      "4\n"
     ]
    }
   ],
   "source": [
    "a = '012345'\n",
    "print(a[4:5])"
   ]
  },
  {
   "cell_type": "code",
   "execution_count": 25,
   "id": "9c8262e6",
   "metadata": {},
   "outputs": [],
   "source": [
    "def f(a, b):\n",
    "    return a+b"
   ]
  },
  {
   "cell_type": "code",
   "execution_count": 28,
   "id": "2d768807",
   "metadata": {},
   "outputs": [
    {
     "data": {
      "text/plain": [
       "3"
      ]
     },
     "execution_count": 28,
     "metadata": {},
     "output_type": "execute_result"
    }
   ],
   "source": [
    "f(*[1,2])"
   ]
  },
  {
   "cell_type": "code",
   "execution_count": 31,
   "id": "cc6089e1",
   "metadata": {},
   "outputs": [
    {
     "name": "stdout",
     "output_type": "stream",
     "text": [
      "12\n"
     ]
    }
   ],
   "source": [
    "a = '123'\n",
    "b = a\n",
    "print(b[0:2])"
   ]
  },
  {
   "cell_type": "code",
   "execution_count": 34,
   "id": "88bf5b8c",
   "metadata": {},
   "outputs": [
    {
     "name": "stdout",
     "output_type": "stream",
     "text": [
      "0\n",
      "5\n",
      "6\n",
      "1\n",
      "5\n",
      "6\n",
      "2\n",
      "5\n",
      "6\n",
      "3\n",
      "5\n",
      "6\n",
      "4\n",
      "5\n",
      "6\n"
     ]
    }
   ],
   "source": [
    "for i in range(5): \n",
    "    print(i)\n",
    "    for j in range(5,10):\n",
    "        print(j)\n",
    "        if j == 6:\n",
    "            break"
   ]
  },
  {
   "cell_type": "code",
   "execution_count": null,
   "id": "0d376675",
   "metadata": {},
   "outputs": [],
   "source": []
  },
  {
   "cell_type": "code",
   "execution_count": 35,
   "id": "3d29a68d",
   "metadata": {},
   "outputs": [
    {
     "name": "stdout",
     "output_type": "stream",
     "text": [
      "1234\n",
      "123\n"
     ]
    }
   ],
   "source": [
    "string = '123'\n",
    "string2 = string\n",
    "string2 += '4'\n",
    "print(string2)\n",
    "print(string)"
   ]
  },
  {
   "cell_type": "code",
   "execution_count": 40,
   "id": "662717d6",
   "metadata": {},
   "outputs": [
    {
     "name": "stdout",
     "output_type": "stream",
     "text": [
      "1**2\n"
     ]
    }
   ],
   "source": [
    "a = '1  2'\n",
    "a = a.replace(' ', '*')\n",
    "print(a)"
   ]
  },
  {
   "cell_type": "code",
   "execution_count": 42,
   "id": "ecd67b52",
   "metadata": {},
   "outputs": [
    {
     "data": {
      "text/plain": [
       "'1  2'"
      ]
     },
     "execution_count": 42,
     "metadata": {},
     "output_type": "execute_result"
    }
   ],
   "source": [
    "a = a.replace('*', ' ')\n",
    "a"
   ]
  },
  {
   "cell_type": "code",
   "execution_count": 57,
   "id": "ccb66f1e",
   "metadata": {},
   "outputs": [
    {
     "name": "stdout",
     "output_type": "stream",
     "text": [
      "4\n",
      "2 1 4 3\n",
      "3 \n",
      "101 \n",
      "102\n",
      "103\n",
      "4 2\n",
      "4 3\n",
      "4 1\n"
     ]
    }
   ],
   "source": [
    "from collections import deque\n",
    "n = int(input())\n",
    "d = deque(map(int, input().split()))\n",
    "k = deque([])\n",
    "for i in range(int(input())):\n",
    "    k.append([int(input()), None, None])\n",
    "\n",
    "marker = None\n",
    "match_number = 0\n",
    "matchs = []\n",
    "max_power = max(d)\n",
    "powerind = None\n",
    "\n",
    "while True:\n",
    "    a, b = d.popleft(), d.popleft()\n",
    "    if a > b:\n",
    "        d.appendleft(a)\n",
    "        d.append(b)\n",
    "        match_number += 1\n",
    "    else:\n",
    "        d.appendleft(b)\n",
    "        d.append(a)\n",
    "        match_number += 1\n",
    "    for i in k:\n",
    "        if match_number == i[0]:\n",
    "            i[1], i[2] = a, b\n",
    "    if d[0] == max_power:\n",
    "        powerind = match_number\n",
    "        d.popleft()\n",
    "        marker = True\n",
    "        break\n",
    "\n",
    "\n",
    "\n",
    "    # for i in k:\n",
    "    #     if match_number == i[0]:\n",
    "    #         i[1], i[2] = a, b\n",
    "    #         marker -= 1\n",
    "    # if marker == 0:\n",
    "    #     break\n",
    "\n",
    "for i in k:\n",
    "    if i[0] <= max_power:\n",
    "        print(i[1], i[2])\n",
    "    else:\n",
    "        print(max_power, d[(i[0] - powerind)%(n-1) - 1])\n",
    "        "
   ]
  },
  {
   "cell_type": "code",
   "execution_count": 48,
   "id": "7cbd343d",
   "metadata": {},
   "outputs": [
    {
     "ename": "SyntaxError",
     "evalue": "invalid syntax (67773878.py, line 2)",
     "output_type": "error",
     "traceback": [
      "\u001b[0;36m  Cell \u001b[0;32mIn[48], line 2\u001b[0;36m\u001b[0m\n\u001b[0;31m    2 1 4 3\u001b[0m\n\u001b[0m      ^\u001b[0m\n\u001b[0;31mSyntaxError\u001b[0m\u001b[0;31m:\u001b[0m invalid syntax\n"
     ]
    }
   ],
   "source": [
    "4\n",
    "2 1 4 3\n",
    "3\n",
    "1\n",
    "5\n",
    "2\n",
    "\n"
   ]
  },
  {
   "cell_type": "code",
   "execution_count": 56,
   "id": "cfee2633",
   "metadata": {},
   "outputs": [
    {
     "name": "stdout",
     "output_type": "stream",
     "text": [
      "[[1, 0], [5, 1], [2, 2]]\n"
     ]
    }
   ],
   "source": [
    "s = [[1, 0], [5, 1], [2, 2]]\n",
    "s.sort(key = lambda x: x[1])\n",
    "print(s)"
   ]
  },
  {
   "cell_type": "code",
   "execution_count": null,
   "id": "fa87621e",
   "metadata": {},
   "outputs": [],
   "source": []
  }
 ],
 "metadata": {
  "kernelspec": {
   "display_name": "Python 3 (ipykernel)",
   "language": "python",
   "name": "python3"
  },
  "language_info": {
   "codemirror_mode": {
    "name": "ipython",
    "version": 3
   },
   "file_extension": ".py",
   "mimetype": "text/x-python",
   "name": "python",
   "nbconvert_exporter": "python",
   "pygments_lexer": "ipython3",
   "version": "3.10.9"
  }
 },
 "nbformat": 4,
 "nbformat_minor": 5
}
