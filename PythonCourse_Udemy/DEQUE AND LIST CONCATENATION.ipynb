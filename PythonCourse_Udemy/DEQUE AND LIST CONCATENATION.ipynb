{
 "cells": [
  {
   "cell_type": "code",
   "execution_count": 1,
   "id": "0aa93805",
   "metadata": {},
   "outputs": [
    {
     "name": "stdout",
     "output_type": "stream",
     "text": [
      "deque([0, 1, 2, 3, 4, 5, 6])\n"
     ]
    }
   ],
   "source": [
    "from collections import deque\n",
    "d = deque([2,3,4])\n",
    "print(deque([0,1]) + d + deque([5,6]))"
   ]
  },
  {
   "cell_type": "code",
   "execution_count": 2,
   "id": "bff4884d",
   "metadata": {},
   "outputs": [
    {
     "name": "stdout",
     "output_type": "stream",
     "text": [
      "[0, 1, 2, 3, 4, 5, 6]\n"
     ]
    }
   ],
   "source": [
    "l = [2,3,4]\n",
    "print([0,1] + l + [5, 6])"
   ]
  },
  {
   "cell_type": "code",
   "execution_count": 3,
   "id": "3a3ec3e6",
   "metadata": {},
   "outputs": [],
   "source": [
    "#только подозреваю что по крайней мере во втором случае это не очень выгодно по памяти"
   ]
  }
 ],
 "metadata": {
  "kernelspec": {
   "display_name": "Python 3 (ipykernel)",
   "language": "python",
   "name": "python3"
  },
  "language_info": {
   "codemirror_mode": {
    "name": "ipython",
    "version": 3
   },
   "file_extension": ".py",
   "mimetype": "text/x-python",
   "name": "python",
   "nbconvert_exporter": "python",
   "pygments_lexer": "ipython3",
   "version": "3.10.9"
  }
 },
 "nbformat": 4,
 "nbformat_minor": 5
}
