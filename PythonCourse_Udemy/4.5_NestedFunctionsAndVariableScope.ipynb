{
 "cells": [
  {
   "cell_type": "code",
   "execution_count": 1,
   "id": "b6d48d43",
   "metadata": {},
   "outputs": [],
   "source": [
    "#вложенность и видимость\n",
    "#правило LEGB - Local (or function) scope, Enclosing (or nonlocal) scope, \n",
    "# Global (or module) scope, Built-in scope\n",
    "#(4 контекста в которых существуют переменные):локальный, в локальной видимости но обернутый в \n",
    "# функцию, глобальный контекст, встроенный контекст (нельзя использовать для переменных)"
   ]
  },
  {
   "cell_type": "code",
   "execution_count": 17,
   "id": "3fb100bf",
   "metadata": {},
   "outputs": [],
   "source": [
    "greeting = 'Hello from the global scope' #(вне функции классов, так что переменная в глобальном\n",
    "# скоупе)\n",
    "def greet():\n",
    "    greeting = 'Hello from enclosing scope' #до тех пор пока мы не создали вложенную функцию, \n",
    "# это локал скоуп, но когда мы создаем вложенную функцию, это энклоузинг скоуп\n",
    "    def nested():\n",
    "        greeting = 'Hello from the local scope'#так как больше нет вложенных функций, это \n",
    "# локал скоуп\n",
    "        print(greeting, '(1)')\n",
    "    nested()\n",
    "    print(greeting, '(2)')"
   ]
  },
  {
   "cell_type": "code",
   "execution_count": 18,
   "id": "70916bb4",
   "metadata": {},
   "outputs": [
    {
     "name": "stdout",
     "output_type": "stream",
     "text": [
      "Hello from the local scope (1)\n",
      "Hello from enclosing scope (2)\n",
      "Hello from the global scope (3)\n"
     ]
    }
   ],
   "source": [
    "greet()\n",
    "print(greeting, '(3)')"
   ]
  },
  {
   "cell_type": "code",
   "execution_count": 19,
   "id": "9501837e",
   "metadata": {},
   "outputs": [
    {
     "name": "stdout",
     "output_type": "stream",
     "text": [
      "Hello from enclosing scope (1)\n",
      "Hello from the global scope (2)\n"
     ]
    }
   ],
   "source": [
    "#интерпритатор ищет ближайшее объявление переменной, то есть поднимается из более узких скоупов\n",
    "# в более обширные \n",
    "#Обратим внимание на комментирование:\n",
    "greeting = 'Hello from the global scope' \n",
    "def greet():\n",
    "    greeting = 'Hello from enclosing scope'\n",
    "    def nested():\n",
    "        #greeting = 'Hello from the local scope'\n",
    "        print(greeting, '(1)')\n",
    "    nested()\n",
    "greet()\n",
    "print(greeting, '(2)')"
   ]
  },
  {
   "cell_type": "code",
   "execution_count": 21,
   "id": "8b4026c9",
   "metadata": {},
   "outputs": [
    {
     "name": "stdout",
     "output_type": "stream",
     "text": [
      "Hello from the global scope (1)\n",
      "Hello from the global scope (2)\n"
     ]
    }
   ],
   "source": [
    "#Обратим внимание на комментирование:\n",
    "greeting = 'Hello from the global scope' \n",
    "def greet():\n",
    "    #greeting = 'Hello from enclosing scope'\n",
    "    def nested():\n",
    "        #greeting = 'Hello from the local scope'\n",
    "        print(greeting, '(1)')\n",
    "    nested()\n",
    "greet()\n",
    "print(greeting, '(2)')"
   ]
  },
  {
   "cell_type": "code",
   "execution_count": 23,
   "id": "49ec1741",
   "metadata": {},
   "outputs": [
    {
     "name": "stdout",
     "output_type": "stream",
     "text": [
      "Greet in func:Hello from the global scope\n",
      "Greet in func:Hello from enclosing scope\n",
      "Hello from local scope\n",
      "Hello from the global scope\n"
     ]
    }
   ],
   "source": [
    "greeting = 'Hello from the global scope'\n",
    "def greet(greeting):\n",
    "    print(f'Greet in func:{greeting}')\n",
    "    \n",
    "    greeting = 'Hello from enclosing scope'\n",
    "    \n",
    "    print(f'Greet in func:{greeting}')\n",
    "    \n",
    "    def nested():\n",
    "        greeting = 'Hello from local scope'\n",
    "        print(greeting)\n",
    "    nested()\n",
    "greet(greeting)\n",
    "print(greeting)\n",
    "#глобальная переменная все равно не изменяется, хотя казалось бы почему блять должна "
   ]
  },
  {
   "cell_type": "code",
   "execution_count": 27,
   "id": "b76b9147",
   "metadata": {},
   "outputs": [
    {
     "name": "stdout",
     "output_type": "stream",
     "text": [
      "Greet in func:Hello from the global scope\n",
      "Greet in func:Hello from enclosing scope\n",
      "Hello from local scope\n",
      "Hello from enclosing scope\n"
     ]
    }
   ],
   "source": [
    "#!если мы все таки хотим изменить глобальную переменную воспользуемся ключ словом global\n",
    "greeting = 'Hello from the global scope'\n",
    "def greet():\n",
    "    global greeting \n",
    "    print(f'Greet in func:{greeting}')\n",
    "    \n",
    "    greeting = 'Hello from enclosing scope'\n",
    "    \n",
    "    print(f'Greet in func:{greeting}')\n",
    "    \n",
    "    def nested():\n",
    "        greeting = 'Hello from local scope'\n",
    "        print(greeting)\n",
    "    nested()\n",
    "greet()\n",
    "print(greeting)\n",
    "#ПРИЧем здесь без строчки глобал гритинг выдаст ошибку, т е интерпритатор не видит глобальный\n",
    "# гритинг внутри функции \n",
    "#Последний вывод - хелло фром энклоузинг скоуп, т к мы объявляли глобал только в первой из \n",
    "# вложенных функций "
   ]
  },
  {
   "cell_type": "code",
   "execution_count": 31,
   "id": "d8c9d1e3",
   "metadata": {},
   "outputs": [
    {
     "name": "stdout",
     "output_type": "stream",
     "text": [
      "Greet in func:Hello from the global scope\n",
      "Greet in func:Hello from enclosing scope\n",
      "Hello from local scope\n",
      "idi nahyy\n",
      "Hello from LALALALLAL scope\n",
      "Hello from the global scope\n"
     ]
    }
   ],
   "source": [
    "#НО изменение глобальных переменных ведет к нечитаемому и слабоконтролируемому коду, так что\n",
    "# возможностью с глобал лучше пренебречь, а воспользоваться return (передаем аргумент в функцию)\n",
    "# если нам нужно им воспользоваться, а не выебываемся с global\n",
    "#типо так:\n",
    "greeting = 'Hello from the global scope'\n",
    "def greet(greeting):\n",
    "    \n",
    "    print(f'Greet in func:{greeting}')\n",
    "    \n",
    "    greeting = 'Hello from enclosing scope'\n",
    "    \n",
    "    print(f'Greet in func:{greeting}')\n",
    "    \n",
    "    def nested():\n",
    "        greeting = 'Hello from local scope'\n",
    "        print(greeting)\n",
    "        return('idi nahyy')\n",
    "    print(nested())\n",
    "    return('Hello from LALALALLAL scope')\n",
    "print(greet(greeting))\n",
    "print(greeting)"
   ]
  },
  {
   "cell_type": "code",
   "execution_count": 1,
   "id": "574c90fe",
   "metadata": {},
   "outputs": [],
   "source": [
    "# возвращаем новое значение, а не модифицируем что-либо в глобальном контексте "
   ]
  },
  {
   "cell_type": "code",
   "execution_count": 17,
   "id": "01ba819c",
   "metadata": {},
   "outputs": [
    {
     "name": "stdout",
     "output_type": "stream",
     "text": [
      "[[1, 0, 1], [0, 0, 0], [2, 2, 2]]\n"
     ]
    }
   ],
   "source": [
    "\n",
    "import random\n",
    "lst = [[random.randint(0,2),random.randint(0,2),random.randint(0,2)] for i in range(3)]\n",
    "print(lst)"
   ]
  },
  {
   "cell_type": "code",
   "execution_count": null,
   "id": "d23f7d7b",
   "metadata": {},
   "outputs": [],
   "source": []
  }
 ],
 "metadata": {
  "kernelspec": {
   "display_name": "Python 3 (ipykernel)",
   "language": "python",
   "name": "python3"
  },
  "language_info": {
   "codemirror_mode": {
    "name": "ipython",
    "version": 3
   },
   "file_extension": ".py",
   "mimetype": "text/x-python",
   "name": "python",
   "nbconvert_exporter": "python",
   "pygments_lexer": "ipython3",
   "version": "3.10.9"
  }
 },
 "nbformat": 4,
 "nbformat_minor": 5
}
