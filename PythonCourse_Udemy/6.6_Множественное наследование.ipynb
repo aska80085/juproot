{
 "cells": [
  {
   "cell_type": "code",
   "execution_count": 1,
   "id": "9d9b4e99",
   "metadata": {},
   "outputs": [],
   "source": [
    "#Multiple inheritance"
   ]
  },
  {
   "cell_type": "code",
   "execution_count": 2,
   "id": "50202fbc",
   "metadata": {},
   "outputs": [],
   "source": [
    "#Множественное наследование от обычного отличается тем, что наследуемый класс имеет более 2 родителей, то есть \n",
    "# наследует более 1 класса"
   ]
  },
  {
   "cell_type": "code",
   "execution_count": 6,
   "id": "990a2f86",
   "metadata": {},
   "outputs": [
    {
     "name": "stdout",
     "output_type": "stream",
     "text": [
      "woof-woof\n",
      "eating\n",
      "bye-bye\n",
      "0 100\n"
     ]
    }
   ],
   "source": [
    "class Animal():\n",
    "    def die(self):\n",
    "        print('bye-bye')\n",
    "        self.health = 0\n",
    "        \n",
    "class Carnivour():\n",
    "    def hunt(self):\n",
    "        print('eating')\n",
    "        self.satiety = 100\n",
    "        \n",
    "class Dog(Animal, Carnivour): #непосредственно множестввенное наследование \n",
    "    def bark(self): \n",
    "        print('woof-woof')\n",
    "dog = Dog()\n",
    "dog.bark()\n",
    "dog.hunt()\n",
    "dog.die()\n",
    "print(dog.health, dog.satiety)"
   ]
  },
  {
   "cell_type": "code",
   "execution_count": 7,
   "id": "61bb2291",
   "metadata": {},
   "outputs": [],
   "source": [
    "#проблемки\n",
    "\n",
    "#deadly diamond of death (смертельный ромб)\n",
    "class Animal():\n",
    "    def set_health(self, health):\n",
    "        print('set in animal')\n",
    "class Carnivour(Animal): #наследник\n",
    "    def set_health(self, health): #переопределение метода \n",
    "        print('set in carnivour')\n",
    "\n",
    "class Mamal(Animal): #наследник \n",
    "    def set_health(self, health):\n",
    "        print('set in mamal')\n",
    "        \n",
    "class Dog(Mamal, Carnivour): #наследник наследников\n",
    "    pass\n",
    "\n",
    "#Получился \"смертельный ромб\" (по диаграмме наследования Dog наследуется от Mamal и Carnivour, которые наследуются \n",
    "# от Animal) - получается ромб"
   ]
  },
  {
   "cell_type": "code",
   "execution_count": 10,
   "id": "bc3aa213",
   "metadata": {},
   "outputs": [
    {
     "name": "stdout",
     "output_type": "stream",
     "text": [
      "set an mamal\n"
     ]
    }
   ],
   "source": [
    "dog = Dog()\n",
    "dog.set_health(90) #out: set in mamal, т к !ВАЖЕН порядок наследования (слева направо) (в аргументах наследника)"
   ]
  },
  {
   "cell_type": "code",
   "execution_count": 16,
   "id": "5dbd9de6",
   "metadata": {},
   "outputs": [
    {
     "name": "stdout",
     "output_type": "stream",
     "text": [
      "set in mamal\n",
      "set in carnivour\n",
      "set in animal\n",
      "set in dog\n"
     ]
    }
   ],
   "source": [
    "#случай, когда dog также определяет set_health(), но хочет вызвать код из базовых классов \n",
    "\n",
    "class Animal():\n",
    "    def set_health(self, health):\n",
    "        print('set in animal')\n",
    "\n",
    "class Carnivour(Animal): \n",
    "    def set_health(self, health): \n",
    "        print('set in carnivour')\n",
    "\n",
    "class Mamal(Animal): \n",
    "    def set_health(self, health):\n",
    "        print('set in mamal')\n",
    "        \n",
    "class Dog(Mamal, Carnivour):\n",
    "    def set_health(self, health):\n",
    "        Mamal.set_health(self, health)\n",
    "        Carnivour.set_health(self, health)\n",
    "        Animal.set_health(self, health)\n",
    "        \n",
    "        print('set in dog')\n",
    "\n",
    "dog = Dog()\n",
    "dog.set_health(213123123123123123)"
   ]
  },
  {
   "cell_type": "code",
   "execution_count": 17,
   "id": "88265ec0",
   "metadata": {},
   "outputs": [
    {
     "name": "stdout",
     "output_type": "stream",
     "text": [
      "set in animal\n",
      "set in mamal\n",
      "set in animal\n",
      "set in carnivour\n",
      "set in dog\n"
     ]
    }
   ],
   "source": [
    "#но любой из классов такой иерархии также может нуждаться в вызове реализации базового класса \n",
    "\n",
    "#например пусть каждый из классов в иерархии хочет вызвать метод из родительского, конкретно здесь Carnivour и Mamal\n",
    "# будут инициализировать Animal\n",
    "\n",
    "class Animal():\n",
    "    def set_health(self, health):\n",
    "        print('set in animal')\n",
    "\n",
    "class Carnivour(Animal): \n",
    "    def set_health(self, health): \n",
    "        Animal.set_health(self, health)#\n",
    "        print('set in carnivour')\n",
    "\n",
    "class Mamal(Animal): \n",
    "    def set_health(self, health):\n",
    "        Animal.set_health(self, health)#\n",
    "        print('set in mamal')\n",
    "        \n",
    "class Dog(Mamal, Carnivour):\n",
    "    def set_health(self, health):\n",
    "        Mamal.set_health(self, health)\n",
    "        Carnivour.set_health(self, health)\n",
    "        #Animal.set_health(self, health) - эта строчка теперь лишняя\n",
    "        \n",
    "        print('set in dog')\n",
    "        \n",
    "dog = Dog()\n",
    "dog.set_health(10213123)"
   ]
  },
  {
   "cell_type": "code",
   "execution_count": 18,
   "id": "d5d07f06",
   "metadata": {},
   "outputs": [
    {
     "name": "stdout",
     "output_type": "stream",
     "text": [
      "set in animal\n",
      "set in carnivour\n",
      "set in mamal\n",
      "set in dog\n"
     ]
    }
   ],
   "source": [
    "# тут 'set in animal' логично вызывается два раза, то есть самый глубокий родитель инициализируется дважды \n",
    "#!В решении этой проблемы нам поможет функция super()., которая дает гарантии последовательности вызовов \n",
    "\n",
    "#super() сама инициализирует базовый класс, синтаксис '#'\n",
    "class Animal():\n",
    "    def set_health(self, health):\n",
    "        print('set in animal')\n",
    "\n",
    "class Carnivour(Animal): \n",
    "    def set_health(self, health): \n",
    "        super().set_health(health)#\n",
    "        print('set in carnivour')\n",
    "\n",
    "class Mamal(Animal): \n",
    "    def set_health(self, health):\n",
    "        super().set_health(health)#\n",
    "        print('set in mamal')\n",
    "        \n",
    "class Dog(Mamal, Carnivour):\n",
    "    def set_health(self, health):\n",
    "    \n",
    "        super().set_health(health)\n",
    "        \n",
    "        #Mamal.set_health(self, health)\n",
    "        #Carnivour.set_health(self, health) (((super сама обращаетя к обоим родителям)))\n",
    "        \n",
    "        print('set in dog')\n",
    "        \n",
    "dog = Dog()\n",
    "dog.set_health(10213123)"
   ]
  },
  {
   "cell_type": "code",
   "execution_count": 19,
   "id": "97407eff",
   "metadata": {},
   "outputs": [],
   "source": [
    "#Как правило super используется внутри конструктора базового класса (т е когда наследник инициализирует родителя, а \n",
    "# именно его инструментал (__init__))\n",
    "\n",
    "#!то что мы исследовали (super) - MRO (Method Resolution Order) - механизм, определющий каким образом должна \n",
    "# разрешаться последовательность вызовов методов, начиная с Py3 мы полагаемся на функцию super(), которая гарантирует \n",
    "# последовательность вызовов, а именно !снизу вверх слева направо;\n",
    "#Слева направо, потому что учитывается порядок наследования, конкретно у нас в примере::\n",
    "\n",
    "#mro of Dog(слева-направо): Dog -> Mammal -> Carnivour -> Animal , но вывод происходит в обратную сторону (сначала \n",
    "# самый глубокий) (((здесь ВАЖЕН порядок вызова, все элементарно)))"
   ]
  },
  {
   "cell_type": "code",
   "execution_count": 20,
   "id": "fe98e1dc",
   "metadata": {},
   "outputs": [],
   "source": [
    "#Если есть необходимость инициализировать базовый класс, следует всегда использовать super() (чтобы не сломать код)"
   ]
  },
  {
   "cell_type": "code",
   "execution_count": 24,
   "id": "efda8f49",
   "metadata": {},
   "outputs": [],
   "source": [
    "class Animal:\n",
    "    \n",
    "    def __init__(self):\n",
    "        self.health = 100\n",
    "        \n",
    "    def hit(self, damage):\n",
    "        self.health -= damage\n",
    "        \n",
    "class Carnivour(Animal):\n",
    "    \n",
    "    def __init__(self):\n",
    "        self.legs = 4 #мы не вызываем конструктор базового, а просто добавляем атрибут наследнику \n",
    "        \n",
    "c = Carnivour()\n",
    "\n",
    "#c.hit(10);\n",
    "#print(c.health) - ошибка: 'Carnivour' object has no attribute 'health'   , поскольку мы не вызвали __init__ базового"
   ]
  },
  {
   "cell_type": "code",
   "execution_count": 33,
   "id": "ce12d53b",
   "metadata": {},
   "outputs": [
    {
     "name": "stdout",
     "output_type": "stream",
     "text": [
      "99\n"
     ]
    }
   ],
   "source": [
    "#мы сделаем это, конечно же, с помощью супер\n",
    "\n",
    "class Animal:\n",
    "    \n",
    "    def __init__(self):\n",
    "        self.health = 100\n",
    "        \n",
    "    def hit(self, damage):\n",
    "        self.health -= damage\n",
    "        \n",
    "class Carnivour(Animal):\n",
    "\n",
    "    def __init__(self):\n",
    "        super().__init__() #!вызываем инит внутри методов а не вне их (передаем инструментал в инструментал)\n",
    "        self.legs = 4 \n",
    "        \n",
    "c = Carnivour()\n",
    "c.hit(1)\n",
    "print(c.health)"
   ]
  },
  {
   "cell_type": "code",
   "execution_count": null,
   "id": "1ff19322",
   "metadata": {},
   "outputs": [],
   "source": [
    "#mix-in бла бла бла бла бла бла бла бла"
   ]
  }
 ],
 "metadata": {
  "kernelspec": {
   "display_name": "Python 3 (ipykernel)",
   "language": "python",
   "name": "python3"
  },
  "language_info": {
   "codemirror_mode": {
    "name": "ipython",
    "version": 3
   },
   "file_extension": ".py",
   "mimetype": "text/x-python",
   "name": "python",
   "nbconvert_exporter": "python",
   "pygments_lexer": "ipython3",
   "version": "3.10.9"
  }
 },
 "nbformat": 4,
 "nbformat_minor": 5
}
