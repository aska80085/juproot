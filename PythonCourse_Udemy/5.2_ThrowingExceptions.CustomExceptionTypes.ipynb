{
 "cells": [
  {
   "cell_type": "code",
   "execution_count": 14,
   "id": "1dcf9eda",
   "metadata": {},
   "outputs": [],
   "source": [
    "#Выброс исключений. Кастомные типы исключений."
   ]
  },
  {
   "cell_type": "code",
   "execution_count": 15,
   "id": "8d2ea6aa",
   "metadata": {},
   "outputs": [],
   "source": [
    "#Иногда требуется самим возбуждать(raise) исключения, например:"
   ]
  },
  {
   "cell_type": "code",
   "execution_count": 16,
   "id": "1fcddd94",
   "metadata": {},
   "outputs": [
    {
     "name": "stdout",
     "output_type": "stream",
     "text": [
      "43.30127018922193\n",
      "9.9498743710662\n"
     ]
    }
   ],
   "source": [
    "#Функция, считающая площадь треугольника по трем сторонам по теореме Герона:\n",
    "import math\n",
    "def calc_square(ab,ac,bc):\n",
    "    p = (ab+ac+bc)/2\n",
    "    s = math.sqrt(p * (p - ab) * (p - ac) * (p - bc))\n",
    "    \n",
    "    return s\n",
    "square = calc_square(10,10,10)\n",
    "print(square)\n",
    "#Однако в calc_square может быть передан невалидный аргумент, например отрицательную длину,\n",
    "# но функция все равно выдаст ответ\n",
    "square = calc_square(10,-2,10)\n",
    "print(square)"
   ]
  },
  {
   "cell_type": "code",
   "execution_count": 17,
   "id": "1c64841f",
   "metadata": {},
   "outputs": [
    {
     "ename": "ValueError",
     "evalue": "One of the sides is less or equal to 0.",
     "output_type": "error",
     "traceback": [
      "\u001b[0;31m---------------------------------------------------------------------------\u001b[0m",
      "\u001b[0;31mValueError\u001b[0m                                Traceback (most recent call last)",
      "Cell \u001b[0;32mIn[17], line 13\u001b[0m\n\u001b[1;32m     10\u001b[0m     s \u001b[38;5;241m=\u001b[39m math\u001b[38;5;241m.\u001b[39msqrt(p \u001b[38;5;241m*\u001b[39m (p \u001b[38;5;241m-\u001b[39m ab) \u001b[38;5;241m*\u001b[39m (p \u001b[38;5;241m-\u001b[39m ac) \u001b[38;5;241m*\u001b[39m (p \u001b[38;5;241m-\u001b[39m bc))\n\u001b[1;32m     12\u001b[0m     \u001b[38;5;28;01mreturn\u001b[39;00m s\n\u001b[0;32m---> 13\u001b[0m square \u001b[38;5;241m=\u001b[39m \u001b[43mcalc_square\u001b[49m\u001b[43m(\u001b[49m\u001b[38;5;241;43m-\u001b[39;49m\u001b[38;5;241;43m2\u001b[39;49m\u001b[43m,\u001b[49m\u001b[38;5;241;43m10\u001b[39;49m\u001b[43m,\u001b[49m\u001b[38;5;241;43m10\u001b[39;49m\u001b[43m)\u001b[49m\n\u001b[1;32m     14\u001b[0m \u001b[38;5;28mprint\u001b[39m(square)\n",
      "Cell \u001b[0;32mIn[17], line 6\u001b[0m, in \u001b[0;36mcalc_square\u001b[0;34m(ab, ac, bc)\u001b[0m\n\u001b[1;32m      4\u001b[0m \u001b[38;5;28;01mdef\u001b[39;00m \u001b[38;5;21mcalc_square\u001b[39m(ab,ac,bc):\n\u001b[1;32m      5\u001b[0m     \u001b[38;5;28;01mif\u001b[39;00m ab\u001b[38;5;241m<\u001b[39m\u001b[38;5;241m=\u001b[39m\u001b[38;5;241m0\u001b[39m \u001b[38;5;129;01mor\u001b[39;00m ac\u001b[38;5;241m<\u001b[39m\u001b[38;5;241m=\u001b[39m\u001b[38;5;241m0\u001b[39m \u001b[38;5;129;01mor\u001b[39;00m bc\u001b[38;5;241m<\u001b[39m\u001b[38;5;241m=\u001b[39m\u001b[38;5;241m0\u001b[39m:\n\u001b[0;32m----> 6\u001b[0m         \u001b[38;5;28;01mraise\u001b[39;00m \u001b[38;5;167;01mValueError\u001b[39;00m(\u001b[38;5;124m'\u001b[39m\u001b[38;5;124mOne of the sides is less or equal to 0.\u001b[39m\u001b[38;5;124m'\u001b[39m)\n\u001b[1;32m      7\u001b[0m         \u001b[38;5;66;03m#В скобках описание исключения для клиентского кода \u001b[39;00m\n\u001b[1;32m      8\u001b[0m         \u001b[38;5;66;03m#ValueError - существующий тип\u001b[39;00m\n\u001b[1;32m      9\u001b[0m     p \u001b[38;5;241m=\u001b[39m (ab\u001b[38;5;241m+\u001b[39mac\u001b[38;5;241m+\u001b[39mbc)\u001b[38;5;241m/\u001b[39m\u001b[38;5;241m2\u001b[39m\n",
      "\u001b[0;31mValueError\u001b[0m: One of the sides is less or equal to 0."
     ]
    }
   ],
   "source": [
    "#raise\n",
    "#Нужно защитить функцию, возбудив исключение (здесь мы вносим исключения в какой-то \n",
    "# существующий тип ошибки)\n",
    "def calc_square(ab,ac,bc):\n",
    "    if ab<=0 or ac<=0 or bc<=0:\n",
    "        raise ValueError('One of the sides is less or equal to 0.')\n",
    "        #В скобках описание исключения для клиентского кода \n",
    "        #ValueError - существующий тип\n",
    "    p = (ab+ac+bc)/2\n",
    "    s = math.sqrt(p * (p - ab) * (p - ac) * (p - bc))\n",
    "    \n",
    "    return s\n",
    "square = calc_square(-2,10,10)\n",
    "print(square)\n",
    "#теперь с отрицательной стороной выдается ошибка, и мы можем устранить ее в try exc"
   ]
  },
  {
   "cell_type": "code",
   "execution_count": 18,
   "id": "9c41705b",
   "metadata": {},
   "outputs": [],
   "source": [
    "#В данном случае мы используем тип исключения, встроенный в стандартную библиотеку Py, \n",
    "# однако если мы хотим категоризировать ошибку (создать кастомный тип ошибки), воспользуемся \n",
    "# такой конструкцией с class создания кастомного типа ошибки.\n",
    "class InvalidTriangleError(Exception): #базовый тип Exception в скобках\n",
    "    \"\"\"Raised when a triangle has invaid sides\"\"\" \n",
    "#(dockstring) для информации\n",
    "#пока не вдаемся в суть этого кода, а просто запоминаем паттерн создания типа "
   ]
  },
  {
   "cell_type": "code",
   "execution_count": 21,
   "id": "be2b305c",
   "metadata": {},
   "outputs": [
    {
     "ename": "InvalidTriangleError",
     "evalue": "One of the sides is less or equal to 0.",
     "output_type": "error",
     "traceback": [
      "\u001b[0;31m---------------------------------------------------------------------------\u001b[0m",
      "\u001b[0;31mInvalidTriangleError\u001b[0m                      Traceback (most recent call last)",
      "Cell \u001b[0;32mIn[21], line 9\u001b[0m\n\u001b[1;32m      6\u001b[0m     s \u001b[38;5;241m=\u001b[39m math\u001b[38;5;241m.\u001b[39msqrt(p \u001b[38;5;241m*\u001b[39m (p \u001b[38;5;241m-\u001b[39m ab) \u001b[38;5;241m*\u001b[39m (p \u001b[38;5;241m-\u001b[39m ac) \u001b[38;5;241m*\u001b[39m (p \u001b[38;5;241m-\u001b[39m bc))\n\u001b[1;32m      8\u001b[0m     \u001b[38;5;28;01mreturn\u001b[39;00m s\n\u001b[0;32m----> 9\u001b[0m square \u001b[38;5;241m=\u001b[39m \u001b[43mcalc_square\u001b[49m\u001b[43m(\u001b[49m\u001b[38;5;241;43m-\u001b[39;49m\u001b[38;5;241;43m2\u001b[39;49m\u001b[43m,\u001b[49m\u001b[38;5;241;43m10\u001b[39;49m\u001b[43m,\u001b[49m\u001b[38;5;241;43m10\u001b[39;49m\u001b[43m)\u001b[49m\n\u001b[1;32m     10\u001b[0m \u001b[38;5;28mprint\u001b[39m(square)\n\u001b[1;32m     11\u001b[0m \u001b[38;5;28mprint\u001b[39m(square)\n",
      "Cell \u001b[0;32mIn[21], line 3\u001b[0m, in \u001b[0;36mcalc_square\u001b[0;34m(ab, ac, bc)\u001b[0m\n\u001b[1;32m      1\u001b[0m \u001b[38;5;28;01mdef\u001b[39;00m \u001b[38;5;21mcalc_square\u001b[39m(ab,ac,bc):\n\u001b[1;32m      2\u001b[0m     \u001b[38;5;28;01mif\u001b[39;00m ab\u001b[38;5;241m<\u001b[39m\u001b[38;5;241m=\u001b[39m\u001b[38;5;241m0\u001b[39m \u001b[38;5;129;01mor\u001b[39;00m ac\u001b[38;5;241m<\u001b[39m\u001b[38;5;241m=\u001b[39m\u001b[38;5;241m0\u001b[39m \u001b[38;5;129;01mor\u001b[39;00m bc\u001b[38;5;241m<\u001b[39m\u001b[38;5;241m=\u001b[39m\u001b[38;5;241m0\u001b[39m:\n\u001b[0;32m----> 3\u001b[0m         \u001b[38;5;28;01mraise\u001b[39;00m InvalidTriangleError(\u001b[38;5;124m'\u001b[39m\u001b[38;5;124mOne of the sides is less or equal to 0.\u001b[39m\u001b[38;5;124m'\u001b[39m)\n\u001b[1;32m      5\u001b[0m     p \u001b[38;5;241m=\u001b[39m (ab\u001b[38;5;241m+\u001b[39mac\u001b[38;5;241m+\u001b[39mbc)\u001b[38;5;241m/\u001b[39m\u001b[38;5;241m2\u001b[39m\n\u001b[1;32m      6\u001b[0m     s \u001b[38;5;241m=\u001b[39m math\u001b[38;5;241m.\u001b[39msqrt(p \u001b[38;5;241m*\u001b[39m (p \u001b[38;5;241m-\u001b[39m ab) \u001b[38;5;241m*\u001b[39m (p \u001b[38;5;241m-\u001b[39m ac) \u001b[38;5;241m*\u001b[39m (p \u001b[38;5;241m-\u001b[39m bc))\n",
      "\u001b[0;31mInvalidTriangleError\u001b[0m: One of the sides is less or equal to 0."
     ]
    }
   ],
   "source": [
    "def calc_square(ab,ac,bc):\n",
    "    if ab<=0 or ac<=0 or bc<=0:\n",
    "        raise InvalidTriangleError('One of the sides is less or equal to 0.')\n",
    "        \n",
    "    p = (ab+ac+bc)/2\n",
    "    s = math.sqrt(p * (p - ab) * (p - ac) * (p - bc))\n",
    "    \n",
    "    return s\n",
    "square = calc_square(-2,10,10)\n",
    "print(square)\n",
    "print(square)\n",
    "#теперь получаем наш кастомный тип "
   ]
  },
  {
   "cell_type": "code",
   "execution_count": 25,
   "id": "fd9e93f1",
   "metadata": {},
   "outputs": [
    {
     "name": "stdout",
     "output_type": "stream",
     "text": [
      "One of the sides is less or equal to 0.\n"
     ]
    }
   ],
   "source": [
    "#Кастомные исключения обрабатываются точно так же как и встроенные \n",
    "try: \n",
    "    square = calc_square(-1,10,10)\n",
    "except InvalidTriangleError as ex:\n",
    "    print(ex) #!тут выводится наше описание\n",
    "else:\n",
    "    print(square)"
   ]
  },
  {
   "cell_type": "code",
   "execution_count": 33,
   "id": "ba8d6bf1",
   "metadata": {},
   "outputs": [
    {
     "name": "stdout",
     "output_type": "stream",
     "text": [
      "4.993746088859544\n"
     ]
    }
   ],
   "source": [
    "try: \n",
    "    square = calc_square(1,10,10)\n",
    "except InvalidTriangleError as ex:\n",
    "    print(ex) #!тут выводится наше описание\n",
    "else:\n",
    "    print(square)"
   ]
  },
  {
   "cell_type": "code",
   "execution_count": null,
   "id": "a8f6977d",
   "metadata": {},
   "outputs": [],
   "source": [
    "# МЫ ЗДЕССЬ НЕ УЧИТЫВАЕМ НЕРАВЕНСТВО ТРЕУГОЛЬНИКА "
   ]
  }
 ],
 "metadata": {
  "kernelspec": {
   "display_name": "Python 3 (ipykernel)",
   "language": "python",
   "name": "python3"
  },
  "language_info": {
   "codemirror_mode": {
    "name": "ipython",
    "version": 3
   },
   "file_extension": ".py",
   "mimetype": "text/x-python",
   "name": "python",
   "nbconvert_exporter": "python",
   "pygments_lexer": "ipython3",
   "version": "3.10.9"
  }
 },
 "nbformat": 4,
 "nbformat_minor": 5
}
