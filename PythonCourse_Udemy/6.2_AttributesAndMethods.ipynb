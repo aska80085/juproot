{
 "cells": [
  {
   "cell_type": "code",
   "execution_count": 65,
   "id": "eec3e693",
   "metadata": {},
   "outputs": [],
   "source": [
    "class Character():\n",
    "    \n",
    "    #Атрибуты уровня класса - статические (константные)\n",
    "    MAX_SPEED = 100\n",
    "    DEAD_HEALTH = 0\n",
    "    \n",
    "    def __init__(self, race, damage=10, armor=20):\n",
    "        \n",
    "        #Атрибуты уровня инстанции, то есть ими можно пользоваться только после создания экземпляра \n",
    "        self.race = race\n",
    "        self.damage = damage\n",
    "        self.armor = armor\n",
    "        self.health = 100 #уровень жизни персонажа, !не задаем его извне \n",
    "        \n",
    "    #Операции класса (Методы)\n",
    "    \n",
    "    #(по персонажу можно нанести удар урона damage) \n",
    "    def hit(self, damage): #каждый метод уровня инстанции принимает в качестве 1 аргумента self,\n",
    "#а дальше позиционные аргументы \n",
    "        self.health -= damage \n",
    "    \n",
    "    #(проверяем, умер ли персонаж)\n",
    "    def is_dead(self):\n",
    "        return self.health <= Character.dead_health\n",
    "        \n",
    "#уРоВень инстанции - то бишь относящийся собственно к объекту класса а не к классу в общем "
   ]
  },
  {
   "cell_type": "code",
   "execution_count": 66,
   "id": "f6993e2f",
   "metadata": {},
   "outputs": [
    {
     "name": "stdout",
     "output_type": "stream",
     "text": [
      "100\n",
      "Orc\n"
     ]
    }
   ],
   "source": [
    "unit = Character('Orc')\n",
    "\n",
    "print(Character.max_speed) #независимо от экземпляра\n",
    "print(unit.race) #зависимо от экземпляра; Character.race - ошибка"
   ]
  },
  {
   "cell_type": "code",
   "execution_count": 67,
   "id": "a99370e3",
   "metadata": {},
   "outputs": [
    {
     "name": "stdout",
     "output_type": "stream",
     "text": [
      "80\n"
     ]
    },
    {
     "data": {
      "text/plain": [
       "False"
      ]
     },
     "execution_count": 67,
     "metadata": {},
     "output_type": "execute_result"
    }
   ],
   "source": [
    "unit.hit(20)\n",
    "print(unit.health)\n",
    "unit.is_dead() #!этот метод - функция, нужны скобки"
   ]
  },
  {
   "cell_type": "code",
   "execution_count": 68,
   "id": "d304123c",
   "metadata": {},
   "outputs": [
    {
     "name": "stdout",
     "output_type": "stream",
     "text": [
      "0 True\n"
     ]
    }
   ],
   "source": [
    "unit.hit(80)\n",
    "print(unit.health, unit.is_dead())"
   ]
  },
  {
   "cell_type": "code",
   "execution_count": 69,
   "id": "9cfd7fb4",
   "metadata": {},
   "outputs": [
    {
     "name": "stdout",
     "output_type": "stream",
     "text": [
      "-200\n"
     ]
    }
   ],
   "source": [
    "#ну и чета там про приватные атрибуты\n",
    "#!атрибут health мы задавали статически, то есть не давали возможности его видоизменять вручную\n",
    "unit.health = -200 \n",
    "print(unit.health)\n",
    "#короче так можно значит атрибут не приватный и эта плохо\n",
    "\n",
    "#об этом в следущей лекции "
   ]
  },
  {
   "cell_type": "code",
   "execution_count": null,
   "id": "23bbec8f",
   "metadata": {},
   "outputs": [],
   "source": [
    "#скрывать атрибуты мы все-так можем\n",
    "#защищенные атрибуты - такие, к которым есть доступ в классах наследниках\n",
    "#приватные атрибуты - такие, к которым есть доступ только в классе, который объявил атрибут"
   ]
  }
 ],
 "metadata": {
  "kernelspec": {
   "display_name": "Python 3 (ipykernel)",
   "language": "python",
   "name": "python3"
  },
  "language_info": {
   "codemirror_mode": {
    "name": "ipython",
    "version": 3
   },
   "file_extension": ".py",
   "mimetype": "text/x-python",
   "name": "python",
   "nbconvert_exporter": "python",
   "pygments_lexer": "ipython3",
   "version": "3.10.9"
  }
 },
 "nbformat": 4,
 "nbformat_minor": 5
}
