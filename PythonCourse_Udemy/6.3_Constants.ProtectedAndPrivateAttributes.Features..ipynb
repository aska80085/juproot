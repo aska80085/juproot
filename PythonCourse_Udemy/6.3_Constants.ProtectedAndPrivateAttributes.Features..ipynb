{
 "cells": [
  {
   "cell_type": "code",
   "execution_count": 2,
   "id": "d5e68d30",
   "metadata": {},
   "outputs": [],
   "source": [
    "#Константы. Защищенные и приватные атрибуты. Свойства."
   ]
  },
  {
   "cell_type": "code",
   "execution_count": 6,
   "id": "f0a52da4",
   "metadata": {},
   "outputs": [],
   "source": [
    "class Character():\n",
    "    \n",
    "    #Статические атрибуты (на уроване классов) - константы (!по соглашению определяются заглавными буквами)\n",
    "    MAX_SPEED = 100\n",
    "    \n",
    "    def __init__(self, race, damage=10):\n",
    "        self.damage = damage \n",
    "        \n",
    "        self.race = race        "
   ]
  },
  {
   "cell_type": "code",
   "execution_count": 7,
   "id": "2ba3ac16",
   "metadata": {},
   "outputs": [
    {
     "name": "stdout",
     "output_type": "stream",
     "text": [
      "100\n"
     ]
    }
   ],
   "source": [
    "print(Character.MAX_SPEED)"
   ]
  },
  {
   "cell_type": "code",
   "execution_count": 8,
   "id": "81aff721",
   "metadata": {},
   "outputs": [
    {
     "name": "stdout",
     "output_type": "stream",
     "text": [
      "10\n"
     ]
    }
   ],
   "source": [
    "Character.MAX_SPEED = 10\n",
    "print(Character.MAX_SPEED)\n",
    "#но мы можем блин изменить эту константу (what????)\n",
    "\n",
    "#Пайтону типа пох на все эти ваши концепции приватности, здесь все базируется на соглашениях, т е если другие \n",
    "# пайтон-программисты видят переменную, прописанную капслоком, значит эта константа, в которую лезть не надо"
   ]
  },
  {
   "cell_type": "code",
   "execution_count": 9,
   "id": "81eb47fe",
   "metadata": {},
   "outputs": [],
   "source": [
    "#На уровне объекта класса (на уровне инстанции) есть концепция защищенных и приватных атрибутов, базирующаяся на \n",
    "# соглашении об именовании:\n",
    "\n",
    "#Защищенные атрибутеы - такие, которые не должны использоваться извне, но могут быть использованы наследниками\n",
    "# Для их объявления соглашение предписывает создавать такие атрибуты с одним '_' по типу 'self._atr'\n",
    "\n",
    "#Приватные атрибуты - такие, которые не могут быть использованы ни извне, ни в наследниках (могут быть использованы \n",
    "# только внутри класса, который их объявляет)\n",
    "# Для их объявления соглашение предписывает создавать такие атрибуты с двумя '_' по типу 'self.__atr'\n",
    "\n",
    "#!для различия стоит обратиться к предыдущему ноутбуку, там в классе Character атрибут уровня инстанции self.health \n",
    "# используется в наследнике hit(self,damage), но доступ к нему извне не рекомендуем, поэтому этот атрибут должен\n",
    "# быть защищенным"
   ]
  },
  {
   "cell_type": "code",
   "execution_count": 10,
   "id": "89c4dcfb",
   "metadata": {},
   "outputs": [],
   "source": [
    "class Character():\n",
    "    \n",
    "    #Статические атрибуты (на уроване классов) - константы (!по соглашению определяются заглавными буквами)\n",
    "    MAX_SPEED = 100\n",
    "    \n",
    "    def __init__(self, race, damage=10):\n",
    "        self.damage = damage \n",
    "        self.__race = race #объявим рассу приватной\n",
    "        self._health = 100 #объявм здоровье защищенным \n",
    "    \n",
    "    def hit(self, damage): #НАСЛЕДНИК \n",
    "        self._health -= damage"
   ]
  },
  {
   "cell_type": "code",
   "execution_count": 11,
   "id": "e5651ae4",
   "metadata": {},
   "outputs": [
    {
     "name": "stdout",
     "output_type": "stream",
     "text": [
      "Orc\n",
      "0\n"
     ]
    }
   ],
   "source": [
    "#Python для атрибутов с '__' включает производит  name mangling, т е он запутывает это имя и теперь \n",
    "# атрибут __race во внутренней репрезентации теперь не '__race' а '_Character__race'\n",
    "\n",
    "c = Character('Elf')\n",
    "\n",
    "#И если мы хотим получить доступ к такому атрибуту и переписать в нем значение,\n",
    "# используем синтаксис 'c._Character__race'\n",
    "c._Character__race = 'Orc'\n",
    "print(c._Character__race) #! c.__race - ошибка\n",
    "\n",
    "#Для атрибутов с '_' name mangling'a не происходит, и получить к ним доступ или их изменять (опять же не\n",
    "# рекомендуется, но) можно простым синтаксисом 'c._health' в данном случае\n",
    "c._health = 0\n",
    "print(c._health)"
   ]
  },
  {
   "cell_type": "code",
   "execution_count": 12,
   "id": "fa00438c",
   "metadata": {},
   "outputs": [],
   "source": [
    "#Т е в пайтоне нет таких атрибутов, в которые совсем нельзя залезть, однако если имя искажается вроде как в примере \n",
    "# выше, то изменять его, по соглашению, действительно не стоит, но можно в редких случаях прочитать"
   ]
  },
  {
   "cell_type": "code",
   "execution_count": 13,
   "id": "9594e5da",
   "metadata": {},
   "outputs": [
    {
     "name": "stdout",
     "output_type": "stream",
     "text": [
      "100\n",
      "Elf\n"
     ]
    }
   ],
   "source": [
    "#Python предоставляет другую интересную возможность - свойства - нечто среднее между методами и атрибутами \n",
    "\n",
    "#Например пусть мы хотим дать доступ к чтению атрибутов, перед которыми выставлено '_' или '__':\n",
    "# для этого используем декоратор @property и определим свойства health(self) и race(self)\n",
    "\n",
    "class Character():\n",
    "    \n",
    "    MAX_SPEED = 100\n",
    "    \n",
    "    def __init__(self, race, damage=10):\n",
    "        self.damage = damage \n",
    "        \n",
    "        self.__race = race \n",
    "        self._health = 100 \n",
    "    \n",
    "    def hit(self, damage): \n",
    "        self._health -= damage\n",
    "    \n",
    "    @property  #!Без декоратора вывод будет некорректным \n",
    "    def race(self):\n",
    "        return self.__race #изнутри класса мы можем обрашаться к приватному аттрибуту как обычно через 2 подчеркивания\n",
    "# (можем изменять и читать)\n",
    "    \n",
    "    @property\n",
    "    def health(self):\n",
    "        return self._health\n",
    "    \n",
    "c = Character('Elf')\n",
    "print(c.health)\n",
    "print(c.race)\n",
    "\n",
    "#При этом что-то переназначить мы по-прежнему не можем, и\n",
    "# c.healh = num или c.race = num - ошибки"
   ]
  },
  {
   "cell_type": "code",
   "execution_count": 14,
   "id": "ee699d43",
   "metadata": {},
   "outputs": [
    {
     "name": "stdout",
     "output_type": "stream",
     "text": [
      "20\n",
      "100\n",
      "0\n"
     ]
    }
   ],
   "source": [
    "#Как правило, в свойствах прописывают логику, например пусть нам у нас есть атрибут __current_speed и мы не хотим \n",
    "# давать прямой доступ к этому атрибуту, но например мы хотим дать доступ прописывать в него значения от 0 и до 100 (!)\n",
    "# (а так же дать возможность к чтению).\n",
    "\n",
    "class Character():\n",
    "    \n",
    "    MAX_SPEED = 100\n",
    "    \n",
    "    def __init__(self, race, damage=10):\n",
    "        self.damage = damage\n",
    "        \n",
    "        self.__race = race \n",
    "        self._health = 100 \n",
    "        \n",
    "        self._current_speed = 20\n",
    "    \n",
    "    def hit(self, damage): \n",
    "        self._health -= damage\n",
    "    \n",
    "    @property  #!Без декоратора вывод будет некорректным \n",
    "    def race(self):\n",
    "        return self.__race #изнутри класса мы можем обрашаться к приватному аттрибуту как обычно через 2 подчеркивания\n",
    "    \n",
    "    @property\n",
    "    def health(self):\n",
    "        return self._health\n",
    "\n",
    "\n",
    "    @property\n",
    "    def current_speed(self):\n",
    "        return self._current_speed\n",
    "    \n",
    "    #(!)Синтаксис свойства для ограниченного ввода значений:\n",
    "    @current_speed.setter #'имя атрибута'.setter; !без декоратора не работают ограничения\n",
    "    def current_speed(self, current_speed): #имя свойства и имя в декораторе должны совпадать, \n",
    "#2-ой аргумент - значение скорости, то есть значение, которое передается в правой части при присваивании нового знач\n",
    "        if current_speed < 0:\n",
    "            self._current_speed = 0\n",
    "        elif current_speed > 100: \n",
    "            self._current_speed = 100\n",
    "        else: \n",
    "            self._current_speed = current_speed\n",
    "\n",
    "c = Character('Elf')\n",
    "\n",
    "c.current_speed = 20\n",
    "print(c.current_speed)\n",
    "c.current_speed = 1000\n",
    "print(c.current_speed)\n",
    "c.current_speed = -10\n",
    "print(c.current_speed)\n",
    "\n",
    "#То есть теперь семантически наш код защищен от всяких глупостей (типа отрицательной скорости или слишком большой)"
   ]
  },
  {
   "cell_type": "code",
   "execution_count": 15,
   "id": "5a5be3e2",
   "metadata": {},
   "outputs": [],
   "source": [
    "#То есть при помощи свойств, мы можем сделать так, чтобы атрибут можно было прочитать, но нельзя было напрямую \n",
    "# изменить, или например так, чтобы атрибут можно было менять только так, как нам хочется.\n",
    "\n",
    "#!Свойства не создаются просто так, и не следует делать все атрибуты свойствами; синтаксис доступа напрямую к атрибуту \n",
    "# от синтаксиса доступа через свойства ничем не отличается, соответственно свойства можно объявлять\n",
    "# !только после того как нам потербовалось сделать атрибут защищенным или приватным чтобы дальнейший код оставался \n",
    "# работоспособным"
   ]
  }
 ],
 "metadata": {
  "kernelspec": {
   "display_name": "Python 3 (ipykernel)",
   "language": "python",
   "name": "python3"
  },
  "language_info": {
   "codemirror_mode": {
    "name": "ipython",
    "version": 3
   },
   "file_extension": ".py",
   "mimetype": "text/x-python",
   "name": "python",
   "nbconvert_exporter": "python",
   "pygments_lexer": "ipython3",
   "version": "3.10.9"
  }
 },
 "nbformat": 4,
 "nbformat_minor": 5
}
