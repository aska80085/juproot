{
 "cells": [
  {
   "cell_type": "code",
   "execution_count": 3,
   "id": "614aab5c",
   "metadata": {
    "scrolled": true
   },
   "outputs": [
    {
     "name": "stdout",
     "output_type": "stream",
     "text": [
      "hello world\n",
      "hello world\n",
      "hello world \n"
     ]
    }
   ],
   "source": [
    "#коммутация\n",
    "a='hello' ; b='world'\n",
    "print(a+' '+b) #(1)\n",
    "print('%s %s'%(a,b))\n",
    "print('{} {} '.format(a,b))\n",
    "#the same result, but in 1 case more memory load"
   ]
  },
  {
   "cell_type": "code",
   "execution_count": 1,
   "id": "c9fbc2ad",
   "metadata": {},
   "outputs": [
    {
     "name": "stdout",
     "output_type": "stream",
     "text": [
      "My name is Alice and I'm \"strong\" programmer\n"
     ]
    }
   ],
   "source": [
    "#экранирование ковычек\n",
    "print(\"My name is Alice and I'm \\\"strong\\\" programmer\")"
   ]
  },
  {
   "cell_type": "code",
   "execution_count": 28,
   "id": "feb23e50",
   "metadata": {},
   "outputs": [],
   "source": [
    "#обратный слеш так же нужно экранировать, иногда во избежиание этого в указании пути к файлу используем \n",
    "# r'' или f''\n",
    "\n"
   ]
  },
  {
   "cell_type": "code",
   "execution_count": 25,
   "id": "275ea912",
   "metadata": {},
   "outputs": [
    {
     "name": "stdout",
     "output_type": "stream",
     "text": [
      "\thello\n",
      "riri\n"
     ]
    }
   ],
   "source": [
    "#\\n - переход к новому абзацу; \\t - табуляция; \\r - каретки какие-то я не понял\n",
    "print('\\thello\\nriri')"
   ]
  },
  {
   "cell_type": "code",
   "execution_count": 26,
   "id": "55c99be0",
   "metadata": {},
   "outputs": [
    {
     "name": "stdout",
     "output_type": "stream",
     "text": [
      "r\n",
      "kiri\n",
      "ir\n"
     ]
    }
   ],
   "source": [
    "# обращение к индексам срезы и тп\n",
    "f='riri'\n",
    "print(f[0])\n",
    "print('k'+f[1:])\n",
    "print(f[1:3])"
   ]
  }
 ],
 "metadata": {
  "kernelspec": {
   "display_name": "Python 3 (ipykernel)",
   "language": "python",
   "name": "python3"
  },
  "language_info": {
   "codemirror_mode": {
    "name": "ipython",
    "version": 3
   },
   "file_extension": ".py",
   "mimetype": "text/x-python",
   "name": "python",
   "nbconvert_exporter": "python",
   "pygments_lexer": "ipython3",
   "version": "3.10.9"
  }
 },
 "nbformat": 4,
 "nbformat_minor": 5
}
