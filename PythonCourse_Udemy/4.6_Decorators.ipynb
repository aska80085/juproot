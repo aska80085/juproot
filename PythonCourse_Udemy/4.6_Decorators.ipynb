{
 "cells": [
  {
   "cell_type": "code",
   "execution_count": 1,
   "id": "40659a21",
   "metadata": {},
   "outputs": [],
   "source": [
    "#!!!!ДЕКОРАТОРЫ БЛИН ЧЕ ЭТО ВООБЩЕ Я ЗАБЫЛ"
   ]
  },
  {
   "cell_type": "code",
   "execution_count": 6,
   "id": "ff3f4945",
   "metadata": {},
   "outputs": [
    {
     "name": "stdout",
     "output_type": "stream",
     "text": [
      "Hello world!\n"
     ]
    }
   ],
   "source": [
    "#функции в питоне - полноценные объекты, это значит что функции могут быть присвоены переменным,\n",
    "#возвращены из функции и функции могут быть переданы в функцию в качестве аргумента \n",
    "def hello_world():\n",
    "    print('Hello world!')\n",
    "hello_world()\n",
    "#здесь мы просто задали функцию"
   ]
  },
  {
   "cell_type": "code",
   "execution_count": 12,
   "id": "e77d021e",
   "metadata": {},
   "outputs": [
    {
     "name": "stdout",
     "output_type": "stream",
     "text": [
      "Hello world!\n"
     ]
    }
   ],
   "source": [
    "#Присвоение функции переменным\n",
    "\n",
    "hello2 = hello_world # не прописываем круглые скобки, т е не вызываем функцию, а присваивам\n",
    "# ссылку на функцию переменной \n",
    "hello2()"
   ]
  },
  {
   "cell_type": "code",
   "execution_count": 19,
   "id": "cbc3f1f5",
   "metadata": {},
   "outputs": [
    {
     "name": "stdout",
     "output_type": "stream",
     "text": [
      "Hello world!\n"
     ]
    }
   ],
   "source": [
    "#Возвращение функции из функции\n",
    "\n",
    "def hello_world():\n",
    "    def internal():\n",
    "        print('Hello world!')\n",
    "    return internal #непосредственно возвращение \n",
    "\n",
    "hello2 = hello_world() #из функции hello_world возвращается функция internal и присваивается \n",
    "# перерменной hello2, вызывая hello2() получаем print('Hello world')\n",
    "hello2()\n",
    "\n",
    "#возвращаемая внутри функции функция необязательно должна быть вложенной, она может быть вне ф\n",
    "# функции"
   ]
  },
  {
   "cell_type": "code",
   "execution_count": 21,
   "id": "dfddaf76",
   "metadata": {},
   "outputs": [
    {
     "name": "stdout",
     "output_type": "stream",
     "text": [
      "Hello world!\n"
     ]
    }
   ],
   "source": [
    "#Принятие функцией других функций в качестве аргументов \n",
    "\n",
    "def say_something(func):\n",
    "    func()\n",
    "def hello_world():\n",
    "    print('Hello world!')\n",
    "say_something(hello_world) # передаем ссылку на функцию  hello_world и эта функция вызывается \n",
    "# функцией say_something"
   ]
  },
  {
   "cell_type": "code",
   "execution_count": 41,
   "id": "5b2eb694",
   "metadata": {},
   "outputs": [
    {
     "name": "stdout",
     "output_type": "stream",
     "text": [
      "Calling func <function hello at 0x7fce67baa710>\n",
      "Hello world!\n",
      "Func <function hello at 0x7fce67baa710> finished its work\n",
      "\n",
      "Calling func <function hello at 0x7fce67baa710>\n",
      "Hello world!\n",
      "Func <function hello at 0x7fce67baa710> finished its work\n"
     ]
    }
   ],
   "source": [
    "#Декораторы - функции, содержащие в себе некую обертку (wrapper), с помощью которой можно \n",
    "# обернуть функцию передаваемую в качестве аргумента\n",
    "\n",
    "#Декоратор, логирующий начало и конец вызова функции  :\n",
    "#(*)\n",
    "def log_decorator(func):\n",
    "    def wrap():\n",
    "        print(f'Calling func {func}')\n",
    "        func()\n",
    "        print(f'Func {func} finished its work')\n",
    "    return wrap\n",
    "def hello():\n",
    "    print('Hello world!')\n",
    "log_decorator(hello)() # здесь без скобок выводится местоположение функции или что это, \n",
    "# ПОТОМУ ЧТО МЫ РЕТУРНИМ ИННЕР БЕЗ СКОБОК БЛЯТЬ\n",
    "print('')\n",
    "#Либо делаем так:\n",
    "wrapped_by_logger = log_decorator(hello)\n",
    "wrapped_by_logger()\n",
    "\n",
    "#я пень"
   ]
  },
  {
   "cell_type": "code",
   "execution_count": 53,
   "id": "b1a98a98",
   "metadata": {},
   "outputs": [
    {
     "name": "stdout",
     "output_type": "stream",
     "text": [
      "Calling func <function hello at 0x7fce67baa290>\n",
      "hello world!\n",
      "Func <function hello at 0x7fce67baa290> finished its work\n",
      "\n",
      "sdasdasdasdasdas\n"
     ]
    }
   ],
   "source": [
    "#Мы использовали декоратор в ручную, однако пай упрощает использование декоратора с помощью\n",
    "# значка at и специального синтаксиса\n",
    "#Ну крч так надо чтобы не использовать ту дебильную фигню с двумя скобками вот\n",
    "\n",
    "@log_decorator #ставим собачку перед декоратором\n",
    "def hello():\n",
    "    print('hello world!')\n",
    "hello()\n",
    "print('')\n",
    "def helllo(): print('sdasdasdasdasdas')\n",
    "helllo()\n",
    "#декораторы по принципу сверху навешиваются на каждую отдельную функцию\n",
    "\n",
    "#log_decorator можно использовать для вывода времени вызова и завершения работы функции\n",
    "# и если у нас например 1000 функций не нужно писать 2000 таких строк а просто навешивать\n",
    "# декоратор"
   ]
  },
  {
   "cell_type": "code",
   "execution_count": 54,
   "id": "9da6fd17",
   "metadata": {},
   "outputs": [],
   "source": [
    "# декораторы нужны во фласк и джанго - это такие фреймворки\n",
    "#Фреймворк (англ. framework — «каркас, структура») — готовый набор инструментов, который\n",
    "# помогает разработчику быстро создать продукт: сайт, приложение, интернет-магазин, CMS-систему."
   ]
  },
  {
   "cell_type": "code",
   "execution_count": 69,
   "id": "30d4591d",
   "metadata": {},
   "outputs": [
    {
     "name": "stdout",
     "output_type": "stream",
     "text": [
      "1\n",
      "2\n",
      "3\n",
      "c 1\n",
      "a 2\n"
     ]
    }
   ],
   "source": [
    "def inner(*args, **kwargs):\n",
    "    [print(i) for i in args]\n",
    "    [print(k,v) for k,v in kwargs.items()]\n",
    "inner(1,2,3,c=1,a=2)"
   ]
  },
  {
   "cell_type": "code",
   "execution_count": 70,
   "id": "a583abd6",
   "metadata": {},
   "outputs": [],
   "source": [
    "#Декоратор, который будет зазасекать время выполнения функции \n",
    "from timeit import default_timer as timer\n",
    "import math\n",
    "import time\n",
    "\n",
    "def measure_time(func):\n",
    "    def inner(*args, **kwargs): #передаем любые аргументы \n",
    "        start = timer()\n",
    "        \n",
    "        func(*args, **kwargs) #аргументы передаем со звездочками, args kwargs можно пропихивать\n",
    "# в подфункции таким способом\n",
    "\n",
    "        end = timer()\n",
    "    \n",
    "        print(f'Function {func.__name__} took {end-start} for execution')\n",
    "    return inner"
   ]
  },
  {
   "cell_type": "code",
   "execution_count": 78,
   "id": "9e403cbc",
   "metadata": {},
   "outputs": [
    {
     "name": "stdout",
     "output_type": "stream",
     "text": [
      "93326215443944152681699238856266700490715968264381621468592963895217599993229915608941463976156518286253697920827223758251185210916864000000000000000000000000\n",
      "Function factorial took 0.0006176400056574494 for execution\n"
     ]
    }
   ],
   "source": [
    "@measure_time \n",
    "def factorial(num):\n",
    "    print(math.factorial(num))\n",
    "factorial(100)"
   ]
  },
  {
   "cell_type": "code",
   "execution_count": 79,
   "id": "524436a7",
   "metadata": {},
   "outputs": [
    {
     "name": "stdout",
     "output_type": "stream",
     "text": [
      "93326215443944152681699238856266700490715968264381621468592963895217599993229915608941463976156518286253697920827223758251185210916864000000000000000000000000\n",
      "Function factorial took 3.0010003770003095 for execution\n"
     ]
    }
   ],
   "source": [
    "@measure_time \n",
    "def factorial(num):\n",
    "    time.sleep(3) # функция спит 3 секунды\n",
    "    print(math.factorial(num))\n",
    "factorial(100)"
   ]
  },
  {
   "cell_type": "code",
   "execution_count": 84,
   "id": "d9216fdd",
   "metadata": {},
   "outputs": [
    {
     "name": "stdout",
     "output_type": "stream",
     "text": [
      "Calling func <function hello at 0x7fce67f78820>\n",
      "Hello world!\n",
      "Func <function hello at 0x7fce67f78820> finished its work\n"
     ]
    }
   ],
   "source": [
    "#Из (*) короче можно делать так, но оберточная функция декоратора позволяет нам использзовать\n",
    "# синтаксис с @\n",
    "\n",
    "def wrap(func):\n",
    "    print(f'Calling func {func}')\n",
    "    func()\n",
    "    print(f'Func {func} finished its work')\n",
    "\n",
    "def hello():\n",
    "    print('Hello world!')\n",
    "\n",
    "wrap(hello)\n",
    "\n",
    "#@wrap\n",
    "#def hello():\n",
    "#    print('Hello world!')\n",
    "#hello()                    --- ошибка"
   ]
  },
  {
   "cell_type": "code",
   "execution_count": 101,
   "id": "5ce5eb5d",
   "metadata": {},
   "outputs": [
    {
     "name": "stdout",
     "output_type": "stream",
     "text": [
      "6\n",
      "[3, 4, 5, 6]\n"
     ]
    }
   ],
   "source": [
    "#это просто по преколу\n",
    "\n",
    "list_x = ['1','2','3']\n",
    "#print(sum(list_x)) - error\n",
    "print(sum(list(map(lambda x: int(x),list_x))))\n",
    "\n",
    "list_x = [1,2,3,4,5,6]\n",
    "print(list(filter(lambda x: x>=3, list_x)))"
   ]
  },
  {
   "cell_type": "code",
   "execution_count": null,
   "id": "68af914c",
   "metadata": {},
   "outputs": [],
   "source": []
  }
 ],
 "metadata": {
  "kernelspec": {
   "display_name": "Python 3 (ipykernel)",
   "language": "python",
   "name": "python3"
  },
  "language_info": {
   "codemirror_mode": {
    "name": "ipython",
    "version": 3
   },
   "file_extension": ".py",
   "mimetype": "text/x-python",
   "name": "python",
   "nbconvert_exporter": "python",
   "pygments_lexer": "ipython3",
   "version": "3.10.9"
  }
 },
 "nbformat": 4,
 "nbformat_minor": 5
}
