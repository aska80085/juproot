{
 "cells": [
  {
   "cell_type": "code",
   "execution_count": 1,
   "id": "70f70312",
   "metadata": {},
   "outputs": [
    {
     "name": "stdout",
     "output_type": "stream",
     "text": [
      "indeed, true.\n",
      "3 is grater than 2\n"
     ]
    }
   ],
   "source": [
    "if True: print('indeed, true.')\n",
    "if 3>2:print('3 is grater than 2')"
   ]
  },
  {
   "cell_type": "code",
   "execution_count": 2,
   "id": "9dc8b624",
   "metadata": {},
   "outputs": [
    {
     "name": "stdout",
     "output_type": "stream",
     "text": [
      "ты ебанутый?\n"
     ]
    }
   ],
   "source": [
    "if 3>4: print(2313213)\n",
    "else:print('ты ебанутый?')"
   ]
  },
  {
   "cell_type": "code",
   "execution_count": 3,
   "id": "df706394",
   "metadata": {},
   "outputs": [
    {
     "name": "stdout",
     "output_type": "stream",
     "text": [
      "admin's time\n"
     ]
    }
   ],
   "source": [
    "is_admin = True \n",
    "if is_admin: print(\"admin's time\")"
   ]
  },
  {
   "cell_type": "code",
   "execution_count": 9,
   "id": "e50c999a",
   "metadata": {},
   "outputs": [
    {
     "name": "stdout",
     "output_type": "stream",
     "text": [
      "ereer\n",
      "Hmm.. it seems we have a new race\n"
     ]
    }
   ],
   "source": [
    "selected_character = input()\n",
    "if selected_character == 'Protos':\n",
    "    print('Protos is the most powerful race')\n",
    "elif selected_character == 'Zerg':\n",
    "    print('Zerg is the most weak race, bit it aspreads like a plague')\n",
    "elif selected_character == 'Terrain': \n",
    "    print('Terrain is a race balaced between Zerg and Protos')\n",
    "else: \n",
    "    print('Hmm.. it seems we have a new race')"
   ]
  },
  {
   "cell_type": "code",
   "execution_count": 10,
   "id": "32abfbcc",
   "metadata": {},
   "outputs": [],
   "source": [
    "#нахуй я вообще все это пишу не знаю"
   ]
  },
  {
   "cell_type": "code",
   "execution_count": null,
   "id": "3f028f00",
   "metadata": {},
   "outputs": [],
   "source": []
  }
 ],
 "metadata": {
  "kernelspec": {
   "display_name": "Python 3 (ipykernel)",
   "language": "python",
   "name": "python3"
  },
  "language_info": {
   "codemirror_mode": {
    "name": "ipython",
    "version": 3
   },
   "file_extension": ".py",
   "mimetype": "text/x-python",
   "name": "python",
   "nbconvert_exporter": "python",
   "pygments_lexer": "ipython3",
   "version": "3.10.9"
  }
 },
 "nbformat": 4,
 "nbformat_minor": 5
}
