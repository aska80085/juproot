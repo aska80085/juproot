{
 "cells": [
  {
   "cell_type": "code",
   "execution_count": 2,
   "id": "305eb719",
   "metadata": {},
   "outputs": [
    {
     "name": "stdout",
     "output_type": "stream",
     "text": [
      "['H', 'e', 'l', 'l', 'o', ',', ' ', 'w', 'o', 'r', 'l', 'd']\n"
     ]
    }
   ],
   "source": [
    "#comprehension позволяет в декларативном стиле инициализировать списки\n",
    "greeting = \"Hello, world\"\n",
    "chars = []\n",
    "for l in greeting: \n",
    "    chars.append(l)\n",
    "print(chars)"
   ]
  },
  {
   "cell_type": "code",
   "execution_count": 3,
   "id": "227585aa",
   "metadata": {},
   "outputs": [
    {
     "data": {
      "text/plain": [
       "['H', 'e', 'l', 'l', 'o', ',', ' ', 'w', 'o', 'r', 'l', 'd']"
      ]
     },
     "execution_count": 3,
     "metadata": {},
     "output_type": "execute_result"
    }
   ],
   "source": [
    "#используя list-cmprehension это можно сделать в одну строчку \n",
    "chars = [l for l in greeting]\n",
    "chars"
   ]
  },
  {
   "cell_type": "code",
   "execution_count": 5,
   "id": "f4cc74ea",
   "metadata": {},
   "outputs": [
    {
     "data": {
      "text/plain": [
       "['b', 'l', 'a', '-', 'b', 'l', 'a', '-', 'b', 'l', 'a']"
      ]
     },
     "execution_count": 5,
     "metadata": {},
     "output_type": "execute_result"
    }
   ],
   "source": [
    "chars = [l for l in 'bla-bla-bla']\n",
    "chars"
   ]
  },
  {
   "cell_type": "code",
   "execution_count": 6,
   "id": "c488a265",
   "metadata": {},
   "outputs": [
    {
     "data": {
      "text/plain": [
       "[0, 1, 2, 3, 4, 5, 6, 7, 8, 9, 10]"
      ]
     },
     "execution_count": 6,
     "metadata": {},
     "output_type": "execute_result"
    }
   ],
   "source": [
    "numbers = [0,1,2,3,4,5,6,7,8,9,10]\n",
    "numbers "
   ]
  },
  {
   "cell_type": "code",
   "execution_count": 12,
   "id": "096170f6",
   "metadata": {},
   "outputs": [
    {
     "data": {
      "text/plain": [
       "[0, 1, 2, 3, 4, 5, 6, 7, 8, 9, 10]"
      ]
     },
     "execution_count": 12,
     "metadata": {},
     "output_type": "execute_result"
    }
   ],
   "source": [
    "#или \n",
    "numbers = [n for n in range(11)]\n",
    "numbers "
   ]
  },
  {
   "cell_type": "code",
   "execution_count": 13,
   "id": "aec42404",
   "metadata": {},
   "outputs": [
    {
     "data": {
      "text/plain": [
       "[0, 1, 4, 9, 16, 25, 36, 49, 64, 81, 100]"
      ]
     },
     "execution_count": 13,
     "metadata": {},
     "output_type": "execute_result"
    }
   ],
   "source": [
    "numbers = [ n*n for n in range(11) ]\n",
    "numbers"
   ]
  },
  {
   "cell_type": "code",
   "execution_count": 44,
   "id": "fedcf79f",
   "metadata": {},
   "outputs": [
    {
     "name": "stdout",
     "output_type": "stream",
     "text": [
      "Квадрат числа 1 равен 1\n",
      "Квадрат числа 3 равен 9\n",
      "Квадрат числа 5 равен 25\n",
      "Квадрат числа 7 равен 49\n",
      "Квадрат числа 9 равен 81\n",
      "[None, 'Квадрат числа 1 равен 1', None, 'Квадрат числа 3 равен 9', None, 'Квадрат числа 5 равен 25', None, 'Квадрат числа 7 равен 49', None, 'Квадрат числа 9 равен 81', None]\n",
      "Квадрат числа 1 равен 1\n",
      "Квадрат числа 3 равен 9\n",
      "Квадрат числа 5 равен 25\n",
      "Квадрат числа 7 равен 49\n",
      "Квадрат числа 9 равен 81\n"
     ]
    },
    {
     "data": {
      "text/plain": [
       "[None, None, None, None, None]"
      ]
     },
     "execution_count": 44,
     "metadata": {},
     "output_type": "execute_result"
    }
   ],
   "source": [
    "#условия в list-comprehension \n",
    "numbers = [f'Квадрат числа {n} равен {n*n}' for n in range(11) if n%2 == 1 ] # квадраты лишь нечетных чисел от 0 до 11\n",
    "[print(i) for i in numbers]\n",
    "#!!!!if можно писать перед for но только в случае если указываем else\n",
    "num2 = [f'Квадрат числа {n} равен {n*n}' if n%2 == 1 else None for n in range(11)]\n",
    "print(num2)\n",
    "while None in num2:\n",
    "    num2.remove(None)\n",
    "[print(i) for i in num2]"
   ]
  },
  {
   "cell_type": "code",
   "execution_count": 23,
   "id": "69ae3b0a",
   "metadata": {},
   "outputs": [
    {
     "data": {
      "text/plain": [
       "[4.72, 3.94, 21.26, 48.82, 25.2]"
      ]
     },
     "execution_count": 23,
     "metadata": {},
     "output_type": "execute_result"
    }
   ],
   "source": [
    "len_in_cm = [12,10,54,124,64]\n",
    "#переведем список длин в сантиметрах в список длин в дюймах\n",
    "len_in_inches = [round(cm/2.54, 2) for cm in len_in_cm ] #round здесь округляет до 2-х знаков после запятой \n",
    "len_in_inches"
   ]
  },
  {
   "cell_type": "code",
   "execution_count": 27,
   "id": "063cbbaf",
   "metadata": {},
   "outputs": [
    {
     "name": "stdout",
     "output_type": "stream",
     "text": [
      "[2485, 2580, 2480, 2600, 2482, 2520]\n",
      "['MM', 'GM', 'MM', 'GM', 'MM', 'GM']\n"
     ]
    }
   ],
   "source": [
    "# if-else в list-comp\n",
    "ratings = [2485, 2580, 2480, 2600, 2482, 2520] #elo-ratings\n",
    "print(ratings)\n",
    "titles = ['GM' if r>=2500 else 'MM' for r in ratings]\n",
    "print(titles)"
   ]
  },
  {
   "cell_type": "code",
   "execution_count": 28,
   "id": "5e7517f6",
   "metadata": {},
   "outputs": [],
   "source": [
    "#если перегрузить list-comp разными условиями код рискует стать нечитаемым"
   ]
  },
  {
   "cell_type": "code",
   "execution_count": 47,
   "id": "215104b5",
   "metadata": {},
   "outputs": [
    {
     "name": "stdout",
     "output_type": "stream",
     "text": [
      "(2, -2)\n",
      "(-5, 5)\n",
      "(6, -6)\n",
      "(-2, 2)\n",
      "[None, None, None, None, None, (2, -2), None, None, None, None, None, None, None, None, None, None, (-5, 5), None, None, (6, -6), None, None, None, None, None, None, None, None, None, None, (-2, 2), None, None, None, None, None]\n",
      "(2, -2)\n",
      "(-5, 5)\n",
      "(6, -6)\n",
      "(-2, 2)\n"
     ]
    },
    {
     "data": {
      "text/plain": [
       "[None, None, None, None]"
      ]
     },
     "execution_count": 47,
     "metadata": {},
     "output_type": "execute_result"
    }
   ],
   "source": [
    "list1 = [2,4,-5,6,8,-2]\n",
    "list2 = [2,-6,8,3,5,-2]\n",
    "#найти все пары сумма которых равна нулю \n",
    "pairs=[]\n",
    "for i in list1:\n",
    "    for j in list2:\n",
    "        cur_sum = i+j\n",
    "        if cur_sum==0: \n",
    "            pairs.append((i,j))\n",
    "[print(i) for i in pairs]\n",
    "#с использванием list-comp\n",
    "pairs = [(i,j) if i+j==0 else None for i in list1 for j in list2]\n",
    "print(pairs)\n",
    "while None in pairs: pairs.remove(None)\n",
    "[print(i) for i in pairs]"
   ]
  },
  {
   "cell_type": "code",
   "execution_count": null,
   "id": "0906c1cc",
   "metadata": {},
   "outputs": [],
   "source": []
  }
 ],
 "metadata": {
  "kernelspec": {
   "display_name": "Python 3 (ipykernel)",
   "language": "python",
   "name": "python3"
  },
  "language_info": {
   "codemirror_mode": {
    "name": "ipython",
    "version": 3
   },
   "file_extension": ".py",
   "mimetype": "text/x-python",
   "name": "python",
   "nbconvert_exporter": "python",
   "pygments_lexer": "ipython3",
   "version": "3.10.9"
  }
 },
 "nbformat": 4,
 "nbformat_minor": 5
}
