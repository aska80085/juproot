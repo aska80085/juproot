{
 "cells": [
  {
   "cell_type": "code",
   "execution_count": 2,
   "id": "33ca9073",
   "metadata": {},
   "outputs": [],
   "source": [
    "#inheritance and polymorphism "
   ]
  },
  {
   "cell_type": "code",
   "execution_count": 144,
   "id": "968dc40b",
   "metadata": {},
   "outputs": [],
   "source": [
    "class Shape():\n",
    "    \n",
    "    def __init__(self):\n",
    "        print('Shape created')\n",
    "        \n",
    "    def draw(self):\n",
    "        print('Drawing a shape')\n",
    "        \n",
    "    def area(self):\n",
    "        print('Calc area')\n",
    "        \n",
    "    def perimeter(self):\n",
    "        print('Calc perimeter')"
   ]
  },
  {
   "cell_type": "code",
   "execution_count": 145,
   "id": "3d851bbd",
   "metadata": {},
   "outputs": [
    {
     "name": "stdout",
     "output_type": "stream",
     "text": [
      "Shape created\n"
     ]
    }
   ],
   "source": [
    "shape = Shape()"
   ]
  },
  {
   "cell_type": "code",
   "execution_count": 146,
   "id": "072d5e76",
   "metadata": {},
   "outputs": [
    {
     "name": "stdout",
     "output_type": "stream",
     "text": [
      "Drawing a shape\n"
     ]
    }
   ],
   "source": [
    "shape.draw()"
   ]
  },
  {
   "cell_type": "code",
   "execution_count": 147,
   "id": "18dab5d3",
   "metadata": {},
   "outputs": [],
   "source": [
    "#ЧТобы классу унаследоваться от другого класса, нужно в скобках этого класса передать имя базового класса (т е класса\n",
    "# от которого наследуется)\n",
    "class Rectangle(Shape):\n",
    "    def __init__(self, width, height): #                                                                         ||| \n",
    "#ПЕрвым делом в конструкторе наследуемого класса надо вызвать конструктор базового класса и передать себя (self) vvv\n",
    "        Shape.__init__(self) #хз вроде здесь просто доступ к init, мб это передает атрибуты как-то\n",
    "        \n",
    "        self.width = width\n",
    "        self.height = height\n",
    "        \n",
    "        print('Rectangle created')\n",
    "        \n",
    "        #Внутри наследника доступны члены базового класса, нп:\n",
    "        Shape.area(self) #!Здесь передаем self, без - ошибка      (((до переопределения)))\n",
    "        \n",
    "    #Но в наследнике можно и переопределить реализацию методов базового класса:\n",
    "    def area(self):\n",
    "        return self.width * self.height\n",
    "    \n",
    "    def perimeter(self):\n",
    "        return 2*(self.width + self.height)\n",
    "    \n",
    "    def draw(self):\n",
    "        print(f'Drawing rectangle with width {self.width} and height {self.height}.')"
   ]
  },
  {
   "cell_type": "code",
   "execution_count": 148,
   "id": "09332a12",
   "metadata": {},
   "outputs": [
    {
     "name": "stdout",
     "output_type": "stream",
     "text": [
      "Shape created\n",
      "Rectangle created\n",
      "Calc area\n"
     ]
    }
   ],
   "source": [
    "rect = Rectangle(10,20)\n",
    "#rect.draw() (доступ из наследника к методу базовго класса) --> out: Drawing a shape !!!если бы мы не переопределили "
   ]
  },
  {
   "cell_type": "code",
   "execution_count": 149,
   "id": "9ad2abfe",
   "metadata": {},
   "outputs": [
    {
     "name": "stdout",
     "output_type": "stream",
     "text": [
      "60\n",
      "200\n",
      "Drawing rectangle with width 10 and height 20.\n"
     ]
    }
   ],
   "source": [
    "print(rect.perimeter())\n",
    "print(rect.area())\n",
    "rect.draw()\n",
    "#До переопределения, нп: rect.area() --> out: Calc area "
   ]
  },
  {
   "cell_type": "code",
   "execution_count": 150,
   "id": "ab5781b1",
   "metadata": {},
   "outputs": [],
   "source": [
    "import math \n",
    "class Triangle(Shape):\n",
    "    \n",
    "    def __init__(self, a, b, c):\n",
    "        Shape.__init__(self)\n",
    "        \n",
    "        self.a = a\n",
    "        self.b = b\n",
    "        self.c = c\n",
    "        \n",
    "        print('Triangle created')\n",
    "        \n",
    "    def draw(self): \n",
    "        print(f'Drawing triangle with sides={self.a}, {self.b}, {self.c}')\n",
    "        \n",
    "    def area(self): \n",
    "        p = (self.a + self.b + self.c)/2 \n",
    "        return math.sqrt(p*(p-self.a)*(p-self.b)*(p-self.c))\n",
    "    \n",
    "    def perimeter(self):\n",
    "        return self.a + self.b + self.c"
   ]
  },
  {
   "cell_type": "code",
   "execution_count": 151,
   "id": "32b13ada",
   "metadata": {},
   "outputs": [
    {
     "name": "stdout",
     "output_type": "stream",
     "text": [
      "Shape created\n",
      "Triangle created\n"
     ]
    }
   ],
   "source": [
    "triangle = Triangle(10,10,10)"
   ]
  },
  {
   "cell_type": "code",
   "execution_count": 152,
   "id": "45d39dbf",
   "metadata": {},
   "outputs": [
    {
     "name": "stdout",
     "output_type": "stream",
     "text": [
      "Drawing triangle with sides=10, 10, 10\n",
      "43.30127018922193\n",
      "30\n"
     ]
    }
   ],
   "source": [
    "triangle.draw()\n",
    "print(triangle.area())\n",
    "print(triangle.perimeter())"
   ]
  },
  {
   "cell_type": "code",
   "execution_count": 153,
   "id": "dcebb7f9",
   "metadata": {},
   "outputs": [
    {
     "name": "stdout",
     "output_type": "stream",
     "text": [
      "Drawing rectangle with width 10 and height 20.\n",
      "Drawing triangle with sides=10, 10, 10\n"
     ]
    }
   ],
   "source": [
    "#Полиморфизммммммъ\n",
    "#Так как у этих классов есть методы с одинаковым названием, покажим суть работы полиморфизма в py:\n",
    "for shape in [rect, triangle]:\n",
    "    shape.draw()\n",
    "#Несмотря на то, что тут разные типы, питон свободно проходится по их методам, так как название и аргументы совпадают"
   ]
  },
  {
   "cell_type": "code",
   "execution_count": 155,
   "id": "29c73bc0",
   "metadata": {},
   "outputs": [],
   "source": [
    "#Иногда мы хотим дать выозможность переиспользовать то, что бы реализовано в базовом классе, но не давать возможность\n",
    "# пользоваться самим базовым классом (не хотим создавать сам базовай класс)\n",
    "\n",
    "#Для этого симулируем подобие 'Абстрактного класса', с помощью вызова исключений из методов, то есть дать возможность\n",
    "# инициализировать класс, но во всех методах прописать (зарейзить) ошибку\n",
    "\n",
    "#Абстрактные классы в объектно-ориентированном программировании — это базовые классы, которые можно наследовать, но\n",
    "# нельзя реализовывать. То есть на их основе нельзя создать объект.\n",
    "\n",
    "#Абстрактный класс:\n",
    "class Shape():\n",
    "    \n",
    "    def __init__(self):\n",
    "        print('Shape created') #!Непосредственно инициализация\n",
    "        \n",
    "    def draw(self):\n",
    "        raise NotImplementedError(\"Can't instantiate an abstract class\")\n",
    "        #Ошибка, которая не реализована : Не удается создать экземпляр абстрактного класса\n",
    "        \n",
    "    def area(self):\n",
    "        raise NotImplementedError(\"Can't instantiate an abstract class\")\n",
    "        \n",
    "    def perimeter(self):\n",
    "        raise NotImplementedError(\"Can't instantiate an abstract class\")\n",
    "        \n",
    "#То есть в базовом классе могут быть методы, которые наследники могут использовать, но те которые помечены нужно будет\n",
    "# переопределить"
   ]
  },
  {
   "cell_type": "code",
   "execution_count": 158,
   "id": "676d4d1a",
   "metadata": {},
   "outputs": [
    {
     "name": "stdout",
     "output_type": "stream",
     "text": [
      "Shape created\n"
     ]
    }
   ],
   "source": [
    "shape = Shape()\n",
    "#shape.draw() - теперь ошибка"
   ]
  },
  {
   "cell_type": "code",
   "execution_count": null,
   "id": "c4c48367",
   "metadata": {},
   "outputs": [],
   "source": [
    "#ABC и че то быдлоидное эт какнибуь потом (модуль abstract base classssssssssssss)"
   ]
  }
 ],
 "metadata": {
  "kernelspec": {
   "display_name": "Python 3 (ipykernel)",
   "language": "python",
   "name": "python3"
  },
  "language_info": {
   "codemirror_mode": {
    "name": "ipython",
    "version": 3
   },
   "file_extension": ".py",
   "mimetype": "text/x-python",
   "name": "python",
   "nbconvert_exporter": "python",
   "pygments_lexer": "ipython3",
   "version": "3.10.9"
  }
 },
 "nbformat": 4,
 "nbformat_minor": 5
}
