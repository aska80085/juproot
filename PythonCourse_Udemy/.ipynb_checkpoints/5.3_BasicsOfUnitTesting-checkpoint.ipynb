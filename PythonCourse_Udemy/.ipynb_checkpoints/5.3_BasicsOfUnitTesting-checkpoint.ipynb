{
 "cells": [
  {
   "cell_type": "code",
   "execution_count": 14,
   "id": "8cff17b3",
   "metadata": {},
   "outputs": [],
   "source": [
    "#Основы юнит тестирования "
   ]
  },
  {
   "cell_type": "code",
   "execution_count": 15,
   "id": "4419fb7b",
   "metadata": {},
   "outputs": [],
   "source": [
    "#Юнит-тестирование - практика, призванная предотвращать ошибки, а не исправлять их при \n",
    "# возникновении\n",
    "#Смысл в том, что к некоторому продакшн-коду мы пишем автоматизирвоанные тесты, и эти тесты \n",
    "# проверяет продакшн-код на правильность результатов "
   ]
  },
  {
   "cell_type": "code",
   "execution_count": 16,
   "id": "ec247bed",
   "metadata": {},
   "outputs": [
    {
     "name": "stdout",
     "output_type": "stream",
     "text": [
      "\n"
     ]
    },
    {
     "ename": "ValueError",
     "evalue": "invalid literal for int() with base 10: ''",
     "output_type": "error",
     "traceback": [
      "\u001b[0;31m---------------------------------------------------------------------------\u001b[0m",
      "\u001b[0;31mValueError\u001b[0m                                Traceback (most recent call last)",
      "Cell \u001b[0;32mIn[16], line 9\u001b[0m\n\u001b[1;32m      7\u001b[0m     \u001b[38;5;28;01melif\u001b[39;00m number \u001b[38;5;241m%\u001b[39m \u001b[38;5;241m5\u001b[39m \u001b[38;5;241m==\u001b[39m \u001b[38;5;241m0\u001b[39m: \u001b[38;5;28;01mreturn\u001b[39;00m \u001b[38;5;124m'\u001b[39m\u001b[38;5;124mBuzz\u001b[39m\u001b[38;5;124m'\u001b[39m\n\u001b[1;32m      8\u001b[0m     \u001b[38;5;28;01melse\u001b[39;00m: \u001b[38;5;28;01mreturn\u001b[39;00m \u001b[38;5;124m'\u001b[39m\u001b[38;5;124m'\u001b[39m\n\u001b[0;32m----> 9\u001b[0m number \u001b[38;5;241m=\u001b[39m \u001b[38;5;28;43mint\u001b[39;49m\u001b[43m(\u001b[49m\u001b[38;5;28;43minput\u001b[39;49m\u001b[43m(\u001b[49m\u001b[43m)\u001b[49m\u001b[43m)\u001b[49m\n\u001b[1;32m     10\u001b[0m \u001b[38;5;28mprint\u001b[39m(got_reply(number))\n",
      "\u001b[0;31mValueError\u001b[0m: invalid literal for int() with base 10: ''"
     ]
    }
   ],
   "source": [
    "#физбаз - задача, смысл которой в реализации программы, которая должна выдать 'buzz' если на \n",
    "# вход функции поступило число, которое делится без остатка на 5, 'fizz' если делится на 3,\n",
    "# если делится и на 5 и на 3 - то 'fizzbuzz'\n",
    "def got_reply(number): \n",
    "    if number % 5 == 0 and number % 3 == 0: return 'FizzBuzz'\n",
    "    elif number % 3 == 0: return 'Fizz'\n",
    "    elif number % 5 == 0: return 'Buzz'\n",
    "    else: return ''\n",
    "number = int(input())\n",
    "print(got_reply(number))"
   ]
  },
  {
   "cell_type": "code",
   "execution_count": 17,
   "id": "9c37d26b",
   "metadata": {},
   "outputs": [
    {
     "ename": "ModuleNotFoundError",
     "evalue": "No module named 'fizz_buzz'",
     "output_type": "error",
     "traceback": [
      "\u001b[0;31m---------------------------------------------------------------------------\u001b[0m",
      "\u001b[0;31mModuleNotFoundError\u001b[0m                       Traceback (most recent call last)",
      "Cell \u001b[0;32mIn[17], line 7\u001b[0m\n\u001b[1;32m      1\u001b[0m \u001b[38;5;66;03m#Сохраним эту функцию в отдельном файле 'fizz_bazz.py' в папке JupiterRoot->UnitTesting \u001b[39;00m\n\u001b[1;32m      2\u001b[0m \n\u001b[1;32m      3\u001b[0m \u001b[38;5;66;03m#Теперь у нас есть программа, и мы хотим протестировать, все ли в ней правильно\u001b[39;00m\n\u001b[1;32m      4\u001b[0m \u001b[38;5;66;03m#Для этого напишем юнит тест; \u001b[39;00m\n\u001b[1;32m      6\u001b[0m \u001b[38;5;28;01mimport\u001b[39;00m \u001b[38;5;21;01munittest\u001b[39;00m \n\u001b[0;32m----> 7\u001b[0m \u001b[38;5;28;01mimport\u001b[39;00m \u001b[38;5;21;01mfizz_buzz\u001b[39;00m \u001b[38;5;66;03m#сама тестируемая библиотека (походу название нужного файла)\u001b[39;00m\n\u001b[1;32m      9\u001b[0m \u001b[38;5;28;01mclass\u001b[39;00m \u001b[38;5;21;01mFizzBuzzTests\u001b[39;00m(unittest\u001b[38;5;241m.\u001b[39mTestCase):\u001b[38;5;66;03m#для создания юниттестов нужно создать класс, он должен\u001b[39;00m\n\u001b[1;32m     10\u001b[0m \u001b[38;5;66;03m#наследовать от типа TestCase в модуле unittest\u001b[39;00m\n\u001b[1;32m     11\u001b[0m     \u001b[38;5;28;01mdef\u001b[39;00m \u001b[38;5;21mtest_fizz\u001b[39m(\u001b[38;5;28mself\u001b[39m):\u001b[38;5;66;03m#определим тестировочные случаи, методы которые будут исполняться\u001b[39;00m\n\u001b[1;32m     12\u001b[0m \u001b[38;5;66;03m#исполнителем тестов \u001b[39;00m\n",
      "\u001b[0;31mModuleNotFoundError\u001b[0m: No module named 'fizz_buzz'"
     ]
    }
   ],
   "source": [
    "#Сохраним эту функцию в отдельном файле 'fizz_bazz.py' в папке JupiterRoot->UnitTesting \n",
    "\n",
    "#Теперь у нас есть программа, и мы хотим протестировать, все ли в ней правильно\n",
    "#Для этого напишем юнит тест; \n",
    "\n",
    "import unittest \n",
    "import fizz_buzz #сама тестируемая библиотека (походу название нужного файла)\n",
    "\n",
    "class FizzBuzzTests(unittest.TestCase):#для создания юниттестов нужно создать класс, он должен\n",
    "#наследовать от типа TestCase в модуле unittest\n",
    "    def test_fizz(self):#определим тестировочные случаи, методы которые будут исполняться\n",
    "#исполнителем тестов \n",
    "        number = 6 \n",
    "        \n",
    "        result = fizz_buzz.get_reply(number)\n",
    "        \n",
    "        self.assertEqual(result, 'Fizz') #специальный метод, проверяющий, действительно ли \n",
    "#результат полученный от вызова тестируемой функции совпадает с тем что мы ожидаем, второй \n",
    "# аргумент - то, что мы ожидаем\n",
    "    def test_buzz(self): #случай, когда тестируемая функция должна вернуть 'Bazz'\n",
    "        number = 10\n",
    "        \n",
    "        result = fizz_buzz.get_reply(number)\n",
    "        \n",
    "        self.assertEqual(result, 'Buzz')\n",
    "        \n",
    "    def test_fizzbuzz(self): #случай, когда тестируемая функция должна вернуть 'FizzBazz'\n",
    "        number = 15\n",
    "        \n",
    "        result = fizz_buzz.get_reply(number)\n",
    "        \n",
    "        self.assertEqual(result, 'FizzBuzz')\n",
    "if __name__ == '__main__': #так как мы исполняем скрипт напрямую, запустим unittest.__name__,\n",
    "# так мы проверим, как был запущен тест, и если он был запущен напрямую, то запустим функцию\n",
    "# main()\n",
    "    unittest.main() #а она уже будет прогонять функции"
   ]
  },
  {
   "cell_type": "code",
   "execution_count": 18,
   "id": "b8a2ce28",
   "metadata": {},
   "outputs": [],
   "source": [
    "#Сохраним этот код в отдельном файле 'fizz_bazz_tests.py' в папке JupiterRoot->UnitTesting "
   ]
  },
  {
   "cell_type": "code",
   "execution_count": 19,
   "id": "738427ab",
   "metadata": {},
   "outputs": [
    {
     "name": "stderr",
     "output_type": "stream",
     "text": [
      "E\n",
      "======================================================================\n",
      "ERROR: /Users/vanglyde/Library/Jupyter/runtime/kernel-df6ab4b7-7183-48b9-9961-ad7a8734e323 (unittest.loader._FailedTest)\n",
      "----------------------------------------------------------------------\n",
      "AttributeError: module '__main__' has no attribute '/Users/vanglyde/Library/Jupyter/runtime/kernel-df6ab4b7-7183-48b9-9961-ad7a8734e323'\n",
      "\n",
      "----------------------------------------------------------------------\n",
      "Ran 1 test in 0.006s\n",
      "\n",
      "FAILED (errors=1)\n"
     ]
    },
    {
     "ename": "SystemExit",
     "evalue": "True",
     "output_type": "error",
     "traceback": [
      "An exception has occurred, use %tb to see the full traceback.\n",
      "\u001b[0;31mSystemExit\u001b[0m\u001b[0;31m:\u001b[0m True\n"
     ]
    },
    {
     "name": "stderr",
     "output_type": "stream",
     "text": [
      "/Users/vanglyde/anaconda3/lib/python3.10/site-packages/IPython/core/interactiveshell.py:3468: UserWarning: To exit: use 'exit', 'quit', or Ctrl-D.\n",
      "  warn(\"To exit: use 'exit', 'quit', or Ctrl-D.\", stacklevel=1)\n"
     ]
    }
   ],
   "source": [
    "#Выше это паттерн файла юнит-теста, в пайчарме например выдается похожий \n",
    "import unittest\n",
    "\n",
    "\n",
    "class MyTestCase(unittest.TestCase):\n",
    "    def test_something(self):\n",
    "        self.assertEqual(True, False)  # add assertion here\n",
    "\n",
    "\n",
    "if __name__ == '__main__':\n",
    "    unittest.main()\n"
   ]
  },
  {
   "cell_type": "code",
   "execution_count": 20,
   "id": "dbd7620b",
   "metadata": {},
   "outputs": [],
   "source": [
    "#!На Windows:\n",
    "#Далее в командной строке (Anaconda prompt) заходим в JypiterRoot командой указываем путь к папке UnitTesting, затем \n",
    "# пишем конструкцию 'python fizz_buzz_tests.py' (...UnitTesting>python fizz_buzz_tests.py)\n",
    "\n",
    "#!На Mac все также, только в терминале"
   ]
  },
  {
   "cell_type": "code",
   "execution_count": 21,
   "id": "1fa253d2",
   "metadata": {},
   "outputs": [],
   "source": [
    "#Если выдает ошибку, то либо ошибка в продакшн коде, либо тест написан некорректно"
   ]
  }
 ],
 "metadata": {
  "kernelspec": {
   "display_name": "Python 3 (ipykernel)",
   "language": "python",
   "name": "python3"
  },
  "language_info": {
   "codemirror_mode": {
    "name": "ipython",
    "version": 3
   },
   "file_extension": ".py",
   "mimetype": "text/x-python",
   "name": "python",
   "nbconvert_exporter": "python",
   "pygments_lexer": "ipython3",
   "version": "3.10.9"
  }
 },
 "nbformat": 4,
 "nbformat_minor": 5
}
