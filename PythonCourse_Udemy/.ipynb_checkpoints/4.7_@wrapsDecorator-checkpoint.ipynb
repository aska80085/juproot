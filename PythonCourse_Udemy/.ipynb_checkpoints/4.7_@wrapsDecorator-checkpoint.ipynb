{
 "cells": [
  {
   "cell_type": "code",
   "execution_count": 6,
   "id": "951ed561",
   "metadata": {},
   "outputs": [
    {
     "name": "stdout",
     "output_type": "stream",
     "text": [
      "Calling func <function hello at 0x7fd3b0c8cb80>\n",
      "Hello world!\n",
      "Func <function hello at 0x7fd3b0c8cb80> finished its work\n"
     ]
    }
   ],
   "source": [
    "def log_decorator(func):\n",
    "    def wrap(*args,**kwargs):\n",
    "        print(f'Calling func {func}')\n",
    "        \n",
    "        func(*args,**kwargs)\n",
    "        \n",
    "        print(f'Func {func} finished its work')\n",
    "    return wrap\n",
    "@log_decorator \n",
    "def hello():\n",
    "    print('Hello world!')\n",
    "hello()"
   ]
  },
  {
   "cell_type": "code",
   "execution_count": 8,
   "id": "c8f94802",
   "metadata": {},
   "outputs": [
    {
     "name": "stdout",
     "output_type": "stream",
     "text": [
      "Help on function wrap in module __main__:\n",
      "\n",
      "wrap(*args, **kwargs)\n",
      "\n"
     ]
    }
   ],
   "source": [
    "#ну типа задекорировали функцию да \n",
    "#НО если вызвать help() на функцию hello() выходит функция wrap()\n",
    "help(hello)\n",
    "#ну и мы не хотим чтобы hello() было wrap()'ом, так как это усложняет механизм интроспекции\n",
    "#(Интроспекция - Возможность запросить тип и структуру объекта во время выполнения программы.)\n"
   ]
  },
  {
   "cell_type": "code",
   "execution_count": 11,
   "id": "a4b95166",
   "metadata": {},
   "outputs": [
    {
     "name": "stdout",
     "output_type": "stream",
     "text": [
      "Calling func <function hello at 0x7fd3b0c8d240>\n",
      "Hello world!\n",
      "Func <function hello at 0x7fd3b0c8d240> finished its work\n",
      "\n",
      "Help on function hello in module __main__:\n",
      "\n",
      "hello()\n",
      "\n"
     ]
    }
   ],
   "source": [
    "#Чтобы предотвратить это перед вызовом функции в декоративной функции используем декоратор \n",
    "# метода functools - wraps (@wraps(func)) (используем синтаксис декарирования)\n",
    "from functools import wraps\n",
    "def log_decorator(func):\n",
    "    @wraps(func) #передаем функцию, которую оборачиваем \n",
    "    def wrap(*args,**kwargs):\n",
    "        print(f'Calling func {func}')\n",
    "        \n",
    "        func(*args,**kwargs)\n",
    "        \n",
    "        print(f'Func {func} finished its work')\n",
    "    return wrap\n",
    "@log_decorator \n",
    "def hello():\n",
    "    print('Hello world!')\n",
    "hello()\n",
    "print('')\n",
    "help(hello)\n",
    "#Декоратор wraps делает так, что теперь все мета-данные от оборачиваемой функции копируются \n",
    "# во внешнюю"
   ]
  },
  {
   "cell_type": "code",
   "execution_count": null,
   "id": "48033ab4",
   "metadata": {},
   "outputs": [],
   "source": []
  }
 ],
 "metadata": {
  "kernelspec": {
   "display_name": "Python 3 (ipykernel)",
   "language": "python",
   "name": "python3"
  },
  "language_info": {
   "codemirror_mode": {
    "name": "ipython",
    "version": 3
   },
   "file_extension": ".py",
   "mimetype": "text/x-python",
   "name": "python",
   "nbconvert_exporter": "python",
   "pygments_lexer": "ipython3",
   "version": "3.10.9"
  }
 },
 "nbformat": 4,
 "nbformat_minor": 5
}
