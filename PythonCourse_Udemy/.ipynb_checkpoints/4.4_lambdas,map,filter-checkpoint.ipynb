{
 "cells": [
  {
   "cell_type": "code",
   "execution_count": 8,
   "id": "c4d7fbac",
   "metadata": {},
   "outputs": [
    {
     "name": "stdout",
     "output_type": "stream",
     "text": [
      "[1, 4, 9, 16, 25]\n"
     ]
    }
   ],
   "source": [
    "def square(*args):\n",
    "    return [i**2 for i in args]\n",
    "print(square(1,2,3,4,5))"
   ]
  },
  {
   "cell_type": "code",
   "execution_count": 9,
   "id": "0ba6bf3a",
   "metadata": {},
   "outputs": [
    {
     "name": "stdout",
     "output_type": "stream",
     "text": [
      "[3, 6, 9, 12, 15]\n"
     ]
    }
   ],
   "source": [
    "def triple(*args):\n",
    "    return [x*3 for x in args]\n",
    "print(triple(1,2,3,4,5))"
   ]
  },
  {
   "cell_type": "code",
   "execution_count": 17,
   "id": "f014a010",
   "metadata": {},
   "outputs": [
    {
     "name": "stdout",
     "output_type": "stream",
     "text": [
      "<map object at 0x7fee39847040>\n",
      "[1, 4, 9, 16, 25]\n",
      "1\n",
      "4\n",
      "9\n",
      "16\n",
      "25\n",
      "<class 'map'>\n"
     ]
    }
   ],
   "source": [
    "#map к каждому элементу из списка который ей передали (2-й арг) применяет функцию которую передали (1-й арг)\n",
    "def square(number):\n",
    "    return number*number\n",
    "number = [1,2,3,4,5]\n",
    "#map(func, *iterables) -----> map object - устройство; в 1 арг функция передается без скобок !LAZY evaluation\n",
    "print(map(square, number)) # - map object (iterable object, выводится адрес памяти объекта)\n",
    "print(list(map(square, number))) # - list object\n",
    "for i in map(square, number): print(i) # тоже итерируется\n",
    "print(type(map(square,number)))"
   ]
  },
  {
   "cell_type": "code",
   "execution_count": 23,
   "id": "0116a904",
   "metadata": {},
   "outputs": [
    {
     "name": "stdout",
     "output_type": "stream",
     "text": [
      "<filter object at 0x7fee397e4670>\n",
      "[18, 21, 30]\n"
     ]
    }
   ],
   "source": [
    "#filter работает как map, но принимает функцию, возвращающую !true/false! и удаляет из списка \n",
    "# все false-элементы\n",
    "def is_adult(age):\n",
    "    return age>=18\n",
    "ages = [14,18,21,16,30]\n",
    "print(filter(is_adult, ages))\n",
    "print(list(filter(is_adult, ages)))\n",
    "#filter() воспринимает только true/false значения и если передать ей функцию, не возвразающую\n",
    "# true/false то со списком ничего не произойдет"
   ]
  },
  {
   "cell_type": "code",
   "execution_count": 37,
   "id": "e7f89869",
   "metadata": {},
   "outputs": [
    {
     "name": "stdout",
     "output_type": "stream",
     "text": [
      "False True\n",
      "6\n",
      "[18, 21, 30]\n",
      "[1, 4, 9, 16, 25]\n"
     ]
    }
   ],
   "source": [
    "#lambda expressions (лямбда-выражения, анонимные функции)\n",
    "# довольно дорого (слишком много кода) определять отдельные функции лишь для того чтобы \n",
    "# передать их в map или filter, так что простые функции могут быть переданы в виде лямбда-выр.\n",
    "#Реализация lambda-выражения:\n",
    "is_adult = lambda age: age>=18 #допустимы and и тп но нужно все писать на !одной строке\n",
    "print(is_adult(15), is_adult(19))\n",
    "multiplier = lambda x, y: x*y\n",
    "print(multiplier(3,2))\n",
    "\n",
    "#реализация предыдущих функций при помощи лямбды:\n",
    "print(list(filter(lambda age: age >= 18, [14,18,21,16,30])))\n",
    "print(list(map(lambda number: number*number, [1,2,3,4,5])))"
   ]
  },
  {
   "cell_type": "code",
   "execution_count": null,
   "id": "414cb55d",
   "metadata": {},
   "outputs": [],
   "source": []
  }
 ],
 "metadata": {
  "kernelspec": {
   "display_name": "Python 3 (ipykernel)",
   "language": "python",
   "name": "python3"
  },
  "language_info": {
   "codemirror_mode": {
    "name": "ipython",
    "version": 3
   },
   "file_extension": ".py",
   "mimetype": "text/x-python",
   "name": "python",
   "nbconvert_exporter": "python",
   "pygments_lexer": "ipython3",
   "version": "3.10.9"
  }
 },
 "nbformat": 4,
 "nbformat_minor": 5
}
