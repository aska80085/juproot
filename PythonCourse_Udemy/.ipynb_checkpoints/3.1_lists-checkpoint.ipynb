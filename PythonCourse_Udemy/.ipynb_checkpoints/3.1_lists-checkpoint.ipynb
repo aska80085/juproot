{
 "cells": [
  {
   "cell_type": "code",
   "execution_count": 1,
   "id": "4ef1e532",
   "metadata": {},
   "outputs": [],
   "source": [
    "#Коллекция в Python — программный объект (переменная-контейнер), хранящая набор значений одного или различных типов,\n",
    "#позволяющий обращаться к этим значениям, а также применять специальные функции и методы, зависящие от типа коллекции.\n",
    "#Наиболее частоиспользуемый тип данных для обработки коллекиий - тип list"
   ]
  },
  {
   "cell_type": "code",
   "execution_count": 2,
   "id": "17b845ab",
   "metadata": {},
   "outputs": [],
   "source": [
    "int_list=[1,2,3]"
   ]
  },
  {
   "cell_type": "code",
   "execution_count": 3,
   "id": "3617be49",
   "metadata": {},
   "outputs": [],
   "source": [
    "mixed_list=[1,2.0,'string']"
   ]
  },
  {
   "cell_type": "code",
   "execution_count": 4,
   "id": "de15d9a9",
   "metadata": {},
   "outputs": [
    {
     "data": {
      "text/plain": [
       "3"
      ]
     },
     "execution_count": 4,
     "metadata": {},
     "output_type": "execute_result"
    }
   ],
   "source": [
    "len(int_list)"
   ]
  },
  {
   "cell_type": "code",
   "execution_count": 5,
   "id": "c88c65be",
   "metadata": {},
   "outputs": [
    {
     "name": "stdout",
     "output_type": "stream",
     "text": [
      "1\n",
      "3\n"
     ]
    }
   ],
   "source": [
    "print(int_list[0]);print(int_list[-1])"
   ]
  },
  {
   "cell_type": "code",
   "execution_count": 6,
   "id": "6806e200",
   "metadata": {},
   "outputs": [
    {
     "data": {
      "text/plain": [
       "[2, 3]"
      ]
     },
     "execution_count": 6,
     "metadata": {},
     "output_type": "execute_result"
    }
   ],
   "source": [
    "int_list[1:]"
   ]
  },
  {
   "cell_type": "code",
   "execution_count": 7,
   "id": "e451e012",
   "metadata": {},
   "outputs": [
    {
     "data": {
      "text/plain": [
       "['John', 'Clair', 'Mario', 'Pedro', 'Miriam', 'Axcel']"
      ]
     },
     "execution_count": 7,
     "metadata": {},
     "output_type": "execute_result"
    }
   ],
   "source": [
    "#конкъютинация\n",
    "names1=['John','Clair','Mario']\n",
    "names2=['Pedro','Miriam','Axcel']\n",
    "names_combined=names1+names2\n",
    "names_combined"
   ]
  },
  {
   "cell_type": "code",
   "execution_count": 8,
   "id": "30e41226",
   "metadata": {},
   "outputs": [
    {
     "data": {
      "text/plain": [
       "['Liam', 'Clair', 'Mario']"
      ]
     },
     "execution_count": 8,
     "metadata": {},
     "output_type": "execute_result"
    }
   ],
   "source": [
    "names1[0]='Liam'\n",
    "names1"
   ]
  },
  {
   "cell_type": "code",
   "execution_count": 9,
   "id": "af6f9636",
   "metadata": {},
   "outputs": [
    {
     "data": {
      "text/plain": [
       "['Liam', 'Clair', 'Mario', 'William', 'Sirius']"
      ]
     },
     "execution_count": 9,
     "metadata": {},
     "output_type": "execute_result"
    }
   ],
   "source": [
    "names1.append('William')\n",
    "names1.append('Sirius')\n",
    "names1"
   ]
  },
  {
   "cell_type": "code",
   "execution_count": 10,
   "id": "5cfaf9b5",
   "metadata": {},
   "outputs": [
    {
     "name": "stdout",
     "output_type": "stream",
     "text": [
      "['Liam', 'Clair', 'Mario', 'William']\n",
      "Sirius\n"
     ]
    }
   ],
   "source": [
    "#в pop() по умолчанию индекс -1; pop() удаляет из списка элемент под индексом и одновременно возвращает его\n",
    "popped_name=names1.pop()\n",
    "print(names1)\n",
    "print(popped_name)"
   ]
  },
  {
   "cell_type": "code",
   "execution_count": 11,
   "id": "0e958216",
   "metadata": {},
   "outputs": [
    {
     "data": {
      "text/plain": [
       "['Clair', 'Mario', 'William']"
      ]
     },
     "execution_count": 11,
     "metadata": {},
     "output_type": "execute_result"
    }
   ],
   "source": [
    "names1.pop(0)\n",
    "names1"
   ]
  },
  {
   "cell_type": "code",
   "execution_count": 12,
   "id": "d4b95a27",
   "metadata": {},
   "outputs": [
    {
     "data": {
      "text/plain": [
       "['Clair', 'James', 'Mario', 'William']"
      ]
     },
     "execution_count": 12,
     "metadata": {},
     "output_type": "execute_result"
    }
   ],
   "source": [
    "names1.append('James')\n",
    "names1.sort()\n",
    "names1"
   ]
  },
  {
   "cell_type": "code",
   "execution_count": 13,
   "id": "f9e81028",
   "metadata": {},
   "outputs": [
    {
     "data": {
      "text/plain": [
       "['aa', 'ab', 'ac']"
      ]
     },
     "execution_count": 13,
     "metadata": {},
     "output_type": "execute_result"
    }
   ],
   "source": [
    "letters=['ac','ab','aa']\n",
    "letters.sort()\n",
    "letters"
   ]
  },
  {
   "cell_type": "code",
   "execution_count": 14,
   "id": "1154266d",
   "metadata": {},
   "outputs": [
    {
     "data": {
      "text/plain": [
       "['a', 'ab', 'abc']"
      ]
     },
     "execution_count": 14,
     "metadata": {},
     "output_type": "execute_result"
    }
   ],
   "source": [
    "#сортировка по ключу\n",
    "letters=['abc','a','ab']\n",
    "letters.sort(key=len)#сортировка по длине: при сортировке вызывается функция len() и передается ей текущий элемент,\n",
    "# по результатам вызова функции происходит сортирока\n",
    "letters"
   ]
  },
  {
   "cell_type": "code",
   "execution_count": 15,
   "id": "b09b9643",
   "metadata": {},
   "outputs": [
    {
     "name": "stdout",
     "output_type": "stream",
     "text": [
      "[2, 3, 3, 4, 4, 21, 31]\n"
     ]
    }
   ],
   "source": [
    "numbers=[21,3,4,31,2,3,4]\n",
    "numbers.sort()\n",
    "print(numbers)"
   ]
  },
  {
   "cell_type": "code",
   "execution_count": 16,
   "id": "a705a2de",
   "metadata": {},
   "outputs": [
    {
     "data": {
      "text/plain": [
       "[5, 3, 1]"
      ]
     },
     "execution_count": 16,
     "metadata": {},
     "output_type": "execute_result"
    }
   ],
   "source": [
    "#реверсирование списка функцией reverse()\n",
    "numbers=[1,3,5]\n",
    "numbers.reverse()\n",
    "numbers"
   ]
  },
  {
   "cell_type": "code",
   "execution_count": 17,
   "id": "7b844b41",
   "metadata": {},
   "outputs": [
    {
     "data": {
      "text/plain": [
       "[5, 4, 3, 3, 2, 1]"
      ]
     },
     "execution_count": 17,
     "metadata": {},
     "output_type": "execute_result"
    }
   ],
   "source": [
    "#сортировка по убыванию: происходит при помощи аргумента reverse=True в sort()\n",
    "numbers=[2,1,3,4,3,5]\n",
    "numbers.sort(reverse=True)\n",
    "numbers"
   ]
  },
  {
   "cell_type": "code",
   "execution_count": 18,
   "id": "fc09316d",
   "metadata": {},
   "outputs": [
    {
     "data": {
      "text/plain": [
       "[5, 4, 661, 3, 3, 2, 1]"
      ]
     },
     "execution_count": 18,
     "metadata": {},
     "output_type": "execute_result"
    }
   ],
   "source": [
    "#добавление элемента по индексу (а не в конец) происходит функцией list.insert(x,y); x-индекс y-добавляемый элемент\n",
    "numbers.insert(2,661)\n",
    "numbers"
   ]
  },
  {
   "cell_type": "code",
   "execution_count": 19,
   "id": "712461b8",
   "metadata": {},
   "outputs": [
    {
     "data": {
      "text/plain": [
       "3"
      ]
     },
     "execution_count": 19,
     "metadata": {},
     "output_type": "execute_result"
    }
   ],
   "source": [
    "#функция list.index(x) возвращает индекс первого попавшегося элемента x\n",
    "numbers.index(3) #3\n",
    "#в index() можно указать начиная и заканчивая каким элементом производить поиск при помощи аргументов start= stop=\n",
    "#если в списке нету искомого элемента то index() возвращает ошибку"
   ]
  },
  {
   "cell_type": "code",
   "execution_count": 20,
   "id": "bd0dcb3f",
   "metadata": {},
   "outputs": [
    {
     "data": {
      "text/plain": [
       "2"
      ]
     },
     "execution_count": 20,
     "metadata": {},
     "output_type": "execute_result"
    }
   ],
   "source": [
    "#количество вхождений определенного элемента в списке\n",
    "numbers.count(3)"
   ]
  },
  {
   "cell_type": "code",
   "execution_count": 21,
   "id": "d8ce2d1e",
   "metadata": {},
   "outputs": [
    {
     "data": {
      "text/plain": [
       "[5, 4, 661, 3, 3, 2, 1]"
      ]
     },
     "execution_count": 21,
     "metadata": {},
     "output_type": "execute_result"
    }
   ],
   "source": [
    "#копирование списка (поверхностная копия списка - изменения оригинала ?не переносятся на копию\n",
    "copied_list=numbers.copy()\n",
    "copied_list"
   ]
  },
  {
   "cell_type": "code",
   "execution_count": 23,
   "id": "dbc156ef",
   "metadata": {},
   "outputs": [
    {
     "data": {
      "text/plain": [
       "[]"
      ]
     },
     "execution_count": 23,
     "metadata": {},
     "output_type": "execute_result"
    }
   ],
   "source": [
    "#очистка списка от всех элементов\n",
    "numbers.clear()\n",
    "numbers"
   ]
  },
  {
   "cell_type": "code",
   "execution_count": 27,
   "id": "c025ba89",
   "metadata": {},
   "outputs": [
    {
     "data": {
      "text/plain": [
       "[1, 2, 2, 3]"
      ]
     },
     "execution_count": 27,
     "metadata": {},
     "output_type": "execute_result"
    }
   ],
   "source": [
    "#удаление эл-та\n",
    "lst = [1,2,3,2,3]\n",
    "lst.remove(3)\n",
    "lst"
   ]
  },
  {
   "cell_type": "code",
   "execution_count": 29,
   "id": "d0433a64",
   "metadata": {},
   "outputs": [
    {
     "data": {
      "text/plain": [
       "[2]"
      ]
     },
     "execution_count": 29,
     "metadata": {},
     "output_type": "execute_result"
    }
   ],
   "source": [
    "lst = [1,1,1,1,1,1,1,1,2]\n",
    "while 1 in lst: \n",
    "    lst.remove(1)\n",
    "lst"
   ]
  },
  {
   "cell_type": "code",
   "execution_count": 33,
   "id": "236b6fc3",
   "metadata": {},
   "outputs": [
    {
     "name": "stdout",
     "output_type": "stream",
     "text": [
      "<enumerate object at 0x7fcc9b83c7c0>\n",
      "[(0, 'autumn'), (1, 'winter'), (2, 'spring'), (3, 'summer')]\n"
     ]
    }
   ],
   "source": [
    "#list(enumerate(source_list)) dозвращает список из кортежей вида (индекс исходного эл-та, исходный эл-т)\n",
    "seasons = ['autumn', 'winter', 'spring', 'summer']\n",
    "print(enumerate(seasons))\n",
    "\n",
    "print(list(enumerate(seasons)))"
   ]
  },
  {
   "cell_type": "code",
   "execution_count": null,
   "id": "df5f781b",
   "metadata": {},
   "outputs": [],
   "source": []
  }
 ],
 "metadata": {
  "kernelspec": {
   "display_name": "Python 3 (ipykernel)",
   "language": "python",
   "name": "python3"
  },
  "language_info": {
   "codemirror_mode": {
    "name": "ipython",
    "version": 3
   },
   "file_extension": ".py",
   "mimetype": "text/x-python",
   "name": "python",
   "nbconvert_exporter": "python",
   "pygments_lexer": "ipython3",
   "version": "3.10.9"
  }
 },
 "nbformat": 4,
 "nbformat_minor": 5
}
