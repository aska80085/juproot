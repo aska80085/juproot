{
 "cells": [
  {
   "cell_type": "code",
   "execution_count": 18,
   "id": "3e063aa8",
   "metadata": {},
   "outputs": [
    {
     "data": {
      "text/plain": [
       "26"
      ]
     },
     "execution_count": 18,
     "metadata": {},
     "output_type": "execute_result"
    }
   ],
   "source": [
    "x='hello WoRlD!##############'\n",
    "len(x)\n"
   ]
  },
  {
   "cell_type": "code",
   "execution_count": 20,
   "id": "acd6bfe7",
   "metadata": {},
   "outputs": [
    {
     "data": {
      "text/plain": [
       "True"
      ]
     },
     "execution_count": 20,
     "metadata": {},
     "output_type": "execute_result"
    }
   ],
   "source": [
    "x[len(x)-1]==x[-1]"
   ]
  },
  {
   "cell_type": "code",
   "execution_count": 21,
   "id": "26678e32",
   "metadata": {},
   "outputs": [
    {
     "data": {
      "text/plain": [
       "3"
      ]
     },
     "execution_count": 21,
     "metadata": {},
     "output_type": "execute_result"
    }
   ],
   "source": [
    "x.count('l')\n"
   ]
  },
  {
   "cell_type": "code",
   "execution_count": 22,
   "id": "4d5ae94c",
   "metadata": {},
   "outputs": [
    {
     "data": {
      "text/plain": [
       "'Hello world!##############'"
      ]
     },
     "execution_count": 22,
     "metadata": {},
     "output_type": "execute_result"
    }
   ],
   "source": [
    "x.capitalize()\n"
   ]
  },
  {
   "cell_type": "code",
   "execution_count": 23,
   "id": "750cc820",
   "metadata": {},
   "outputs": [
    {
     "name": "stdout",
     "output_type": "stream",
     "text": [
      "HELLO WORLD!##############\n",
      "hello world!##############\n"
     ]
    }
   ],
   "source": [
    "upper_cased=x.upper()\n",
    "lower_cased=x.lower()\n",
    "print(upper_cased)\n",
    "print(lower_cased)"
   ]
  },
  {
   "cell_type": "code",
   "execution_count": 24,
   "id": "5d705b69",
   "metadata": {},
   "outputs": [
    {
     "name": "stdout",
     "output_type": "stream",
     "text": [
      "True\n",
      "True\n",
      "False False\n"
     ]
    }
   ],
   "source": [
    "print(upper_cased.isupper())\n",
    "print(lower_cased.islower())\n",
    "print(x.isupper(),x.islower())"
   ]
  },
  {
   "cell_type": "code",
   "execution_count": 25,
   "id": "3978bc9c",
   "metadata": {},
   "outputs": [
    {
     "data": {
      "text/plain": [
       "2"
      ]
     },
     "execution_count": 25,
     "metadata": {},
     "output_type": "execute_result"
    }
   ],
   "source": [
    "x.find('l')"
   ]
  },
  {
   "cell_type": "code",
   "execution_count": 30,
   "id": "fab44b73",
   "metadata": {},
   "outputs": [
    {
     "name": "stdout",
     "output_type": "stream",
     "text": [
      "9\n",
      "-1\n",
      "12\n"
     ]
    }
   ],
   "source": [
    "print(x.find('l',5,10))\n",
    "print(x.find('l',10,14)) #символ отсутствует\n",
    "print(x.find('#',10,14))"
   ]
  },
  {
   "cell_type": "code",
   "execution_count": 31,
   "id": "cd8c05de",
   "metadata": {},
   "outputs": [
    {
     "data": {
      "text/plain": [
       "3"
      ]
     },
     "execution_count": 31,
     "metadata": {},
     "output_type": "execute_result"
    }
   ],
   "source": [
    "x.find('lo')\n"
   ]
  },
  {
   "cell_type": "code",
   "execution_count": 32,
   "id": "6bb3bb54",
   "metadata": {},
   "outputs": [
    {
     "name": "stdout",
     "output_type": "stream",
     "text": [
      "True\n",
      "False\n"
     ]
    }
   ],
   "source": [
    "#функция проверяет, состоит ли строка только из цифр и букв\n",
    "print('123abs'.isalnum())\n",
    "print('123abc!<3'.isalnum())"
   ]
  },
  {
   "cell_type": "code",
   "execution_count": 34,
   "id": "3d811479",
   "metadata": {},
   "outputs": [
    {
     "name": "stdout",
     "output_type": "stream",
     "text": [
      "False\n",
      "True\n"
     ]
    }
   ],
   "source": [
    "#функция проверяет, состоит ли строка только из букв\n",
    "print('123abc'.isalpha())\n",
    "print('abccba'.isalpha())"
   ]
  },
  {
   "cell_type": "code",
   "execution_count": 50,
   "id": "c1b534a8",
   "metadata": {},
   "outputs": [
    {
     "name": "stdout",
     "output_type": "stream",
     "text": [
      "True\n",
      "False\n",
      "Im sad\n",
      "True\n",
      "True\n",
      "True\n"
     ]
    }
   ],
   "source": [
    "#функция проверяет, состоит ли строка из одних лишь пробелов\n",
    "print('   '.isspace())\n",
    "print(''.isspace())\n",
    "empty_string='aaaaaIm aaaa'\n",
    "\n",
    "#strip() удаляет с начала и конца строки указанный символ\n",
    "print(empty_string.strip('a')+'sad')\n",
    "\n",
    "#проверка строчки на пустоту (содержание только пробелов или ничего больше)\n",
    "string1='     ';string2=''\n",
    "print(string1.strip(' ')=='')\n",
    "print(string2.strip(' ')=='')\n",
    "print(string1.strip()=='')#!в srtip() по дефолту пробелы"
   ]
  },
  {
   "cell_type": "code",
   "execution_count": 58,
   "id": "3ce082d1",
   "metadata": {},
   "outputs": [
    {
     "name": "stdout",
     "output_type": "stream",
     "text": [
      "empty\n"
     ]
    }
   ],
   "source": [
    "empty_string=' '\n",
    "if not empty_string:\n",
    "    print('not_empty')\n",
    "else: print('empty')\n",
    "#это че во0бще\n"
   ]
  },
  {
   "cell_type": "code",
   "execution_count": 59,
   "id": "0c9766c4",
   "metadata": {},
   "outputs": [
    {
     "name": "stdout",
     "output_type": "stream",
     "text": [
      "True\n",
      "True\n"
     ]
    }
   ],
   "source": [
    "#функции проверяют, начинается ли или заканчивается ли строчка на определенный набор символов или символ\n",
    "h='hello'\n",
    "print(h.startswith('hell'))\n",
    "print(h.endswith('lo'))"
   ]
  },
  {
   "cell_type": "code",
   "execution_count": 68,
   "id": "3837cfc0",
   "metadata": {},
   "outputs": [
    {
     "name": "stdout",
     "output_type": "stream",
     "text": [
      "['he', '', 'o'] <class 'list'>\n",
      "['h', 'llo']\n",
      "['h', 'lo']\n"
     ]
    }
   ],
   "source": [
    "#split() разделяет строку на список по указанному символу или набору символов\n",
    "spl=h.split('l');print(spl,type(spl))\n",
    "print(h.split('e'))\n",
    "print(h.split('el'))"
   ]
  },
  {
   "cell_type": "code",
   "execution_count": 71,
   "id": "87f9e981",
   "metadata": {},
   "outputs": [
    {
     "name": "stdout",
     "output_type": "stream",
     "text": [
      "('python ', 'is ', 'funn')\n",
      "('python is funn', '', '')\n",
      "('python ', 'is ', 'fun,isnt it')\n",
      "['python ', 'fun,isnt it']\n"
     ]
    }
   ],
   "source": [
    "#partition() возвращает tuple из элементов, разделенных по данному символу или набору и содержащим его/их\n",
    "python='python is funn'\n",
    "print(python.partition('is '))\n",
    "print(python.partition('no '))\n",
    "python='python is fun,isnt it'\n",
    "print(python.partition('is '))\n",
    "print(python.split('is '))"
   ]
  }
 ],
 "metadata": {
  "kernelspec": {
   "display_name": "Python 3 (ipykernel)",
   "language": "python",
   "name": "python3"
  },
  "language_info": {
   "codemirror_mode": {
    "name": "ipython",
    "version": 3
   },
   "file_extension": ".py",
   "mimetype": "text/x-python",
   "name": "python",
   "nbconvert_exporter": "python",
   "pygments_lexer": "ipython3",
   "version": "3.10.9"
  }
 },
 "nbformat": 4,
 "nbformat_minor": 5
}
