{
 "cells": [
  {
   "cell_type": "code",
   "execution_count": 1,
   "id": "625084f6",
   "metadata": {},
   "outputs": [],
   "source": [
    "#6 - ООП в  Python"
   ]
  },
  {
   "cell_type": "code",
   "execution_count": 1,
   "id": "200377a6",
   "metadata": {},
   "outputs": [],
   "source": [
    "#В мире сущетсвует множество классов объектов. Так что с помощью классов мы можем например создать класс машин;\n",
    "# отразить атрибуты, которыми обладает машина и реализовать функции, которыми обладает машина. Используя класс, мы \n",
    "# можем породить множество объектов этого типа, например в классе машины создать атрибут \"фирма\" и т д \n",
    "\n",
    "#Одних функций недостаточно, чтобы разрабатывать большие программы\n",
    "\n",
    "#Зачастую понятия объект и класс используются взаимозаменяемо, класс - это общее описание, програмный конструкт \n",
    "# в контесте ООП, с помощью которого мы поисываем некоторую сущность, а объект - инстанция, экзепляр класса "
   ]
  },
  {
   "cell_type": "code",
   "execution_count": 2,
   "id": "1dadd5e5",
   "metadata": {},
   "outputs": [
    {
     "name": "stdout",
     "output_type": "stream",
     "text": [
      "<class 'list'>\n"
     ]
    }
   ],
   "source": [
    "numbers = [1,2,3] \n",
    "print(type(numbers))\n",
    "#list - класс\n",
    "#numbers - объект класса list"
   ]
  },
  {
   "cell_type": "code",
   "execution_count": 3,
   "id": "a0e4e6fe",
   "metadata": {},
   "outputs": [],
   "source": [
    "#Создадим свой класс\n",
    "class Character(): #каждое слово в названии класса начинается с заглавной буквы, например ClassSuper()\n",
    "    pass "
   ]
  },
  {
   "cell_type": "code",
   "execution_count": 4,
   "id": "e3b56d01",
   "metadata": {},
   "outputs": [
    {
     "name": "stdout",
     "output_type": "stream",
     "text": [
      "<class '__main__.Character'>\n"
     ]
    }
   ],
   "source": [
    "#Создадим экземпляр(объект) класса \n",
    "unit = Character()\n",
    "print(type(unit))\n",
    "#тип соответствует имени класса"
   ]
  },
  {
   "cell_type": "code",
   "execution_count": 2,
   "id": "ef47b542",
   "metadata": {},
   "outputs": [],
   "source": [
    "#Конструкторы классов  (нужны чтобы нельзя было создать экземпляр объекта в невалидном состоянии)\n",
    "\n",
    "#!Конструктор - специальный блок инструкций, вызываемый при создании объекта\n",
    "\n",
    "#Например пусть экземпляр класса Character() нельзя создать без указания рассы персонажа \n",
    "class Character():\n",
    "    \n",
    "    def __init__(self, race): #определение коструктора, '__init__' специальный синтаксис для отличия \n",
    "# специализированных методов от всех остальных\n",
    "\n",
    "#Аргументы: self - ссылка на экземпляр, через нее записываются все атрибуты присущие объекту, self  - соглашение об\n",
    "# именовании, к атрибутам класса мы обращаемся через self (н. self.race как снизу);;; race - значение рассы\n",
    "\n",
    "#Атрибут соответственно - некоторый признак класса \n",
    "\n",
    "        self.character_race = race #здесь мы атрибуту на уровне объекта класса присваиваем значение из аргумента race\n",
    "    #character_race могло называться также race\n",
    "\n",
    "    #Изнутри класса доступа к экземпляру, например 'unit' нет, так как он создается извне, и вместо 'unit' \n",
    "    # мы используем self"
   ]
  },
  {
   "cell_type": "code",
   "execution_count": 7,
   "id": "e81c7322",
   "metadata": {},
   "outputs": [
    {
     "name": "stdout",
     "output_type": "stream",
     "text": [
      "<class '__main__.Character'>\n",
      "Elf\n"
     ]
    }
   ],
   "source": [
    "#unit = Character() - теперь ошибка \n",
    "unit = Character(\"Elf\")\n",
    "print(type(unit))\n",
    "print(unit.character_race)"
   ]
  },
  {
   "cell_type": "code",
   "execution_count": 15,
   "id": "ebd878a5",
   "metadata": {},
   "outputs": [
    {
     "name": "stdout",
     "output_type": "stream",
     "text": [
      "Elf\n"
     ]
    }
   ],
   "source": [
    "print(unit.character_race)"
   ]
  },
  {
   "cell_type": "code",
   "execution_count": 33,
   "id": "e56e8a56",
   "metadata": {},
   "outputs": [],
   "source": [
    "#!Однако по соглашению мы используем одно и то же слово в аргументе функции и в атрибуте; интерпритатор понимает, \n",
    "# когда мы обращаемся к атрибуту, а когда к аргументу \n",
    "class Character():\n",
    "    \n",
    "    def __init__(self, race, age): \n",
    "        self.race = race \n",
    "        self.age = age"
   ]
  },
  {
   "cell_type": "code",
   "execution_count": 34,
   "id": "80b6857d",
   "metadata": {},
   "outputs": [
    {
     "name": "stdout",
     "output_type": "stream",
     "text": [
      "The race of <__main__.Character object at 0x7f97b30f67a0> is Elf, the age is 22.\n"
     ]
    }
   ],
   "source": [
    "unit2 = Character('Elf', 22)\n",
    "print(f'The race of {unit2} is {unit2.race}, the age is {unit2.age}.')"
   ]
  },
  {
   "cell_type": "code",
   "execution_count": 35,
   "id": "c37411c1",
   "metadata": {},
   "outputs": [],
   "source": [
    "#Мы можем создавать более одного атрибута в рамках конструктора, а так же присваивать им значения по умолчанию\n",
    "class Character():\n",
    "    \n",
    "    def __init__(self, race, damage=10, armor=20): \n",
    "        self.race = race \n",
    "        self.damage = damage\n",
    "        self.armor = armor \n",
    "\n",
    "#Теперь мы можем не передевать в Сharacter() атрибуты, имеющие значеня по умолчанию\n",
    "unit1 = Character('Dwarf')\n",
    "unit2 = Character('Elf', 20, 20)\n",
    "\n",
    "#можно также вот так (конструкция 'atr=number'):\n",
    "unit2 = Character('Elf', damage=20, armor=20)\n",
    "unit3 = Character('Orc', armor=32)"
   ]
  },
  {
   "cell_type": "code",
   "execution_count": 36,
   "id": "aa785d1b",
   "metadata": {},
   "outputs": [
    {
     "name": "stdout",
     "output_type": "stream",
     "text": [
      "10 10 32\n"
     ]
    }
   ],
   "source": [
    "print(unit1.damage, unit3.damage, unit3.armor)"
   ]
  },
  {
   "cell_type": "code",
   "execution_count": null,
   "id": "f00a7ff7",
   "metadata": {},
   "outputs": [],
   "source": []
  }
 ],
 "metadata": {
  "kernelspec": {
   "display_name": "Python 3 (ipykernel)",
   "language": "python",
   "name": "python3"
  },
  "language_info": {
   "codemirror_mode": {
    "name": "ipython",
    "version": 3
   },
   "file_extension": ".py",
   "mimetype": "text/x-python",
   "name": "python",
   "nbconvert_exporter": "python",
   "pygments_lexer": "ipython3",
   "version": "3.10.9"
  }
 },
 "nbformat": 4,
 "nbformat_minor": 5
}
