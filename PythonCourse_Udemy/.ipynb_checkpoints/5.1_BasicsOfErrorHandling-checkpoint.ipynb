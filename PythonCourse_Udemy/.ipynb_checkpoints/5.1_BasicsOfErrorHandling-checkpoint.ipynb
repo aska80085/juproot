{
 "cells": [
  {
   "cell_type": "code",
   "execution_count": 1,
   "id": "8860ea60",
   "metadata": {},
   "outputs": [],
   "source": [
    "#5. Ошибки и исключения. Автоматизированные тесты"
   ]
  },
  {
   "cell_type": "code",
   "execution_count": 2,
   "id": "cbc7a4e9",
   "metadata": {},
   "outputs": [],
   "source": [
    "#Ошибки бывают самые разные блин, давайте разбираться"
   ]
  },
  {
   "cell_type": "code",
   "execution_count": 3,
   "id": "f6cdb206",
   "metadata": {},
   "outputs": [
    {
     "name": "stdout",
     "output_type": "stream",
     "text": [
      "2.0\n"
     ]
    }
   ],
   "source": [
    "def divide(a, b):\n",
    "    return a / b\n",
    "print(divide(4,2))\n",
    "#print(divide(4/0)) - ZeroDivisionError"
   ]
  },
  {
   "cell_type": "code",
   "execution_count": 4,
   "id": "269d9abf",
   "metadata": {},
   "outputs": [
    {
     "name": "stdout",
     "output_type": "stream",
     "text": [
      "an error occured division by zero\n"
     ]
    }
   ],
   "source": [
    "#для обработки подобных ошибок можно использовать специальный синтаксис - try/except\n",
    "def divide(a, b):\n",
    "    try:  #блок, в котором мы пытаемся исполнить некий код и ожидаем, что там может быть ошибка\n",
    "        return a / b\n",
    "    #если предполагается, что может возникнуть ошибка опр типа, используем except+error name\n",
    "    except ZeroDivisionError as ex:\n",
    "        #залогируем\n",
    "        print(f'an error occured {ex}')\n",
    "    \n",
    "\n",
    "divide(4,0) #(None)"
   ]
  },
  {
   "cell_type": "code",
   "execution_count": 5,
   "id": "8a581cb9",
   "metadata": {},
   "outputs": [
    {
     "name": "stdout",
     "output_type": "stream",
     "text": [
      "an error occured division by zero\n"
     ]
    }
   ],
   "source": [
    "def divide(a, b):\n",
    "    try: #\n",
    "        result = a / b\n",
    "        print('Result calculated')\n",
    "        return result\n",
    "    except ZeroDivisionError as ex: #\n",
    "        print(f'an error occured {ex}') #\n",
    "divide(4,0)\n",
    "#Без конструкции try/except (без #)здесь не будет выведено 'Result calculated', т е любая \n",
    "# !необработанная ошибка прекращает исполнение программы \n"
   ]
  },
  {
   "cell_type": "code",
   "execution_count": 6,
   "id": "603a631e",
   "metadata": {},
   "outputs": [
    {
     "name": "stdout",
     "output_type": "stream",
     "text": [
      "wfe\n",
      "unknown error occured\n"
     ]
    }
   ],
   "source": [
    "divider = input()\n",
    "#divide(4, divider) - TypeError, передается строка\n",
    "#Используем столько except, сколько ожидается ошибок, а все остальные попадают в except \n",
    "# без типа ошибки (просто except:)\n",
    "\n",
    "def divide(a, b):\n",
    "    try: \n",
    "        result = a / b\n",
    "        print('Result calculated')\n",
    "        return result\n",
    "    except ZeroDivisionError as ex: \n",
    "        print(f'an error occured {ex}') \n",
    "    #except TypeError as ex:\n",
    "        #print(f'an error occured {ex}')\n",
    "    except:\n",
    "        print('unknown error occured')\n",
    "divide(4, divider)"
   ]
  },
  {
   "cell_type": "code",
   "execution_count": 7,
   "id": "825c0b6c",
   "metadata": {},
   "outputs": [
    {
     "name": "stdout",
     "output_type": "stream",
     "text": [
      "Error has occured:\"No such file or directory\"\n",
      "Finally\n"
     ]
    }
   ],
   "source": [
    "#finally блоки\n",
    "#блоки можно вариировать, т е могут быть использованы только try+finally и т п \n",
    "#finally вызывается после блока try, он полезен например для закрытия handle'ов - специальные\n",
    "# объекты уровня оп, которые являются проводниками в данном случае в мир взаимодействия с файлами \n",
    "file = None \n",
    "try:\n",
    "    file = open('wqewqeqweqweqweqwe.txt')\n",
    "    data = file.read()\n",
    "except FileNotFoundError as ex: #(#)\n",
    "    print(f'Error has occured:\"{ex.strerror}\"') #(#)  //// у FileNotFoundError есть атрибут\n",
    "#e.strerror, который выведет discriotion\n",
    "finally: \n",
    "    print('Finally')\n",
    "    if file:  #!\n",
    "        file.close()\n",
    "#!!!Вне зависимости от того происходит ли ошибка в try, мы все равно попадаем в блок  finally\n",
    "\n",
    "# с (#) закоментированными у нас выдаст ошибку, однако 'Finally' напечатается "
   ]
  },
  {
   "cell_type": "code",
   "execution_count": 8,
   "id": "9d7e0cb3",
   "metadata": {},
   "outputs": [
    {
     "name": "stdout",
     "output_type": "stream",
     "text": [
      "Error has occured:\"No such file or directory\"\n",
      "Finally\n",
      "doing some work here\n"
     ]
    }
   ],
   "source": [
    "#else\n",
    "#else вставляется между except и finally, если try отработал нормально без ошибки, то мы \n",
    "# попадем в else, если был exception, то в блок else мы не попадем, т е else относится к \n",
    "# except, и никак не связан с finally\n",
    "\n",
    "file = None \n",
    "try:\n",
    "    file = open('wqewqeqweqweqweqwe.txt')\n",
    "    data = file.read()\n",
    "except FileNotFoundError as ex: \n",
    "    print(f'Error has occured:\"{ex.strerror}\"')\n",
    "else: \n",
    "    print('maybe else')\n",
    "finally:\n",
    "    print('Finally')\n",
    "    if file:  \n",
    "        file.close()\n",
    "        print('сюда мы не попадаем ну типа файл нан его нету блин')\n",
    "print('doing some work here') #проверяем, продолжает ли работать код\n",
    "\n",
    "#Без except (и else соотв) будет выведено 'Finally', однако не будет выведен последний print\n",
    "# т к ошибка не будет обработана и соответственно скрипт прервется "
   ]
  },
  {
   "cell_type": "code",
   "execution_count": 9,
   "id": "98211b8b",
   "metadata": {},
   "outputs": [
    {
     "name": "stdout",
     "output_type": "stream",
     "text": [
      "Enter a number: sdlfldsf\n",
      "Not a number, try again.\n",
      "Enter a number: slfdsldf\n",
      "Not a number, try again.\n",
      "Enter a number: ok\n",
      "Not a number, try again.\n",
      "Enter a number: not ok\n",
      "Not a number, try again.\n",
      "Enter a number: 1\n",
      "1\n"
     ]
    }
   ],
   "source": [
    "#Функция, запрашивающая у пользователя исключительно целочисленное число (ну или что-то \n",
    "# конвертируемое в int)\n",
    "def get_int():\n",
    "    while True:\n",
    "        try:\n",
    "            reply = int(input('Enter a number: '))\n",
    "            return reply # return стопроцентно завершает работу функции и всех циклов в ней \n",
    "        except: \n",
    "            print('Not a number, try again.')\n",
    "            continue\n",
    "number = get_int()\n",
    "print(number)"
   ]
  },
  {
   "cell_type": "code",
   "execution_count": null,
   "id": "2faaca14",
   "metadata": {},
   "outputs": [],
   "source": []
  }
 ],
 "metadata": {
  "kernelspec": {
   "display_name": "Python 3 (ipykernel)",
   "language": "python",
   "name": "python3"
  },
  "language_info": {
   "codemirror_mode": {
    "name": "ipython",
    "version": 3
   },
   "file_extension": ".py",
   "mimetype": "text/x-python",
   "name": "python",
   "nbconvert_exporter": "python",
   "pygments_lexer": "ipython3",
   "version": "3.10.9"
  }
 },
 "nbformat": 4,
 "nbformat_minor": 5
}
