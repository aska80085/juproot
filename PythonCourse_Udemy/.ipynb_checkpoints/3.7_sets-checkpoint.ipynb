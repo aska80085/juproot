{
 "cells": [
  {
   "cell_type": "code",
   "execution_count": 1,
   "id": "2b6b0175",
   "metadata": {},
   "outputs": [],
   "source": [
    "#Итерируемые (перебираемые) объекты — это коллекция важных структур данных в Python. Например, К ним относятся такие\n",
    "#встроенные типы, как строки, списки и словари. Если вам приходилось применять функции высшего порядка (map и filter), \n",
    "#то, скорее всего, вам известно, что они также создают итерируемые объекты (а именно, объекты map и filter).\n",
    "# set (итерируемый объект) - множества"
   ]
  },
  {
   "cell_type": "code",
   "execution_count": 2,
   "id": "aa51522e",
   "metadata": {},
   "outputs": [
    {
     "name": "stdout",
     "output_type": "stream",
     "text": [
      "set() <class 'set'>\n"
     ]
    }
   ],
   "source": [
    "my_set=set()\n",
    "print(my_set, type(my_set))"
   ]
  },
  {
   "cell_type": "code",
   "execution_count": 3,
   "id": "8961f445",
   "metadata": {},
   "outputs": [
    {
     "name": "stdout",
     "output_type": "stream",
     "text": [
      "{1}\n"
     ]
    }
   ],
   "source": [
    "my_set.add(1); print(my_set)"
   ]
  },
  {
   "cell_type": "code",
   "execution_count": 4,
   "id": "10b97d2f",
   "metadata": {},
   "outputs": [
    {
     "name": "stdout",
     "output_type": "stream",
     "text": [
      "{1, 2}\n"
     ]
    }
   ],
   "source": [
    "my_set.add(2); print(my_set)"
   ]
  },
  {
   "cell_type": "code",
   "execution_count": 5,
   "id": "c0eb29c4",
   "metadata": {},
   "outputs": [
    {
     "name": "stdout",
     "output_type": "stream",
     "text": [
      "{1, 2}\n"
     ]
    }
   ],
   "source": [
    "my_set.add(2); print(my_set)#дублицированных эл-тов быть не может"
   ]
  },
  {
   "cell_type": "code",
   "execution_count": 6,
   "id": "629adc9b",
   "metadata": {},
   "outputs": [
    {
     "name": "stdout",
     "output_type": "stream",
     "text": [
      "{1, 2, 3, 4}\n"
     ]
    }
   ],
   "source": [
    "my_list=[1,1,1,1,2,2,2,2,3,3,3,3,3,4,4,4,4,4]\n",
    "s=set(my_list); print(s)"
   ]
  },
  {
   "cell_type": "code",
   "execution_count": 7,
   "id": "1dfa1fa8",
   "metadata": {},
   "outputs": [
    {
     "data": {
      "text/plain": [
       "4"
      ]
     },
     "execution_count": 7,
     "metadata": {},
     "output_type": "execute_result"
    }
   ],
   "source": [
    "len(s)"
   ]
  },
  {
   "cell_type": "code",
   "execution_count": 8,
   "id": "3b7f645a",
   "metadata": {},
   "outputs": [
    {
     "name": "stdout",
     "output_type": "stream",
     "text": [
      "True True\n"
     ]
    }
   ],
   "source": [
    "print(1 in my_list, 1 in s)"
   ]
  },
  {
   "cell_type": "code",
   "execution_count": 9,
   "id": "ddfbb686",
   "metadata": {},
   "outputs": [],
   "source": [
    "#семантически элементы множеств не отсортированы "
   ]
  },
  {
   "cell_type": "code",
   "execution_count": 10,
   "id": "afdb106e",
   "metadata": {},
   "outputs": [
    {
     "name": "stdout",
     "output_type": "stream",
     "text": [
      "(1) True False\n",
      "(2) True False\n",
      "(3) True True\n",
      "(4) {1, 2, 3, 4, 5, 6} {1, 2, 3, 4, 5, 6}\n",
      "(5) {3, 4} {3, 4}\n",
      "(6) {1, 2} {5, 6}\n",
      "(7) {1, 2, 5, 6}\n"
     ]
    }
   ],
   "source": [
    "set1={1,2,3,4}\n",
    "set2={1,2,3,4,5}\n",
    "#математические операции над множествами:\n",
    "#(1)проверяем, является ли одно множество подмножеством друого:\n",
    "print('(1)', set1.issubset(set2), set2.issubset(set1))\n",
    "#(2)проверяем, является ли одно множество надмножеством друого:\n",
    "print('(2)', set2.issuperset(set1),set1.issuperset(set2))\n",
    "#(3)проверяем, разные ли все элементы в множествах\n",
    "set1={1,2,3}\n",
    "set2={4,5,6}\n",
    "print('(3)', set1.isdisjoint(set2), set2.isdisjoint(set1))\n",
    "#(4)объединение ножеств:\n",
    "print('(4)', set1.union(set2),set2.union(set1))\n",
    "#(5)пересечение множеств:\n",
    "set1={1,2,3,4}\n",
    "set2={3,4,5,6}\n",
    "print('(5)', set1.intersection(set2),set2.intersection(set1))\n",
    "#(6)разность множеств (элементы, присутствующие в первом и отсутствующие во втором):\n",
    "print('(6)', set1.difference(set2), set2.difference(set1))\n",
    "#(7)симметрическая разнсоть множеств( все элементы исходных множеств, не принадлежащие одновременно обоим исходным \n",
    "#множествам) или разность объединения множеств над их пересечением или сумма рзностей одного над другим и наоборот:\n",
    "print('(7)', set1.symmetric_difference(set2)) #(set1.union(set2)).difference(set1.intersection(set2)) - тоже робит"
   ]
  },
  {
   "cell_type": "code",
   "execution_count": 11,
   "id": "e1452737",
   "metadata": {},
   "outputs": [
    {
     "data": {
      "text/plain": [
       "{0, 1, 2, 3, 4, 5}"
      ]
     },
     "execution_count": 11,
     "metadata": {},
     "output_type": "execute_result"
    }
   ],
   "source": [
    "#наборметодов аптейд\n",
    "set1={0,1,2,3,4}\n",
    "set2={1,2,3,4,5}\n",
    "set1.update(set2)\n",
    "set1\n",
    "#update здесь - это union, который обновляет множество (работает без присвоения)\n",
    "#есть также difference_update, symetric_difference_update и intersection_update \n",
    "set1"
   ]
  },
  {
   "cell_type": "code",
   "execution_count": 12,
   "id": "98438bb2",
   "metadata": {},
   "outputs": [
    {
     "name": "stdout",
     "output_type": "stream",
     "text": [
      "{0, 2, 3, 4, 5}\n",
      "{0, 3, 4, 5}\n"
     ]
    }
   ],
   "source": [
    "#удаление элемента из множества реализовано 3-мя способами - remove, discard и pop\n",
    "set1.remove(1); print(set1)\n",
    "#set1.remove(42) - !ошибка\n",
    "set1.discard(2); print(set1)\n",
    "set1.discard(42) - #!ошибки нет, хоть 42 и отсутствует в множестве \n",
    "#эти методы изменяют множество а не возвращаеют новое "
   ]
  },
  {
   "cell_type": "code",
   "execution_count": 13,
   "id": "11fd0c93",
   "metadata": {},
   "outputs": [
    {
     "name": "stdout",
     "output_type": "stream",
     "text": [
      "{3, 4, 5} 0\n"
     ]
    }
   ],
   "source": [
    "#pop удаляет случайный элемент и возвращает удаленный элемент\n",
    "popped_out_el = set1.pop()\n",
    "print(set1, popped_out_el)"
   ]
  },
  {
   "cell_type": "code",
   "execution_count": 14,
   "id": "82c783ea",
   "metadata": {},
   "outputs": [
    {
     "data": {
      "text/plain": [
       "set()"
      ]
     },
     "execution_count": 14,
     "metadata": {},
     "output_type": "execute_result"
    }
   ],
   "source": [
    "#очиста множества \n",
    "set1.clear()\n",
    "set1 "
   ]
  },
  {
   "cell_type": "code",
   "execution_count": null,
   "id": "676ee60a",
   "metadata": {},
   "outputs": [],
   "source": []
  }
 ],
 "metadata": {
  "kernelspec": {
   "display_name": "Python 3 (ipykernel)",
   "language": "python",
   "name": "python3"
  },
  "language_info": {
   "codemirror_mode": {
    "name": "ipython",
    "version": 3
   },
   "file_extension": ".py",
   "mimetype": "text/x-python",
   "name": "python",
   "nbconvert_exporter": "python",
   "pygments_lexer": "ipython3",
   "version": "3.10.9"
  }
 },
 "nbformat": 4,
 "nbformat_minor": 5
}
