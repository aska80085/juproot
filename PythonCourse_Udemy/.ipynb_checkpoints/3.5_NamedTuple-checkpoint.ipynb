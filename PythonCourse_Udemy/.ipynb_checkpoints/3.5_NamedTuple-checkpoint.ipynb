{
 "cells": [
  {
   "cell_type": "code",
   "execution_count": 1,
   "id": "955fa79e",
   "metadata": {},
   "outputs": [
    {
     "data": {
      "text/plain": [
       "[p123213(name='Carlsen', age=1980, rating=2545),\n",
       " p123213(name='Mamedyarov', age=1979, rating=2343),\n",
       " p123213(name='Giri', age=1982, rating=2450)]"
      ]
     },
     "execution_count": 1,
     "metadata": {},
     "output_type": "execute_result"
    }
   ],
   "source": [
    "#именованные кортеж, в отличие от обычного, дает возможность проименовать элементы которые он содержаит, реализация:\n",
    "from collections import namedtuple\n",
    "playerfunction=namedtuple('p123213', 'name age rating') \n",
    "players = [playerfunction('Carlsen', 1980, 2545), playerfunction('Mamedyarov', 1979, 2343), playerfunction('Giri', 1982, 2450)]\n",
    "players"
   ]
  },
  {
   "cell_type": "code",
   "execution_count": 2,
   "id": "b54db183",
   "metadata": {},
   "outputs": [
    {
     "name": "stdout",
     "output_type": "stream",
     "text": [
      "Carlsen 1980 2545\n",
      "Mamedyarov 1979 2343\n",
      "Giri 1982 2450\n"
     ]
    }
   ],
   "source": [
    "for i in players: print(i.name, i.age, i.rating)"
   ]
  },
  {
   "cell_type": "code",
   "execution_count": 3,
   "id": "08cf0017",
   "metadata": {},
   "outputs": [
    {
     "name": "stdout",
     "output_type": "stream",
     "text": [
      "Carlsen\n",
      "Carlsen 1980 2545\n",
      "Mamedyarov 1979 2343\n",
      "Giri 1982 2450\n"
     ]
    }
   ],
   "source": [
    "#в обычном тюпле можно сделать так, так что не особо понимаю нахуя эти неймтюплы\n",
    "players2 = [('Carlsen', 1980, 2545),('Mamedyarov', 1979, 2343),('Giri', 1982, 2450)]\n",
    "print(players2[0][0])\n",
    "for i in players2:print(i[0],i[1],i[2])"
   ]
  },
  {
   "cell_type": "code",
   "execution_count": 4,
   "id": "11b02583",
   "metadata": {},
   "outputs": [],
   "source": [
    "#экземляры классов че это \n",
    "#короче получем класс с неизменяемыми атрибутами"
   ]
  },
  {
   "cell_type": "code",
   "execution_count": 5,
   "id": "92ef2745",
   "metadata": {},
   "outputs": [
    {
     "name": "stdout",
     "output_type": "stream",
     "text": [
      "Nepo 1983 2334\n"
     ]
    }
   ],
   "source": [
    "#ну типа важно чему присваиваем а первый атрибут в ковычках хз зачем\n",
    "pl = playerfunction('Nepo', 1983, 2334)\n",
    "print(pl.name,pl.age,pl.rating)\n"
   ]
  },
  {
   "cell_type": "code",
   "execution_count": null,
   "id": "dacd4ad3",
   "metadata": {},
   "outputs": [],
   "source": [
    "#короче эта тема для удобства, просто класс в котором нет методов"
   ]
  }
 ],
 "metadata": {
  "kernelspec": {
   "display_name": "Python 3 (ipykernel)",
   "language": "python",
   "name": "python3"
  },
  "language_info": {
   "codemirror_mode": {
    "name": "ipython",
    "version": 3
   },
   "file_extension": ".py",
   "mimetype": "text/x-python",
   "name": "python",
   "nbconvert_exporter": "python",
   "pygments_lexer": "ipython3",
   "version": "3.10.9"
  }
 },
 "nbformat": 4,
 "nbformat_minor": 5
}
