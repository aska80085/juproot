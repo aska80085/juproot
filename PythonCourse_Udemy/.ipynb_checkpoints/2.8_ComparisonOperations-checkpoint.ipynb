{
 "cells": [
  {
   "cell_type": "code",
   "execution_count": 4,
   "id": "d83c19f4",
   "metadata": {},
   "outputs": [
    {
     "name": "stdout",
     "output_type": "stream",
     "text": [
      "False\n",
      "False\n",
      "True\n"
     ]
    }
   ],
   "source": [
    "print('string'=='anotherstring')\n",
    "print('string'=='sTrIng')\n",
    "x='string'\n",
    "y='StRiNg'\n",
    "print(x.lower()==y.lower())\n"
   ]
  },
  {
   "cell_type": "code",
   "execution_count": 3,
   "id": "22a44407",
   "metadata": {},
   "outputs": [
    {
     "name": "stdout",
     "output_type": "stream",
     "text": [
      "True\n",
      "True\n"
     ]
    }
   ],
   "source": [
    "print(1<2<3)\n",
    "print(1<2 and 2<3)"
   ]
  },
  {
   "cell_type": "code",
   "execution_count": 6,
   "id": "15dda189",
   "metadata": {},
   "outputs": [
    {
     "name": "stdout",
     "output_type": "stream",
     "text": [
      "False\n",
      "True\n"
     ]
    }
   ],
   "source": [
    "print(1>2 and 2<3)\n",
    "#but\n",
    "print(1>2 or 2<3)"
   ]
  },
  {
   "cell_type": "code",
   "execution_count": 9,
   "id": "0dabdd1a",
   "metadata": {},
   "outputs": [
    {
     "name": "stdout",
     "output_type": "stream",
     "text": [
      "file didnt open\n"
     ]
    }
   ],
   "source": [
    "#should open the file if x=y=True\n",
    "x=True\n",
    "y=False\n",
    "if x*y: print('file opened')\n",
    "else: print('file didnt open')\n",
    "# or using 'and'"
   ]
  },
  {
   "cell_type": "code",
   "execution_count": 11,
   "id": "001e01b2",
   "metadata": {},
   "outputs": [
    {
     "name": "stdout",
     "output_type": "stream",
     "text": [
      "x is false\n",
      "x is false\n"
     ]
    }
   ],
   "source": [
    "x=False\n",
    "if not x: print('x is false')\n",
    "#or\n",
    "if x==False:print('x is false')\n"
   ]
  },
  {
   "cell_type": "code",
   "execution_count": null,
   "id": "ac84ea6f",
   "metadata": {},
   "outputs": [],
   "source": []
  }
 ],
 "metadata": {
  "kernelspec": {
   "display_name": "Python 3 (ipykernel)",
   "language": "python",
   "name": "python3"
  },
  "language_info": {
   "codemirror_mode": {
    "name": "ipython",
    "version": 3
   },
   "file_extension": ".py",
   "mimetype": "text/x-python",
   "name": "python",
   "nbconvert_exporter": "python",
   "pygments_lexer": "ipython3",
   "version": "3.10.9"
  }
 },
 "nbformat": 4,
 "nbformat_minor": 5
}
