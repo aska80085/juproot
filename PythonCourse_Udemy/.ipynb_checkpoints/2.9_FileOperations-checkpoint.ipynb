{
 "cells": [
  {
   "cell_type": "code",
   "execution_count": 1,
   "id": "86480360",
   "metadata": {},
   "outputs": [
    {
     "data": {
      "text/plain": [
       "'/Users/vanglyde/JypiterRoot/PythonCourse_Udemy'"
      ]
     },
     "execution_count": 1,
     "metadata": {},
     "output_type": "execute_result"
    }
   ],
   "source": [
    "pwd #текущая папка для интерпритатора (pwd command)"
   ]
  },
  {
   "cell_type": "code",
   "execution_count": 2,
   "id": "f7ec148a",
   "metadata": {},
   "outputs": [],
   "source": [
    "#создание файла"
   ]
  },
  {
   "cell_type": "code",
   "execution_count": 3,
   "id": "332eade4",
   "metadata": {},
   "outputs": [
    {
     "name": "stdout",
     "output_type": "stream",
     "text": [
      "Overwriting sample.txt\n"
     ]
    }
   ],
   "source": [
    "%%writefile sample.txt \n",
    "Name|Phone\n",
    "Alice;1234\n",
    "Mark;2233\n",
    "Alex;3321\n"
   ]
  },
  {
   "cell_type": "code",
   "execution_count": 4,
   "id": "db1d0c2f",
   "metadata": {},
   "outputs": [
    {
     "data": {
      "text/plain": [
       "<_io.TextIOWrapper name='sample.txt' mode='r' encoding='UTF-8'>"
      ]
     },
     "execution_count": 4,
     "metadata": {},
     "output_type": "execute_result"
    }
   ],
   "source": [
    "file = open('sample.txt') #файл находится в текущей директории, поэтому не указывается весь путь\n",
    "file"
   ]
  },
  {
   "cell_type": "code",
   "execution_count": 5,
   "id": "ba58f40f",
   "metadata": {},
   "outputs": [
    {
     "name": "stdout",
     "output_type": "stream",
     "text": [
      "Name|Phone\n",
      "Alice;1234\n",
      "Mark;2233\n",
      "Alex;3321\n",
      "\n"
     ]
    }
   ],
   "source": [
    "data=file.read() #читаем файл функцией 'read()'\n",
    "\n",
    "print(data)"
   ]
  },
  {
   "cell_type": "code",
   "execution_count": 6,
   "id": "bad94971",
   "metadata": {},
   "outputs": [
    {
     "data": {
      "text/plain": [
       "'Name|Phone\\nAlice;1234\\nMark;2233\\nAlex;3321\\n'"
      ]
     },
     "execution_count": 6,
     "metadata": {},
     "output_type": "execute_result"
    }
   ],
   "source": [
    "data"
   ]
  },
  {
   "cell_type": "code",
   "execution_count": 7,
   "id": "bec9510b",
   "metadata": {},
   "outputs": [
    {
     "name": "stdout",
     "output_type": "stream",
     "text": [
      "\n"
     ]
    }
   ],
   "source": [
    "#после прочтения файла функцией 'read()' курсор файла переносится в конец, и снова прочитать файл функцией 'read()'\n",
    "#мы не сможем\n",
    "print(file.read())"
   ]
  },
  {
   "cell_type": "code",
   "execution_count": 8,
   "id": "cade6ead",
   "metadata": {},
   "outputs": [
    {
     "name": "stdout",
     "output_type": "stream",
     "text": [
      "Name|Phone\n",
      "Alice;1234\n",
      "Mark;2233\n",
      "Alex;3321\n",
      "\n"
     ]
    }
   ],
   "source": [
    "#чтобы перенести курсор в начало, используем функцию 'seek(0)' где в скобках индекс, куда переносится курсор\n",
    "file.seek(0)\n",
    "print(file.read())"
   ]
  },
  {
   "cell_type": "code",
   "execution_count": 9,
   "id": "7b0689bb",
   "metadata": {},
   "outputs": [
    {
     "name": "stdout",
     "output_type": "stream",
     "text": [
      "<class 'str'>\n"
     ]
    }
   ],
   "source": [
    "print(type(data))"
   ]
  },
  {
   "cell_type": "code",
   "execution_count": 10,
   "id": "1b4a2bf4",
   "metadata": {},
   "outputs": [
    {
     "name": "stdout",
     "output_type": "stream",
     "text": [
      "['Name|Phone\\n', 'Alice;1234\\n', 'Mark;2233\\n', 'Alex;3321\\n']\n",
      "['Name|Phone\\n', 'Alice;1234\\n', 'Mark;2233\\n', 'Alex;3321\\n']\n"
     ]
    }
   ],
   "source": [
    "#читаем файл списком функцией 'readlines()'\n",
    "file.seek(0)\n",
    "file_list=file.readlines()\n",
    "print(file_list)\n",
    "#или\n",
    "file.seek(0)\n",
    "print(list(file))"
   ]
  },
  {
   "cell_type": "code",
   "execution_count": 11,
   "id": "6f9beed6",
   "metadata": {},
   "outputs": [
    {
     "name": "stdout",
     "output_type": "stream",
     "text": [
      "['Name|Phone\\n', 'Alice;1234\\n', 'Mark;2233\\n', 'Alex;3321\\n']\n"
     ]
    }
   ],
   "source": [
    "#передаем полный путь файла\n",
    "sample_file = open('/Users/vanglyde/JypiterRoot/PythonCourse_Udemy/sample.txt')\n",
    "print(sample_file.readlines())"
   ]
  },
  {
   "cell_type": "code",
   "execution_count": 12,
   "id": "8fd1d95b",
   "metadata": {},
   "outputs": [],
   "source": [
    "#на винде экранируем обр слеш или используем r''\n"
   ]
  },
  {
   "cell_type": "code",
   "execution_count": 13,
   "id": "1fac9c7e",
   "metadata": {},
   "outputs": [
    {
     "name": "stdout",
     "output_type": "stream",
     "text": [
      "True\n",
      "True\n"
     ]
    }
   ],
   "source": [
    "#!ЗАКРЫТИЕ ФАЙЛА!\n",
    "file.close()\n",
    "sample_file.close()\n",
    "#проверкка на закрытие\n",
    "print(file.closed);print(sample_file.closed)"
   ]
  },
  {
   "cell_type": "code",
   "execution_count": 14,
   "id": "3267d69b",
   "metadata": {},
   "outputs": [
    {
     "name": "stdout",
     "output_type": "stream",
     "text": [
      "Name|Phone\n",
      "Alice;1234\n",
      "Mark;2233\n",
      "Alex;3321\n",
      "\n",
      "True\n"
     ]
    }
   ],
   "source": [
    "#в такой конструкции при выходе из блока кода файл будет закрыт автоматически\n",
    "with open('sample.txt') as file:\n",
    "    data=file.read()\n",
    "print(data)\n",
    "print(file.closed)\n"
   ]
  },
  {
   "cell_type": "markdown",
   "id": "8b4a578b",
   "metadata": {},
   "source": [
    " <_io.TextIOWrapper name='sample.txt' mode='r' encoding='UTF-8'>, обратим внимание на mode='r'\n",
    "\n",
    "𝙁𝙄𝙇𝙀 𝙈𝙊𝘿𝙀𝙎 (режимы открытия файлов)\n",
    "• mode='r' - read only (error if writing)\n",
    "• mode='w' - write only (error if reading, overwrites existing file or creates new one)\n",
    "• mode='a' - append only (error if reading or writing to inexistent file) \n",
    "• mode='r+' - reading and writind (error if writing to inexistent file)\n",
    "• mode='w+' - reading and writing (overwrites existing file or creates new one)\n",
    "!trying to rad an inexistent file always leads to an error!\n"
   ]
  },
  {
   "cell_type": "code",
   "execution_count": 15,
   "id": "faf6c7b6",
   "metadata": {},
   "outputs": [],
   "source": [
    "#режимы указываюся в open() вторым аргументом\n",
    "#shift+tab к функции позволяет увидеть возможные аргументы\n",
    "\n",
    "\n",
    "#!ПРИМЕР ОШИБКИ!\n",
    "#with open('samples.txt',mode='w') as sample.file:\n",
    "#    sample_data=sample_file.read()"
   ]
  },
  {
   "cell_type": "code",
   "execution_count": 16,
   "id": "58a67a48",
   "metadata": {},
   "outputs": [
    {
     "name": "stdout",
     "output_type": "stream",
     "text": [
      "Name|Phone\n",
      "Alice;1234\n",
      "Mark;2233\n",
      "Alex;3321\n",
      "Eric;7639\n"
     ]
    }
   ],
   "source": [
    "with open('sample.txt', mode='a') as sample_file: \n",
    "    sample_file.write('Eric;7639') #write() добавляет данные\n",
    "with open('sample.txt', mode='r') as sample_file: \n",
    "    print(sample_file.read())\n",
    "    "
   ]
  },
  {
   "cell_type": "code",
   "execution_count": 17,
   "id": "6a3abc66",
   "metadata": {},
   "outputs": [
    {
     "name": "stdout",
     "output_type": "stream",
     "text": [
      "Name|Phone\n",
      "Alice;1234\n",
      "Mark;2233\n",
      "Alex;3321\n",
      "Eric;7639\n",
      "Henry;4433\n"
     ]
    }
   ],
   "source": [
    "#если нужно и почитать файл и добавить в него что-то\n",
    "with open('sample.txt',mode='r+') as sample_file:\n",
    "    sample_file.seek(0,2) #!!!курсор в самом начале файла, следовательно его нужно переставить в конец, для этого\n",
    "# пишем '2' вторым аргументом в seek(); '1'-текущее положение курсора; '0'(по умолчанию)-начало\\\n",
    "# первый аргумент указывает смещение (с конца/с начала/с текущей позиции)\n",
    "    sample_file.write('\\nHenry;4433')\n",
    "    sample_file.seek(0)\n",
    "    print(sample_file.read())\n",
    "    "
   ]
  },
  {
   "cell_type": "code",
   "execution_count": 18,
   "id": "0f929cc6",
   "metadata": {},
   "outputs": [
    {
     "name": "stdout",
     "output_type": "stream",
     "text": [
      "avada-kedavra\n"
     ]
    }
   ],
   "source": [
    "#режим w+ создает файл если он еще не ьыл создан \n",
    "with open('abrakadabra.txt',mode='w+') as spell_file:\n",
    "    spell_file.write('avada-kedavra')\n",
    "    spell_file.seek(0)\n",
    "    print(spell_file.read())"
   ]
  },
  {
   "cell_type": "code",
   "execution_count": null,
   "id": "2c548c31",
   "metadata": {},
   "outputs": [],
   "source": []
  }
 ],
 "metadata": {
  "kernelspec": {
   "display_name": "Python 3 (ipykernel)",
   "language": "python",
   "name": "python3"
  },
  "language_info": {
   "codemirror_mode": {
    "name": "ipython",
    "version": 3
   },
   "file_extension": ".py",
   "mimetype": "text/x-python",
   "name": "python",
   "nbconvert_exporter": "python",
   "pygments_lexer": "ipython3",
   "version": "3.10.9"
  }
 },
 "nbformat": 4,
 "nbformat_minor": 5
}
