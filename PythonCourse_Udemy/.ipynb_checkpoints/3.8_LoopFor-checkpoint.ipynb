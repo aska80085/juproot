{
 "cells": [
  {
   "cell_type": "code",
   "execution_count": 1,
   "id": "17defcfc",
   "metadata": {},
   "outputs": [],
   "source": [
    "#итерируемый объект - значит по нему можно пройтись циклом"
   ]
  },
  {
   "cell_type": "code",
   "execution_count": 2,
   "id": "4fd57072",
   "metadata": {},
   "outputs": [],
   "source": [
    "numbers=[1,2,3,4,5]"
   ]
  },
  {
   "cell_type": "code",
   "execution_count": 3,
   "id": "c62f388c",
   "metadata": {},
   "outputs": [
    {
     "name": "stdout",
     "output_type": "stream",
     "text": [
      "1\n",
      "2\n",
      "3\n",
      "4\n",
      "5\n"
     ]
    }
   ],
   "source": [
    "for i in numbers:\n",
    "    print(i)"
   ]
  },
  {
   "cell_type": "code",
   "execution_count": 4,
   "id": "37a322bc",
   "metadata": {},
   "outputs": [
    {
     "name": "stdout",
     "output_type": "stream",
     "text": [
      "1\n",
      "4\n",
      "9\n",
      "16\n",
      "25\n"
     ]
    }
   ],
   "source": [
    "for i in numbers:print(i*i)"
   ]
  },
  {
   "cell_type": "code",
   "execution_count": 5,
   "id": "ca22f370",
   "metadata": {},
   "outputs": [
    {
     "name": "stdout",
     "output_type": "stream",
     "text": [
      "range(1, 6) <class 'range'>\n"
     ]
    }
   ],
   "source": [
    "#range - итерируемый тип\n",
    "numbers = range(1,6)\n",
    "print(numbers, type(numbers))"
   ]
  },
  {
   "cell_type": "code",
   "execution_count": 6,
   "id": "46c88eb8",
   "metadata": {},
   "outputs": [
    {
     "name": "stdout",
     "output_type": "stream",
     "text": [
      "1\n",
      "2\n",
      "3\n",
      "4\n",
      "5\n"
     ]
    }
   ],
   "source": [
    "for i in numbers: print(i)\n",
    "# последнее число в range не передается"
   ]
  },
  {
   "cell_type": "code",
   "execution_count": 7,
   "id": "03bc2e58",
   "metadata": {},
   "outputs": [
    {
     "name": "stdout",
     "output_type": "stream",
     "text": [
      "1\n",
      "2\n",
      "3\n",
      "4\n",
      "5\n"
     ]
    }
   ],
   "source": [
    "for i in range(1,6): print(i)"
   ]
  },
  {
   "cell_type": "code",
   "execution_count": 9,
   "id": "2da1e028",
   "metadata": {},
   "outputs": [
    {
     "name": "stdout",
     "output_type": "stream",
     "text": [
      "1 is odd\n",
      "2 is even\n",
      "3 is odd\n",
      "4 is even\n",
      "5 is odd\n"
     ]
    }
   ],
   "source": [
    "#ветвления\n",
    "for i in range(1,6): \n",
    "    if i%2 == 0: \n",
    "        print(f'{i} is even')\n",
    "    else:\n",
    "        print(f'{i} is odd')"
   ]
  },
  {
   "cell_type": "code",
   "execution_count": 20,
   "id": "11fe6198",
   "metadata": {},
   "outputs": [
    {
     "name": "stdout",
     "output_type": "stream",
     "text": [
      "[1, 9, 25, 49, 81]\n"
     ]
    }
   ],
   "source": [
    "numbers = [1,3,5,7,9]\n",
    "#хотим перезаписать цикл в квадраты исходных чисел\n",
    "#for i in range(len(numbers)):\n",
    "    #numbers[i]=numbers[i]**2\n",
    "for i, item in enumerate(numbers): #здесь enumerate используем для получения индексов, вообще говоря подошла бы \n",
    "#конструкция с лен, так как item здесь не задействован\n",
    "    numbers[i]**=2\n",
    "print(numbers)"
   ]
  },
  {
   "cell_type": "code",
   "execution_count": 21,
   "id": "5aa4d39b",
   "metadata": {},
   "outputs": [
    {
     "name": "stdout",
     "output_type": "stream",
     "text": [
      "J\n",
      "o\n",
      "h\n",
      "n\n"
     ]
    }
   ],
   "source": [
    "#строчки тоже итерируемый оьъект\n",
    "name='John'\n",
    "for i in name: print(i)"
   ]
  },
  {
   "cell_type": "code",
   "execution_count": 25,
   "id": "a823188b",
   "metadata": {},
   "outputs": [
    {
     "name": "stdout",
     "output_type": "stream",
     "text": [
      "Alarm!\n",
      "Alarm!\n",
      "Alarm!\n",
      "Alarm!\n",
      "Alarm!\n"
     ]
    }
   ],
   "source": [
    "for _ in range(5):print('Alarm!')"
   ]
  },
  {
   "cell_type": "code",
   "execution_count": 27,
   "id": "2b953fd4",
   "metadata": {},
   "outputs": [
    {
     "name": "stdout",
     "output_type": "stream",
     "text": [
      "John\n",
      "Silver\n",
      "22\n"
     ]
    }
   ],
   "source": [
    "#кортежи тоже итеерируемыы \n",
    "person = ('John', 'Silver', 22)\n",
    "for item in person: print(item)\n",
    "    "
   ]
  },
  {
   "cell_type": "code",
   "execution_count": 31,
   "id": "56942772",
   "metadata": {},
   "outputs": [
    {
     "name": "stdout",
     "output_type": "stream",
     "text": [
      "3\n",
      "John is 22 years old\n",
      "Bob is 32 years old\n",
      "Dave is 20 years old\n"
     ]
    }
   ],
   "source": [
    "persons = [('John',22), ('Bob', 32), ('Dave', 20)]\n",
    "print(len(persons))\n",
    "#tuple-unpacking \n",
    "#чтобы пройтись по списку кортежей используем такой синтаксис (как в примере с enumerate):\n",
    "for (name,age) in persons: \n",
    "    print(f'{name} is {age} years old')"
   ]
  },
  {
   "cell_type": "code",
   "execution_count": 44,
   "id": "04414e8d",
   "metadata": {},
   "outputs": [
    {
     "name": "stdout",
     "output_type": "stream",
     "text": [
      "Carlsen\n",
      "Caruana\n",
      "Mamedyarov\n",
      "('Carlsen', 2842)\n",
      "('Caruana', 2822)\n",
      "('Mamedyarov', 2801)\n",
      "Carlsen has rating 2842.\n",
      "Caruana has rating 2822.\n",
      "Mamedyarov has rating 2801.\n"
     ]
    }
   ],
   "source": [
    "#цикл for и словари \n",
    "players = dict(Carlsen=2842, Caruana=2822, Mamedyarov=2801)\n",
    "#проходимся по ключам:\n",
    "for item in players:\n",
    "    print(item)\n",
    "#проходимся по ключам-значениям и с помощью анпакина распаковываем в ключи или значения или ключи и значения \n",
    "for item in players.items():\n",
    "    print(item)\n",
    "for k,v in players.items():\n",
    "    print(f'{k} has rating {v}.')"
   ]
  },
  {
   "cell_type": "code",
   "execution_count": 45,
   "id": "31c976c9",
   "metadata": {},
   "outputs": [
    {
     "name": "stdout",
     "output_type": "stream",
     "text": [
      "2842\n",
      "2822\n",
      "2801\n"
     ]
    }
   ],
   "source": [
    "#пройдемся лишь по значениям \n",
    "for v in players.values():\n",
    "    print(v)"
   ]
  },
  {
   "cell_type": "code",
   "execution_count": 48,
   "id": "bdbd8da5",
   "metadata": {},
   "outputs": [
    {
     "name": "stdout",
     "output_type": "stream",
     "text": [
      "[(2, -2), (-5, 5), (6, -6), (-2, 2)] 4\n"
     ]
    }
   ],
   "source": [
    "#вложенные циклы\n",
    "#задача: find all pairs sum of which equals 0 (найти все пары сумма которых равна 0) \n",
    "list1 = [2,4,-5,6,8,-2]\n",
    "list2 = [2,-6,8,3,5,-2] \n",
    "ans=[]\n",
    "for i in range(len(list1)):\n",
    "    for j in range(len(list2)):\n",
    "        if list1[i]+list2[j]==0:\n",
    "            ans.append((list1[i],list2[j]))\n",
    "print(ans,len(ans))"
   ]
  },
  {
   "cell_type": "code",
   "execution_count": null,
   "id": "7b2bbd5c",
   "metadata": {},
   "outputs": [],
   "source": []
  }
 ],
 "metadata": {
  "kernelspec": {
   "display_name": "Python 3 (ipykernel)",
   "language": "python",
   "name": "python3"
  },
  "language_info": {
   "codemirror_mode": {
    "name": "ipython",
    "version": 3
   },
   "file_extension": ".py",
   "mimetype": "text/x-python",
   "name": "python",
   "nbconvert_exporter": "python",
   "pygments_lexer": "ipython3",
   "version": "3.10.9"
  }
 },
 "nbformat": 4,
 "nbformat_minor": 5
}
