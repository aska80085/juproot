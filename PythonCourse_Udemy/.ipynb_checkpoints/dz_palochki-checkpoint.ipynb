{
 "cells": [
  {
   "cell_type": "code",
   "execution_count": 1,
   "id": "3854db86",
   "metadata": {},
   "outputs": [
    {
     "name": "stdout",
     "output_type": "stream",
     "text": [
      "Your move! Sticks remained:10. How many stick you take?\n",
      "1\n",
      "My move, I take 2 sticks.\n",
      "Your move! Sticks remained:7. How many stick you take?\n",
      "2\n",
      "My move, I take 3 sticks.\n",
      "Your move! Sticks remained:2. How many stick you take?\n",
      "1\n",
      "My move, I take 1 sticks.\n",
      "you've won\n"
     ]
    }
   ],
   "source": [
    "#с компьтером\n",
    "from random import randint\n",
    "number_of_sticks = 10\n",
    "while number_of_sticks > 0:\n",
    "    print(f'Your move! Sticks remained:{number_of_sticks}. How many stick you take?')\n",
    "    players_move = int(input())\n",
    "    if players_move > 3 or players_move < 1:\n",
    "        print('Invalid number, enter the number of sticks from 1 to 3.')\n",
    "        continue\n",
    "    number_of_sticks -= players_move\n",
    "    if number_of_sticks <=0:\n",
    "        print(\"you've lost\")\n",
    "        break\n",
    "    my_move = randint(1,3)\n",
    "    number_of_sticks -= my_move\n",
    "    print(f\"My move, I take {my_move} sticks.\")\n",
    "    if number_of_sticks <=0:\n",
    "        print(\"you've won\")\n",
    "        break"
   ]
  },
  {
   "cell_type": "code",
   "execution_count": 2,
   "id": "5a4005c5",
   "metadata": {},
   "outputs": [
    {
     "name": "stdout",
     "output_type": "stream",
     "text": [
      "Player 1's move! Sticks remained:10. How many stick you take?\n",
      "1\n",
      "Player 2's move! Sticks remained:9. How many stick you take?\n",
      "1\n",
      "Player 1's move! Sticks remained:8. How many stick you take?\n",
      "3\n",
      "Player 2's move! Sticks remained:5. How many stick you take?\n",
      "3\n",
      "Player 1's move! Sticks remained:2. How many stick you take?\n",
      "1\n",
      "Player 2's move! Sticks remained:1. How many stick you take?\n",
      "1\n",
      "No more sticks! Player 2 has lost.\n"
     ]
    }
   ],
   "source": [
    "player_turn = 1\n",
    "number_of_sticks = 10\n",
    "while number_of_sticks>0:\n",
    "    print(f\"Player {player_turn}'s move! Sticks remained:{number_of_sticks}. How many stick you take?\")\n",
    "    taken = int(input())\n",
    "    if taken <1 or taken > 3:\n",
    "        print(f\"You tried to take {taken}. Allowed to take 1, 2, 3 sticks.\")\n",
    "        continue\n",
    "    number_of_sticks -= taken\n",
    "    if number_of_sticks <=0 :\n",
    "        print(f\"No more sticks! Player {player_turn} has lost.\")\n",
    "        break\n",
    "    player_turn = 2 if player_turn == 1 else 1"
   ]
  },
  {
   "cell_type": "code",
   "execution_count": 4,
   "id": "e6010bd3",
   "metadata": {},
   "outputs": [
    {
     "name": "stdout",
     "output_type": "stream",
     "text": [
      "Player 1's move! Sticks remained:10. How many stick you take?\n",
      "4\n",
      "You tried to take 4. Allowed to take 1, 2, 3 sticks.\n",
      "Player 1's move! Sticks remained:10. How many stick you take?\n",
      "4\n",
      "You tried to take 4. Allowed to take 1, 2, 3 sticks.\n",
      "Player 1's move! Sticks remained:10. How many stick you take?\n",
      "1\n",
      "Player 2's move! Sticks remained:9. How many stick you take?\n",
      "2\n",
      "Player 1's move! Sticks remained:7. How many stick you take?\n",
      "2\n",
      "Player 2's move! Sticks remained:5. How many stick you take?\n",
      "1\n",
      "Player 1's move! Sticks remained:4. How many stick you take?\n",
      "3\n",
      "Player 2's move! Sticks remained:1. How many stick you take?\n",
      "1\n",
      "No more sticks! Player 2 has lost.\n"
     ]
    }
   ],
   "source": [
    "# на двоих но с использованием функций \n",
    "player_turn = 1\n",
    "number_of_sticks = 10\n",
    "def can_take(sticks):\n",
    "    return sticks>=1 and sticks<=3\n",
    "def switch_turn(turn):\n",
    "    return 1 if turn == 2 else 2\n",
    "def end_of_game(sticks):\n",
    "    return sticks<=0\n",
    "while not end_of_game(number_of_sticks):\n",
    "    print(f\"Player {player_turn}'s move! Sticks remained:{number_of_sticks}. How many stick you take?\")\n",
    "    taken = int(input())\n",
    "    if not can_take(taken):\n",
    "        print(f\"You tried to take {taken}. Allowed to take 1, 2, 3 sticks.\")\n",
    "        continue\n",
    "    number_of_sticks -= taken\n",
    "    if end_of_game(number_of_sticks):\n",
    "        print(f\"No more sticks! Player {player_turn} has lost.\")\n",
    "        break\n",
    "    player_turn=switch_turn(player_turn)\n",
    "#так намного читабельнее "
   ]
  },
  {
   "cell_type": "code",
   "execution_count": null,
   "id": "9fa3ee92",
   "metadata": {},
   "outputs": [],
   "source": []
  },
  {
   "cell_type": "code",
   "execution_count": null,
   "id": "405fbc25",
   "metadata": {},
   "outputs": [],
   "source": []
  }
 ],
 "metadata": {
  "kernelspec": {
   "display_name": "Python 3 (ipykernel)",
   "language": "python",
   "name": "python3"
  },
  "language_info": {
   "codemirror_mode": {
    "name": "ipython",
    "version": 3
   },
   "file_extension": ".py",
   "mimetype": "text/x-python",
   "name": "python",
   "nbconvert_exporter": "python",
   "pygments_lexer": "ipython3",
   "version": "3.10.9"
  }
 },
 "nbformat": 4,
 "nbformat_minor": 5
}
