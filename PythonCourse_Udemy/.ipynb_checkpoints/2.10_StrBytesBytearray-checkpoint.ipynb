{
 "cells": [
  {
   "cell_type": "code",
   "execution_count": 1,
   "id": "3936b2f8",
   "metadata": {},
   "outputs": [
    {
     "data": {
      "text/plain": [
       "'utf-8'"
      ]
     },
     "execution_count": 1,
     "metadata": {},
     "output_type": "execute_result"
    }
   ],
   "source": [
    "#строки представляются в разных кодировках, каждому символу в различных кодировочных таблицаъ присваеивается опр число\n",
    "import sys \n",
    "sys.getdefaultencoding()\n",
    "#узнали локальную кодировочную таблицу"
   ]
  },
  {
   "cell_type": "code",
   "execution_count": 5,
   "id": "3b86ac98",
   "metadata": {},
   "outputs": [
    {
     "data": {
      "text/plain": [
       "119"
      ]
     },
     "execution_count": 5,
     "metadata": {},
     "output_type": "execute_result"
    }
   ],
   "source": [
    "ord('w') #узнать код символа"
   ]
  },
  {
   "cell_type": "code",
   "execution_count": 6,
   "id": "5bf9b889",
   "metadata": {},
   "outputs": [
    {
     "data": {
      "text/plain": [
       "'w'"
      ]
     },
     "execution_count": 6,
     "metadata": {},
     "output_type": "execute_result"
    }
   ],
   "source": [
    "chr(119) #вызвать символ по коду "
   ]
  },
  {
   "cell_type": "code",
   "execution_count": 10,
   "id": "50d506fc",
   "metadata": {},
   "outputs": [],
   "source": [
    "#нужен способ чтобы переводить символьное представение в байты и наоборот "
   ]
  },
  {
   "cell_type": "code",
   "execution_count": 23,
   "id": "764339a0",
   "metadata": {},
   "outputs": [
    {
     "name": "stdout",
     "output_type": "stream",
     "text": [
      "<class 'bytes'>\n",
      "b'hello'\n",
      "b'hello'\n",
      "b'\\xff\\xfeh\\x00e\\x00l\\x00l\\x00o\\x00'\n"
     ]
    }
   ],
   "source": [
    "s = 'hello' #переведем строчку в байты с помощью encode(), где в скобках название кодировочной таблицы\n",
    "enc_ascii = s.encode('ascii')\n",
    "enc_utf8 = s.encode('utf8')\n",
    "enc_utf16 = s.encode('utf16')\n",
    "\n",
    "print(type(enc_ascii)) #тип - bytes\n",
    "print(enc_ascii)\n",
    "print(enc_utf8)\n",
    "print(enc_utf16)\n",
    "# префикс b означает байтовое представление "
   ]
  },
  {
   "cell_type": "code",
   "execution_count": 26,
   "id": "34c1d08e",
   "metadata": {},
   "outputs": [
    {
     "name": "stdout",
     "output_type": "stream",
     "text": [
      "5\n",
      "5\n",
      "12\n"
     ]
    }
   ],
   "source": [
    "print(len(enc_ascii))\n",
    "print(len(enc_utf8))\n",
    "print(len(enc_utf16))"
   ]
  },
  {
   "cell_type": "code",
   "execution_count": 31,
   "id": "5b2c133e",
   "metadata": {},
   "outputs": [
    {
     "name": "stdout",
     "output_type": "stream",
     "text": [
      "b'\\xd0\\xb1\\xd0\\xb0\\xd0\\xb9\\xd1\\x82\\xd1\\x8b'\n"
     ]
    }
   ],
   "source": [
    "#строку в байты можно перевести еще и префиксом b\n",
    "str_in_bytes = b'hello'\n",
    "str_in_bytes = 'hello'.encode('utf8')\n",
    "str_in_text='hello'\n",
    "print('байты'.encode('utf8'))"
   ]
  },
  {
   "cell_type": "code",
   "execution_count": 32,
   "id": "1d830b9e",
   "metadata": {},
   "outputs": [
    {
     "name": "stdout",
     "output_type": "stream",
     "text": [
      "104\n",
      "h\n"
     ]
    }
   ],
   "source": [
    "print(str_in_bytes[0]);print(str_in_text[0])"
   ]
  },
  {
   "cell_type": "code",
   "execution_count": 35,
   "id": "6b320ee2",
   "metadata": {},
   "outputs": [
    {
     "name": "stdout",
     "output_type": "stream",
     "text": [
      "<class 'bytearray'>\n",
      "bytearray(b'Wello')\n"
     ]
    }
   ],
   "source": [
    "#типы str и bytes неизменяемы\n",
    "#тип bytearray идентичен типу bytes, но он изменяем \n",
    "ba=bytearray(b'hello')\n",
    "ba[0]=87\n",
    "print(type(ba))\n",
    "print(ba)"
   ]
  },
  {
   "cell_type": "code",
   "execution_count": 43,
   "id": "6ba24003",
   "metadata": {},
   "outputs": [
    {
     "name": "stdout",
     "output_type": "stream",
     "text": [
      "b'hello'\n",
      "8\n",
      "hello\n"
     ]
    }
   ],
   "source": [
    "#для конвертирования байтов обратно в строку не используем просто str, тк в строку переводится b и ковычки\n",
    "#для конвертирования указываем вторым аргументом в str кодировочную таблицу\n",
    "result=str(str_in_bytes);print(result);print(len(result)) #неправильно\n",
    "\n",
    "result = str(str_in_bytes,'utf8')\n",
    "print(result)\n",
    "#не все кодировочные таблицы совместимы, и например для b'hello' в utf 16 получим ошибку"
   ]
  },
  {
   "cell_type": "code",
   "execution_count": 47,
   "id": "7b31e8d2",
   "metadata": {},
   "outputs": [
    {
     "name": "stdout",
     "output_type": "stream",
     "text": [
      "hello\n"
     ]
    }
   ],
   "source": [
    "result = str_in_bytes.decode('utf8') \n",
    "print(result)\n",
    "# хз в чем разница между decode('') и str(x,'') вроде ее нет"
   ]
  },
  {
   "cell_type": "code",
   "execution_count": 78,
   "id": "36402a99",
   "metadata": {},
   "outputs": [
    {
     "name": "stdout",
     "output_type": "stream",
     "text": [
      "120\n",
      "3\n",
      "255\n",
      "0\n",
      "100\n",
      "b'x\\x03\\xff\\x00d'\n"
     ]
    }
   ],
   "source": [
    "#байтами представлется не только строчки, но и большое кол-во других данных, например изображения \n",
    "jpeg = [120, 3, 255, 0, 100] #представим что это коды байтов в изображении\n",
    "#чтобы читать или писать байты, при открытии файла в режиме дополнительно к дефолтным буквам указываем 'b'\n",
    "with open('ifdfa.bin',mode='w+b') as file:\n",
    "    file.write(bytes(jpeg)) #!конверируем в bytes наш jpeg (я поплыл)\n",
    "#прочитаем\n",
    "with open('ifdfa.bin',mode='rb') as file:\n",
    "    data=file.read()\n",
    "    for i in data:\n",
    "        print(int(i))\n",
    "    print(data)\n",
    "#я не особо понял но вроде мы перенесли в файл байты изображния\n",
    "#запомним что список конвертируется в байты при помощи bytes()"
   ]
  },
  {
   "cell_type": "code",
   "execution_count": 74,
   "id": "e1afdba1",
   "metadata": {},
   "outputs": [
    {
     "name": "stdout",
     "output_type": "stream",
     "text": [
      "b'\\x01\\x02\\x03'\n"
     ]
    }
   ],
   "source": [
    "print(bytes([1,2,3]))"
   ]
  },
  {
   "cell_type": "code",
   "execution_count": null,
   "id": "59cc63af",
   "metadata": {},
   "outputs": [],
   "source": []
  }
 ],
 "metadata": {
  "kernelspec": {
   "display_name": "Python 3 (ipykernel)",
   "language": "python",
   "name": "python3"
  },
  "language_info": {
   "codemirror_mode": {
    "name": "ipython",
    "version": 3
   },
   "file_extension": ".py",
   "mimetype": "text/x-python",
   "name": "python",
   "nbconvert_exporter": "python",
   "pygments_lexer": "ipython3",
   "version": "3.10.9"
  }
 },
 "nbformat": 4,
 "nbformat_minor": 5
}
