{
 "cells": [
  {
   "cell_type": "code",
   "execution_count": 1,
   "id": "a0491d60",
   "metadata": {},
   "outputs": [
    {
     "name": "stdout",
     "output_type": "stream",
     "text": [
      "{'Carlsen': 2842, 'Caruana': 2822, 'Mamedyarov': 2801, 'Ding': 2797, 'Giri': 2780}\n"
     ]
    }
   ],
   "source": [
    "#тип dict также используется для представления коллекций\n",
    "#словари - список пар 'ключ-значение'\n",
    "players = {\n",
    "        'Carlsen' : 2842,\n",
    "        'Caruana' : 2822,\n",
    "        'Mamedyarov' : 2801,\n",
    "        'Ding' : 2797,\n",
    "        'Giri' : 2780\n",
    "}\n",
    "players = dict(Carlsen=2842, Caruana=2822, Mamedyarov=2801, Ding=2797, Giri=2780) #если в качестве ключей строчки а в\n",
    "# качестве ключей числа то можно сделать так\n",
    "print(players)"
   ]
  },
  {
   "cell_type": "code",
   "execution_count": 2,
   "id": "78d94f37",
   "metadata": {},
   "outputs": [
    {
     "name": "stdout",
     "output_type": "stream",
     "text": [
      "Top chess player's reting is 2842\n"
     ]
    }
   ],
   "source": [
    "#возвращаем значение по ключу\n",
    "top1=players['Carlsen']\n",
    "print(f\"Top chess player's reting is {top1}\")"
   ]
  },
  {
   "cell_type": "code",
   "execution_count": 22,
   "id": "97c2455e",
   "metadata": {},
   "outputs": [],
   "source": [
    "# не используя [] можно воспользоваться функцией get() для того чтобы взять значение по ключу\n",
    "players.get('Carlsen')"
   ]
  },
  {
   "cell_type": "code",
   "execution_count": 4,
   "id": "51272323",
   "metadata": {},
   "outputs": [
    {
     "data": {
      "text/plain": [
       "{'Carlsen': 2842,\n",
       " 'Caruana': 2822,\n",
       " 'Mamedyarov': 2801,\n",
       " 'Ding': 2797,\n",
       " 'Giri': 2780,\n",
       " 'So': 2780}"
      ]
     },
     "execution_count": 4,
     "metadata": {},
     "output_type": "execute_result"
    }
   ],
   "source": [
    "#добавление пары\n",
    "players['So'] = 2780\n",
    "players"
   ]
  },
  {
   "cell_type": "code",
   "execution_count": 5,
   "id": "9862be6c",
   "metadata": {},
   "outputs": [
    {
     "data": {
      "text/plain": [
       "{'Carlsen': 2842,\n",
       " 'Caruana': 2822,\n",
       " 'Mamedyarov': 2801,\n",
       " 'Ding': 2797,\n",
       " 'Giri': 2780,\n",
       " 'So': 2781}"
      ]
     },
     "execution_count": 5,
     "metadata": {},
     "output_type": "execute_result"
    }
   ],
   "source": [
    "#изменение значения ключа происходит также\n",
    "players['So'] = 2781 \n",
    "players"
   ]
  },
  {
   "cell_type": "code",
   "execution_count": 6,
   "id": "a957b450",
   "metadata": {},
   "outputs": [
    {
     "data": {
      "text/plain": [
       "{'Carlsen': 2842,\n",
       " 'Caruana': 2822,\n",
       " 'Mamedyarov': 2801,\n",
       " 'Ding': 2797,\n",
       " 'Giri': 2780}"
      ]
     },
     "execution_count": 6,
     "metadata": {},
     "output_type": "execute_result"
    }
   ],
   "source": [
    "#удаление пары, ошибка если ключа нет\n",
    "del players['So']\n",
    "players"
   ]
  },
  {
   "cell_type": "code",
   "execution_count": 7,
   "id": "b78486a1",
   "metadata": {},
   "outputs": [
    {
     "name": "stdout",
     "output_type": "stream",
     "text": [
      "<class 'dict_keys'>\n",
      "dict_keys(['Carlsen', 'Caruana', 'Mamedyarov', 'Ding', 'Giri'])\n"
     ]
    }
   ],
   "source": [
    "# возвращаем ключи\n",
    "keys = players.keys()\n",
    "print(type(keys)) #не список чишо\n",
    "print(keys)"
   ]
  },
  {
   "cell_type": "code",
   "execution_count": 8,
   "id": "84e27f16",
   "metadata": {},
   "outputs": [
    {
     "name": "stdout",
     "output_type": "stream",
     "text": [
      "['Carlsen', 'Caruana', 'Mamedyarov', 'Ding', 'Giri'] <class 'list'>\n"
     ]
    }
   ],
   "source": [
    "list_keys=list(keys)\n",
    "print(list_keys,type(list_keys))"
   ]
  },
  {
   "cell_type": "code",
   "execution_count": 9,
   "id": "55ff0fee",
   "metadata": {},
   "outputs": [
    {
     "name": "stdout",
     "output_type": "stream",
     "text": [
      "['Carlsen', 'Caruana', 'Ding', 'Giri', 'Mamedyarov']\n"
     ]
    }
   ],
   "source": [
    "#чтобы отсортировать ключи помимо преобразования в список и использования sort() можно воспользоваться ф-й sorted(k)\n",
    "print(sorted(keys)) #получаем список"
   ]
  },
  {
   "cell_type": "code",
   "execution_count": 10,
   "id": "52e6c7fe",
   "metadata": {},
   "outputs": [
    {
     "name": "stdout",
     "output_type": "stream",
     "text": [
      "True\n",
      "True\n"
     ]
    }
   ],
   "source": [
    "#проверяем наличие ключа в словаре \n",
    "print('Carlsen' in players) #можно обращаться ко всему словарю (без кейс)\n",
    "print('Kramnik' not in players)"
   ]
  },
  {
   "cell_type": "code",
   "execution_count": 11,
   "id": "2e3f673a",
   "metadata": {},
   "outputs": [
    {
     "name": "stdout",
     "output_type": "stream",
     "text": [
      "<class 'dict_values'>\n",
      "dict_values([2842, 2822, 2801, 2797, 2780])\n"
     ]
    }
   ],
   "source": [
    "# возвращаем значения \n",
    "vals = players.values()\n",
    "print(type(vals)) #не список\n",
    "print(vals)"
   ]
  },
  {
   "cell_type": "code",
   "execution_count": 12,
   "id": "47d2f69a",
   "metadata": {},
   "outputs": [
    {
     "name": "stdout",
     "output_type": "stream",
     "text": [
      "[2842, 2822, 2801, 2797, 2780] <class 'list'>\n"
     ]
    }
   ],
   "source": [
    "vals = list(players.values())\n",
    "print(vals,type(vals))"
   ]
  },
  {
   "cell_type": "code",
   "execution_count": 13,
   "id": "02142237",
   "metadata": {},
   "outputs": [
    {
     "data": {
      "text/plain": [
       "[2780, 2797, 2801, 2822, 2842]"
      ]
     },
     "execution_count": 13,
     "metadata": {},
     "output_type": "execute_result"
    }
   ],
   "source": [
    "sorted(players.values(), reverse=False)"
   ]
  },
  {
   "cell_type": "code",
   "execution_count": 14,
   "id": "494a7d0c",
   "metadata": {},
   "outputs": [
    {
     "data": {
      "text/plain": [
       "{'Carlsen': 2842,\n",
       " 'Caruana': 2822,\n",
       " 'Mamedyarov': 2801,\n",
       " 'Ding': 2797,\n",
       " 'Giri': 2780}"
      ]
     },
     "execution_count": 14,
     "metadata": {},
     "output_type": "execute_result"
    }
   ],
   "source": [
    "#поверхностная копия\n",
    "players_copy = players.copy()\n",
    "players_copy"
   ]
  },
  {
   "cell_type": "code",
   "execution_count": 15,
   "id": "bb047eba",
   "metadata": {},
   "outputs": [
    {
     "name": "stdout",
     "output_type": "stream",
     "text": [
      "dict_items([('Carlsen', 2842), ('Caruana', 2822), ('Mamedyarov', 2801), ('Ding', 2797), ('Giri', 2780)]) <class 'dict_items'>\n"
     ]
    }
   ],
   "source": [
    "#d.items() возвращает кортежи из пар \n",
    "print(players.items(),type(players.items()))"
   ]
  },
  {
   "cell_type": "code",
   "execution_count": 16,
   "id": "ec722316",
   "metadata": {},
   "outputs": [
    {
     "name": "stdout",
     "output_type": "stream",
     "text": [
      "Carlsen 2842\n",
      "Caruana 2822\n",
      "Mamedyarov 2801\n",
      "Ding 2797\n",
      "Giri 2780\n"
     ]
    }
   ],
   "source": [
    "# это может пригодиться чтобы пробегать циклом по словарю\n",
    "for k,v in players.items():\n",
    "    print(k, v)"
   ]
  },
  {
   "cell_type": "code",
   "execution_count": 17,
   "id": "45cd068d",
   "metadata": {},
   "outputs": [
    {
     "name": "stdout",
     "output_type": "stream",
     "text": [
      "{'Carlsen': 2842, 'Caruana': 2822, 'Mamedyarov': 2801, 'Ding': 2797}\n"
     ]
    }
   ],
   "source": [
    "#удалить эл-т по ключу можно также с помощью d.pop()\n",
    "players.pop('Giri') #возвращается удаленный элемент \n",
    "print(players)"
   ]
  },
  {
   "cell_type": "code",
   "execution_count": 18,
   "id": "f129e340",
   "metadata": {},
   "outputs": [
    {
     "name": "stdout",
     "output_type": "stream",
     "text": [
      "('Ding', 2797)\n",
      "{'Carlsen': 2842, 'Caruana': 2822, 'Mamedyarov': 2801}\n"
     ]
    }
   ],
   "source": [
    "#d.popitem() удаляет эл-т с конца \n",
    "print(players.popitem())\n",
    "print(players)"
   ]
  },
  {
   "cell_type": "code",
   "execution_count": 19,
   "id": "e3e0e336",
   "metadata": {},
   "outputs": [
    {
     "name": "stdout",
     "output_type": "stream",
     "text": [
      "3\n"
     ]
    }
   ],
   "source": [
    "#подсчет кол-ва пар к-з\n",
    "print(len(players))"
   ]
  },
  {
   "cell_type": "code",
   "execution_count": 25,
   "id": "700752c4",
   "metadata": {},
   "outputs": [
    {
     "name": "stdout",
     "output_type": "stream",
     "text": [
      "{'Carlsen': 2842, 'Caruana': 2822, 'Mamedyarov': 2801, 'Karjakin': None}\n"
     ]
    }
   ],
   "source": [
    "# d.setdefault() возвращает значение по ключу, но в отличие от get() добавляет указанный ключ если его нету со \n",
    "# значением None\n",
    "players.setdefault('Karjakin')\n",
    "print(players)"
   ]
  },
  {
   "cell_type": "code",
   "execution_count": 27,
   "id": "3a4d593b",
   "metadata": {},
   "outputs": [
    {
     "data": {
      "text/plain": [
       "{'Carlsen': 2842, 'Caruana': 2822, 'Mamedyarov': 2801, 'Karjakin': 2798}"
      ]
     },
     "execution_count": 27,
     "metadata": {},
     "output_type": "execute_result"
    }
   ],
   "source": [
    "players['Karjakin'] = 2798\n",
    "players"
   ]
  },
  {
   "cell_type": "code",
   "execution_count": 29,
   "id": "a83a32ac",
   "metadata": {},
   "outputs": [
    {
     "data": {
      "text/plain": [
       "{'Carlsen': 2842,\n",
       " 'Caruana': 2822,\n",
       " 'Mamedyarov': 2801,\n",
       " 'Karjakin': 2798,\n",
       " 'Nepo': 2334}"
      ]
     },
     "execution_count": 29,
     "metadata": {},
     "output_type": "execute_result"
    }
   ],
   "source": [
    "players['Nepo'] = 2334\n",
    "players"
   ]
  }
 ],
 "metadata": {
  "kernelspec": {
   "display_name": "Python 3 (ipykernel)",
   "language": "python",
   "name": "python3"
  },
  "language_info": {
   "codemirror_mode": {
    "name": "ipython",
    "version": 3
   },
   "file_extension": ".py",
   "mimetype": "text/x-python",
   "name": "python",
   "nbconvert_exporter": "python",
   "pygments_lexer": "ipython3",
   "version": "3.10.9"
  }
 },
 "nbformat": 4,
 "nbformat_minor": 5
}
