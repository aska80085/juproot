{
 "cells": [
  {
   "cell_type": "code",
   "execution_count": 2,
   "id": "27c011d3",
   "metadata": {},
   "outputs": [],
   "source": [
    "#еще один тип данных, относящийся к коллекциям - tuples\n",
    "#tuples - неизменяемый список\n",
    "strings = ('str1', 'str2', 'str3')\n",
    "#strings[0]='str0' - error"
   ]
  },
  {
   "cell_type": "code",
   "execution_count": 3,
   "id": "270df862",
   "metadata": {},
   "outputs": [
    {
     "data": {
      "text/plain": [
       "tuple"
      ]
     },
     "execution_count": 3,
     "metadata": {},
     "output_type": "execute_result"
    }
   ],
   "source": [
    "person=('John', 'Silver', 22)\n",
    "type(person)\n",
    "#семантика неизменяемости подчеркивает, что данные в кортежи могут быть семантически связаны"
   ]
  },
  {
   "cell_type": "code",
   "execution_count": 4,
   "id": "302126cb",
   "metadata": {},
   "outputs": [
    {
     "data": {
      "text/plain": [
       "3"
      ]
     },
     "execution_count": 4,
     "metadata": {},
     "output_type": "execute_result"
    }
   ],
   "source": [
    "#кол-во эл-тов в кортеже\n",
    "len(person)"
   ]
  },
  {
   "cell_type": "code",
   "execution_count": 5,
   "id": "acdbc227",
   "metadata": {},
   "outputs": [
    {
     "name": "stdout",
     "output_type": "stream",
     "text": [
      "John\n",
      "22\n"
     ]
    }
   ],
   "source": [
    "#обращение по индексам\n",
    "print(person[0])\n",
    "print(person[-1])"
   ]
  },
  {
   "cell_type": "code",
   "execution_count": 7,
   "id": "cf910a9b",
   "metadata": {},
   "outputs": [
    {
     "data": {
      "text/plain": [
       "1"
      ]
     },
     "execution_count": 7,
     "metadata": {},
     "output_type": "execute_result"
    }
   ],
   "source": [
    "#кол-во вхождений определенного эл-та\n",
    "person.count('John')"
   ]
  },
  {
   "cell_type": "code",
   "execution_count": 8,
   "id": "b74a05b9",
   "metadata": {},
   "outputs": [
    {
     "name": "stdout",
     "output_type": "stream",
     "text": [
      "0\n"
     ]
    }
   ],
   "source": [
    "#индекс элемента !ошибка если не находит соотв эл-т\n",
    "print(person.index('John'))"
   ]
  },
  {
   "cell_type": "code",
   "execution_count": null,
   "id": "4abe5cec",
   "metadata": {},
   "outputs": [],
   "source": []
  }
 ],
 "metadata": {
  "kernelspec": {
   "display_name": "Python 3 (ipykernel)",
   "language": "python",
   "name": "python3"
  },
  "language_info": {
   "codemirror_mode": {
    "name": "ipython",
    "version": 3
   },
   "file_extension": ".py",
   "mimetype": "text/x-python",
   "name": "python",
   "nbconvert_exporter": "python",
   "pygments_lexer": "ipython3",
   "version": "3.10.9"
  }
 },
 "nbformat": 4,
 "nbformat_minor": 5
}
