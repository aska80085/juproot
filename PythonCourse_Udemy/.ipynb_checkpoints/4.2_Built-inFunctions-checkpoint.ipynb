{
 "cells": [
  {
   "cell_type": "code",
   "execution_count": 1,
   "id": "ac38f80b",
   "metadata": {},
   "outputs": [],
   "source": [
    "#Встроенные функции "
   ]
  },
  {
   "cell_type": "code",
   "execution_count": 2,
   "id": "3ff3e932",
   "metadata": {},
   "outputs": [
    {
     "name": "stdout",
     "output_type": "stream",
     "text": [
      "1\n",
      "1\n"
     ]
    }
   ],
   "source": [
    "#взятие числа по модулю\n",
    "print(abs(-1))\n",
    "print(abs(1))"
   ]
  },
  {
   "cell_type": "code",
   "execution_count": 3,
   "id": "a0fac0f0",
   "metadata": {},
   "outputs": [
    {
     "name": "stdout",
     "output_type": "stream",
     "text": [
      "5\n",
      "1\n"
     ]
    }
   ],
   "source": [
    "#поиск максимального или минимального числа \n",
    "print(max(1,2,3,4,5))\n",
    "print(min([1,2,3,4,5]))"
   ]
  },
  {
   "cell_type": "code",
   "execution_count": 6,
   "id": "fee821d0",
   "metadata": {},
   "outputs": [
    {
     "name": "stdout",
     "output_type": "stream",
     "text": [
      "8\n",
      "8\n"
     ]
    }
   ],
   "source": [
    "#возведение в степень \n",
    "print(pow(2,3)) #8\n",
    "print(2**3)"
   ]
  },
  {
   "cell_type": "code",
   "execution_count": 8,
   "id": "811a19a4",
   "metadata": {},
   "outputs": [
    {
     "name": "stdout",
     "output_type": "stream",
     "text": [
      "3.4\n"
     ]
    }
   ],
   "source": [
    "#округление числа \n",
    "print(round(3.37, 1)) #2-ой аргумент - кол-во знаков после плавающей точки"
   ]
  },
  {
   "cell_type": "code",
   "execution_count": 10,
   "id": "1cc4f0e9",
   "metadata": {},
   "outputs": [
    {
     "name": "stdout",
     "output_type": "stream",
     "text": [
      "15\n"
     ]
    }
   ],
   "source": [
    "#сумма некоторого количества чисел \n",
    "print(sum([1,2,3,4,5]))\n",
    "#!работает только на списках; sum(1,2,3,4,5) - ошибка, в отличие от, например, min и max"
   ]
  },
  {
   "cell_type": "code",
   "execution_count": 15,
   "id": "36b22640",
   "metadata": {},
   "outputs": [
    {
     "name": "stdout",
     "output_type": "stream",
     "text": [
      "0x2a\n",
      "0o52\n",
      "0b101010\n"
     ]
    }
   ],
   "source": [
    "#преобразование десятичных чисел в разные системы счисления \n",
    "print(hex(42)) # 16-тиричный; префикс - '0x'\n",
    "print(oct(42)) # 8-иричный; префикс - '0o'\n",
    "print(bin(42)) # 2-ичный; префикс - '0b'"
   ]
  },
  {
   "cell_type": "code",
   "execution_count": 18,
   "id": "9eaec690",
   "metadata": {},
   "outputs": [
    {
     "name": "stdout",
     "output_type": "stream",
     "text": [
      "True\n",
      "False\n"
     ]
    }
   ],
   "source": [
    "#ф-я all возвращает True если все переданные в нее эл-ты возвращают True; False - иначе\n",
    "print(all([True,True,True]))\n",
    "print(all([True,False,True]))"
   ]
  },
  {
   "cell_type": "code",
   "execution_count": 27,
   "id": "c4d076cf",
   "metadata": {},
   "outputs": [
    {
     "name": "stdout",
     "output_type": "stream",
     "text": [
      "[True, True, True, True, True]\n",
      "True\n"
     ]
    }
   ],
   "source": [
    "#проверим с помощью all и tuple_unpacking, все ли игроки в списке имеют рейтинг больше 2700\n",
    "players = [('Carlsen', 2842), ('Caruana', 2822),\n",
    "        ('Mamedyarov', 2801), ('Ding', 2797), \n",
    "        ('Giri', 2780)]\n",
    "expression = [rating>2700 for _, rating in players]\n",
    "print(expression)\n",
    "print(all(rating > 2700 for _, rating in players)) # здесь можно и с [], но без !быстрее\n",
    "#в выражении с all(expression) сначала будет вычислено expression, а затем all, если бы \n",
    "# например у нас был бы False, то это было бы излишне, в случае без [] all выведет False\n",
    "# как только наткнется на False"
   ]
  },
  {
   "cell_type": "code",
   "execution_count": 28,
   "id": "3fe80c7b",
   "metadata": {},
   "outputs": [
    {
     "name": "stdout",
     "output_type": "stream",
     "text": [
      "True\n",
      "False\n"
     ]
    }
   ],
   "source": [
    "#ф-я any возвращает True если хотя один из переданных в нее эл-тов возвращает True, False - иначе\n",
    "print(any([False,False,True]))\n",
    "print(any([False,False,False]))"
   ]
  },
  {
   "cell_type": "code",
   "execution_count": 30,
   "id": "b8726be6",
   "metadata": {},
   "outputs": [
    {
     "name": "stdout",
     "output_type": "stream",
     "text": [
      "True\n",
      "False\n"
     ]
    }
   ],
   "source": [
    "players = [('Carlsen', 2842), ('Caruana', 2822),\n",
    "        ('Mamedyarov', 2801), ('Ding', 2797), \n",
    "        ('Giri', 2780)]\n",
    "print(any(rating<2790 for _,rating in players))\n",
    "print(any(rating<2700 for _,rating in players))"
   ]
  },
  {
   "cell_type": "code",
   "execution_count": 39,
   "id": "9cf96d46",
   "metadata": {},
   "outputs": [
    {
     "name": "stdout",
     "output_type": "stream",
     "text": [
      "<zip object at 0x7fcfeb0b2400>\n",
      "<class 'zip'>\n",
      "[('a', 10, 1), ('b', 20, 23), ('c', 30, 3)]\n"
     ]
    }
   ],
   "source": [
    "#склеивание итерируемых объектов по элементам\n",
    "letters = 'abcd'\n",
    "numbers = (10,20,30)\n",
    "lol = [1,23,3]\n",
    "zipped = zip(letters, numbers,lol) #ленивое вычисление - здесь еще не происходит склейка (lazy evaluation)\n",
    "print(zipped) \n",
    "print(type(zipped))\n",
    "\n",
    "zipped_list=list(zipped) #жадное вычисление \n",
    "print(zipped_list)\n",
    "#излишние эл-ты отсекаются "
   ]
  },
  {
   "cell_type": "code",
   "execution_count": 47,
   "id": "fe7cf34f",
   "metadata": {},
   "outputs": [
    {
     "name": "stdout",
     "output_type": "stream",
     "text": [
      "{'Carlsen': 2842, 'Caruana': 2822, 'Mamedyarov': 2801, 'Ding': 2797, 'Giri': 2780}\n"
     ]
    }
   ],
   "source": [
    "#zip полезен при формировании словаря\n",
    "names = ['Carlsen', 'Caruana', 'Mamedyarov', 'Ding', 'Giri']\n",
    "ratings = [2842, 2822, 2801, 2797, 2780]\n",
    "#players = dict()\n",
    "#for i in range(len(names)):\n",
    "    #players[names[i]] = ratings[i]\n",
    "players = dict(zip(names, ratings))\n",
    "print(players)"
   ]
  },
  {
   "cell_type": "code",
   "execution_count": 48,
   "id": "cdc86bf7",
   "metadata": {},
   "outputs": [
    {
     "name": "stdout",
     "output_type": "stream",
     "text": [
      "Hello, world!\n"
     ]
    },
    {
     "data": {
      "text/plain": [
       "'Hello, world!'"
      ]
     },
     "execution_count": 48,
     "metadata": {},
     "output_type": "execute_result"
    }
   ],
   "source": [
    "#запрос ввода\n",
    "reply = input()\n",
    "reply"
   ]
  },
  {
   "cell_type": "code",
   "execution_count": 54,
   "id": "0e896601",
   "metadata": {},
   "outputs": [
    {
     "name": "stdout",
     "output_type": "stream",
     "text": [
      "65\n",
      "A\n"
     ]
    }
   ],
   "source": [
    "#функция (1) для взятия юникодного кода символа и (2) для преобразования кода в символ\n",
    "code = ord('A') #(1)\n",
    "print(code)\n",
    "c = chr(65) #(2)\n",
    "print(c) "
   ]
  },
  {
   "cell_type": "code",
   "execution_count": null,
   "id": "729b0863",
   "metadata": {},
   "outputs": [],
   "source": []
  }
 ],
 "metadata": {
  "kernelspec": {
   "display_name": "Python 3 (ipykernel)",
   "language": "python",
   "name": "python3"
  },
  "language_info": {
   "codemirror_mode": {
    "name": "ipython",
    "version": 3
   },
   "file_extension": ".py",
   "mimetype": "text/x-python",
   "name": "python",
   "nbconvert_exporter": "python",
   "pygments_lexer": "ipython3",
   "version": "3.10.9"
  }
 },
 "nbformat": 4,
 "nbformat_minor": 5
}
