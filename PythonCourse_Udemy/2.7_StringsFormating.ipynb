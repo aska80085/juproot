{
 "cells": [
  {
   "cell_type": "code",
   "execution_count": 2,
   "id": "63c8966d",
   "metadata": {},
   "outputs": [
    {
     "name": "stdout",
     "output_type": "stream",
     "text": [
      "My name is Elias\n"
     ]
    }
   ],
   "source": [
    "print('My name is {}'.format('Elias'))"
   ]
  },
  {
   "cell_type": "code",
   "execution_count": 3,
   "id": "e4ae5ca9",
   "metadata": {},
   "outputs": [
    {
     "name": "stdout",
     "output_type": "stream",
     "text": [
      "My name is Elias\n"
     ]
    }
   ],
   "source": [
    "name='Elias'\n",
    "print('My name is {}'.format(name))"
   ]
  },
  {
   "cell_type": "code",
   "execution_count": 4,
   "id": "339d702e",
   "metadata": {},
   "outputs": [
    {
     "name": "stdout",
     "output_type": "stream",
     "text": [
      "My name is Elias, and i am 30\n"
     ]
    }
   ],
   "source": [
    "print('My name is {}, and i am {}'.format(name,30))"
   ]
  },
  {
   "cell_type": "code",
   "execution_count": 6,
   "id": "b7bbbf0c",
   "metadata": {},
   "outputs": [
    {
     "name": "stdout",
     "output_type": "stream",
     "text": [
      "my name is 30, and i am Elias\n"
     ]
    }
   ],
   "source": [
    "print(\"my name is {1}, and i am {0}\".format(name,30))"
   ]
  },
  {
   "cell_type": "code",
   "execution_count": 12,
   "id": "4a0545f7",
   "metadata": {},
   "outputs": [
    {
     "name": "stdout",
     "output_type": "stream",
     "text": [
      "Pi eguals 3.14\n"
     ]
    }
   ],
   "source": [
    "pi=3.1415\n",
    "print('Pi eguals {p:1.2f}'.format(p=pi)) #спец форматирование, в 1.2f 1-дополнение пробелами; 2-округление, f - float"
   ]
  },
  {
   "cell_type": "code",
   "execution_count": 14,
   "id": "db467aaa",
   "metadata": {},
   "outputs": [
    {
     "name": "stdout",
     "output_type": "stream",
     "text": [
      "Pi equals         3.14\n"
     ]
    }
   ],
   "source": [
    "print('Pi equals {p:12.2f}'.format(p=pi))"
   ]
  },
  {
   "cell_type": "code",
   "execution_count": 15,
   "id": "5731e6f1",
   "metadata": {},
   "outputs": [
    {
     "name": "stdout",
     "output_type": "stream",
     "text": [
      "my name is Mary and i am 18\n"
     ]
    }
   ],
   "source": [
    "#f-строки\n",
    "name='Mary'\n",
    "age=18\n",
    "print(f'my name is {name} and i am {age}')"
   ]
  },
  {
   "cell_type": "code",
   "execution_count": 20,
   "id": "03b76d4f",
   "metadata": {},
   "outputs": [
    {
     "name": "stdout",
     "output_type": "stream",
     "text": [
      "Pi equals 3.14\n"
     ]
    }
   ],
   "source": [
    "print(f'Pi equals {pi:1.2f}') #такой способ округления крч существует, тут еще заместо f есть другие спец символы для \n",
    "# форматирования"
   ]
  },
  {
   "cell_type": "code",
   "execution_count": null,
   "id": "3c5be03e",
   "metadata": {},
   "outputs": [],
   "source": []
  }
 ],
 "metadata": {
  "kernelspec": {
   "display_name": "Python 3 (ipykernel)",
   "language": "python",
   "name": "python3"
  },
  "language_info": {
   "codemirror_mode": {
    "name": "ipython",
    "version": 3
   },
   "file_extension": ".py",
   "mimetype": "text/x-python",
   "name": "python",
   "nbconvert_exporter": "python",
   "pygments_lexer": "ipython3",
   "version": "3.10.9"
  }
 },
 "nbformat": 4,
 "nbformat_minor": 5
}
