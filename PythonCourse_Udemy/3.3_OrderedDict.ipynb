{
 "cells": [
  {
   "cell_type": "code",
   "execution_count": 3,
   "id": "b7628af8",
   "metadata": {},
   "outputs": [
    {
     "name": "stdout",
     "output_type": "stream",
     "text": [
      "True\n",
      "True\n",
      "True\n"
     ]
    }
   ],
   "source": [
    "#еще один тип из модуля collections - Ordered Dict\n",
    "\n",
    "#порядок добавления пар в словарь вообше говоря не важен, и словари с одинаковыми элементами равны вне зависимости \n",
    "# от порядка добавления \n",
    "d1 = {}\n",
    "d1['a'] = 'A'\n",
    "d1['b'] = 'B'\n",
    "d1['c'] = 'C'\n",
    "\n",
    "d2 = {}\n",
    "d2['b'] = 'B'\n",
    "d2['a'] = 'A'\n",
    "d2['c'] = 'C'\n",
    "\n",
    "d3 = {}\n",
    "d3['a'] = 'A'\n",
    "d3['b'] = 'B'\n",
    "d3['c'] = 'C'\n",
    "\n",
    "print(d1==d2)\n",
    "print(d1==d3)\n",
    "print(d1==d2==d3)"
   ]
  },
  {
   "cell_type": "code",
   "execution_count": 4,
   "id": "b8648c10",
   "metadata": {},
   "outputs": [
    {
     "name": "stdout",
     "output_type": "stream",
     "text": [
      "a A\n",
      "b B\n",
      "c C\n"
     ]
    }
   ],
   "source": [
    "for k,v in d1.items():\n",
    "    print(k, v) \n",
    "#сохраняется последовательность добавления, но не устраняется полностью разница с OrderedDict"
   ]
  },
  {
   "cell_type": "code",
   "execution_count": 5,
   "id": "d170ea45",
   "metadata": {},
   "outputs": [],
   "source": [
    "#\n",
    "from collections import OrderedDict\n",
    "d1 = OrderedDict()\n",
    "d1['a'] = 'A'\n",
    "d1['b'] = 'B'\n",
    "d1['c'] = 'C'\n",
    "\n",
    "d2 = OrderedDict()\n",
    "d2['b'] = 'B'\n",
    "d2['a'] = 'A'\n",
    "d2['c'] = 'C'\n",
    "\n",
    "d3 = OrderedDict()\n",
    "d3['a'] = 'A'\n",
    "d3['b'] = 'B'\n",
    "d3['c'] = 'C'"
   ]
  },
  {
   "cell_type": "code",
   "execution_count": 6,
   "id": "0f8685d4",
   "metadata": {},
   "outputs": [
    {
     "name": "stdout",
     "output_type": "stream",
     "text": [
      "False\n",
      "True\n"
     ]
    }
   ],
   "source": [
    "print(d1==d2)\n",
    "print(d1==d3)\n",
    "#OrdDict контроллирует порядок добавления пар ключ-значение"
   ]
  },
  {
   "cell_type": "code",
   "execution_count": null,
   "id": "f1c2a69f",
   "metadata": {},
   "outputs": [],
   "source": [
    "#до Py3.7 OrdDict обеспечивал что при приходе циклом сохранялся порядок добавления, теперь же такое поведение есть и у \n",
    "# обычного dict(), и их различие сводится лишь к тому, что в OrdDict порядок играет роль при сравнении\n",
    "#Если важна семантика сравнения и учет последовательности добавления пар то используем OrdDcit"
   ]
  }
 ],
 "metadata": {
  "kernelspec": {
   "display_name": "Python 3 (ipykernel)",
   "language": "python",
   "name": "python3"
  },
  "language_info": {
   "codemirror_mode": {
    "name": "ipython",
    "version": 3
   },
   "file_extension": ".py",
   "mimetype": "text/x-python",
   "name": "python",
   "nbconvert_exporter": "python",
   "pygments_lexer": "ipython3",
   "version": "3.10.9"
  }
 },
 "nbformat": 4,
 "nbformat_minor": 5
}
