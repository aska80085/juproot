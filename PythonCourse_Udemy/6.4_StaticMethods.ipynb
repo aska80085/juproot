{
 "cells": [
  {
   "cell_type": "code",
   "execution_count": 24,
   "id": "b316291c",
   "metadata": {},
   "outputs": [],
   "source": [
    "#Статические методы - @staticmethod @classmethod"
   ]
  },
  {
   "cell_type": "code",
   "execution_count": 54,
   "id": "d6b9bbf6",
   "metadata": {},
   "outputs": [],
   "source": [
    "#Статические методы в Python — это обычные функции, помещенные в класс, в случае, если нам нет необходимости \n",
    "# инстанциировать класс для ее использования, и (или) непосредственно экземпляр класса не используется. Например, мы \n",
    "# можем поместить какие-то вспомогательные утилиты в специальный класс, чтобы держать их в пространстве имен этого\n",
    "# класса. Статические метод не могут менять состояние класса и его экземпляра.\n",
    "\n",
    "#То есть такие методы находятся внутри класса, но для их вызова не обязательно создавать инстанцию такого класса (экз)\n",
    "\n",
    "#(Статический - вычисленный, созданный, записанный или выделенный до запуска программы и, как правило, неизменяемый\n",
    "# на стадии исполнения программы)"
   ]
  },
  {
   "cell_type": "code",
   "execution_count": 121,
   "id": "e6845d36",
   "metadata": {},
   "outputs": [],
   "source": [
    "class StaticTest: \n",
    "    x = 1 #атрибуты уровня класса (если ты блин забыл) - статические"
   ]
  },
  {
   "cell_type": "code",
   "execution_count": 56,
   "id": "c4ce836c",
   "metadata": {},
   "outputs": [
    {
     "name": "stdout",
     "output_type": "stream",
     "text": [
      "Via instance:1\n",
      "Via class:1\n"
     ]
    }
   ],
   "source": [
    "#Статические атрибуты можно вызывать как через имя класса, так и через инстанцию класса\n",
    "t1 = StaticTest()\n",
    "print(f\"Via instance:{t1.x}\")\n",
    "print(f\"Via class:{StaticTest.x}\")"
   ]
  },
  {
   "cell_type": "code",
   "execution_count": 57,
   "id": "f94972b1",
   "metadata": {},
   "outputs": [
    {
     "name": "stdout",
     "output_type": "stream",
     "text": [
      "Via instance:2\n",
      "Via class:1\n"
     ]
    }
   ],
   "source": [
    "#Есть доступ (через инстанцию и класс) не только на чтение, но и на запись:\n",
    "t1.x = 2 #присваивание на уровне инстанции (*)\n",
    "print(f\"Via instance:{t1.x}\")\n",
    "print(f\"Via class:{StaticTest.x}\")\n",
    "#*такой доступ к иксу и запись в него создает новый атрибут на уровне инстанции, т е t1.x и StaticTest.x - 2 разных\n",
    "#атрибута"
   ]
  },
  {
   "cell_type": "code",
   "execution_count": 58,
   "id": "adbe93ff",
   "metadata": {},
   "outputs": [
    {
     "name": "stdout",
     "output_type": "stream",
     "text": [
      "Via instance:2\n",
      "Via class:3\n"
     ]
    }
   ],
   "source": [
    "StaticTest.x = 3 #присваивание на уровне класса \n",
    "print(f\"Via instance:{t1.x}\")\n",
    "print(f\"Via class:{StaticTest.x}\")\n",
    "\n",
    "#т е осуществляя доступ через инстанцию мы создаем внутри класса новый атрибут уровня инстанции"
   ]
  },
  {
   "cell_type": "code",
   "execution_count": 59,
   "id": "11f3a85a",
   "metadata": {},
   "outputs": [],
   "source": [
    "#Статические методы \n",
    "\n",
    "#Иногда в классах вообще нет атрибутов(состояний), только методы, которые семантически могут быть объединены под одним\n",
    "# именем класса, и тогда имеет смысл объявлять такие методы статическими (т е без инстанций)\n",
    "\n",
    "#Питон позволяет в классе иметь лишь один конструктор, главная проблема этого - иногда классы могут быть \n",
    "# инициализированы по-разному + конструктор не имеет имени, это может быть проблемой в написании самодокументированного\n",
    "# кода, то есть выразительного кода (выражающего намерения)\n",
    "#В таких случаях мы иногда прибегаем к использованию статических методов в качестве констркуторов, их преимущество\n",
    "# над конструкторами в том, что они имеют имя, и оно может быть описательным, короче код получается выразительным\n",
    "\n",
    "# Есть 2 способа создавать статические методы "
   ]
  },
  {
   "cell_type": "code",
   "execution_count": 86,
   "id": "cf2d1283",
   "metadata": {},
   "outputs": [
    {
     "name": "stdout",
     "output_type": "stream",
     "text": [
      "5-31-2022\n"
     ]
    }
   ],
   "source": [
    "#Разберем разницу между ними на примере:\n",
    "\n",
    "\n",
    "class Date:\n",
    "    def __init__(self, month, day, year):\n",
    "        self.month = month\n",
    "        self.day = day\n",
    "        self.year = year\n",
    "        \n",
    "    def display(self): #self - значит уровень инстанции #####ЭТО ПРОСТО МЕТОД ЭКЗЕМПЛЯРА\n",
    "        #return f\"{['0'+str(self.day) if len(str(self.day))==1 else self.day][0]}-{['0'+str(self.month) if len(str(self.month))==1 else self.month][0]}-{self.year}\"\n",
    "        return f\"{self.month}-{self.day}-{self.year}\"\n",
    "     \n",
    "    #Создадим здесь статические методы двумя способами:\n",
    "\n",
    "    @classmethod #(1 способ)     ########ЭТО МЕТОД КЛАССА\n",
    "    def millenium_c(cls, month, day): #статический метод, покрытый декоратором @classmethod 1-м аргументом \n",
    "# принимает информацию о классе, !!!!!CLS - типа класс в качестве параметра \n",
    "        return cls(month, day, 2000) #тут обращаемся к cls \n",
    "        #! 3-ий аргумент - автоматически year\n",
    "\n",
    "    @staticmethod #(2 способ)    #########ЭТО СТАТИЧЕСКИЙ МЕТОД\n",
    "    def millenium_s(month, day): #здесь cls не нужен\n",
    "        return Date(month, day, 2000) #но тут обращаемся к Date (это типа объясняет почему не наследуется ниже)\n",
    "        #! 3-ий аргумент - автоматически year\n",
    "    \n",
    "    #РАЗНИЦА: @classmethod несет доп информацию о классе в аргументе cls, а @staticmethod обращается к классу\n",
    "    \n",
    "d1 = Date(5,31,2022)\n",
    "print(d1.display())"
   ]
  },
  {
   "cell_type": "code",
   "execution_count": 73,
   "id": "ee9c199e",
   "metadata": {},
   "outputs": [
    {
     "name": "stdout",
     "output_type": "stream",
     "text": [
      "5-31-2000 5-31-2000\n"
     ]
    }
   ],
   "source": [
    "d1 = Date.millenium_c(5, 31)\n",
    "d2 = Date.millenium_s(5, 31)\n",
    "print(d1.display(), d2.display())"
   ]
  },
  {
   "cell_type": "code",
   "execution_count": 75,
   "id": "00e8ca7e",
   "metadata": {},
   "outputs": [],
   "source": [
    "#Разница\n",
    "class DateTime(Date): #наследуется от Date (####НАСЛЕДНИК)\n",
    "    def display(self): #время по умолчанию 00:00:00 pm\n",
    "        return f\"{self.month}-{self.day}-{self.year} - 00:00:00PM\""
   ]
  },
  {
   "cell_type": "code",
   "execution_count": 80,
   "id": "117c4347",
   "metadata": {},
   "outputs": [
    {
     "name": "stdout",
     "output_type": "stream",
     "text": [
      "True\n",
      "False\n",
      "10-10-1990 - 00:00:00PM <class '__main__.DateTime'>\n",
      "10-10-2000 <class '__main__.Date'>\n"
     ]
    }
   ],
   "source": [
    "dt1 = DateTime(10,10,1990)\n",
    "dt2 = DateTime.millenium_s(10,10)\n",
    "\n",
    "print(isinstance(dt1, DateTime)) #! проверяет тип инстанции, т е здесь мы проверяем, принадлежит ли dt1 типу DateTime\n",
    "print(isinstance(dt2, DateTime))\n",
    "\n",
    "print(dt1.display(), type(dt1)) #конструирует тип DateTime() обращаясь к Date()\n",
    "print(dt2.display(), type(dt2)) #конструируется непосредственно исходный класс Date()\n",
    "#т е получаются разные типы "
   ]
  },
  {
   "cell_type": "code",
   "execution_count": 83,
   "id": "88d5dfc2",
   "metadata": {},
   "outputs": [
    {
     "name": "stdout",
     "output_type": "stream",
     "text": [
      "10-10-2000 - 00:00:00PM <class '__main__.DateTime'>\n"
     ]
    }
   ],
   "source": [
    "#То есть @staticmethod конструирует исходный (базовый класс), а @classmethod наследует последний тип (это объясняется \n",
    "# использованием Date(), т е базового класса в @staticmethod)\n",
    "dt3 = DateTime.millenium_c(10,10)\n",
    "print(dt3.display(), type(dt3))"
   ]
  },
  {
   "cell_type": "code",
   "execution_count": 90,
   "id": "1d2b1801",
   "metadata": {},
   "outputs": [
    {
     "name": "stdout",
     "output_type": "stream",
     "text": [
      "10-10-2000 10 10 2000\n"
     ]
    }
   ],
   "source": [
    "#!!!Соответственно когда мы используем методы для конструирования класса нужно применять декоратор @classmethod, это \n",
    "# так называем factory methods - с помощь которых мы создаем экземпляры классов \n",
    "\n",
    "#РАЗНИЦА: @classmethod несет доп информацию о классе в аргументе cls, а @staticmethod обращается к классу\n",
    "\n",
    "print(Date.millenium_c(10,10).display(), dt3.day, dt3.month, dt3.year) #не используем конструктор, но полностью \n",
    "# создаем экземпляр со всеми атрибутами "
   ]
  },
  {
   "cell_type": "code",
   "execution_count": 114,
   "id": "8ac45f5a",
   "metadata": {},
   "outputs": [],
   "source": [
    "class StrConverter: #класс неких конвертеров\n",
    "    \n",
    "    @staticmethod \n",
    "    def to_str(bytes_or_str): #(((универсальный конвертер в строчку)))\n",
    "        if isinstance(bytes_or_str, bytes):\n",
    "            value = bytes_or_str.decode('utf-8')\n",
    "        else:\n",
    "            value = bytes_or_str\n",
    "        return value\n",
    "    \n",
    "    @staticmethod\n",
    "    def to_bytes(bytes_or_str): #(((универсальный конвертер в байты)))\n",
    "        if isinstance(bytes_or_str, str):\n",
    "            value = bytes_or_str.encode('utf-8')\n",
    "        else: \n",
    "            value = bytes_or_str\n",
    "        return value\n",
    "    \n",
    "#то есть если статический метод не возвращает инстанцию класса, то можно воспользоваться @staticmethod"
   ]
  },
  {
   "cell_type": "code",
   "execution_count": 115,
   "id": "08981c95",
   "metadata": {},
   "outputs": [
    {
     "name": "stdout",
     "output_type": "stream",
     "text": [
      "A\n",
      "A\n",
      "b'A'\n",
      "b'A'\n"
     ]
    }
   ],
   "source": [
    "print(StrConverter.to_str('\\x41'))\n",
    "print(StrConverter.to_str('A'))\n",
    "\n",
    "print(StrConverter.to_bytes('\\x41'))\n",
    "print(StrConverter.to_bytes('A'))"
   ]
  },
  {
   "cell_type": "code",
   "execution_count": 107,
   "id": "247a6f4e",
   "metadata": {},
   "outputs": [],
   "source": [
    "#Итого статические методы могут вызываться через имя класса вообще классно все крч\n",
    "\n",
    "#Таким образом, статические методы прикреплены к классу лишь для удобства и не могут менять состояние ни класса,\n",
    "# ни его экземпляра. (via статья по ссылке снизу)"
   ]
  },
  {
   "cell_type": "code",
   "execution_count": 108,
   "id": "3ad9636d",
   "metadata": {},
   "outputs": [],
   "source": [
    "# МУТЬ \n",
    "#https://medium.com/nuances-of-programming/python-статические-методы-методы-класса-и-экземпляра-класса-3e8529d24786"
   ]
  },
  {
   "cell_type": "code",
   "execution_count": null,
   "id": "90bd8ee8",
   "metadata": {},
   "outputs": [],
   "source": []
  }
 ],
 "metadata": {
  "kernelspec": {
   "display_name": "Python 3 (ipykernel)",
   "language": "python",
   "name": "python3"
  },
  "language_info": {
   "codemirror_mode": {
    "name": "ipython",
    "version": 3
   },
   "file_extension": ".py",
   "mimetype": "text/x-python",
   "name": "python",
   "nbconvert_exporter": "python",
   "pygments_lexer": "ipython3",
   "version": "3.10.9"
  }
 },
 "nbformat": 4,
 "nbformat_minor": 5
}
