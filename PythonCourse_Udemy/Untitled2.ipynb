{
 "cells": [
  {
   "cell_type": "code",
   "execution_count": 7,
   "id": "2538d3c4",
   "metadata": {},
   "outputs": [],
   "source": [
    "class Vehicle():\n",
    "    \n",
    "    def __init__(self, t):\n",
    "        self.t=t\n",
    "        print('test')\n",
    "        \n",
    "class Car(Vehicle):\n",
    "    \n",
    "    def __init__(self, firm , t):\n",
    "        super().__init__(t)\n",
    "        self.firm = firm \n",
    "\n",
    "car = Car('Mercedes', 1)"
   ]
  },
  {
   "cell_type": "code",
   "execution_count": 9,
   "id": "39b686d2",
   "metadata": {},
   "outputs": [
    {
     "name": "stdout",
     "output_type": "stream",
     "text": [
      "Mercedes\n"
     ]
    }
   ],
   "source": [
    "print(car.firm)"
   ]
  },
  {
   "cell_type": "code",
   "execution_count": null,
   "id": "1bde2d80",
   "metadata": {},
   "outputs": [],
   "source": []
  }
 ],
 "metadata": {
  "kernelspec": {
   "display_name": "Python 3 (ipykernel)",
   "language": "python",
   "name": "python3"
  },
  "language_info": {
   "codemirror_mode": {
    "name": "ipython",
    "version": 3
   },
   "file_extension": ".py",
   "mimetype": "text/x-python",
   "name": "python",
   "nbconvert_exporter": "python",
   "pygments_lexer": "ipython3",
   "version": "3.10.9"
  }
 },
 "nbformat": 4,
 "nbformat_minor": 5
}
