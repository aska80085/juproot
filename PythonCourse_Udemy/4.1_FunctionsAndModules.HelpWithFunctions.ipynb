{
 "cells": [
  {
   "cell_type": "code",
   "execution_count": 2,
   "id": "e0b99876",
   "metadata": {},
   "outputs": [
    {
     "name": "stdout",
     "output_type": "stream",
     "text": [
      "Help on built-in function append:\n",
      "\n",
      "append(object, /) method of builtins.list instance\n",
      "    Append object to the end of the list.\n",
      "\n"
     ]
    }
   ],
   "source": [
    "#the start of new module - functions!\n",
    "numbers = [1,2,3]\n",
    "#вводя переменную или метод в джупитере при нажатии tab нам отображаются все возможные значения\n",
    "# если нажать tab+shift в скобках метода можно увидеть его устройство(!)\n",
    "numbers.append(4)\n",
    "#так же работает функция help \n",
    "help(numbers.append)"
   ]
  },
  {
   "cell_type": "code",
   "execution_count": null,
   "id": "1d80f738",
   "metadata": {},
   "outputs": [],
   "source": []
  }
 ],
 "metadata": {
  "kernelspec": {
   "display_name": "Python 3 (ipykernel)",
   "language": "python",
   "name": "python3"
  },
  "language_info": {
   "codemirror_mode": {
    "name": "ipython",
    "version": 3
   },
   "file_extension": ".py",
   "mimetype": "text/x-python",
   "name": "python",
   "nbconvert_exporter": "python",
   "pygments_lexer": "ipython3",
   "version": "3.10.9"
  }
 },
 "nbformat": 4,
 "nbformat_minor": 5
}
