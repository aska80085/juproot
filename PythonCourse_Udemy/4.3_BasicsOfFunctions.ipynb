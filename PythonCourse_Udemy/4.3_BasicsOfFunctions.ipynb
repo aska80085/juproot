{
 "cells": [
  {
   "cell_type": "code",
   "execution_count": 1,
   "id": "13624a39",
   "metadata": {},
   "outputs": [],
   "source": [
    "#функции нужны, например, чтобы не повторять какой-то код по нескольку раз "
   ]
  },
  {
   "cell_type": "code",
   "execution_count": 9,
   "id": "e37c4455",
   "metadata": {},
   "outputs": [
    {
     "name": "stdout",
     "output_type": "stream",
     "text": [
      "Hello!\n"
     ]
    }
   ],
   "source": [
    "def greetings():\n",
    "    '''\n",
    "    DOCKSTRING: Information about the function\n",
    "    INPUT: no input...\n",
    "    OUTPUT: Hello!\n",
    "    '''\n",
    "    print('Hello!')\n",
    "greetings()\n",
    "#определение функции"
   ]
  },
  {
   "cell_type": "code",
   "execution_count": 10,
   "id": "dd12112b",
   "metadata": {},
   "outputs": [
    {
     "data": {
      "text/plain": [
       "<function __main__.greetings()>"
      ]
     },
     "execution_count": 10,
     "metadata": {},
     "output_type": "execute_result"
    }
   ],
   "source": [
    "greetings"
   ]
  },
  {
   "cell_type": "code",
   "execution_count": 12,
   "id": "898cd50d",
   "metadata": {},
   "outputs": [
    {
     "name": "stdout",
     "output_type": "stream",
     "text": [
      "Help on function greetings in module __main__:\n",
      "\n",
      "greetings()\n",
      "    DOCKSTRING: Information about the function\n",
      "    INPUT: no input...\n",
      "    OUTPUT: Hello!\n",
      "\n"
     ]
    }
   ],
   "source": [
    "help(greetings)\n",
    "#чтобы клиентский код, вызывающий функцию, мог спросить о ней помощь, то с помощью синтаксиса '''''' можно записать\n",
    "# некоторую информацию о функции"
   ]
  },
  {
   "cell_type": "code",
   "execution_count": 13,
   "id": "7165fc1f",
   "metadata": {},
   "outputs": [
    {
     "name": "stdout",
     "output_type": "stream",
     "text": [
      "Elijah\n"
     ]
    }
   ],
   "source": [
    "#функция может принимать аргументы \n",
    "def print_name(name):\n",
    "    print(name)\n",
    "print_name('Elijah')"
   ]
  },
  {
   "cell_type": "code",
   "execution_count": 14,
   "id": "0cbb517c",
   "metadata": {},
   "outputs": [],
   "source": [
    "#print_name() - error"
   ]
  },
  {
   "cell_type": "code",
   "execution_count": 19,
   "id": "359373a6",
   "metadata": {},
   "outputs": [
    {
     "name": "stdout",
     "output_type": "stream",
     "text": [
      "Default\n"
     ]
    }
   ],
   "source": [
    "# у аргумента может быть значение по умолчанию\n",
    "def print_name(name='Default'): #передаем дефолтное значение\n",
    "    print(name)\n",
    "#теперь вызов функции без аргумента не выдает ошибку, а передает дефолтное значение\n",
    "print_name()"
   ]
  },
  {
   "cell_type": "code",
   "execution_count": 22,
   "id": "17642f3f",
   "metadata": {},
   "outputs": [
    {
     "name": "stdout",
     "output_type": "stream",
     "text": [
      "Default\n",
      "None\n",
      "<class 'NoneType'>\n"
     ]
    }
   ],
   "source": [
    "#возвращаемый тип  \n",
    "#функции которые ничего не модифицируют, ничего не выбрасывают во внешний мир, а просто возвращают некоторые \n",
    "# значения - называются pure functions\n",
    "#в нашем случае функция грязная, т к она ничего не возвращает, а просто печатает имя\n",
    "result = print_name() #возвращается None, то есть ничего, но печатается 'Default'\n",
    "print(result)\n",
    "print(type(result))"
   ]
  },
  {
   "cell_type": "code",
   "execution_count": 25,
   "id": "5c909acc",
   "metadata": {},
   "outputs": [
    {
     "name": "stdout",
     "output_type": "stream",
     "text": [
      "Hello, Elijah!\n",
      "<class 'str'>\n"
     ]
    }
   ],
   "source": [
    "#чтобы что-то вернуть из функции нужно воспользоваться ключевым словом 'return' \n",
    "def get_greeting(name):\n",
    "    return 'Hello, ' + name +'!'\n",
    "greeting = get_greeting('Elijah') #возвращается 'Hello, Elijah!'\n",
    "print(greeting)\n",
    "print(type(greeting))"
   ]
  },
  {
   "cell_type": "code",
   "execution_count": 28,
   "id": "6440b577",
   "metadata": {},
   "outputs": [
    {
     "name": "stdout",
     "output_type": "stream",
     "text": [
      "3\n",
      "12\n"
     ]
    }
   ],
   "source": [
    "def get_sum(a,b):\n",
    "    return a+b\n",
    "print(get_sum(1,2))\n",
    "result = get_sum(10,2)\n",
    "print(result)"
   ]
  },
  {
   "cell_type": "code",
   "execution_count": 30,
   "id": "caa29916",
   "metadata": {},
   "outputs": [
    {
     "name": "stdout",
     "output_type": "stream",
     "text": [
      "True\n",
      "False\n"
     ]
    }
   ],
   "source": [
    "def is_adult(age):\n",
    "    return age>=18\n",
    "print(is_adult(20))\n",
    "print(is_adult(17))"
   ]
  },
  {
   "cell_type": "code",
   "execution_count": 50,
   "id": "0a73f22b",
   "metadata": {},
   "outputs": [
    {
     "name": "stdout",
     "output_type": "stream",
     "text": [
      "True False\n",
      "True False\n"
     ]
    }
   ],
   "source": [
    "#проверяем, является ли слово палиндромом \n",
    "def is_pallindrome(text):\n",
    "    return all(text[i]==text[len(text)-1-i] for i in range(len(text)//2))\n",
    "#или \n",
    "def is_pallindrome_2(text):\n",
    "    return text==text[::-1]\n",
    "text1='aabaa'\n",
    "text2='abbaa'\n",
    "print(is_pallindrome(text1), is_pallindrome(text2))\n",
    "print(is_pallindrome_2(text1), is_pallindrome_2(text2))"
   ]
  },
  {
   "cell_type": "code",
   "execution_count": 6,
   "id": "68570cad",
   "metadata": {},
   "outputs": [
    {
     "name": "stdout",
     "output_type": "stream",
     "text": [
      "3.5999999999999996\n"
     ]
    }
   ],
   "source": [
    "#функция для подсчета налога с общего дохода \n",
    "def calc_taxes(p1,p2,p3):\n",
    "    return sum([p1,p2,p3])*0.06\n",
    "print(calc_taxes(10,20,30))\n",
    "# но что если транзакций p не 3 а 4\n",
    "#calc_taxes(10,20,30,40) - ошибка"
   ]
  },
  {
   "cell_type": "code",
   "execution_count": 3,
   "id": "94804345",
   "metadata": {},
   "outputs": [
    {
     "name": "stdout",
     "output_type": "stream",
     "text": [
      "Got payment - 10\n",
      "Got payment - 20\n",
      "Got payment - 30\n",
      "Got payment - 40\n"
     ]
    },
    {
     "data": {
      "text/plain": [
       "6.0"
      ]
     },
     "execution_count": 3,
     "metadata": {},
     "output_type": "execute_result"
    }
   ],
   "source": [
    "#чтобы принимать любое количество транзакций можно определить функции с переданным в нее списком, но есть и друой способ\n",
    "#реализация поддержки передачи множественных аргументов:\n",
    "def calc_taxes(*args): # звездочка дает возможность принимать любое кол-во эл-тов \n",
    "    for x in args:\n",
    "        print(f\"Got payment - {x}\")\n",
    "    return sum(args)*0.06\n",
    "calc_taxes(10,20,30,40)\n"
   ]
  },
  {
   "cell_type": "code",
   "execution_count": 75,
   "id": "bfdb1118",
   "metadata": {},
   "outputs": [
    {
     "name": "stdout",
     "output_type": "stream",
     "text": [
      "Player Carlsen has rating 2837\n",
      "Player Giri has rating 2323\n"
     ]
    }
   ],
   "source": [
    "# если мы зотим передать n аргументов вида key - value paires (пары вида 'ключ- значение')\n",
    "def save_players(**kwargs): #2 звуздочки дают возможность передавать любое кол-во эл-тов вида пар 'к-з'\n",
    "    for k,v in kwargs.items(): #получается по сути словарь\n",
    "        print(f\"Player {k} has rating {v}\")\n",
    "save_players(Carlsen=2837, Giri=2323)\n",
    "# называть аргументы именно args или kwargs необязательно, главное это звездочки"
   ]
  },
  {
   "cell_type": "code",
   "execution_count": 76,
   "id": "7d1b8453",
   "metadata": {},
   "outputs": [
    {
     "name": "stdout",
     "output_type": "stream",
     "text": [
      "Player Carlsen has rating 2837\n",
      "Player Giri has rating 123123\n",
      "Got payment - 10\n",
      "Got payment - 20\n",
      "Got payment - 30\n",
      "Got payment - 40\n"
     ]
    },
    {
     "data": {
      "text/plain": [
       "6.0"
      ]
     },
     "execution_count": 76,
     "metadata": {},
     "output_type": "execute_result"
    }
   ],
   "source": [
    "###########################\n",
    "#но предыдущие 2 случая можно реализовать и вот так\n",
    "def save_players(dicttt):\n",
    "    for k,v in dicttt.items(): \n",
    "        print(f\"Player {k} has rating {v}\")\n",
    "save_players(dict(Carlsen=2837,Giri=123123))\n",
    "\n",
    "def calc_taxes(list_of_args): # звездочка дает возможность принимать любое кол-во эл-тов \n",
    "    for x in list_of_args:\n",
    "        print(f\"Got payment - {x}\")\n",
    "    return sum(list_of_args)*0.06\n",
    "calc_taxes([10,20,30,40]) #здесь необязательно именно список\n",
    "#######################################\n"
   ]
  },
  {
   "cell_type": "code",
   "execution_count": 77,
   "id": "63b92958",
   "metadata": {},
   "outputs": [],
   "source": [
    "#функция может принимать в себе позиционные аргумента, *args и **kwargs одновременно\n",
    "#def func_important(a,b,c,*args,**kwargs) - так можно"
   ]
  }
 ],
 "metadata": {
  "kernelspec": {
   "display_name": "Python 3 (ipykernel)",
   "language": "python",
   "name": "python3"
  },
  "language_info": {
   "codemirror_mode": {
    "name": "ipython",
    "version": 3
   },
   "file_extension": ".py",
   "mimetype": "text/x-python",
   "name": "python",
   "nbconvert_exporter": "python",
   "pygments_lexer": "ipython3",
   "version": "3.10.9"
  }
 },
 "nbformat": 4,
 "nbformat_minor": 5
}
