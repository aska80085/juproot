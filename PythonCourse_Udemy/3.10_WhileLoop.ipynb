{
 "cells": [
  {
   "cell_type": "code",
   "execution_count": 1,
   "id": "59b231ea",
   "metadata": {},
   "outputs": [
    {
     "name": "stdout",
     "output_type": "stream",
     "text": [
      "x equals 0\n",
      "x equals 1\n",
      "x equals 2\n"
     ]
    }
   ],
   "source": [
    "x = 0\n",
    "while x<3:\n",
    "    print(f'x equals {x}')\n",
    "    x+=1\n"
   ]
  },
  {
   "cell_type": "code",
   "execution_count": 4,
   "id": "3047934b",
   "metadata": {},
   "outputs": [
    {
     "name": "stdout",
     "output_type": "stream",
     "text": [
      "x equals 0\n",
      "x equals 1\n",
      "x equals 2\n",
      "Condition is not met; x=3>=3\n"
     ]
    }
   ],
   "source": [
    "x = 0\n",
    "while x<3:\n",
    "    print(f'x equals {x}')\n",
    "    x+=1\n",
    "else: \n",
    "    print(f'Condition is not met; x={x}>=3')"
   ]
  },
  {
   "cell_type": "code",
   "execution_count": 7,
   "id": "c99505d4",
   "metadata": {},
   "outputs": [
    {
     "name": "stdout",
     "output_type": "stream",
     "text": [
      "16\n"
     ]
    }
   ],
   "source": [
    "#break;continue;pass\n",
    "# break позволяет выйти из цикла преждевременно\n",
    "# continue позволяет перейти к следующей итерации и не доходить до конца блока, исполняемого в цикле (переход к \n",
    " #### следующей переменной v в примере снизу) \n",
    "# pass используется как заполнитель для того чтобы ничего не делать \n",
    "vals = [i for i in range(1,10)]\n",
    "sum = 0 \n",
    "for v in vals: \n",
    "    if v%2 == 0:\n",
    "        continue \n",
    "    else: \n",
    "        sum+=v \n",
    "    if sum > 10:\n",
    "        break\n",
    "print(sum)"
   ]
  },
  {
   "cell_type": "code",
   "execution_count": 9,
   "id": "2576446c",
   "metadata": {},
   "outputs": [],
   "source": [
    "for v in vals: \n",
    "    pass\n",
    "#-ничего блин "
   ]
  },
  {
   "cell_type": "code",
   "execution_count": null,
   "id": "c8e8d7b9",
   "metadata": {},
   "outputs": [],
   "source": []
  }
 ],
 "metadata": {
  "kernelspec": {
   "display_name": "Python 3 (ipykernel)",
   "language": "python",
   "name": "python3"
  },
  "language_info": {
   "codemirror_mode": {
    "name": "ipython",
    "version": 3
   },
   "file_extension": ".py",
   "mimetype": "text/x-python",
   "name": "python",
   "nbconvert_exporter": "python",
   "pygments_lexer": "ipython3",
   "version": "3.10.9"
  }
 },
 "nbformat": 4,
 "nbformat_minor": 5
}
