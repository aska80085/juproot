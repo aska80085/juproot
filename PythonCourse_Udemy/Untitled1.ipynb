{
 "cells": [
  {
   "cell_type": "code",
   "execution_count": 36,
   "id": "a38eb94a",
   "metadata": {},
   "outputs": [
    {
     "name": "stdout",
     "output_type": "stream",
     "text": [
      "12\n",
      "10 10 2000\n",
      "11 11 2000\n",
      "11\n"
     ]
    }
   ],
   "source": [
    "class Date:\n",
    "    def __init__(self, month, day, year):\n",
    "        self.month = month\n",
    "        self.day = day\n",
    "        self.year = year\n",
    "        \n",
    "    def display(self): \n",
    "        return f\"{self.month}-{self.day}-{self.year}\"\n",
    "     \n",
    "\n",
    "\n",
    "    @classmethod      \n",
    "    def millenium_c(cls, month, day): \n",
    "        return cls(month, day, 2000) \n",
    "\n",
    "\n",
    "    @staticmethod    \n",
    "    def millenium_s(month, day): \n",
    "        return Date(month, day, 2000) \n",
    "    \n",
    "    def display(self):\n",
    "        print(self.day, self.month, self.year)\n",
    "\n",
    "dt2 = Date(12,12,2023)\n",
    "print(dt2.day)\n",
    "\n",
    "dt1 = Date.millenium_c(10,10)\n",
    "dt1.display()\n",
    "#print(dt1.day, dt1.month, dt1.year)\n",
    "\n",
    "dt2 = Date.millenium_s(11,11)\n",
    "dt2.display()\n",
    "#print(dt2.day, dt2.month, dt2.year)\n",
    "print(dt2.day)"
   ]
  },
  {
   "cell_type": "code",
   "execution_count": null,
   "id": "f72bd7a5",
   "metadata": {},
   "outputs": [],
   "source": [
    "class Date:\n",
    "\n",
    "    def display(self): \n",
    "        return f\"{self.month}-{self.day}-{self.year}\"\n",
    "     \n",
    "\n",
    "\n",
    "    @classmethod      \n",
    "    def millenium_c(cls, month, day): \n",
    "        return cls(month, day, 2000) \n",
    "\n",
    "\n",
    "    @staticmethod    \n",
    "    def millenium_s(month, day): \n",
    "        return Date(month, day, 2000) \n",
    "    \n",
    "    def display(self):\n",
    "        print(self.day, self.month, self.year)"
   ]
  }
 ],
 "metadata": {
  "kernelspec": {
   "display_name": "Python 3 (ipykernel)",
   "language": "python",
   "name": "python3"
  },
  "language_info": {
   "codemirror_mode": {
    "name": "ipython",
    "version": 3
   },
   "file_extension": ".py",
   "mimetype": "text/x-python",
   "name": "python",
   "nbconvert_exporter": "python",
   "pygments_lexer": "ipython3",
   "version": "3.10.9"
  }
 },
 "nbformat": 4,
 "nbformat_minor": 5
}
